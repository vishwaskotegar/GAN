{
 "cells": [
  {
   "cell_type": "markdown",
   "id": "64f04b6a-fe54-41ce-92fe-ae94fc587387",
   "metadata": {
    "id": "64f04b6a-fe54-41ce-92fe-ae94fc587387"
   },
   "source": [
    "# 1. Import Dependencies and Data"
   ]
  },
  {
   "cell_type": "code",
   "execution_count": 1,
   "id": "c3c355f3-39f9-4f73-ac4e-5ad62198a580",
   "metadata": {
    "tags": []
   },
   "outputs": [
    {
     "name": "stdout",
     "output_type": "stream",
     "text": [
      "Requirement already satisfied: tensorflow==2.10 in c:\\users\\rampage\\appdata\\roaming\\python\\python310\\site-packages (2.10.0)\n",
      "Requirement already satisfied: matplotlib in d:\\mlproj\\ganbasics\\gan\\lib\\site-packages (3.8.4)\n",
      "Requirement already satisfied: tensorflow-datasets in c:\\users\\rampage\\appdata\\roaming\\python\\python310\\site-packages (4.5.2)\n",
      "Requirement already satisfied: ipywidgets in d:\\mlproj\\ganbasics\\gan\\lib\\site-packages (8.1.2)\n",
      "Requirement already satisfied: absl-py>=1.0.0 in c:\\users\\rampage\\appdata\\roaming\\python\\python310\\site-packages (from tensorflow==2.10) (1.4.0)\n",
      "Requirement already satisfied: astunparse>=1.6.0 in d:\\mlproj\\ganbasics\\gan\\lib\\site-packages (from tensorflow==2.10) (1.6.3)\n",
      "Requirement already satisfied: flatbuffers>=2.0 in d:\\mlproj\\ganbasics\\gan\\lib\\site-packages (from tensorflow==2.10) (2.0)\n",
      "Requirement already satisfied: gast<=0.4.0,>=0.2.1 in d:\\mlproj\\ganbasics\\gan\\lib\\site-packages (from tensorflow==2.10) (0.4.0)\n",
      "Requirement already satisfied: google-pasta>=0.1.1 in d:\\mlproj\\ganbasics\\gan\\lib\\site-packages (from tensorflow==2.10) (0.2.0)\n",
      "Requirement already satisfied: h5py>=2.9.0 in d:\\mlproj\\ganbasics\\gan\\lib\\site-packages (from tensorflow==2.10) (3.11.0)\n",
      "Requirement already satisfied: keras-preprocessing>=1.1.1 in d:\\mlproj\\ganbasics\\gan\\lib\\site-packages (from tensorflow==2.10) (1.1.2)\n",
      "Requirement already satisfied: libclang>=13.0.0 in d:\\mlproj\\ganbasics\\gan\\lib\\site-packages (from tensorflow==2.10) (18.1.1)\n",
      "Requirement already satisfied: numpy>=1.20 in d:\\mlproj\\ganbasics\\gan\\lib\\site-packages (from tensorflow==2.10) (1.26.4)\n",
      "Requirement already satisfied: opt-einsum>=2.3.2 in d:\\mlproj\\ganbasics\\gan\\lib\\site-packages (from tensorflow==2.10) (3.3.0)\n",
      "Requirement already satisfied: packaging in d:\\mlproj\\ganbasics\\gan\\lib\\site-packages (from tensorflow==2.10) (24.0)\n",
      "Requirement already satisfied: protobuf<3.20,>=3.9.2 in d:\\mlproj\\ganbasics\\gan\\lib\\site-packages (from tensorflow==2.10) (3.19.6)\n",
      "Requirement already satisfied: setuptools in d:\\mlproj\\ganbasics\\gan\\lib\\site-packages (from tensorflow==2.10) (69.5.1)\n",
      "Requirement already satisfied: six>=1.12.0 in d:\\mlproj\\ganbasics\\gan\\lib\\site-packages (from tensorflow==2.10) (1.16.0)\n",
      "Requirement already satisfied: termcolor>=1.1.0 in d:\\mlproj\\ganbasics\\gan\\lib\\site-packages (from tensorflow==2.10) (2.1.0)\n",
      "Requirement already satisfied: typing-extensions>=3.6.6 in d:\\mlproj\\ganbasics\\gan\\lib\\site-packages (from tensorflow==2.10) (4.12.1)\n",
      "Requirement already satisfied: wrapt>=1.11.0 in d:\\mlproj\\ganbasics\\gan\\lib\\site-packages (from tensorflow==2.10) (1.14.1)\n",
      "Requirement already satisfied: tensorflow-io-gcs-filesystem>=0.23.1 in d:\\mlproj\\ganbasics\\gan\\lib\\site-packages (from tensorflow==2.10) (0.31.0)\n",
      "Requirement already satisfied: grpcio<2.0,>=1.24.3 in d:\\mlproj\\ganbasics\\gan\\lib\\site-packages (from tensorflow==2.10) (1.48.2)\n",
      "Requirement already satisfied: tensorboard<2.11,>=2.10 in d:\\mlproj\\ganbasics\\gan\\lib\\site-packages (from tensorflow==2.10) (2.10.1)\n",
      "Requirement already satisfied: tensorflow-estimator<2.11,>=2.10.0 in d:\\mlproj\\ganbasics\\gan\\lib\\site-packages (from tensorflow==2.10) (2.10.0)\n",
      "Requirement already satisfied: keras<2.11,>=2.10.0 in d:\\mlproj\\ganbasics\\gan\\lib\\site-packages (from tensorflow==2.10) (2.10.0)\n",
      "Requirement already satisfied: contourpy>=1.0.1 in d:\\mlproj\\ganbasics\\gan\\lib\\site-packages (from matplotlib) (1.2.0)\n",
      "Requirement already satisfied: cycler>=0.10 in d:\\mlproj\\ganbasics\\gan\\lib\\site-packages (from matplotlib) (0.11.0)\n",
      "Requirement already satisfied: fonttools>=4.22.0 in d:\\mlproj\\ganbasics\\gan\\lib\\site-packages (from matplotlib) (4.51.0)\n",
      "Requirement already satisfied: kiwisolver>=1.3.1 in d:\\mlproj\\ganbasics\\gan\\lib\\site-packages (from matplotlib) (1.4.4)\n",
      "Requirement already satisfied: pillow>=8 in d:\\mlproj\\ganbasics\\gan\\lib\\site-packages (from matplotlib) (10.3.0)\n",
      "Requirement already satisfied: pyparsing>=2.3.1 in d:\\mlproj\\ganbasics\\gan\\lib\\site-packages (from matplotlib) (3.0.9)\n",
      "Requirement already satisfied: python-dateutil>=2.7 in d:\\mlproj\\ganbasics\\gan\\lib\\site-packages (from matplotlib) (2.9.0)\n",
      "Requirement already satisfied: dill in d:\\mlproj\\ganbasics\\gan\\lib\\site-packages (from tensorflow-datasets) (0.3.8)\n",
      "Requirement already satisfied: promise in c:\\users\\rampage\\appdata\\roaming\\python\\python310\\site-packages (from tensorflow-datasets) (2.3)\n",
      "Requirement already satisfied: requests>=2.19.0 in d:\\mlproj\\ganbasics\\gan\\lib\\site-packages (from tensorflow-datasets) (2.32.2)\n",
      "Requirement already satisfied: tensorflow-metadata in c:\\users\\rampage\\appdata\\roaming\\python\\python310\\site-packages (from tensorflow-datasets) (1.13.0)\n",
      "Requirement already satisfied: tqdm in d:\\mlproj\\ganbasics\\gan\\lib\\site-packages (from tensorflow-datasets) (4.66.4)\n",
      "Requirement already satisfied: comm>=0.1.3 in d:\\mlproj\\ganbasics\\gan\\lib\\site-packages (from ipywidgets) (0.2.2)\n",
      "Requirement already satisfied: ipython>=6.1.0 in d:\\mlproj\\ganbasics\\gan\\lib\\site-packages (from ipywidgets) (8.25.0)\n",
      "Requirement already satisfied: traitlets>=4.3.1 in d:\\mlproj\\ganbasics\\gan\\lib\\site-packages (from ipywidgets) (5.14.3)\n",
      "Requirement already satisfied: widgetsnbextension~=4.0.10 in d:\\mlproj\\ganbasics\\gan\\lib\\site-packages (from ipywidgets) (4.0.10)\n",
      "Requirement already satisfied: jupyterlab-widgets~=3.0.10 in d:\\mlproj\\ganbasics\\gan\\lib\\site-packages (from ipywidgets) (3.0.10)\n",
      "Requirement already satisfied: wheel<1.0,>=0.23.0 in d:\\mlproj\\ganbasics\\gan\\lib\\site-packages (from astunparse>=1.6.0->tensorflow==2.10) (0.43.0)\n",
      "Requirement already satisfied: decorator in d:\\mlproj\\ganbasics\\gan\\lib\\site-packages (from ipython>=6.1.0->ipywidgets) (5.1.1)\n",
      "Requirement already satisfied: jedi>=0.16 in d:\\mlproj\\ganbasics\\gan\\lib\\site-packages (from ipython>=6.1.0->ipywidgets) (0.19.1)\n",
      "Requirement already satisfied: matplotlib-inline in d:\\mlproj\\ganbasics\\gan\\lib\\site-packages (from ipython>=6.1.0->ipywidgets) (0.1.7)\n",
      "Requirement already satisfied: prompt-toolkit<3.1.0,>=3.0.41 in d:\\mlproj\\ganbasics\\gan\\lib\\site-packages (from ipython>=6.1.0->ipywidgets) (3.0.42)\n",
      "Requirement already satisfied: pygments>=2.4.0 in d:\\mlproj\\ganbasics\\gan\\lib\\site-packages (from ipython>=6.1.0->ipywidgets) (2.18.0)\n",
      "Requirement already satisfied: stack-data in d:\\mlproj\\ganbasics\\gan\\lib\\site-packages (from ipython>=6.1.0->ipywidgets) (0.6.2)\n",
      "Requirement already satisfied: exceptiongroup in d:\\mlproj\\ganbasics\\gan\\lib\\site-packages (from ipython>=6.1.0->ipywidgets) (1.2.0)\n",
      "Requirement already satisfied: colorama in d:\\mlproj\\ganbasics\\gan\\lib\\site-packages (from ipython>=6.1.0->ipywidgets) (0.4.6)\n",
      "Requirement already satisfied: charset-normalizer<4,>=2 in c:\\users\\rampage\\appdata\\roaming\\python\\python310\\site-packages (from requests>=2.19.0->tensorflow-datasets) (3.3.2)\n",
      "Requirement already satisfied: idna<4,>=2.5 in d:\\mlproj\\ganbasics\\gan\\lib\\site-packages (from requests>=2.19.0->tensorflow-datasets) (3.7)\n",
      "Requirement already satisfied: urllib3<3,>=1.21.1 in d:\\mlproj\\ganbasics\\gan\\lib\\site-packages (from requests>=2.19.0->tensorflow-datasets) (2.2.1)\n",
      "Requirement already satisfied: certifi>=2017.4.17 in d:\\mlproj\\ganbasics\\gan\\lib\\site-packages (from requests>=2.19.0->tensorflow-datasets) (2024.2.2)\n",
      "Requirement already satisfied: google-auth<3,>=1.6.3 in d:\\mlproj\\ganbasics\\gan\\lib\\site-packages (from tensorboard<2.11,>=2.10->tensorflow==2.10) (2.29.0)\n",
      "Requirement already satisfied: google-auth-oauthlib<0.5,>=0.4.1 in d:\\mlproj\\ganbasics\\gan\\lib\\site-packages (from tensorboard<2.11,>=2.10->tensorflow==2.10) (0.4.4)\n",
      "Requirement already satisfied: markdown>=2.6.8 in d:\\mlproj\\ganbasics\\gan\\lib\\site-packages (from tensorboard<2.11,>=2.10->tensorflow==2.10) (3.4.1)\n",
      "Requirement already satisfied: tensorboard-data-server<0.7.0,>=0.6.0 in d:\\mlproj\\ganbasics\\gan\\lib\\site-packages (from tensorboard<2.11,>=2.10->tensorflow==2.10) (0.6.1)\n",
      "Requirement already satisfied: tensorboard-plugin-wit>=1.6.0 in d:\\mlproj\\ganbasics\\gan\\lib\\site-packages (from tensorboard<2.11,>=2.10->tensorflow==2.10) (1.8.1)\n",
      "Requirement already satisfied: werkzeug>=1.0.1 in d:\\mlproj\\ganbasics\\gan\\lib\\site-packages (from tensorboard<2.11,>=2.10->tensorflow==2.10) (3.0.3)\n",
      "Requirement already satisfied: googleapis-common-protos<2,>=1.52.0 in c:\\users\\rampage\\appdata\\roaming\\python\\python310\\site-packages (from tensorflow-metadata->tensorflow-datasets) (1.63.0)\n",
      "Requirement already satisfied: cachetools<6.0,>=2.0.0 in d:\\mlproj\\ganbasics\\gan\\lib\\site-packages (from google-auth<3,>=1.6.3->tensorboard<2.11,>=2.10->tensorflow==2.10) (5.3.3)\n",
      "Requirement already satisfied: pyasn1-modules>=0.2.1 in d:\\mlproj\\ganbasics\\gan\\lib\\site-packages (from google-auth<3,>=1.6.3->tensorboard<2.11,>=2.10->tensorflow==2.10) (0.2.8)\n",
      "Requirement already satisfied: rsa<5,>=3.1.4 in d:\\mlproj\\ganbasics\\gan\\lib\\site-packages (from google-auth<3,>=1.6.3->tensorboard<2.11,>=2.10->tensorflow==2.10) (4.7.2)\n",
      "Requirement already satisfied: requests-oauthlib>=0.7.0 in d:\\mlproj\\ganbasics\\gan\\lib\\site-packages (from google-auth-oauthlib<0.5,>=0.4.1->tensorboard<2.11,>=2.10->tensorflow==2.10) (1.3.0)\n",
      "Requirement already satisfied: parso<0.9.0,>=0.8.3 in d:\\mlproj\\ganbasics\\gan\\lib\\site-packages (from jedi>=0.16->ipython>=6.1.0->ipywidgets) (0.8.4)\n",
      "Requirement already satisfied: wcwidth in d:\\mlproj\\ganbasics\\gan\\lib\\site-packages (from prompt-toolkit<3.1.0,>=3.0.41->ipython>=6.1.0->ipywidgets) (0.2.13)\n",
      "Requirement already satisfied: MarkupSafe>=2.1.1 in d:\\mlproj\\ganbasics\\gan\\lib\\site-packages (from werkzeug>=1.0.1->tensorboard<2.11,>=2.10->tensorflow==2.10) (2.1.3)\n",
      "Requirement already satisfied: executing>=1.2.0 in d:\\mlproj\\ganbasics\\gan\\lib\\site-packages (from stack-data->ipython>=6.1.0->ipywidgets) (2.0.1)\n",
      "Requirement already satisfied: asttokens>=2.1.0 in d:\\mlproj\\ganbasics\\gan\\lib\\site-packages (from stack-data->ipython>=6.1.0->ipywidgets) (2.4.1)\n",
      "Requirement already satisfied: pure-eval in d:\\mlproj\\ganbasics\\gan\\lib\\site-packages (from stack-data->ipython>=6.1.0->ipywidgets) (0.2.2)\n",
      "Requirement already satisfied: pyasn1<0.5.0,>=0.4.6 in d:\\mlproj\\ganbasics\\gan\\lib\\site-packages (from pyasn1-modules>=0.2.1->google-auth<3,>=1.6.3->tensorboard<2.11,>=2.10->tensorflow==2.10) (0.4.8)\n",
      "Requirement already satisfied: oauthlib>=3.0.0 in d:\\mlproj\\ganbasics\\gan\\lib\\site-packages (from requests-oauthlib>=0.7.0->google-auth-oauthlib<0.5,>=0.4.1->tensorboard<2.11,>=2.10->tensorflow==2.10) (3.2.2)\n"
     ]
    },
    {
     "name": "stderr",
     "output_type": "stream",
     "text": [
      "WARNING: Ignoring invalid distribution -ensorflow (d:\\mlproj\\ganbasics\\gan\\lib\\site-packages)\n",
      "WARNING: Ignoring invalid distribution -ensorflow (d:\\mlproj\\ganbasics\\gan\\lib\\site-packages)\n"
     ]
    }
   ],
   "source": [
    "!pip install tensorflow==2.10 matplotlib tensorflow-datasets ipywidgets --user"
   ]
  },
  {
   "cell_type": "code",
   "execution_count": 2,
   "id": "1b2ac602",
   "metadata": {},
   "outputs": [
    {
     "name": "stdout",
     "output_type": "stream",
     "text": [
      "[PhysicalDevice(name='/physical_device:GPU:0', device_type='GPU')]\n"
     ]
    }
   ],
   "source": [
    "import tensorflow as tf; print(tf.config.list_physical_devices('GPU'))"
   ]
  },
  {
   "cell_type": "code",
   "execution_count": 4,
   "id": "b84be907-35e2-43db-a645-b6b164302aaa",
   "metadata": {},
   "outputs": [],
   "source": [
    "\n",
    "import tensorflow as tf\n",
    "gpus = tf.config.experimental.list_physical_devices('GPU')\n",
    "for gpu in gpus: \n",
    "    tf.config.experimental.set_memory_growth(gpu, True)"
   ]
  },
  {
   "cell_type": "code",
   "execution_count": 5,
   "id": "a0f2aa32-064b-448c-bb27-f19a48c40115",
   "metadata": {},
   "outputs": [],
   "source": [
    "# Brining in tensorflow datasets for fashion mnist \n",
    "import tensorflow_datasets as tfds\n",
    "from matplotlib import pyplot as plt"
   ]
  },
  {
   "cell_type": "code",
   "execution_count": 6,
   "id": "c933f988-d1ee-4d4d-8028-368a158c27e2",
   "metadata": {},
   "outputs": [],
   "source": [
    "\n",
    "ds = tfds.load('fashion_mnist', split='train')"
   ]
  },
  {
   "cell_type": "code",
   "execution_count": 7,
   "id": "c361db0d-8e7b-43e1-97f9-5e3f7cb01ffe",
   "metadata": {},
   "outputs": [
    {
     "data": {
      "text/plain": [
       "2"
      ]
     },
     "execution_count": 7,
     "metadata": {},
     "output_type": "execute_result"
    }
   ],
   "source": [
    "ds.as_numpy_iterator().next()['label']"
   ]
  },
  {
   "cell_type": "markdown",
   "id": "ea1635e4-4beb-493d-92c1-b106c806ca70",
   "metadata": {
    "id": "ea1635e4-4beb-493d-92c1-b106c806ca70"
   },
   "source": [
    "# 2. Viz Data and Build Dataset"
   ]
  },
  {
   "cell_type": "code",
   "execution_count": 8,
   "id": "b0c62caf-e406-4d12-af31-6f4848155844",
   "metadata": {},
   "outputs": [],
   "source": [
    "\n",
    "import numpy as np"
   ]
  },
  {
   "cell_type": "code",
   "execution_count": 9,
   "id": "3215c900-6e85-4b39-b300-ea18faf30e5c",
   "metadata": {},
   "outputs": [],
   "source": [
    "# Setup connection aka iterator\n",
    "dataiterator = ds.as_numpy_iterator()"
   ]
  },
  {
   "cell_type": "code",
   "execution_count": 10,
   "id": "c1d6e079-46da-43ca-80d2-b3c864d90360",
   "metadata": {
    "scrolled": true,
    "tags": []
   },
   "outputs": [
    {
     "data": {
      "text/plain": [
       "array([[[  0],\n",
       "        [  0],\n",
       "        [  0],\n",
       "        [  0],\n",
       "        [  0],\n",
       "        [  0],\n",
       "        [  0],\n",
       "        [  0],\n",
       "        [  0],\n",
       "        [ 18],\n",
       "        [ 77],\n",
       "        [227],\n",
       "        [227],\n",
       "        [208],\n",
       "        [210],\n",
       "        [225],\n",
       "        [216],\n",
       "        [ 85],\n",
       "        [ 32],\n",
       "        [  0],\n",
       "        [  0],\n",
       "        [  0],\n",
       "        [  0],\n",
       "        [  0],\n",
       "        [  0],\n",
       "        [  0],\n",
       "        [  0],\n",
       "        [  0]],\n",
       "\n",
       "       [[  0],\n",
       "        [  0],\n",
       "        [  0],\n",
       "        [  0],\n",
       "        [  0],\n",
       "        [  0],\n",
       "        [  0],\n",
       "        [ 61],\n",
       "        [100],\n",
       "        [ 97],\n",
       "        [ 80],\n",
       "        [ 57],\n",
       "        [117],\n",
       "        [227],\n",
       "        [238],\n",
       "        [115],\n",
       "        [ 49],\n",
       "        [ 78],\n",
       "        [106],\n",
       "        [108],\n",
       "        [ 71],\n",
       "        [  0],\n",
       "        [  0],\n",
       "        [  0],\n",
       "        [  0],\n",
       "        [  0],\n",
       "        [  0],\n",
       "        [  0]],\n",
       "\n",
       "       [[  0],\n",
       "        [  0],\n",
       "        [  0],\n",
       "        [  0],\n",
       "        [  0],\n",
       "        [  0],\n",
       "        [ 81],\n",
       "        [105],\n",
       "        [ 80],\n",
       "        [ 69],\n",
       "        [ 72],\n",
       "        [ 64],\n",
       "        [ 44],\n",
       "        [ 21],\n",
       "        [ 13],\n",
       "        [ 44],\n",
       "        [ 69],\n",
       "        [ 75],\n",
       "        [ 75],\n",
       "        [ 80],\n",
       "        [114],\n",
       "        [ 80],\n",
       "        [  0],\n",
       "        [  0],\n",
       "        [  0],\n",
       "        [  0],\n",
       "        [  0],\n",
       "        [  0]],\n",
       "\n",
       "       [[  0],\n",
       "        [  0],\n",
       "        [  0],\n",
       "        [  0],\n",
       "        [  0],\n",
       "        [ 26],\n",
       "        [ 92],\n",
       "        [ 69],\n",
       "        [ 68],\n",
       "        [ 75],\n",
       "        [ 75],\n",
       "        [ 71],\n",
       "        [ 74],\n",
       "        [ 83],\n",
       "        [ 75],\n",
       "        [ 77],\n",
       "        [ 78],\n",
       "        [ 74],\n",
       "        [ 74],\n",
       "        [ 83],\n",
       "        [ 77],\n",
       "        [108],\n",
       "        [ 34],\n",
       "        [  0],\n",
       "        [  0],\n",
       "        [  0],\n",
       "        [  0],\n",
       "        [  0]],\n",
       "\n",
       "       [[  0],\n",
       "        [  0],\n",
       "        [  0],\n",
       "        [  0],\n",
       "        [  0],\n",
       "        [ 55],\n",
       "        [ 92],\n",
       "        [ 69],\n",
       "        [ 74],\n",
       "        [ 74],\n",
       "        [ 71],\n",
       "        [ 71],\n",
       "        [ 77],\n",
       "        [ 69],\n",
       "        [ 66],\n",
       "        [ 75],\n",
       "        [ 74],\n",
       "        [ 77],\n",
       "        [ 80],\n",
       "        [ 80],\n",
       "        [ 78],\n",
       "        [ 94],\n",
       "        [ 63],\n",
       "        [  0],\n",
       "        [  0],\n",
       "        [  0],\n",
       "        [  0],\n",
       "        [  0]],\n",
       "\n",
       "       [[  0],\n",
       "        [  0],\n",
       "        [  0],\n",
       "        [  0],\n",
       "        [  0],\n",
       "        [ 63],\n",
       "        [ 95],\n",
       "        [ 66],\n",
       "        [ 68],\n",
       "        [ 72],\n",
       "        [ 72],\n",
       "        [ 69],\n",
       "        [ 72],\n",
       "        [ 74],\n",
       "        [ 74],\n",
       "        [ 74],\n",
       "        [ 75],\n",
       "        [ 75],\n",
       "        [ 77],\n",
       "        [ 80],\n",
       "        [ 77],\n",
       "        [106],\n",
       "        [ 61],\n",
       "        [  0],\n",
       "        [  0],\n",
       "        [  0],\n",
       "        [  0],\n",
       "        [  0]],\n",
       "\n",
       "       [[  0],\n",
       "        [  0],\n",
       "        [  0],\n",
       "        [  0],\n",
       "        [  0],\n",
       "        [ 80],\n",
       "        [108],\n",
       "        [ 71],\n",
       "        [ 69],\n",
       "        [ 72],\n",
       "        [ 71],\n",
       "        [ 69],\n",
       "        [ 72],\n",
       "        [ 75],\n",
       "        [ 75],\n",
       "        [ 72],\n",
       "        [ 72],\n",
       "        [ 75],\n",
       "        [ 78],\n",
       "        [ 72],\n",
       "        [ 85],\n",
       "        [128],\n",
       "        [ 64],\n",
       "        [  0],\n",
       "        [  0],\n",
       "        [  0],\n",
       "        [  0],\n",
       "        [  0]],\n",
       "\n",
       "       [[  0],\n",
       "        [  0],\n",
       "        [  0],\n",
       "        [  0],\n",
       "        [  0],\n",
       "        [ 88],\n",
       "        [120],\n",
       "        [ 75],\n",
       "        [ 74],\n",
       "        [ 77],\n",
       "        [ 75],\n",
       "        [ 72],\n",
       "        [ 77],\n",
       "        [ 74],\n",
       "        [ 74],\n",
       "        [ 77],\n",
       "        [ 78],\n",
       "        [ 83],\n",
       "        [ 83],\n",
       "        [ 66],\n",
       "        [111],\n",
       "        [123],\n",
       "        [ 78],\n",
       "        [  0],\n",
       "        [  0],\n",
       "        [  0],\n",
       "        [  0],\n",
       "        [  0]],\n",
       "\n",
       "       [[  0],\n",
       "        [  0],\n",
       "        [  0],\n",
       "        [  0],\n",
       "        [  0],\n",
       "        [ 85],\n",
       "        [134],\n",
       "        [ 74],\n",
       "        [ 85],\n",
       "        [ 69],\n",
       "        [ 75],\n",
       "        [ 75],\n",
       "        [ 74],\n",
       "        [ 75],\n",
       "        [ 74],\n",
       "        [ 75],\n",
       "        [ 75],\n",
       "        [ 81],\n",
       "        [ 75],\n",
       "        [ 61],\n",
       "        [151],\n",
       "        [115],\n",
       "        [ 91],\n",
       "        [ 12],\n",
       "        [  0],\n",
       "        [  0],\n",
       "        [  0],\n",
       "        [  0]],\n",
       "\n",
       "       [[  0],\n",
       "        [  0],\n",
       "        [  0],\n",
       "        [  0],\n",
       "        [ 10],\n",
       "        [ 85],\n",
       "        [153],\n",
       "        [ 83],\n",
       "        [ 80],\n",
       "        [ 68],\n",
       "        [ 77],\n",
       "        [ 75],\n",
       "        [ 74],\n",
       "        [ 75],\n",
       "        [ 74],\n",
       "        [ 75],\n",
       "        [ 77],\n",
       "        [ 80],\n",
       "        [ 68],\n",
       "        [ 61],\n",
       "        [162],\n",
       "        [122],\n",
       "        [ 78],\n",
       "        [  6],\n",
       "        [  0],\n",
       "        [  0],\n",
       "        [  0],\n",
       "        [  0]],\n",
       "\n",
       "       [[  0],\n",
       "        [  0],\n",
       "        [  0],\n",
       "        [  0],\n",
       "        [ 30],\n",
       "        [ 75],\n",
       "        [154],\n",
       "        [ 85],\n",
       "        [ 80],\n",
       "        [ 71],\n",
       "        [ 80],\n",
       "        [ 72],\n",
       "        [ 77],\n",
       "        [ 75],\n",
       "        [ 75],\n",
       "        [ 77],\n",
       "        [ 78],\n",
       "        [ 77],\n",
       "        [ 75],\n",
       "        [ 49],\n",
       "        [191],\n",
       "        [132],\n",
       "        [ 72],\n",
       "        [ 15],\n",
       "        [  0],\n",
       "        [  0],\n",
       "        [  0],\n",
       "        [  0]],\n",
       "\n",
       "       [[  0],\n",
       "        [  0],\n",
       "        [  0],\n",
       "        [  0],\n",
       "        [ 58],\n",
       "        [ 66],\n",
       "        [174],\n",
       "        [115],\n",
       "        [ 66],\n",
       "        [ 77],\n",
       "        [ 80],\n",
       "        [ 72],\n",
       "        [ 78],\n",
       "        [ 75],\n",
       "        [ 77],\n",
       "        [ 78],\n",
       "        [ 78],\n",
       "        [ 77],\n",
       "        [ 66],\n",
       "        [ 49],\n",
       "        [222],\n",
       "        [131],\n",
       "        [ 77],\n",
       "        [ 37],\n",
       "        [  0],\n",
       "        [  0],\n",
       "        [  0],\n",
       "        [  0]],\n",
       "\n",
       "       [[  0],\n",
       "        [  0],\n",
       "        [  0],\n",
       "        [  0],\n",
       "        [ 69],\n",
       "        [ 55],\n",
       "        [179],\n",
       "        [139],\n",
       "        [ 55],\n",
       "        [ 92],\n",
       "        [ 74],\n",
       "        [ 74],\n",
       "        [ 78],\n",
       "        [ 74],\n",
       "        [ 78],\n",
       "        [ 77],\n",
       "        [ 75],\n",
       "        [ 80],\n",
       "        [ 64],\n",
       "        [ 55],\n",
       "        [242],\n",
       "        [111],\n",
       "        [ 95],\n",
       "        [ 44],\n",
       "        [  0],\n",
       "        [  0],\n",
       "        [  0],\n",
       "        [  0]],\n",
       "\n",
       "       [[  0],\n",
       "        [  0],\n",
       "        [  0],\n",
       "        [  0],\n",
       "        [ 74],\n",
       "        [ 57],\n",
       "        [159],\n",
       "        [180],\n",
       "        [ 55],\n",
       "        [ 92],\n",
       "        [ 64],\n",
       "        [ 72],\n",
       "        [ 74],\n",
       "        [ 74],\n",
       "        [ 77],\n",
       "        [ 75],\n",
       "        [ 77],\n",
       "        [ 78],\n",
       "        [ 55],\n",
       "        [ 66],\n",
       "        [255],\n",
       "        [ 97],\n",
       "        [108],\n",
       "        [ 49],\n",
       "        [  0],\n",
       "        [  0],\n",
       "        [  0],\n",
       "        [  0]],\n",
       "\n",
       "       [[  0],\n",
       "        [  0],\n",
       "        [  0],\n",
       "        [  0],\n",
       "        [ 74],\n",
       "        [ 66],\n",
       "        [145],\n",
       "        [153],\n",
       "        [ 72],\n",
       "        [ 83],\n",
       "        [ 58],\n",
       "        [ 78],\n",
       "        [ 77],\n",
       "        [ 75],\n",
       "        [ 75],\n",
       "        [ 75],\n",
       "        [ 72],\n",
       "        [ 80],\n",
       "        [ 30],\n",
       "        [132],\n",
       "        [255],\n",
       "        [ 37],\n",
       "        [122],\n",
       "        [ 60],\n",
       "        [  0],\n",
       "        [  0],\n",
       "        [  0],\n",
       "        [  0]],\n",
       "\n",
       "       [[  0],\n",
       "        [  0],\n",
       "        [  0],\n",
       "        [  0],\n",
       "        [ 80],\n",
       "        [ 69],\n",
       "        [142],\n",
       "        [180],\n",
       "        [142],\n",
       "        [ 57],\n",
       "        [ 64],\n",
       "        [ 78],\n",
       "        [ 74],\n",
       "        [ 75],\n",
       "        [ 75],\n",
       "        [ 75],\n",
       "        [ 72],\n",
       "        [ 85],\n",
       "        [ 21],\n",
       "        [185],\n",
       "        [227],\n",
       "        [ 37],\n",
       "        [143],\n",
       "        [ 63],\n",
       "        [  0],\n",
       "        [  0],\n",
       "        [  0],\n",
       "        [  0]],\n",
       "\n",
       "       [[  0],\n",
       "        [  0],\n",
       "        [  0],\n",
       "        [  0],\n",
       "        [ 83],\n",
       "        [ 71],\n",
       "        [136],\n",
       "        [194],\n",
       "        [126],\n",
       "        [ 46],\n",
       "        [ 69],\n",
       "        [ 75],\n",
       "        [ 72],\n",
       "        [ 75],\n",
       "        [ 75],\n",
       "        [ 75],\n",
       "        [ 74],\n",
       "        [ 78],\n",
       "        [ 38],\n",
       "        [139],\n",
       "        [185],\n",
       "        [ 60],\n",
       "        [151],\n",
       "        [ 58],\n",
       "        [  0],\n",
       "        [  0],\n",
       "        [  0],\n",
       "        [  0]],\n",
       "\n",
       "       [[  0],\n",
       "        [  0],\n",
       "        [  0],\n",
       "        [  4],\n",
       "        [ 81],\n",
       "        [ 74],\n",
       "        [145],\n",
       "        [177],\n",
       "        [ 78],\n",
       "        [ 49],\n",
       "        [ 74],\n",
       "        [ 77],\n",
       "        [ 75],\n",
       "        [ 75],\n",
       "        [ 75],\n",
       "        [ 75],\n",
       "        [ 74],\n",
       "        [ 72],\n",
       "        [ 63],\n",
       "        [ 80],\n",
       "        [156],\n",
       "        [117],\n",
       "        [153],\n",
       "        [ 55],\n",
       "        [  0],\n",
       "        [  0],\n",
       "        [  0],\n",
       "        [  0]],\n",
       "\n",
       "       [[  0],\n",
       "        [  0],\n",
       "        [  0],\n",
       "        [ 10],\n",
       "        [ 80],\n",
       "        [ 72],\n",
       "        [157],\n",
       "        [163],\n",
       "        [ 61],\n",
       "        [ 55],\n",
       "        [ 75],\n",
       "        [ 77],\n",
       "        [ 75],\n",
       "        [ 77],\n",
       "        [ 75],\n",
       "        [ 75],\n",
       "        [ 75],\n",
       "        [ 77],\n",
       "        [ 71],\n",
       "        [ 60],\n",
       "        [ 98],\n",
       "        [156],\n",
       "        [132],\n",
       "        [ 58],\n",
       "        [  0],\n",
       "        [  0],\n",
       "        [  0],\n",
       "        [  0]],\n",
       "\n",
       "       [[  0],\n",
       "        [  0],\n",
       "        [  0],\n",
       "        [ 13],\n",
       "        [ 77],\n",
       "        [ 74],\n",
       "        [157],\n",
       "        [143],\n",
       "        [ 43],\n",
       "        [ 61],\n",
       "        [ 72],\n",
       "        [ 75],\n",
       "        [ 77],\n",
       "        [ 75],\n",
       "        [ 74],\n",
       "        [ 77],\n",
       "        [ 77],\n",
       "        [ 75],\n",
       "        [ 71],\n",
       "        [ 58],\n",
       "        [ 80],\n",
       "        [157],\n",
       "        [120],\n",
       "        [ 66],\n",
       "        [  0],\n",
       "        [  0],\n",
       "        [  0],\n",
       "        [  0]],\n",
       "\n",
       "       [[  0],\n",
       "        [  0],\n",
       "        [  0],\n",
       "        [ 18],\n",
       "        [ 81],\n",
       "        [ 74],\n",
       "        [156],\n",
       "        [114],\n",
       "        [ 35],\n",
       "        [ 72],\n",
       "        [ 71],\n",
       "        [ 75],\n",
       "        [ 78],\n",
       "        [ 72],\n",
       "        [ 66],\n",
       "        [ 80],\n",
       "        [ 78],\n",
       "        [ 77],\n",
       "        [ 75],\n",
       "        [ 64],\n",
       "        [ 63],\n",
       "        [165],\n",
       "        [119],\n",
       "        [ 68],\n",
       "        [  0],\n",
       "        [  0],\n",
       "        [  0],\n",
       "        [  0]],\n",
       "\n",
       "       [[  0],\n",
       "        [  0],\n",
       "        [  0],\n",
       "        [ 23],\n",
       "        [ 85],\n",
       "        [ 81],\n",
       "        [177],\n",
       "        [ 57],\n",
       "        [ 52],\n",
       "        [ 77],\n",
       "        [ 71],\n",
       "        [ 78],\n",
       "        [ 80],\n",
       "        [ 72],\n",
       "        [ 75],\n",
       "        [ 74],\n",
       "        [ 77],\n",
       "        [ 77],\n",
       "        [ 75],\n",
       "        [ 64],\n",
       "        [ 37],\n",
       "        [173],\n",
       "        [ 95],\n",
       "        [ 72],\n",
       "        [  0],\n",
       "        [  0],\n",
       "        [  0],\n",
       "        [  0]],\n",
       "\n",
       "       [[  0],\n",
       "        [  0],\n",
       "        [  0],\n",
       "        [ 26],\n",
       "        [ 81],\n",
       "        [ 86],\n",
       "        [160],\n",
       "        [ 20],\n",
       "        [ 75],\n",
       "        [ 77],\n",
       "        [ 77],\n",
       "        [ 80],\n",
       "        [ 78],\n",
       "        [ 80],\n",
       "        [ 89],\n",
       "        [ 78],\n",
       "        [ 81],\n",
       "        [ 83],\n",
       "        [ 80],\n",
       "        [ 74],\n",
       "        [ 20],\n",
       "        [177],\n",
       "        [ 77],\n",
       "        [ 74],\n",
       "        [  0],\n",
       "        [  0],\n",
       "        [  0],\n",
       "        [  0]],\n",
       "\n",
       "       [[  0],\n",
       "        [  0],\n",
       "        [  0],\n",
       "        [ 49],\n",
       "        [ 77],\n",
       "        [ 91],\n",
       "        [200],\n",
       "        [  0],\n",
       "        [ 83],\n",
       "        [ 95],\n",
       "        [ 86],\n",
       "        [ 88],\n",
       "        [ 88],\n",
       "        [ 89],\n",
       "        [ 88],\n",
       "        [ 89],\n",
       "        [ 88],\n",
       "        [ 83],\n",
       "        [ 89],\n",
       "        [ 86],\n",
       "        [  0],\n",
       "        [191],\n",
       "        [ 78],\n",
       "        [ 80],\n",
       "        [ 24],\n",
       "        [  0],\n",
       "        [  0],\n",
       "        [  0]],\n",
       "\n",
       "       [[  0],\n",
       "        [  0],\n",
       "        [  0],\n",
       "        [ 54],\n",
       "        [ 71],\n",
       "        [108],\n",
       "        [165],\n",
       "        [  0],\n",
       "        [ 24],\n",
       "        [ 57],\n",
       "        [ 52],\n",
       "        [ 57],\n",
       "        [ 60],\n",
       "        [ 60],\n",
       "        [ 60],\n",
       "        [ 63],\n",
       "        [ 63],\n",
       "        [ 77],\n",
       "        [ 89],\n",
       "        [ 52],\n",
       "        [  0],\n",
       "        [211],\n",
       "        [ 97],\n",
       "        [ 77],\n",
       "        [ 61],\n",
       "        [  0],\n",
       "        [  0],\n",
       "        [  0]],\n",
       "\n",
       "       [[  0],\n",
       "        [  0],\n",
       "        [  0],\n",
       "        [ 68],\n",
       "        [ 91],\n",
       "        [117],\n",
       "        [137],\n",
       "        [  0],\n",
       "        [  0],\n",
       "        [  0],\n",
       "        [  0],\n",
       "        [  0],\n",
       "        [  0],\n",
       "        [  0],\n",
       "        [  0],\n",
       "        [  0],\n",
       "        [  0],\n",
       "        [  0],\n",
       "        [  0],\n",
       "        [  0],\n",
       "        [ 18],\n",
       "        [216],\n",
       "        [ 94],\n",
       "        [ 97],\n",
       "        [ 57],\n",
       "        [  0],\n",
       "        [  0],\n",
       "        [  0]],\n",
       "\n",
       "       [[  0],\n",
       "        [  0],\n",
       "        [  0],\n",
       "        [ 54],\n",
       "        [115],\n",
       "        [105],\n",
       "        [185],\n",
       "        [  0],\n",
       "        [  0],\n",
       "        [  1],\n",
       "        [  0],\n",
       "        [  0],\n",
       "        [  0],\n",
       "        [  0],\n",
       "        [  0],\n",
       "        [  0],\n",
       "        [  0],\n",
       "        [  0],\n",
       "        [  0],\n",
       "        [  0],\n",
       "        [  0],\n",
       "        [153],\n",
       "        [ 78],\n",
       "        [106],\n",
       "        [ 37],\n",
       "        [  0],\n",
       "        [  0],\n",
       "        [  0]],\n",
       "\n",
       "       [[  0],\n",
       "        [  0],\n",
       "        [  0],\n",
       "        [ 18],\n",
       "        [ 61],\n",
       "        [ 41],\n",
       "        [103],\n",
       "        [  0],\n",
       "        [  0],\n",
       "        [  0],\n",
       "        [  0],\n",
       "        [  0],\n",
       "        [  0],\n",
       "        [  0],\n",
       "        [  0],\n",
       "        [  0],\n",
       "        [  0],\n",
       "        [  0],\n",
       "        [  0],\n",
       "        [  0],\n",
       "        [  0],\n",
       "        [106],\n",
       "        [ 47],\n",
       "        [ 69],\n",
       "        [ 23],\n",
       "        [  0],\n",
       "        [  0],\n",
       "        [  0]]], dtype=uint8)"
      ]
     },
     "execution_count": 10,
     "metadata": {},
     "output_type": "execute_result"
    }
   ],
   "source": [
    "\n",
    "dataiterator.next()['image']"
   ]
  },
  {
   "cell_type": "code",
   "execution_count": 11,
   "id": "deb5fca0-fd8a-4557-9c72-1a60c289a2e5",
   "metadata": {},
   "outputs": [
    {
     "data": {
      "image/png": "[encoded data removed]",
      "text/plain": [
       "<Figure size 2000x2000 with 4 Axes>"
      ]
     },
     "metadata": {},
     "output_type": "display_data"
    }
   ],
   "source": [
    "# Setup the subplot formatting \n",
    "fig, ax = plt.subplots(ncols=4, figsize=(20,20))\n",
    "# Loop four times and get images \n",
    "for idx in range(4): \n",
    "    # Grab an image and label\n",
    "    sample = dataiterator.next()\n",
    "    # Plot the image using a specific subplot \n",
    "    ax[idx].imshow(np.squeeze(sample['image']))\n",
    "    # Appending the image label as the plot title \n",
    "    ax[idx].title.set_text(sample['label'])"
   ]
  },
  {
   "cell_type": "code",
   "execution_count": 12,
   "id": "66c9d901-6a5c-42fd-ad06-cc03f7829728",
   "metadata": {},
   "outputs": [],
   "source": [
    "# Scale and return images only \n",
    "def scale_images(data): \n",
    "    image = data['image']\n",
    "    return image / 255"
   ]
  },
  {
   "cell_type": "markdown",
   "id": "9ab8c6d4",
   "metadata": {},
   "source": [
    "### 2.1 preprocessing the data"
   ]
  },
  {
   "cell_type": "code",
   "execution_count": 13,
   "id": "dfc9b6b1-e06e-421c-9c5c-bfc3b3e3be77",
   "metadata": {},
   "outputs": [],
   "source": [
    "# Reload the dataset \n",
    "ds = tfds.load('fashion_mnist', split='train')\n",
    "# Running the dataset through the scale_images preprocessing step\n",
    "ds = ds.map(scale_images) \n",
    "# Cache the dataset for that batch \n",
    "ds = ds.cache()\n",
    "# Shuffle it up \n",
    "ds = ds.shuffle(60000)\n",
    "# Batch into 128 images per sample\n",
    "ds = ds.batch(128)\n",
    "# Reduces the likelihood of bottlenecking \n",
    "ds = ds.prefetch(64)"
   ]
  },
  {
   "cell_type": "code",
   "execution_count": 14,
   "id": "fbb52952-faa1-445f-8931-2f0f37224bfb",
   "metadata": {},
   "outputs": [
    {
     "data": {
      "text/plain": [
       "(128, 28, 28, 1)"
      ]
     },
     "execution_count": 14,
     "metadata": {},
     "output_type": "execute_result"
    }
   ],
   "source": [
    "ds.as_numpy_iterator().next().shape"
   ]
  },
  {
   "cell_type": "markdown",
   "id": "9a5b08df-7b20-41f4-a8ff-112dface1cb0",
   "metadata": {
    "id": "9a5b08df-7b20-41f4-a8ff-112dface1cb0"
   },
   "source": [
    "# 3. Build Neural Network"
   ]
  },
  {
   "cell_type": "markdown",
   "id": "38f66add-a3db-467f-96c3-f87b9f880159",
   "metadata": {
    "id": "38f66add-a3db-467f-96c3-f87b9f880159"
   },
   "source": [
    "### 3.1 Import Modelling Components"
   ]
  },
  {
   "cell_type": "code",
   "execution_count": 15,
   "id": "bb72da39-377f-4264-b525-c87f49fb0356",
   "metadata": {},
   "outputs": [],
   "source": [
    "# Bring in the sequential api for the generator and discriminator\n",
    "from tensorflow.keras.models import Sequential\n",
    "# Bring in the layers for the neural network\n",
    "from tensorflow.keras.layers import Conv2D, Dense, Flatten, Reshape, LeakyReLU, Dropout, UpSampling2D"
   ]
  },
  {
   "cell_type": "markdown",
   "id": "c40405df-1439-4661-8785-d76698df8152",
   "metadata": {
    "id": "c40405df-1439-4661-8785-d76698df8152"
   },
   "source": [
    "### 3.2 Build Generator"
   ]
  },
  {
   "cell_type": "code",
   "execution_count": 16,
   "id": "5d29d43a-e02a-4031-a0ec-de8aa810c118",
   "metadata": {},
   "outputs": [],
   "source": [
    "def build_generator(): \n",
    "    model = Sequential()\n",
    "    \n",
    "    # Takes in random values and reshapes it to 7x7x128\n",
    "    # Beginnings of a generated image\n",
    "    model.add(Dense(7*7*128, input_dim=128))\n",
    "    model.add(LeakyReLU(0.2))\n",
    "    model.add(Reshape((7,7,128)))\n",
    "    \n",
    "    # Upsampling block 1 \n",
    "    model.add(UpSampling2D())\n",
    "    model.add(Conv2D(128, 5, padding='same'))\n",
    "    model.add(LeakyReLU(0.2))\n",
    "    \n",
    "    # Upsampling block 2 \n",
    "    model.add(UpSampling2D())\n",
    "    model.add(Conv2D(128, 5, padding='same'))\n",
    "    model.add(LeakyReLU(0.2))\n",
    "    \n",
    "    # Convolutional block 1\n",
    "    model.add(Conv2D(128, 4, padding='same'))\n",
    "    model.add(LeakyReLU(0.2))\n",
    "    \n",
    "    # Convolutional block 2\n",
    "    model.add(Conv2D(128, 4, padding='same'))\n",
    "    model.add(LeakyReLU(0.2))\n",
    "    \n",
    "    # Conv layer to get to one channel\n",
    "    model.add(Conv2D(1, 4, padding='same', activation='sigmoid'))\n",
    "    \n",
    "    return model"
   ]
  },
  {
   "cell_type": "code",
   "execution_count": 17,
   "id": "741b0d58-1b9f-4260-8405-dc400c73f843",
   "metadata": {},
   "outputs": [],
   "source": [
    "generator = build_generator()"
   ]
  },
  {
   "cell_type": "code",
   "execution_count": 18,
   "id": "259ab9c1-6d6c-49a0-b0c4-f45b7c68f588",
   "metadata": {
    "scrolled": true,
    "tags": []
   },
   "outputs": [
    {
     "name": "stdout",
     "output_type": "stream",
     "text": [
      "Model: \"sequential\"\n",
      "_________________________________________________________________\n",
      " Layer (type)                Output Shape              Param #   \n",
      "=================================================================\n",
      " dense (Dense)               (None, 6272)              809088    \n",
      "                                                                 \n",
      " leaky_re_lu (LeakyReLU)     (None, 6272)              0         \n",
      "                                                                 \n",
      " reshape (Reshape)           (None, 7, 7, 128)         0         \n",
      "                                                                 \n",
      " up_sampling2d (UpSampling2D  (None, 14, 14, 128)      0         \n",
      " )                                                               \n",
      "                                                                 \n",
      " conv2d (Conv2D)             (None, 14, 14, 128)       409728    \n",
      "                                                                 \n",
      " leaky_re_lu_1 (LeakyReLU)   (None, 14, 14, 128)       0         \n",
      "                                                                 \n",
      " up_sampling2d_1 (UpSampling  (None, 28, 28, 128)      0         \n",
      " 2D)                                                             \n",
      "                                                                 \n",
      " conv2d_1 (Conv2D)           (None, 28, 28, 128)       409728    \n",
      "                                                                 \n",
      " leaky_re_lu_2 (LeakyReLU)   (None, 28, 28, 128)       0         \n",
      "                                                                 \n",
      " conv2d_2 (Conv2D)           (None, 28, 28, 128)       262272    \n",
      "                                                                 \n",
      " leaky_re_lu_3 (LeakyReLU)   (None, 28, 28, 128)       0         \n",
      "                                                                 \n",
      " conv2d_3 (Conv2D)           (None, 28, 28, 128)       262272    \n",
      "                                                                 \n",
      " leaky_re_lu_4 (LeakyReLU)   (None, 28, 28, 128)       0         \n",
      "                                                                 \n",
      " conv2d_4 (Conv2D)           (None, 28, 28, 1)         2049      \n",
      "                                                                 \n",
      "=================================================================\n",
      "Total params: 2,155,137\n",
      "Trainable params: 2,155,137\n",
      "Non-trainable params: 0\n",
      "_________________________________________________________________\n"
     ]
    }
   ],
   "source": [
    "generator.summary()"
   ]
  },
  {
   "cell_type": "code",
   "execution_count": 19,
   "id": "10ba4d1c-6a15-4097-bf63-5fe6ddb404b6",
   "metadata": {},
   "outputs": [
    {
     "name": "stdout",
     "output_type": "stream",
     "text": [
      "1/1 [==============================] - 1s 833ms/step\n"
     ]
    }
   ],
   "source": [
    "img = generator.predict(np.random.randn(4,128,1))"
   ]
  },
  {
   "cell_type": "code",
   "execution_count": 20,
   "id": "9b4e0cb6-d741-4d43-b845-2a8f2615765b",
   "metadata": {},
   "outputs": [
    {
     "name": "stdout",
     "output_type": "stream",
     "text": [
      "1/1 [==============================] - 0s 14ms/step\n"
     ]
    },
    {
     "data": {
      "image/png": "[encoded data removed]",
      "text/plain": [
       "<Figure size 2000x2000 with 4 Axes>"
      ]
     },
     "metadata": {},
     "output_type": "display_data"
    }
   ],
   "source": [
    "# Generate new fashion\n",
    "img = generator.predict(np.random.randn(4,128,1))\n",
    "# Setup the subplot formatting \n",
    "fig, ax = plt.subplots(ncols=4, figsize=(20,20))\n",
    "# Loop four times and get images \n",
    "for idx, img1 in enumerate(img): \n",
    "    # Plot the image using a specific subplot \n",
    "    ax[idx].imshow(np.squeeze(img1))\n",
    "    # Appending the image label as the plot title \n",
    "    ax[idx].title.set_text(idx)"
   ]
  },
  {
   "cell_type": "markdown",
   "id": "2415abbf-24ed-4bac-8fb8-12c65017ec22",
   "metadata": {
    "id": "2415abbf-24ed-4bac-8fb8-12c65017ec22"
   },
   "source": [
    "### 3.3 Build Discriminator"
   ]
  },
  {
   "cell_type": "code",
   "execution_count": 21,
   "id": "b4e70bcb-cfd5-42bb-aed0-79f19bb38d17",
   "metadata": {},
   "outputs": [],
   "source": [
    "def build_discriminator(): \n",
    "    model = Sequential()\n",
    "    \n",
    "    # First Conv Block\n",
    "    model.add(Conv2D(32, 5, input_shape = (28,28,1)))\n",
    "    model.add(LeakyReLU(0.2))\n",
    "    model.add(Dropout(0.4))\n",
    "    \n",
    "    # Second Conv Block\n",
    "    model.add(Conv2D(64, 5))\n",
    "    model.add(LeakyReLU(0.2))\n",
    "    model.add(Dropout(0.4))\n",
    "    \n",
    "    # Third Conv Block\n",
    "    model.add(Conv2D(128, 5))\n",
    "    model.add(LeakyReLU(0.2))\n",
    "    model.add(Dropout(0.4))\n",
    "    \n",
    "    # Fourth Conv Block\n",
    "    model.add(Conv2D(256, 5))\n",
    "    model.add(LeakyReLU(0.2))\n",
    "    model.add(Dropout(0.4))\n",
    "    \n",
    "    # Flatten then pass to dense layer\n",
    "    model.add(Flatten())\n",
    "    model.add(Dropout(0.4))\n",
    "    model.add(Dense(1, activation='sigmoid'))\n",
    "    \n",
    "    return model "
   ]
  },
  {
   "cell_type": "code",
   "execution_count": 22,
   "id": "7173eb57-250b-4d21-9b37-de842c4552ac",
   "metadata": {},
   "outputs": [],
   "source": [
    "discriminator = build_discriminator()"
   ]
  },
  {
   "cell_type": "code",
   "execution_count": 23,
   "id": "ed6fecbc-f214-4f50-865c-91887b2430e7",
   "metadata": {
    "scrolled": true,
    "tags": []
   },
   "outputs": [
    {
     "name": "stdout",
     "output_type": "stream",
     "text": [
      "Model: \"sequential_1\"\n",
      "_________________________________________________________________\n",
      " Layer (type)                Output Shape              Param #   \n",
      "=================================================================\n",
      " conv2d_5 (Conv2D)           (None, 24, 24, 32)        832       \n",
      "                                                                 \n",
      " leaky_re_lu_5 (LeakyReLU)   (None, 24, 24, 32)        0         \n",
      "                                                                 \n",
      " dropout (Dropout)           (None, 24, 24, 32)        0         \n",
      "                                                                 \n",
      " conv2d_6 (Conv2D)           (None, 20, 20, 64)        51264     \n",
      "                                                                 \n",
      " leaky_re_lu_6 (LeakyReLU)   (None, 20, 20, 64)        0         \n",
      "                                                                 \n",
      " dropout_1 (Dropout)         (None, 20, 20, 64)        0         \n",
      "                                                                 \n",
      " conv2d_7 (Conv2D)           (None, 16, 16, 128)       204928    \n",
      "                                                                 \n",
      " leaky_re_lu_7 (LeakyReLU)   (None, 16, 16, 128)       0         \n",
      "                                                                 \n",
      " dropout_2 (Dropout)         (None, 16, 16, 128)       0         \n",
      "                                                                 \n",
      " conv2d_8 (Conv2D)           (None, 12, 12, 256)       819456    \n",
      "                                                                 \n",
      " leaky_re_lu_8 (LeakyReLU)   (None, 12, 12, 256)       0         \n",
      "                                                                 \n",
      " dropout_3 (Dropout)         (None, 12, 12, 256)       0         \n",
      "                                                                 \n",
      " flatten (Flatten)           (None, 36864)             0         \n",
      "                                                                 \n",
      " dropout_4 (Dropout)         (None, 36864)             0         \n",
      "                                                                 \n",
      " dense_1 (Dense)             (None, 1)                 36865     \n",
      "                                                                 \n",
      "=================================================================\n",
      "Total params: 1,113,345\n",
      "Trainable params: 1,113,345\n",
      "Non-trainable params: 0\n",
      "_________________________________________________________________\n"
     ]
    }
   ],
   "source": [
    "discriminator.summary()"
   ]
  },
  {
   "cell_type": "code",
   "execution_count": 24,
   "id": "9ce3acc9-02c8-468f-915a-0efd52da0bad",
   "metadata": {},
   "outputs": [
    {
     "data": {
      "text/plain": [
       "(4, 28, 28, 1)"
      ]
     },
     "execution_count": 24,
     "metadata": {},
     "output_type": "execute_result"
    }
   ],
   "source": [
    "img.shape"
   ]
  },
  {
   "cell_type": "code",
   "execution_count": 25,
   "id": "8cd15246-b40c-4c7a-912d-b88a1c5c463b",
   "metadata": {},
   "outputs": [
    {
     "name": "stdout",
     "output_type": "stream",
     "text": [
      "1/1 [==============================] - 0s 66ms/step\n"
     ]
    },
    {
     "data": {
      "text/plain": [
       "array([[0.5068983 ],\n",
       "       [0.5070343 ],\n",
       "       [0.50708765],\n",
       "       [0.50697076]], dtype=float32)"
      ]
     },
     "execution_count": 25,
     "metadata": {},
     "output_type": "execute_result"
    }
   ],
   "source": [
    "discriminator.predict(img)"
   ]
  },
  {
   "cell_type": "markdown",
   "id": "39b343b0-38d3-4281-bedb-72099a18097e",
   "metadata": {
    "id": "39b343b0-38d3-4281-bedb-72099a18097e"
   },
   "source": [
    "# 4. Construct Training Loop"
   ]
  },
  {
   "cell_type": "markdown",
   "id": "884abab3-2f74-442d-856f-e104ef1ac8ef",
   "metadata": {
    "id": "884abab3-2f74-442d-856f-e104ef1ac8ef"
   },
   "source": [
    "### 4.1 Setup Losses and Optimizers"
   ]
  },
  {
   "cell_type": "code",
   "execution_count": 26,
   "id": "0bb1d23a-ea68-451a-bb38-e7795dc24311",
   "metadata": {},
   "outputs": [],
   "source": [
    "# choosing adam and binary cross entropy for both gen and disc\n",
    "from tensorflow.keras.optimizers import Adam\n",
    "from tensorflow.keras.losses import BinaryCrossentropy"
   ]
  },
  {
   "cell_type": "code",
   "execution_count": 27,
   "id": "198b2d4e-d6b9-4b6c-a98c-65cd1b81da26",
   "metadata": {},
   "outputs": [],
   "source": [
    "g_opt = Adam(learning_rate=0.0001) \n",
    "d_opt = Adam(learning_rate=0.00001) \n",
    "g_loss = BinaryCrossentropy()\n",
    "d_loss = BinaryCrossentropy()"
   ]
  },
  {
   "cell_type": "markdown",
   "id": "9f170b0e-f731-4cbd-8068-24896f462c08",
   "metadata": {
    "id": "9f170b0e-f731-4cbd-8068-24896f462c08"
   },
   "source": [
    "### 4.2 Build Subclassed Model"
   ]
  },
  {
   "cell_type": "code",
   "execution_count": 28,
   "id": "9e2f5654-ed22-462d-be32-6c43d8b99b74",
   "metadata": {},
   "outputs": [],
   "source": [
    "# Importing the base model class to subclass our training step \n",
    "from tensorflow.keras.models import Model"
   ]
  },
  {
   "cell_type": "code",
   "execution_count": 29,
   "id": "40a0af46-0243-4396-94d6-c1316d984de9",
   "metadata": {},
   "outputs": [],
   "source": [
    "class FashionGAN(Model): \n",
    "    def __init__(self, generator, discriminator, *args, **kwargs):\n",
    "       \n",
    "        super().__init__(*args, **kwargs)\n",
    "    \n",
    "\n",
    "        self.generator = generator \n",
    "        self.discriminator = discriminator \n",
    "        \n",
    "    def compile(self, g_opt, d_opt, g_loss, d_loss, *args, **kwargs): \n",
    "        # Compile with base class\n",
    "        super().compile(*args, **kwargs)\n",
    "        \n",
    "        # Create attributes for losses and optimizers\n",
    "        self.g_opt = g_opt\n",
    "        self.d_opt = d_opt\n",
    "        self.g_loss = g_loss\n",
    "        self.d_loss = d_loss \n",
    "\n",
    "    def train_step(self, batch):\n",
    "      \n",
    "        real_images = batch\n",
    "        fake_images = self.generator(tf.random.normal((128, 128, 1)), training=False)\n",
    "        \n",
    "        # Train the discriminator\n",
    "        with tf.GradientTape() as d_tape: \n",
    "            # Pass the real and fake images to the discriminator model\n",
    "            yhat_real = self.discriminator(real_images, training=True) \n",
    "            yhat_fake = self.discriminator(fake_images, training=True)\n",
    "            yhat_realfake = tf.concat([yhat_real, yhat_fake], axis=0)\n",
    "            \n",
    "            # Create labels for real and fakes images\n",
    "            y_realfake = tf.concat([tf.zeros_like(yhat_real), tf.ones_like(yhat_fake)], axis=0)\n",
    "            \n",
    "            # Add some noise to the TRUE outputs\n",
    "            noise_real = 0.15*tf.random.uniform(tf.shape(yhat_real))\n",
    "            noise_fake = -0.15*tf.random.uniform(tf.shape(yhat_fake))\n",
    "            y_realfake += tf.concat([noise_real, noise_fake], axis=0)\n",
    "            \n",
    "            # Calculate loss - BINARYCROSS \n",
    "            total_d_loss = self.d_loss(y_realfake, yhat_realfake)\n",
    "            \n",
    "        # Apply backpropagation - nn learn \n",
    "        dgrad = d_tape.gradient(total_d_loss, self.discriminator.trainable_variables) \n",
    "        self.d_opt.apply_gradients(zip(dgrad, self.discriminator.trainable_variables))\n",
    "        \n",
    "        # Train the generator \n",
    "        with tf.GradientTape() as g_tape: \n",
    "            # Generate some new images\n",
    "            gen_images = self.generator(tf.random.normal((128,128,1)), training=True)\n",
    "                                        \n",
    "            # Create the predicted labels\n",
    "            predicted_labels = self.discriminator(gen_images, training=False)\n",
    "                                        \n",
    "            # Calculate loss - trick to training to fake out the discriminator\n",
    "            total_g_loss = self.g_loss(tf.zeros_like(predicted_labels), predicted_labels) \n",
    "            \n",
    "        # Apply backprop\n",
    "        ggrad = g_tape.gradient(total_g_loss, self.generator.trainable_variables)\n",
    "        self.g_opt.apply_gradients(zip(ggrad, self.generator.trainable_variables))\n",
    "        \n",
    "        return {\"d_loss\":total_d_loss, \"g_loss\":total_g_loss}"
   ]
  },
  {
   "cell_type": "code",
   "execution_count": 30,
   "id": "24d248c3-f4c1-4478-a699-a5811a7b1fd0",
   "metadata": {},
   "outputs": [],
   "source": [
    "\n",
    "fashgan = FashionGAN(generator, discriminator)"
   ]
  },
  {
   "cell_type": "code",
   "execution_count": 31,
   "id": "e1cf7e02-ee1a-4901-bdf0-9aa2301f8cfc",
   "metadata": {},
   "outputs": [],
   "source": [
    "\n",
    "fashgan.compile(g_opt, d_opt, g_loss, d_loss)"
   ]
  },
  {
   "cell_type": "markdown",
   "id": "e06d0adb-38d0-4558-b824-7416cf880082",
   "metadata": {
    "id": "e06d0adb-38d0-4558-b824-7416cf880082"
   },
   "source": [
    "### 4.3 Build Callback"
   ]
  },
  {
   "cell_type": "code",
   "execution_count": 32,
   "id": "548f6918-366c-4799-9dac-1acedaab40c4",
   "metadata": {},
   "outputs": [],
   "source": [
    "import os\n",
    "from tensorflow.keras.preprocessing.image import array_to_img\n",
    "from tensorflow.keras.callbacks import Callback\n",
    "\n"
   ]
  },
  {
   "cell_type": "code",
   "execution_count": 33,
   "id": "d3e2bb77-2d7d-40d0-809f-526b8fd34170",
   "metadata": {},
   "outputs": [],
   "source": [
    "\n",
    "class ModelMonitor(Callback):\n",
    "    def __init__(self, num_img=3, latent_dim=128):\n",
    "        self.num_img = num_img\n",
    "        self.latent_dim = latent_dim\n",
    "        self.save = 0\n",
    "        \n",
    "    \n",
    "\n",
    "    def on_epoch_end(self, epoch, logs=None):\n",
    "        random_latent_vectors = tf.random.uniform((self.num_img, self.latent_dim,1))\n",
    "        generated_images = self.model.generator(random_latent_vectors)\n",
    "        generated_images *= 255\n",
    "        generated_images.numpy()\n",
    "        for i in range(self.num_img):\n",
    "            img = array_to_img(generated_images[i])\n",
    "            img.save(os.path.join('images', f'generated_img_{epoch}_{i}.png'))\n",
    "        \n",
    "        if self.save == 30:\n",
    "            generator.save('generator.tf')\n",
    "            discriminator.save('discriminator.tf')\n",
    "            self.save = 0\n",
    "        else:\n",
    "            self.save+=1\n",
    "            \n",
    "        \n",
    "\n",
    "        "
   ]
  },
  {
   "cell_type": "code",
   "execution_count": 34,
   "id": "f7a67f70",
   "metadata": {},
   "outputs": [
    {
     "name": "stdout",
     "output_type": "stream",
     "text": [
      "[PhysicalDevice(name='/physical_device:GPU:0', device_type='GPU')]\n"
     ]
    }
   ],
   "source": [
    "print(tf.config.list_physical_devices('GPU'))"
   ]
  },
  {
   "cell_type": "markdown",
   "id": "16e2f159-25e7-4e35-95ef-f0fd18ac5897",
   "metadata": {
    "id": "16e2f159-25e7-4e35-95ef-f0fd18ac5897"
   },
   "source": [
    "### 4.3 Train "
   ]
  },
  {
   "cell_type": "code",
   "execution_count": 35,
   "id": "a779dceb-aba6-4bf3-af49-0d32a76dd2f7",
   "metadata": {
    "scrolled": true,
    "tags": []
   },
   "outputs": [
    {
     "name": "stdout",
     "output_type": "stream",
     "text": [
      "Epoch 1/2500\n"
     ]
    },
    {
     "name": "stdout",
     "output_type": "stream",
     "text": [
      "  6/469 [..............................] - ETA: 1:29 - d_loss: 0.6958 - g_loss: 0.7006WARNING:tensorflow:Callback method `on_train_batch_end` is slow compared to the batch time (batch time: 0.0802s vs `on_train_batch_end` time: 0.0942s). Check your callbacks.\n"
     ]
    },
    {
     "name": "stderr",
     "output_type": "stream",
     "text": [
      "WARNING:tensorflow:Callback method `on_train_batch_end` is slow compared to the batch time (batch time: 0.0802s vs `on_train_batch_end` time: 0.0942s). Check your callbacks.\n"
     ]
    },
    {
     "name": "stdout",
     "output_type": "stream",
     "text": [
      "469/469 [==============================] - 98s 197ms/step - d_loss: 0.5440 - g_loss: 1.4962\n",
      "Epoch 2/2500\n",
      "469/469 [==============================] - 92s 196ms/step - d_loss: 0.5201 - g_loss: 1.2141\n",
      "Epoch 3/2500\n",
      "469/469 [==============================] - 92s 196ms/step - d_loss: 0.6987 - g_loss: 0.6972\n",
      "Epoch 4/2500\n",
      "469/469 [==============================] - 92s 196ms/step - d_loss: 0.6589 - g_loss: 0.7204\n",
      "Epoch 5/2500\n",
      "469/469 [==============================] - 92s 196ms/step - d_loss: 0.7077 - g_loss: 0.5700\n",
      "Epoch 6/2500\n",
      "469/469 [==============================] - 91s 195ms/step - d_loss: 0.6898 - g_loss: 0.6461\n",
      "Epoch 7/2500\n",
      "469/469 [==============================] - 92s 196ms/step - d_loss: 0.6941 - g_loss: 0.6353\n",
      "Epoch 8/2500\n",
      "469/469 [==============================] - 92s 196ms/step - d_loss: 0.6870 - g_loss: 0.6579\n",
      "Epoch 9/2500\n",
      "469/469 [==============================] - 92s 196ms/step - d_loss: 0.6950 - g_loss: 0.6337\n",
      "Epoch 10/2500\n",
      "469/469 [==============================] - 92s 196ms/step - d_loss: 0.6924 - g_loss: 0.6445\n",
      "Epoch 11/2500\n",
      "469/469 [==============================] - 92s 196ms/step - d_loss: 0.6931 - g_loss: 0.6479\n",
      "Epoch 12/2500\n",
      "469/469 [==============================] - 92s 196ms/step - d_loss: 0.3454 - g_loss: 2.3559\n",
      "Epoch 13/2500\n",
      "469/469 [==============================] - 92s 196ms/step - d_loss: 0.5426 - g_loss: 0.6831\n",
      "Epoch 14/2500\n",
      "469/469 [==============================] - 92s 196ms/step - d_loss: 0.3210 - g_loss: 0.0722\n",
      "Epoch 15/2500\n",
      "469/469 [==============================] - 92s 196ms/step - d_loss: 0.2923 - g_loss: 0.0467\n",
      "Epoch 16/2500\n",
      "469/469 [==============================] - 92s 196ms/step - d_loss: 0.2911 - g_loss: 0.0428\n",
      "Epoch 17/2500\n",
      "469/469 [==============================] - 91s 194ms/step - d_loss: 0.2840 - g_loss: 0.0491\n",
      "Epoch 18/2500\n",
      "469/469 [==============================] - 90s 193ms/step - d_loss: 0.3041 - g_loss: 0.0496\n",
      "Epoch 19/2500\n",
      "469/469 [==============================] - 90s 193ms/step - d_loss: 0.4371 - g_loss: 0.1037\n",
      "Epoch 20/2500\n",
      "469/469 [==============================] - 90s 192ms/step - d_loss: 0.6270 - g_loss: 0.3820\n",
      "Epoch 21/2500\n",
      "469/469 [==============================] - 90s 192ms/step - d_loss: 0.6046 - g_loss: 0.4431\n",
      "Epoch 22/2500\n",
      "469/469 [==============================] - 90s 193ms/step - d_loss: 0.6628 - g_loss: 0.5128\n",
      "Epoch 23/2500\n",
      "469/469 [==============================] - 90s 192ms/step - d_loss: 0.6722 - g_loss: 0.5598\n",
      "Epoch 24/2500\n",
      "469/469 [==============================] - 90s 192ms/step - d_loss: 0.6397 - g_loss: 0.5687\n",
      "Epoch 25/2500\n",
      "469/469 [==============================] - 90s 193ms/step - d_loss: 0.6331 - g_loss: 0.5246\n",
      "Epoch 26/2500\n",
      "469/469 [==============================] - 90s 193ms/step - d_loss: 0.6700 - g_loss: 0.5245\n",
      "Epoch 27/2500\n",
      "469/469 [==============================] - 89s 190ms/step - d_loss: 0.6101 - g_loss: 0.4394\n",
      "Epoch 28/2500\n",
      "469/469 [==============================] - 89s 189ms/step - d_loss: 0.6474 - g_loss: 0.5124\n",
      "Epoch 29/2500\n",
      "469/469 [==============================] - 89s 189ms/step - d_loss: 0.6854 - g_loss: 0.6034\n",
      "Epoch 30/2500\n",
      "469/469 [==============================] - 89s 190ms/step - d_loss: 0.5927 - g_loss: 0.4541\n",
      "Epoch 31/2500\n",
      "469/469 [==============================] - ETA: 0s - d_loss: 0.6762 - g_loss: 0.5620WARNING:tensorflow:Compiled the loaded model, but the compiled metrics have yet to be built. `model.compile_metrics` will be empty until you train or evaluate the model.\n"
     ]
    },
    {
     "name": "stderr",
     "output_type": "stream",
     "text": [
      "WARNING:tensorflow:Compiled the loaded model, but the compiled metrics have yet to be built. `model.compile_metrics` will be empty until you train or evaluate the model.\n",
      "WARNING:absl:Found untraced functions such as _jit_compiled_convolution_op, _jit_compiled_convolution_op, _jit_compiled_convolution_op, _jit_compiled_convolution_op, _jit_compiled_convolution_op while saving (showing 5 of 5). These functions will not be directly callable after loading.\n"
     ]
    },
    {
     "name": "stdout",
     "output_type": "stream",
     "text": [
      "INFO:tensorflow:Assets written to: generator.tf\\assets\n"
     ]
    },
    {
     "name": "stderr",
     "output_type": "stream",
     "text": [
      "INFO:tensorflow:Assets written to: generator.tf\\assets\n"
     ]
    },
    {
     "name": "stdout",
     "output_type": "stream",
     "text": [
      "WARNING:tensorflow:Compiled the loaded model, but the compiled metrics have yet to be built. `model.compile_metrics` will be empty until you train or evaluate the model.\n"
     ]
    },
    {
     "name": "stderr",
     "output_type": "stream",
     "text": [
      "WARNING:tensorflow:Compiled the loaded model, but the compiled metrics have yet to be built. `model.compile_metrics` will be empty until you train or evaluate the model.\n",
      "WARNING:absl:Found untraced functions such as _jit_compiled_convolution_op, _jit_compiled_convolution_op, _jit_compiled_convolution_op, _jit_compiled_convolution_op while saving (showing 4 of 4). These functions will not be directly callable after loading.\n"
     ]
    },
    {
     "name": "stdout",
     "output_type": "stream",
     "text": [
      "INFO:tensorflow:Assets written to: discriminator.tf\\assets\n"
     ]
    },
    {
     "name": "stderr",
     "output_type": "stream",
     "text": [
      "INFO:tensorflow:Assets written to: discriminator.tf\\assets\n"
     ]
    },
    {
     "name": "stdout",
     "output_type": "stream",
     "text": [
      "469/469 [==============================] - 93s 199ms/step - d_loss: 0.6763 - g_loss: 0.5619\n",
      "Epoch 32/2500\n",
      "469/469 [==============================] - 91s 193ms/step - d_loss: 0.6870 - g_loss: 0.5910\n",
      "Epoch 33/2500\n",
      "469/469 [==============================] - 90s 193ms/step - d_loss: 0.6470 - g_loss: 0.5727\n",
      "Epoch 34/2500\n",
      "469/469 [==============================] - 91s 194ms/step - d_loss: 0.6884 - g_loss: 0.6090\n",
      "Epoch 35/2500\n",
      "469/469 [==============================] - 91s 193ms/step - d_loss: 0.6856 - g_loss: 0.6287\n",
      "Epoch 36/2500\n",
      "469/469 [==============================] - 90s 193ms/step - d_loss: 0.6718 - g_loss: 0.6067\n",
      "Epoch 37/2500\n",
      "469/469 [==============================] - 90s 193ms/step - d_loss: 0.6850 - g_loss: 0.6014\n",
      "Epoch 38/2500\n",
      "469/469 [==============================] - 91s 193ms/step - d_loss: 0.6741 - g_loss: 0.6251\n",
      "Epoch 39/2500\n",
      "469/469 [==============================] - 90s 193ms/step - d_loss: 0.6962 - g_loss: 0.5781\n",
      "Epoch 40/2500\n",
      "469/469 [==============================] - 90s 193ms/step - d_loss: 0.6797 - g_loss: 0.6331\n",
      "Epoch 41/2500\n",
      "469/469 [==============================] - 91s 193ms/step - d_loss: 0.6955 - g_loss: 0.6327\n",
      "Epoch 42/2500\n",
      "469/469 [==============================] - 91s 193ms/step - d_loss: 0.6896 - g_loss: 0.6248\n",
      "Epoch 43/2500\n",
      "469/469 [==============================] - 90s 193ms/step - d_loss: 0.6741 - g_loss: 0.6545\n",
      "Epoch 44/2500\n",
      "469/469 [==============================] - 91s 193ms/step - d_loss: 0.6589 - g_loss: 0.6255\n",
      "Epoch 45/2500\n",
      "469/469 [==============================] - 91s 193ms/step - d_loss: 0.6855 - g_loss: 0.6423\n",
      "Epoch 46/2500\n",
      "469/469 [==============================] - 91s 193ms/step - d_loss: 0.6866 - g_loss: 0.6318\n",
      "Epoch 47/2500\n",
      "469/469 [==============================] - 90s 193ms/step - d_loss: 0.6908 - g_loss: 0.6364\n",
      "Epoch 48/2500\n",
      "469/469 [==============================] - 91s 193ms/step - d_loss: 0.7009 - g_loss: 0.6220\n",
      "Epoch 49/2500\n",
      "469/469 [==============================] - 91s 193ms/step - d_loss: 0.6887 - g_loss: 0.6508\n",
      "Epoch 50/2500\n",
      "469/469 [==============================] - 91s 193ms/step - d_loss: 0.6781 - g_loss: 0.6159\n",
      "Epoch 51/2500\n",
      "469/469 [==============================] - 90s 193ms/step - d_loss: 0.6875 - g_loss: 0.6367\n",
      "Epoch 52/2500\n",
      "469/469 [==============================] - 90s 192ms/step - d_loss: 0.6764 - g_loss: 0.6531\n",
      "Epoch 53/2500\n",
      "469/469 [==============================] - 90s 192ms/step - d_loss: 0.5824 - g_loss: 0.7861\n",
      "Epoch 54/2500\n",
      "469/469 [==============================] - 90s 192ms/step - d_loss: 0.3135 - g_loss: 0.1666\n",
      "Epoch 55/2500\n",
      "469/469 [==============================] - 90s 192ms/step - d_loss: 0.6738 - g_loss: 0.5588\n",
      "Epoch 56/2500\n",
      "469/469 [==============================] - 90s 192ms/step - d_loss: 0.6822 - g_loss: 0.6055\n",
      "Epoch 57/2500\n",
      "469/469 [==============================] - 90s 192ms/step - d_loss: 0.6911 - g_loss: 0.6308\n",
      "Epoch 58/2500\n",
      "469/469 [==============================] - 90s 192ms/step - d_loss: 0.6866 - g_loss: 0.6511\n",
      "Epoch 59/2500\n",
      "469/469 [==============================] - 90s 192ms/step - d_loss: 0.6928 - g_loss: 0.6405\n",
      "Epoch 60/2500\n",
      "469/469 [==============================] - 90s 192ms/step - d_loss: 0.6542 - g_loss: 0.6498\n",
      "Epoch 61/2500\n",
      "469/469 [==============================] - 90s 192ms/step - d_loss: 0.6899 - g_loss: 0.6257\n",
      "Epoch 62/2500\n",
      "469/469 [==============================] - ETA: 0s - d_loss: 0.6883 - g_loss: 0.6461WARNING:tensorflow:Compiled the loaded model, but the compiled metrics have yet to be built. `model.compile_metrics` will be empty until you train or evaluate the model.\n"
     ]
    },
    {
     "name": "stderr",
     "output_type": "stream",
     "text": [
      "WARNING:tensorflow:Compiled the loaded model, but the compiled metrics have yet to be built. `model.compile_metrics` will be empty until you train or evaluate the model.\n",
      "WARNING:absl:Found untraced functions such as _jit_compiled_convolution_op, _jit_compiled_convolution_op, _jit_compiled_convolution_op, _jit_compiled_convolution_op, _jit_compiled_convolution_op while saving (showing 5 of 5). These functions will not be directly callable after loading.\n"
     ]
    },
    {
     "name": "stdout",
     "output_type": "stream",
     "text": [
      "INFO:tensorflow:Assets written to: generator.tf\\assets\n"
     ]
    },
    {
     "name": "stderr",
     "output_type": "stream",
     "text": [
      "INFO:tensorflow:Assets written to: generator.tf\\assets\n"
     ]
    },
    {
     "name": "stdout",
     "output_type": "stream",
     "text": [
      "WARNING:tensorflow:Compiled the loaded model, but the compiled metrics have yet to be built. `model.compile_metrics` will be empty until you train or evaluate the model.\n"
     ]
    },
    {
     "name": "stderr",
     "output_type": "stream",
     "text": [
      "WARNING:tensorflow:Compiled the loaded model, but the compiled metrics have yet to be built. `model.compile_metrics` will be empty until you train or evaluate the model.\n",
      "WARNING:absl:Found untraced functions such as _jit_compiled_convolution_op, _jit_compiled_convolution_op, _jit_compiled_convolution_op, _jit_compiled_convolution_op while saving (showing 4 of 4). These functions will not be directly callable after loading.\n"
     ]
    },
    {
     "name": "stdout",
     "output_type": "stream",
     "text": [
      "INFO:tensorflow:Assets written to: discriminator.tf\\assets\n"
     ]
    },
    {
     "name": "stderr",
     "output_type": "stream",
     "text": [
      "INFO:tensorflow:Assets written to: discriminator.tf\\assets\n"
     ]
    },
    {
     "name": "stdout",
     "output_type": "stream",
     "text": [
      "469/469 [==============================] - 92s 196ms/step - d_loss: 0.6883 - g_loss: 0.6460\n",
      "Epoch 63/2500\n",
      "469/469 [==============================] - 90s 192ms/step - d_loss: 0.6702 - g_loss: 0.6288\n",
      "Epoch 64/2500\n",
      "469/469 [==============================] - 90s 192ms/step - d_loss: 0.6464 - g_loss: 0.5878\n",
      "Epoch 65/2500\n",
      "469/469 [==============================] - 90s 192ms/step - d_loss: 0.6801 - g_loss: 0.6428\n",
      "Epoch 66/2500\n",
      "469/469 [==============================] - 90s 192ms/step - d_loss: 0.6713 - g_loss: 0.6367\n",
      "Epoch 67/2500\n",
      "469/469 [==============================] - 90s 192ms/step - d_loss: 0.6866 - g_loss: 0.6702\n",
      "Epoch 68/2500\n",
      "469/469 [==============================] - 90s 192ms/step - d_loss: 0.6916 - g_loss: 0.6372\n",
      "Epoch 69/2500\n",
      "469/469 [==============================] - 90s 192ms/step - d_loss: 0.6871 - g_loss: 0.6490\n",
      "Epoch 70/2500\n",
      "469/469 [==============================] - 90s 193ms/step - d_loss: 0.6919 - g_loss: 0.6287\n",
      "Epoch 71/2500\n",
      "469/469 [==============================] - 90s 192ms/step - d_loss: 0.6909 - g_loss: 0.6419\n",
      "Epoch 72/2500\n",
      "469/469 [==============================] - 90s 193ms/step - d_loss: 0.6951 - g_loss: 0.6461\n",
      "Epoch 73/2500\n",
      "469/469 [==============================] - 90s 192ms/step - d_loss: 0.6921 - g_loss: 0.6684\n",
      "Epoch 74/2500\n",
      "469/469 [==============================] - 90s 192ms/step - d_loss: 0.6390 - g_loss: 0.6951\n",
      "Epoch 75/2500\n",
      "469/469 [==============================] - 90s 192ms/step - d_loss: 0.6913 - g_loss: 0.6457\n",
      "Epoch 76/2500\n",
      "469/469 [==============================] - 90s 192ms/step - d_loss: 0.6265 - g_loss: 0.7262\n",
      "Epoch 77/2500\n",
      "469/469 [==============================] - 90s 192ms/step - d_loss: 0.5798 - g_loss: 0.7338\n",
      "Epoch 78/2500\n",
      "469/469 [==============================] - 90s 192ms/step - d_loss: 0.7049 - g_loss: 0.5379\n",
      "Epoch 79/2500\n",
      "469/469 [==============================] - 90s 192ms/step - d_loss: 0.6162 - g_loss: 0.6981\n",
      "Epoch 80/2500\n",
      "469/469 [==============================] - 90s 192ms/step - d_loss: 0.6737 - g_loss: 0.6278\n",
      "Epoch 81/2500\n",
      "469/469 [==============================] - 90s 192ms/step - d_loss: 0.6712 - g_loss: 0.6947\n",
      "Epoch 82/2500\n",
      "469/469 [==============================] - 90s 192ms/step - d_loss: 0.6918 - g_loss: 0.6315\n",
      "Epoch 83/2500\n",
      "469/469 [==============================] - 90s 192ms/step - d_loss: 0.4234 - g_loss: 0.6680\n",
      "Epoch 84/2500\n",
      "469/469 [==============================] - 90s 192ms/step - d_loss: 0.6196 - g_loss: 0.4200\n",
      "Epoch 85/2500\n",
      "469/469 [==============================] - 90s 192ms/step - d_loss: 0.6905 - g_loss: 0.5956\n",
      "Epoch 86/2500\n",
      "469/469 [==============================] - 90s 192ms/step - d_loss: 0.6807 - g_loss: 0.6687\n",
      "Epoch 87/2500\n",
      "469/469 [==============================] - 90s 192ms/step - d_loss: 0.7078 - g_loss: 0.6110\n",
      "Epoch 88/2500\n",
      "469/469 [==============================] - 90s 192ms/step - d_loss: 0.6907 - g_loss: 0.6515\n",
      "Epoch 89/2500\n",
      "469/469 [==============================] - 90s 192ms/step - d_loss: 0.7006 - g_loss: 0.6383\n",
      "Epoch 90/2500\n",
      "469/469 [==============================] - 90s 192ms/step - d_loss: 0.6875 - g_loss: 0.6598\n",
      "Epoch 91/2500\n",
      "469/469 [==============================] - 90s 192ms/step - d_loss: 0.6959 - g_loss: 0.6451\n",
      "Epoch 92/2500\n",
      "469/469 [==============================] - 90s 192ms/step - d_loss: 0.6678 - g_loss: 0.7081\n",
      "Epoch 93/2500\n",
      "469/469 [==============================] - ETA: 0s - d_loss: 0.6745 - g_loss: 0.7153WARNING:tensorflow:Compiled the loaded model, but the compiled metrics have yet to be built. `model.compile_metrics` will be empty until you train or evaluate the model.\n"
     ]
    },
    {
     "name": "stderr",
     "output_type": "stream",
     "text": [
      "WARNING:tensorflow:Compiled the loaded model, but the compiled metrics have yet to be built. `model.compile_metrics` will be empty until you train or evaluate the model.\n",
      "WARNING:absl:Found untraced functions such as _jit_compiled_convolution_op, _jit_compiled_convolution_op, _jit_compiled_convolution_op, _jit_compiled_convolution_op, _jit_compiled_convolution_op while saving (showing 5 of 5). These functions will not be directly callable after loading.\n"
     ]
    },
    {
     "name": "stdout",
     "output_type": "stream",
     "text": [
      "INFO:tensorflow:Assets written to: generator.tf\\assets\n"
     ]
    },
    {
     "name": "stderr",
     "output_type": "stream",
     "text": [
      "INFO:tensorflow:Assets written to: generator.tf\\assets\n"
     ]
    },
    {
     "name": "stdout",
     "output_type": "stream",
     "text": [
      "WARNING:tensorflow:Compiled the loaded model, but the compiled metrics have yet to be built. `model.compile_metrics` will be empty until you train or evaluate the model.\n"
     ]
    },
    {
     "name": "stderr",
     "output_type": "stream",
     "text": [
      "WARNING:tensorflow:Compiled the loaded model, but the compiled metrics have yet to be built. `model.compile_metrics` will be empty until you train or evaluate the model.\n",
      "WARNING:absl:Found untraced functions such as _jit_compiled_convolution_op, _jit_compiled_convolution_op, _jit_compiled_convolution_op, _jit_compiled_convolution_op while saving (showing 4 of 4). These functions will not be directly callable after loading.\n"
     ]
    },
    {
     "name": "stdout",
     "output_type": "stream",
     "text": [
      "INFO:tensorflow:Assets written to: discriminator.tf\\assets\n"
     ]
    },
    {
     "name": "stderr",
     "output_type": "stream",
     "text": [
      "INFO:tensorflow:Assets written to: discriminator.tf\\assets\n"
     ]
    },
    {
     "name": "stdout",
     "output_type": "stream",
     "text": [
      "469/469 [==============================] - 92s 196ms/step - d_loss: 0.6745 - g_loss: 0.7155\n",
      "Epoch 94/2500\n",
      "469/469 [==============================] - 90s 192ms/step - d_loss: 0.6988 - g_loss: 0.6380\n",
      "Epoch 95/2500\n",
      "469/469 [==============================] - 90s 192ms/step - d_loss: 0.6896 - g_loss: 0.6491\n",
      "Epoch 96/2500\n",
      "469/469 [==============================] - 90s 192ms/step - d_loss: 0.7010 - g_loss: 0.6519\n",
      "Epoch 97/2500\n",
      "469/469 [==============================] - 90s 192ms/step - d_loss: 0.6806 - g_loss: 0.6735\n",
      "Epoch 98/2500\n",
      "469/469 [==============================] - 90s 192ms/step - d_loss: 0.6808 - g_loss: 0.6822\n",
      "Epoch 99/2500\n",
      "469/469 [==============================] - 90s 192ms/step - d_loss: 0.6838 - g_loss: 0.6767\n",
      "Epoch 100/2500\n",
      "469/469 [==============================] - 90s 192ms/step - d_loss: 0.6822 - g_loss: 0.6845\n",
      "Epoch 101/2500\n",
      "469/469 [==============================] - 90s 192ms/step - d_loss: 0.6892 - g_loss: 0.6565\n",
      "Epoch 102/2500\n",
      "469/469 [==============================] - 90s 192ms/step - d_loss: 0.6884 - g_loss: 0.6868\n",
      "Epoch 103/2500\n",
      "469/469 [==============================] - 90s 192ms/step - d_loss: 0.6851 - g_loss: 0.6678\n",
      "Epoch 104/2500\n",
      "469/469 [==============================] - 90s 192ms/step - d_loss: 0.6685 - g_loss: 0.7528\n",
      "Epoch 105/2500\n",
      "469/469 [==============================] - 90s 192ms/step - d_loss: 0.7001 - g_loss: 0.6542\n",
      "Epoch 106/2500\n",
      "469/469 [==============================] - 90s 192ms/step - d_loss: 0.6695 - g_loss: 0.6785\n",
      "Epoch 107/2500\n",
      "469/469 [==============================] - 90s 192ms/step - d_loss: 0.6277 - g_loss: 0.8403\n",
      "Epoch 108/2500\n",
      "469/469 [==============================] - 90s 192ms/step - d_loss: 0.6542 - g_loss: 0.6896\n",
      "Epoch 109/2500\n",
      "469/469 [==============================] - 90s 192ms/step - d_loss: 0.6214 - g_loss: 0.7637\n",
      "Epoch 110/2500\n",
      "469/469 [==============================] - 90s 192ms/step - d_loss: 0.6813 - g_loss: 0.6610\n",
      "Epoch 111/2500\n",
      "469/469 [==============================] - 90s 192ms/step - d_loss: 0.6665 - g_loss: 0.6961\n",
      "Epoch 112/2500\n",
      "469/469 [==============================] - 90s 192ms/step - d_loss: 0.6019 - g_loss: 0.7112\n",
      "Epoch 113/2500\n",
      "469/469 [==============================] - 90s 192ms/step - d_loss: 0.6345 - g_loss: 0.7638\n",
      "Epoch 114/2500\n",
      "469/469 [==============================] - 90s 192ms/step - d_loss: 0.6559 - g_loss: 0.7980\n",
      "Epoch 115/2500\n",
      "469/469 [==============================] - 90s 192ms/step - d_loss: 0.4583 - g_loss: 1.0758\n",
      "Epoch 116/2500\n",
      "469/469 [==============================] - 90s 192ms/step - d_loss: 0.6286 - g_loss: 0.5420\n",
      "Epoch 117/2500\n",
      "469/469 [==============================] - 90s 192ms/step - d_loss: 0.5457 - g_loss: 0.8267\n",
      "Epoch 118/2500\n",
      "469/469 [==============================] - 90s 192ms/step - d_loss: 0.6836 - g_loss: 0.6271\n",
      "Epoch 119/2500\n",
      "469/469 [==============================] - 90s 192ms/step - d_loss: 0.6421 - g_loss: 0.6813\n",
      "Epoch 120/2500\n",
      "469/469 [==============================] - 90s 192ms/step - d_loss: 0.6376 - g_loss: 0.7837\n",
      "Epoch 121/2500\n",
      "469/469 [==============================] - 90s 192ms/step - d_loss: 0.6954 - g_loss: 0.6583\n",
      "Epoch 122/2500\n",
      "469/469 [==============================] - 90s 192ms/step - d_loss: 0.7001 - g_loss: 0.6188\n",
      "Epoch 123/2500\n",
      "469/469 [==============================] - 90s 192ms/step - d_loss: 0.6667 - g_loss: 0.7768\n",
      "Epoch 124/2500\n",
      "469/469 [==============================] - ETA: 0s - d_loss: 0.6213 - g_loss: 0.7699WARNING:tensorflow:Compiled the loaded model, but the compiled metrics have yet to be built. `model.compile_metrics` will be empty until you train or evaluate the model.\n"
     ]
    },
    {
     "name": "stderr",
     "output_type": "stream",
     "text": [
      "WARNING:tensorflow:Compiled the loaded model, but the compiled metrics have yet to be built. `model.compile_metrics` will be empty until you train or evaluate the model.\n",
      "WARNING:absl:Found untraced functions such as _jit_compiled_convolution_op, _jit_compiled_convolution_op, _jit_compiled_convolution_op, _jit_compiled_convolution_op, _jit_compiled_convolution_op while saving (showing 5 of 5). These functions will not be directly callable after loading.\n"
     ]
    },
    {
     "name": "stdout",
     "output_type": "stream",
     "text": [
      "INFO:tensorflow:Assets written to: generator.tf\\assets\n"
     ]
    },
    {
     "name": "stderr",
     "output_type": "stream",
     "text": [
      "INFO:tensorflow:Assets written to: generator.tf\\assets\n"
     ]
    },
    {
     "name": "stdout",
     "output_type": "stream",
     "text": [
      "WARNING:tensorflow:Compiled the loaded model, but the compiled metrics have yet to be built. `model.compile_metrics` will be empty until you train or evaluate the model.\n"
     ]
    },
    {
     "name": "stderr",
     "output_type": "stream",
     "text": [
      "WARNING:tensorflow:Compiled the loaded model, but the compiled metrics have yet to be built. `model.compile_metrics` will be empty until you train or evaluate the model.\n",
      "WARNING:absl:Found untraced functions such as _jit_compiled_convolution_op, _jit_compiled_convolution_op, _jit_compiled_convolution_op, _jit_compiled_convolution_op while saving (showing 4 of 4). These functions will not be directly callable after loading.\n"
     ]
    },
    {
     "name": "stdout",
     "output_type": "stream",
     "text": [
      "INFO:tensorflow:Assets written to: discriminator.tf\\assets\n"
     ]
    },
    {
     "name": "stderr",
     "output_type": "stream",
     "text": [
      "INFO:tensorflow:Assets written to: discriminator.tf\\assets\n"
     ]
    },
    {
     "name": "stdout",
     "output_type": "stream",
     "text": [
      "469/469 [==============================] - 92s 197ms/step - d_loss: 0.6211 - g_loss: 0.7705\n",
      "Epoch 125/2500\n",
      "469/469 [==============================] - 90s 193ms/step - d_loss: 0.6334 - g_loss: 0.7635\n",
      "Epoch 126/2500\n",
      "469/469 [==============================] - 90s 192ms/step - d_loss: 0.6753 - g_loss: 0.6751\n",
      "Epoch 127/2500\n",
      "469/469 [==============================] - 90s 192ms/step - d_loss: 0.6436 - g_loss: 0.8254\n",
      "Epoch 128/2500\n",
      "469/469 [==============================] - 90s 192ms/step - d_loss: 0.6902 - g_loss: 0.6673\n",
      "Epoch 129/2500\n",
      "469/469 [==============================] - 90s 193ms/step - d_loss: 0.6343 - g_loss: 0.8113\n",
      "Epoch 130/2500\n",
      "469/469 [==============================] - 90s 192ms/step - d_loss: 0.6553 - g_loss: 0.6644\n",
      "Epoch 131/2500\n",
      "469/469 [==============================] - 90s 192ms/step - d_loss: 0.6771 - g_loss: 0.6786\n",
      "Epoch 132/2500\n",
      "469/469 [==============================] - 90s 193ms/step - d_loss: 0.6045 - g_loss: 0.8751\n",
      "Epoch 133/2500\n",
      "469/469 [==============================] - 90s 192ms/step - d_loss: 0.6455 - g_loss: 0.7476\n",
      "Epoch 134/2500\n",
      "469/469 [==============================] - 90s 192ms/step - d_loss: 0.6626 - g_loss: 0.7129\n",
      "Epoch 135/2500\n",
      "469/469 [==============================] - 90s 192ms/step - d_loss: 0.5162 - g_loss: 1.1657\n",
      "Epoch 136/2500\n",
      "469/469 [==============================] - 90s 192ms/step - d_loss: 0.6113 - g_loss: 0.6821\n",
      "Epoch 137/2500\n",
      "469/469 [==============================] - 90s 193ms/step - d_loss: 0.6876 - g_loss: 0.6445\n",
      "Epoch 138/2500\n",
      "469/469 [==============================] - 90s 192ms/step - d_loss: 0.5904 - g_loss: 0.9380\n",
      "Epoch 139/2500\n",
      "469/469 [==============================] - 90s 192ms/step - d_loss: 0.6849 - g_loss: 0.6267\n",
      "Epoch 140/2500\n",
      "469/469 [==============================] - 90s 192ms/step - d_loss: 0.6749 - g_loss: 0.7550\n",
      "Epoch 141/2500\n",
      "469/469 [==============================] - 90s 192ms/step - d_loss: 0.6718 - g_loss: 0.6904\n",
      "Epoch 142/2500\n",
      "469/469 [==============================] - 90s 192ms/step - d_loss: 0.6621 - g_loss: 0.7665\n",
      "Epoch 143/2500\n",
      "469/469 [==============================] - 90s 192ms/step - d_loss: 0.6856 - g_loss: 0.6619\n",
      "Epoch 144/2500\n",
      "469/469 [==============================] - 90s 193ms/step - d_loss: 0.6720 - g_loss: 0.7003\n",
      "Epoch 145/2500\n",
      "469/469 [==============================] - 90s 192ms/step - d_loss: 0.6653 - g_loss: 0.7630\n",
      "Epoch 146/2500\n",
      "469/469 [==============================] - 90s 192ms/step - d_loss: 0.6805 - g_loss: 0.6679\n",
      "Epoch 147/2500\n",
      "469/469 [==============================] - 90s 192ms/step - d_loss: 0.6922 - g_loss: 0.6770\n",
      "Epoch 148/2500\n",
      "469/469 [==============================] - 90s 193ms/step - d_loss: 0.6866 - g_loss: 0.6752\n",
      "Epoch 149/2500\n",
      "469/469 [==============================] - 90s 192ms/step - d_loss: 0.6692 - g_loss: 0.7151\n",
      "Epoch 150/2500\n",
      "469/469 [==============================] - 90s 192ms/step - d_loss: 0.6479 - g_loss: 0.7442\n",
      "Epoch 151/2500\n",
      "469/469 [==============================] - 90s 192ms/step - d_loss: 0.5614 - g_loss: 0.8739\n",
      "Epoch 152/2500\n",
      "469/469 [==============================] - 90s 192ms/step - d_loss: 0.6487 - g_loss: 0.7514\n",
      "Epoch 153/2500\n",
      "469/469 [==============================] - 90s 192ms/step - d_loss: 0.5796 - g_loss: 0.8268\n",
      "Epoch 154/2500\n",
      "469/469 [==============================] - 90s 192ms/step - d_loss: 0.6641 - g_loss: 0.6814\n",
      "Epoch 155/2500\n",
      "469/469 [==============================] - ETA: 0s - d_loss: 0.6842 - g_loss: 0.7070WARNING:tensorflow:Compiled the loaded model, but the compiled metrics have yet to be built. `model.compile_metrics` will be empty until you train or evaluate the model.\n"
     ]
    },
    {
     "name": "stderr",
     "output_type": "stream",
     "text": [
      "WARNING:tensorflow:Compiled the loaded model, but the compiled metrics have yet to be built. `model.compile_metrics` will be empty until you train or evaluate the model.\n",
      "WARNING:absl:Found untraced functions such as _jit_compiled_convolution_op, _jit_compiled_convolution_op, _jit_compiled_convolution_op, _jit_compiled_convolution_op, _jit_compiled_convolution_op while saving (showing 5 of 5). These functions will not be directly callable after loading.\n"
     ]
    },
    {
     "name": "stdout",
     "output_type": "stream",
     "text": [
      "INFO:tensorflow:Assets written to: generator.tf\\assets\n"
     ]
    },
    {
     "name": "stderr",
     "output_type": "stream",
     "text": [
      "INFO:tensorflow:Assets written to: generator.tf\\assets\n"
     ]
    },
    {
     "name": "stdout",
     "output_type": "stream",
     "text": [
      "WARNING:tensorflow:Compiled the loaded model, but the compiled metrics have yet to be built. `model.compile_metrics` will be empty until you train or evaluate the model.\n"
     ]
    },
    {
     "name": "stderr",
     "output_type": "stream",
     "text": [
      "WARNING:tensorflow:Compiled the loaded model, but the compiled metrics have yet to be built. `model.compile_metrics` will be empty until you train or evaluate the model.\n",
      "WARNING:absl:Found untraced functions such as _jit_compiled_convolution_op, _jit_compiled_convolution_op, _jit_compiled_convolution_op, _jit_compiled_convolution_op while saving (showing 4 of 4). These functions will not be directly callable after loading.\n"
     ]
    },
    {
     "name": "stdout",
     "output_type": "stream",
     "text": [
      "INFO:tensorflow:Assets written to: discriminator.tf\\assets\n"
     ]
    },
    {
     "name": "stderr",
     "output_type": "stream",
     "text": [
      "INFO:tensorflow:Assets written to: discriminator.tf\\assets\n"
     ]
    },
    {
     "name": "stdout",
     "output_type": "stream",
     "text": [
      "469/469 [==============================] - 92s 197ms/step - d_loss: 0.6841 - g_loss: 0.7075\n",
      "Epoch 156/2500\n",
      "469/469 [==============================] - 90s 192ms/step - d_loss: 0.6552 - g_loss: 0.7560\n",
      "Epoch 157/2500\n",
      "469/469 [==============================] - 90s 192ms/step - d_loss: 0.6493 - g_loss: 0.7977\n",
      "Epoch 158/2500\n",
      "469/469 [==============================] - 90s 192ms/step - d_loss: 0.6683 - g_loss: 0.7100\n",
      "Epoch 159/2500\n",
      "469/469 [==============================] - 90s 192ms/step - d_loss: 0.6151 - g_loss: 0.8646\n",
      "Epoch 160/2500\n",
      "469/469 [==============================] - 90s 192ms/step - d_loss: 0.3187 - g_loss: 1.1654\n",
      "Epoch 161/2500\n",
      "469/469 [==============================] - 90s 192ms/step - d_loss: 0.6633 - g_loss: 0.5821\n",
      "Epoch 162/2500\n",
      "469/469 [==============================] - 90s 192ms/step - d_loss: 0.6069 - g_loss: 0.8918\n",
      "Epoch 163/2500\n",
      "469/469 [==============================] - 90s 192ms/step - d_loss: 0.5441 - g_loss: 1.0406\n",
      "Epoch 164/2500\n",
      "469/469 [==============================] - 90s 192ms/step - d_loss: 0.6306 - g_loss: 0.7928\n",
      "Epoch 165/2500\n",
      "469/469 [==============================] - 90s 192ms/step - d_loss: 0.6414 - g_loss: 0.7656\n",
      "Epoch 166/2500\n",
      "469/469 [==============================] - 90s 192ms/step - d_loss: 0.6611 - g_loss: 0.7416\n",
      "Epoch 167/2500\n",
      "469/469 [==============================] - 90s 192ms/step - d_loss: 0.6777 - g_loss: 0.6917\n",
      "Epoch 168/2500\n",
      "469/469 [==============================] - 90s 192ms/step - d_loss: 0.6458 - g_loss: 0.7843\n",
      "Epoch 169/2500\n",
      "469/469 [==============================] - 90s 192ms/step - d_loss: 0.6401 - g_loss: 0.8839\n",
      "Epoch 170/2500\n",
      "469/469 [==============================] - 90s 193ms/step - d_loss: 0.6589 - g_loss: 0.7404\n",
      "Epoch 171/2500\n",
      "469/469 [==============================] - 90s 193ms/step - d_loss: 0.6617 - g_loss: 0.7315\n",
      "Epoch 172/2500\n",
      "469/469 [==============================] - 90s 193ms/step - d_loss: 0.6230 - g_loss: 0.8810\n",
      "Epoch 173/2500\n",
      "469/469 [==============================] - 90s 192ms/step - d_loss: 0.6983 - g_loss: 0.6866\n",
      "Epoch 174/2500\n",
      "469/469 [==============================] - 90s 192ms/step - d_loss: 0.5861 - g_loss: 1.0095\n",
      "Epoch 175/2500\n",
      "469/469 [==============================] - 90s 192ms/step - d_loss: 0.5806 - g_loss: 0.8917\n",
      "Epoch 176/2500\n",
      "469/469 [==============================] - 90s 193ms/step - d_loss: 0.6646 - g_loss: 0.7818\n",
      "Epoch 177/2500\n",
      "469/469 [==============================] - 90s 193ms/step - d_loss: 0.6093 - g_loss: 0.8786\n",
      "Epoch 178/2500\n",
      "469/469 [==============================] - 90s 192ms/step - d_loss: 0.6741 - g_loss: 0.7101\n",
      "Epoch 179/2500\n",
      "469/469 [==============================] - 90s 192ms/step - d_loss: 0.6711 - g_loss: 0.7096\n",
      "Epoch 180/2500\n",
      "469/469 [==============================] - 90s 192ms/step - d_loss: 0.6656 - g_loss: 0.7344\n",
      "Epoch 181/2500\n",
      "469/469 [==============================] - 90s 192ms/step - d_loss: 0.6152 - g_loss: 0.8156\n",
      "Epoch 182/2500\n",
      "469/469 [==============================] - 90s 192ms/step - d_loss: 0.6646 - g_loss: 0.7391\n",
      "Epoch 183/2500\n",
      "469/469 [==============================] - 90s 192ms/step - d_loss: 0.5583 - g_loss: 1.0918\n",
      "Epoch 184/2500\n",
      "469/469 [==============================] - 90s 192ms/step - d_loss: 0.3220 - g_loss: 1.1728\n",
      "Epoch 185/2500\n",
      "469/469 [==============================] - 90s 192ms/step - d_loss: 0.2878 - g_loss: 0.9146\n",
      "Epoch 186/2500\n",
      "469/469 [==============================] - ETA: 0s - d_loss: 0.6011 - g_loss: 0.7736WARNING:tensorflow:Compiled the loaded model, but the compiled metrics have yet to be built. `model.compile_metrics` will be empty until you train or evaluate the model.\n"
     ]
    },
    {
     "name": "stderr",
     "output_type": "stream",
     "text": [
      "WARNING:tensorflow:Compiled the loaded model, but the compiled metrics have yet to be built. `model.compile_metrics` will be empty until you train or evaluate the model.\n",
      "WARNING:absl:Found untraced functions such as _jit_compiled_convolution_op, _jit_compiled_convolution_op, _jit_compiled_convolution_op, _jit_compiled_convolution_op, _jit_compiled_convolution_op while saving (showing 5 of 5). These functions will not be directly callable after loading.\n"
     ]
    },
    {
     "name": "stdout",
     "output_type": "stream",
     "text": [
      "INFO:tensorflow:Assets written to: generator.tf\\assets\n"
     ]
    },
    {
     "name": "stderr",
     "output_type": "stream",
     "text": [
      "INFO:tensorflow:Assets written to: generator.tf\\assets\n"
     ]
    },
    {
     "name": "stdout",
     "output_type": "stream",
     "text": [
      "WARNING:tensorflow:Compiled the loaded model, but the compiled metrics have yet to be built. `model.compile_metrics` will be empty until you train or evaluate the model.\n"
     ]
    },
    {
     "name": "stderr",
     "output_type": "stream",
     "text": [
      "WARNING:tensorflow:Compiled the loaded model, but the compiled metrics have yet to be built. `model.compile_metrics` will be empty until you train or evaluate the model.\n",
      "WARNING:absl:Found untraced functions such as _jit_compiled_convolution_op, _jit_compiled_convolution_op, _jit_compiled_convolution_op, _jit_compiled_convolution_op while saving (showing 4 of 4). These functions will not be directly callable after loading.\n"
     ]
    },
    {
     "name": "stdout",
     "output_type": "stream",
     "text": [
      "INFO:tensorflow:Assets written to: discriminator.tf\\assets\n"
     ]
    },
    {
     "name": "stderr",
     "output_type": "stream",
     "text": [
      "INFO:tensorflow:Assets written to: discriminator.tf\\assets\n"
     ]
    },
    {
     "name": "stdout",
     "output_type": "stream",
     "text": [
      "469/469 [==============================] - 92s 196ms/step - d_loss: 0.6006 - g_loss: 0.7754\n",
      "Epoch 187/2500\n",
      "469/469 [==============================] - 90s 192ms/step - d_loss: 0.6183 - g_loss: 0.8794\n",
      "Epoch 188/2500\n",
      "469/469 [==============================] - 90s 192ms/step - d_loss: 0.3542 - g_loss: 1.3303\n",
      "Epoch 189/2500\n",
      "469/469 [==============================] - 90s 192ms/step - d_loss: 0.5753 - g_loss: 0.9083\n",
      "Epoch 190/2500\n",
      "469/469 [==============================] - 90s 192ms/step - d_loss: 0.3074 - g_loss: 1.4630\n",
      "Epoch 191/2500\n",
      "469/469 [==============================] - 90s 192ms/step - d_loss: 0.5939 - g_loss: 0.9571\n",
      "Epoch 192/2500\n",
      "469/469 [==============================] - 90s 192ms/step - d_loss: 0.6015 - g_loss: 0.9078\n",
      "Epoch 193/2500\n",
      "469/469 [==============================] - 90s 192ms/step - d_loss: 0.6179 - g_loss: 0.8923\n",
      "Epoch 194/2500\n",
      "469/469 [==============================] - 90s 192ms/step - d_loss: 0.6388 - g_loss: 0.8193\n",
      "Epoch 195/2500\n",
      "469/469 [==============================] - 90s 192ms/step - d_loss: 0.6440 - g_loss: 0.7773\n",
      "Epoch 196/2500\n",
      "469/469 [==============================] - 90s 192ms/step - d_loss: 0.5869 - g_loss: 1.0151\n",
      "Epoch 197/2500\n",
      "469/469 [==============================] - 90s 192ms/step - d_loss: 0.6775 - g_loss: 0.6510\n",
      "Epoch 198/2500\n",
      "469/469 [==============================] - 90s 192ms/step - d_loss: 0.6629 - g_loss: 0.6986\n",
      "Epoch 199/2500\n",
      "469/469 [==============================] - 90s 192ms/step - d_loss: 0.6397 - g_loss: 0.7101\n",
      "Epoch 200/2500\n",
      "469/469 [==============================] - 90s 192ms/step - d_loss: 0.6412 - g_loss: 0.7450\n",
      "Epoch 201/2500\n",
      "469/469 [==============================] - 90s 192ms/step - d_loss: 0.6560 - g_loss: 0.7774\n",
      "Epoch 202/2500\n",
      "469/469 [==============================] - 90s 192ms/step - d_loss: 0.5301 - g_loss: 1.0185\n",
      "Epoch 203/2500\n",
      "469/469 [==============================] - 90s 192ms/step - d_loss: 0.5903 - g_loss: 0.8805\n",
      "Epoch 204/2500\n",
      "469/469 [==============================] - 90s 192ms/step - d_loss: 0.6081 - g_loss: 1.0745\n",
      "Epoch 205/2500\n",
      "469/469 [==============================] - 90s 192ms/step - d_loss: 0.6975 - g_loss: 0.5949\n",
      "Epoch 206/2500\n",
      "469/469 [==============================] - 90s 192ms/step - d_loss: 0.6020 - g_loss: 0.8047\n",
      "Epoch 207/2500\n",
      "469/469 [==============================] - 90s 192ms/step - d_loss: 0.4058 - g_loss: 1.6995\n",
      "Epoch 208/2500\n",
      "469/469 [==============================] - 90s 192ms/step - d_loss: 0.3667 - g_loss: 1.7214\n",
      "Epoch 209/2500\n",
      "469/469 [==============================] - 90s 192ms/step - d_loss: 0.6248 - g_loss: 0.9037\n",
      "Epoch 210/2500\n",
      "469/469 [==============================] - 90s 192ms/step - d_loss: 0.6500 - g_loss: 0.7554\n",
      "Epoch 211/2500\n",
      "469/469 [==============================] - 90s 192ms/step - d_loss: 0.6693 - g_loss: 0.6932\n",
      "Epoch 212/2500\n",
      "469/469 [==============================] - 90s 192ms/step - d_loss: 0.6514 - g_loss: 0.7721\n",
      "Epoch 213/2500\n",
      "469/469 [==============================] - 90s 192ms/step - d_loss: 0.6864 - g_loss: 0.6832\n",
      "Epoch 214/2500\n",
      "469/469 [==============================] - 90s 192ms/step - d_loss: 0.5257 - g_loss: 1.2158\n",
      "Epoch 215/2500\n",
      "469/469 [==============================] - 90s 192ms/step - d_loss: 0.5019 - g_loss: 0.9000\n",
      "Epoch 216/2500\n",
      "469/469 [==============================] - 90s 192ms/step - d_loss: 0.5555 - g_loss: 1.0964\n",
      "Epoch 217/2500\n",
      "469/469 [==============================] - ETA: 0s - d_loss: 0.6914 - g_loss: 0.6774WARNING:tensorflow:Compiled the loaded model, but the compiled metrics have yet to be built. `model.compile_metrics` will be empty until you train or evaluate the model.\n"
     ]
    },
    {
     "name": "stderr",
     "output_type": "stream",
     "text": [
      "WARNING:tensorflow:Compiled the loaded model, but the compiled metrics have yet to be built. `model.compile_metrics` will be empty until you train or evaluate the model.\n",
      "WARNING:absl:Found untraced functions such as _jit_compiled_convolution_op, _jit_compiled_convolution_op, _jit_compiled_convolution_op, _jit_compiled_convolution_op, _jit_compiled_convolution_op while saving (showing 5 of 5). These functions will not be directly callable after loading.\n"
     ]
    },
    {
     "name": "stdout",
     "output_type": "stream",
     "text": [
      "INFO:tensorflow:Assets written to: generator.tf\\assets\n"
     ]
    },
    {
     "name": "stderr",
     "output_type": "stream",
     "text": [
      "INFO:tensorflow:Assets written to: generator.tf\\assets\n"
     ]
    },
    {
     "name": "stdout",
     "output_type": "stream",
     "text": [
      "WARNING:tensorflow:Compiled the loaded model, but the compiled metrics have yet to be built. `model.compile_metrics` will be empty until you train or evaluate the model.\n"
     ]
    },
    {
     "name": "stderr",
     "output_type": "stream",
     "text": [
      "WARNING:tensorflow:Compiled the loaded model, but the compiled metrics have yet to be built. `model.compile_metrics` will be empty until you train or evaluate the model.\n",
      "WARNING:absl:Found untraced functions such as _jit_compiled_convolution_op, _jit_compiled_convolution_op, _jit_compiled_convolution_op, _jit_compiled_convolution_op while saving (showing 4 of 4). These functions will not be directly callable after loading.\n"
     ]
    },
    {
     "name": "stdout",
     "output_type": "stream",
     "text": [
      "INFO:tensorflow:Assets written to: discriminator.tf\\assets\n"
     ]
    },
    {
     "name": "stderr",
     "output_type": "stream",
     "text": [
      "INFO:tensorflow:Assets written to: discriminator.tf\\assets\n"
     ]
    },
    {
     "name": "stdout",
     "output_type": "stream",
     "text": [
      "469/469 [==============================] - 92s 197ms/step - d_loss: 0.6913 - g_loss: 0.6773\n",
      "Epoch 218/2500\n",
      "469/469 [==============================] - 90s 192ms/step - d_loss: 0.6756 - g_loss: 0.7057\n",
      "Epoch 219/2500\n",
      "469/469 [==============================] - 90s 192ms/step - d_loss: 0.6386 - g_loss: 0.7529\n",
      "Epoch 220/2500\n",
      "469/469 [==============================] - 90s 192ms/step - d_loss: 0.5838 - g_loss: 0.9154\n",
      "Epoch 221/2500\n",
      "469/469 [==============================] - 90s 192ms/step - d_loss: 0.6064 - g_loss: 0.8409\n",
      "Epoch 222/2500\n",
      "469/469 [==============================] - 90s 192ms/step - d_loss: 0.6632 - g_loss: 0.7079\n",
      "Epoch 223/2500\n",
      "469/469 [==============================] - 90s 193ms/step - d_loss: 0.6133 - g_loss: 0.7825\n",
      "Epoch 224/2500\n",
      "469/469 [==============================] - 90s 193ms/step - d_loss: 0.6466 - g_loss: 0.7329\n",
      "Epoch 225/2500\n",
      "469/469 [==============================] - 90s 192ms/step - d_loss: 0.6397 - g_loss: 0.8673\n",
      "Epoch 226/2500\n",
      "469/469 [==============================] - 90s 192ms/step - d_loss: 0.3179 - g_loss: 1.8863\n",
      "Epoch 227/2500\n",
      "469/469 [==============================] - 90s 192ms/step - d_loss: 0.5024 - g_loss: 0.8876\n",
      "Epoch 228/2500\n",
      "469/469 [==============================] - 90s 192ms/step - d_loss: 0.6304 - g_loss: 0.8408\n",
      "Epoch 229/2500\n",
      "469/469 [==============================] - 90s 192ms/step - d_loss: 0.5589 - g_loss: 0.9494\n",
      "Epoch 230/2500\n",
      "469/469 [==============================] - 90s 192ms/step - d_loss: 0.6509 - g_loss: 0.7936\n",
      "Epoch 231/2500\n",
      "469/469 [==============================] - 90s 192ms/step - d_loss: 0.4493 - g_loss: 1.2018\n",
      "Epoch 232/2500\n",
      "469/469 [==============================] - 90s 193ms/step - d_loss: 0.5864 - g_loss: 1.0212\n",
      "Epoch 233/2500\n",
      "469/469 [==============================] - 90s 192ms/step - d_loss: 0.6132 - g_loss: 0.7873\n",
      "Epoch 234/2500\n",
      "469/469 [==============================] - 90s 193ms/step - d_loss: 0.6219 - g_loss: 0.8486\n",
      "Epoch 235/2500\n",
      "469/469 [==============================] - 90s 193ms/step - d_loss: 0.6185 - g_loss: 0.7631\n",
      "Epoch 236/2500\n",
      "469/469 [==============================] - 90s 192ms/step - d_loss: 0.6487 - g_loss: 0.7713\n",
      "Epoch 237/2500\n",
      "469/469 [==============================] - 90s 192ms/step - d_loss: 0.6217 - g_loss: 0.7896\n",
      "Epoch 238/2500\n",
      "469/469 [==============================] - 90s 192ms/step - d_loss: 0.4615 - g_loss: 1.8348\n",
      "Epoch 239/2500\n",
      "469/469 [==============================] - 90s 192ms/step - d_loss: 0.2809 - g_loss: 2.7960\n",
      "Epoch 240/2500\n",
      "469/469 [==============================] - 90s 193ms/step - d_loss: 0.2737 - g_loss: 2.8445\n",
      "Epoch 241/2500\n",
      "469/469 [==============================] - 90s 193ms/step - d_loss: 0.2905 - g_loss: 2.6608\n",
      "Epoch 242/2500\n",
      "469/469 [==============================] - 90s 193ms/step - d_loss: 0.5924 - g_loss: 0.8530\n",
      "Epoch 243/2500\n",
      "469/469 [==============================] - 90s 193ms/step - d_loss: 0.5681 - g_loss: 0.9720\n",
      "Epoch 244/2500\n",
      "469/469 [==============================] - 90s 192ms/step - d_loss: 0.5941 - g_loss: 0.8342\n",
      "Epoch 245/2500\n",
      "469/469 [==============================] - 90s 192ms/step - d_loss: 0.5857 - g_loss: 0.9783\n",
      "Epoch 246/2500\n",
      "469/469 [==============================] - 90s 192ms/step - d_loss: 0.6372 - g_loss: 0.7860\n",
      "Epoch 247/2500\n",
      "469/469 [==============================] - 90s 192ms/step - d_loss: 0.6186 - g_loss: 0.8271\n",
      "Epoch 248/2500\n",
      "469/469 [==============================] - ETA: 0s - d_loss: 0.6476 - g_loss: 0.7134WARNING:tensorflow:Compiled the loaded model, but the compiled metrics have yet to be built. `model.compile_metrics` will be empty until you train or evaluate the model.\n"
     ]
    },
    {
     "name": "stderr",
     "output_type": "stream",
     "text": [
      "WARNING:tensorflow:Compiled the loaded model, but the compiled metrics have yet to be built. `model.compile_metrics` will be empty until you train or evaluate the model.\n",
      "WARNING:absl:Found untraced functions such as _jit_compiled_convolution_op, _jit_compiled_convolution_op, _jit_compiled_convolution_op, _jit_compiled_convolution_op, _jit_compiled_convolution_op while saving (showing 5 of 5). These functions will not be directly callable after loading.\n"
     ]
    },
    {
     "name": "stdout",
     "output_type": "stream",
     "text": [
      "INFO:tensorflow:Assets written to: generator.tf\\assets\n"
     ]
    },
    {
     "name": "stderr",
     "output_type": "stream",
     "text": [
      "INFO:tensorflow:Assets written to: generator.tf\\assets\n"
     ]
    },
    {
     "name": "stdout",
     "output_type": "stream",
     "text": [
      "WARNING:tensorflow:Compiled the loaded model, but the compiled metrics have yet to be built. `model.compile_metrics` will be empty until you train or evaluate the model.\n"
     ]
    },
    {
     "name": "stderr",
     "output_type": "stream",
     "text": [
      "WARNING:tensorflow:Compiled the loaded model, but the compiled metrics have yet to be built. `model.compile_metrics` will be empty until you train or evaluate the model.\n",
      "WARNING:absl:Found untraced functions such as _jit_compiled_convolution_op, _jit_compiled_convolution_op, _jit_compiled_convolution_op, _jit_compiled_convolution_op while saving (showing 4 of 4). These functions will not be directly callable after loading.\n"
     ]
    },
    {
     "name": "stdout",
     "output_type": "stream",
     "text": [
      "INFO:tensorflow:Assets written to: discriminator.tf\\assets\n"
     ]
    },
    {
     "name": "stderr",
     "output_type": "stream",
     "text": [
      "INFO:tensorflow:Assets written to: discriminator.tf\\assets\n"
     ]
    },
    {
     "name": "stdout",
     "output_type": "stream",
     "text": [
      "469/469 [==============================] - 92s 196ms/step - d_loss: 0.6477 - g_loss: 0.7130\n",
      "Epoch 249/2500\n",
      "469/469 [==============================] - 90s 193ms/step - d_loss: 0.6253 - g_loss: 0.8200\n",
      "Epoch 250/2500\n",
      "469/469 [==============================] - 90s 193ms/step - d_loss: 0.6141 - g_loss: 0.7270\n",
      "Epoch 251/2500\n",
      "469/469 [==============================] - 90s 192ms/step - d_loss: 0.5710 - g_loss: 1.0489\n",
      "Epoch 252/2500\n",
      "469/469 [==============================] - 90s 192ms/step - d_loss: 0.6064 - g_loss: 0.8586\n",
      "Epoch 253/2500\n",
      "469/469 [==============================] - 90s 192ms/step - d_loss: 0.5041 - g_loss: 1.1386\n",
      "Epoch 254/2500\n",
      "469/469 [==============================] - 90s 192ms/step - d_loss: 0.5657 - g_loss: 0.9520\n",
      "Epoch 255/2500\n",
      "469/469 [==============================] - 90s 192ms/step - d_loss: 0.6144 - g_loss: 0.7913\n",
      "Epoch 256/2500\n",
      "469/469 [==============================] - 90s 193ms/step - d_loss: 0.5911 - g_loss: 0.9088\n",
      "Epoch 257/2500\n",
      "469/469 [==============================] - 90s 193ms/step - d_loss: 0.5751 - g_loss: 0.8392\n",
      "Epoch 258/2500\n",
      "469/469 [==============================] - 90s 193ms/step - d_loss: 0.5560 - g_loss: 1.0014\n",
      "Epoch 259/2500\n",
      "469/469 [==============================] - 90s 193ms/step - d_loss: 0.5994 - g_loss: 0.9196\n",
      "Epoch 260/2500\n",
      "469/469 [==============================] - 90s 192ms/step - d_loss: 0.6214 - g_loss: 0.8870\n",
      "Epoch 261/2500\n",
      "469/469 [==============================] - 90s 192ms/step - d_loss: 0.6302 - g_loss: 0.8186\n",
      "Epoch 262/2500\n",
      "469/469 [==============================] - 90s 192ms/step - d_loss: 0.6106 - g_loss: 0.8454\n",
      "Epoch 263/2500\n",
      "469/469 [==============================] - 90s 192ms/step - d_loss: 0.6346 - g_loss: 0.7701\n",
      "Epoch 264/2500\n",
      "469/469 [==============================] - 90s 193ms/step - d_loss: 0.6034 - g_loss: 0.8900\n",
      "Epoch 265/2500\n",
      "469/469 [==============================] - 90s 193ms/step - d_loss: 0.6181 - g_loss: 0.8629\n",
      "Epoch 266/2500\n",
      "469/469 [==============================] - 90s 193ms/step - d_loss: 0.5897 - g_loss: 0.9893\n",
      "Epoch 267/2500\n",
      "469/469 [==============================] - 90s 192ms/step - d_loss: 0.6274 - g_loss: 0.7912\n",
      "Epoch 268/2500\n",
      "469/469 [==============================] - 90s 192ms/step - d_loss: 0.5930 - g_loss: 0.9490\n",
      "Epoch 269/2500\n",
      "469/469 [==============================] - 90s 192ms/step - d_loss: 0.6234 - g_loss: 0.8573\n",
      "Epoch 270/2500\n",
      "469/469 [==============================] - 90s 192ms/step - d_loss: 0.5874 - g_loss: 0.8451\n",
      "Epoch 271/2500\n",
      "469/469 [==============================] - 90s 192ms/step - d_loss: 0.6302 - g_loss: 0.8226\n",
      "Epoch 272/2500\n",
      "469/469 [==============================] - 90s 193ms/step - d_loss: 0.5842 - g_loss: 1.0863\n",
      "Epoch 273/2500\n",
      "469/469 [==============================] - 90s 193ms/step - d_loss: 0.6660 - g_loss: 0.6887\n",
      "Epoch 274/2500\n",
      "469/469 [==============================] - 90s 193ms/step - d_loss: 0.6231 - g_loss: 0.8976\n",
      "Epoch 275/2500\n",
      "469/469 [==============================] - 90s 193ms/step - d_loss: 0.6517 - g_loss: 0.7042\n",
      "Epoch 276/2500\n",
      "469/469 [==============================] - 90s 192ms/step - d_loss: 0.6095 - g_loss: 0.8110\n",
      "Epoch 277/2500\n",
      "469/469 [==============================] - 90s 192ms/step - d_loss: 0.5882 - g_loss: 1.0077\n",
      "Epoch 278/2500\n",
      "469/469 [==============================] - 90s 192ms/step - d_loss: 0.5779 - g_loss: 0.8985\n",
      "Epoch 279/2500\n",
      "469/469 [==============================] - ETA: 0s - d_loss: 0.6065 - g_loss: 0.8704WARNING:tensorflow:Compiled the loaded model, but the compiled metrics have yet to be built. `model.compile_metrics` will be empty until you train or evaluate the model.\n"
     ]
    },
    {
     "name": "stderr",
     "output_type": "stream",
     "text": [
      "WARNING:tensorflow:Compiled the loaded model, but the compiled metrics have yet to be built. `model.compile_metrics` will be empty until you train or evaluate the model.\n",
      "WARNING:absl:Found untraced functions such as _jit_compiled_convolution_op, _jit_compiled_convolution_op, _jit_compiled_convolution_op, _jit_compiled_convolution_op, _jit_compiled_convolution_op while saving (showing 5 of 5). These functions will not be directly callable after loading.\n"
     ]
    },
    {
     "name": "stdout",
     "output_type": "stream",
     "text": [
      "INFO:tensorflow:Assets written to: generator.tf\\assets\n"
     ]
    },
    {
     "name": "stderr",
     "output_type": "stream",
     "text": [
      "INFO:tensorflow:Assets written to: generator.tf\\assets\n"
     ]
    },
    {
     "name": "stdout",
     "output_type": "stream",
     "text": [
      "WARNING:tensorflow:Compiled the loaded model, but the compiled metrics have yet to be built. `model.compile_metrics` will be empty until you train or evaluate the model.\n"
     ]
    },
    {
     "name": "stderr",
     "output_type": "stream",
     "text": [
      "WARNING:tensorflow:Compiled the loaded model, but the compiled metrics have yet to be built. `model.compile_metrics` will be empty until you train or evaluate the model.\n",
      "WARNING:absl:Found untraced functions such as _jit_compiled_convolution_op, _jit_compiled_convolution_op, _jit_compiled_convolution_op, _jit_compiled_convolution_op while saving (showing 4 of 4). These functions will not be directly callable after loading.\n"
     ]
    },
    {
     "name": "stdout",
     "output_type": "stream",
     "text": [
      "INFO:tensorflow:Assets written to: discriminator.tf\\assets\n"
     ]
    },
    {
     "name": "stderr",
     "output_type": "stream",
     "text": [
      "INFO:tensorflow:Assets written to: discriminator.tf\\assets\n"
     ]
    },
    {
     "name": "stdout",
     "output_type": "stream",
     "text": [
      "469/469 [==============================] - 92s 197ms/step - d_loss: 0.6064 - g_loss: 0.8719\n",
      "Epoch 280/2500\n",
      "469/469 [==============================] - 91s 193ms/step - d_loss: 0.6413 - g_loss: 0.7826\n",
      "Epoch 281/2500\n",
      "469/469 [==============================] - 90s 193ms/step - d_loss: 0.6359 - g_loss: 0.8360\n",
      "Epoch 282/2500\n",
      "469/469 [==============================] - 90s 193ms/step - d_loss: 0.5794 - g_loss: 0.9154\n",
      "Epoch 283/2500\n",
      "469/469 [==============================] - 90s 192ms/step - d_loss: 0.6278 - g_loss: 0.7968\n",
      "Epoch 284/2500\n",
      "469/469 [==============================] - 90s 192ms/step - d_loss: 0.5613 - g_loss: 1.0239\n",
      "Epoch 285/2500\n",
      "469/469 [==============================] - 90s 192ms/step - d_loss: 0.6220 - g_loss: 0.8295\n",
      "Epoch 286/2500\n",
      "469/469 [==============================] - 90s 192ms/step - d_loss: 0.5829 - g_loss: 0.9142\n",
      "Epoch 287/2500\n",
      "469/469 [==============================] - 90s 193ms/step - d_loss: 0.6115 - g_loss: 0.8248\n",
      "Epoch 288/2500\n",
      "469/469 [==============================] - 90s 192ms/step - d_loss: 0.5919 - g_loss: 0.9915\n",
      "Epoch 289/2500\n",
      "469/469 [==============================] - 90s 193ms/step - d_loss: 0.5570 - g_loss: 0.9974\n",
      "Epoch 290/2500\n",
      "469/469 [==============================] - 90s 192ms/step - d_loss: 0.5715 - g_loss: 0.9412\n",
      "Epoch 291/2500\n",
      "469/469 [==============================] - 90s 192ms/step - d_loss: 0.5793 - g_loss: 0.9604\n",
      "Epoch 292/2500\n",
      "469/469 [==============================] - 90s 193ms/step - d_loss: 0.5407 - g_loss: 1.0068\n",
      "Epoch 293/2500\n",
      "469/469 [==============================] - 90s 193ms/step - d_loss: 0.5066 - g_loss: 1.0126\n",
      "Epoch 294/2500\n",
      "469/469 [==============================] - 90s 193ms/step - d_loss: 0.5612 - g_loss: 1.0161\n",
      "Epoch 295/2500\n",
      "469/469 [==============================] - 90s 193ms/step - d_loss: 0.5872 - g_loss: 0.9515\n",
      "Epoch 296/2500\n",
      "469/469 [==============================] - 90s 193ms/step - d_loss: 0.5256 - g_loss: 1.1460\n",
      "Epoch 297/2500\n",
      "469/469 [==============================] - 90s 193ms/step - d_loss: 0.6372 - g_loss: 0.8066\n",
      "Epoch 298/2500\n",
      "469/469 [==============================] - 90s 192ms/step - d_loss: 0.4486 - g_loss: 1.3360\n",
      "Epoch 299/2500\n",
      "469/469 [==============================] - 90s 193ms/step - d_loss: 0.5620 - g_loss: 0.9056\n",
      "Epoch 300/2500\n",
      "469/469 [==============================] - 90s 192ms/step - d_loss: 0.4794 - g_loss: 1.2526\n",
      "Epoch 301/2500\n",
      "469/469 [==============================] - 90s 192ms/step - d_loss: 0.4553 - g_loss: 1.5403\n",
      "Epoch 302/2500\n",
      "469/469 [==============================] - 90s 193ms/step - d_loss: 0.3874 - g_loss: 1.6127\n",
      "Epoch 303/2500\n",
      "469/469 [==============================] - 90s 193ms/step - d_loss: 0.5466 - g_loss: 0.8921\n",
      "Epoch 304/2500\n",
      "469/469 [==============================] - 90s 193ms/step - d_loss: 0.6090 - g_loss: 0.8681\n",
      "Epoch 305/2500\n",
      "469/469 [==============================] - 90s 193ms/step - d_loss: 0.6059 - g_loss: 0.8671\n",
      "Epoch 306/2500\n",
      "469/469 [==============================] - 90s 192ms/step - d_loss: 0.5839 - g_loss: 0.9672\n",
      "Epoch 307/2500\n",
      "469/469 [==============================] - 90s 192ms/step - d_loss: 0.4962 - g_loss: 1.3041\n",
      "Epoch 308/2500\n",
      "469/469 [==============================] - 90s 192ms/step - d_loss: 0.4493 - g_loss: 1.0828\n",
      "Epoch 309/2500\n",
      "469/469 [==============================] - 90s 192ms/step - d_loss: 0.5983 - g_loss: 0.8498\n",
      "Epoch 310/2500\n",
      "469/469 [==============================] - ETA: 0s - d_loss: 0.5406 - g_loss: 0.8784WARNING:tensorflow:Compiled the loaded model, but the compiled metrics have yet to be built. `model.compile_metrics` will be empty until you train or evaluate the model.\n"
     ]
    },
    {
     "name": "stderr",
     "output_type": "stream",
     "text": [
      "WARNING:tensorflow:Compiled the loaded model, but the compiled metrics have yet to be built. `model.compile_metrics` will be empty until you train or evaluate the model.\n",
      "WARNING:absl:Found untraced functions such as _jit_compiled_convolution_op, _jit_compiled_convolution_op, _jit_compiled_convolution_op, _jit_compiled_convolution_op, _jit_compiled_convolution_op while saving (showing 5 of 5). These functions will not be directly callable after loading.\n"
     ]
    },
    {
     "name": "stdout",
     "output_type": "stream",
     "text": [
      "INFO:tensorflow:Assets written to: generator.tf\\assets\n"
     ]
    },
    {
     "name": "stderr",
     "output_type": "stream",
     "text": [
      "INFO:tensorflow:Assets written to: generator.tf\\assets\n"
     ]
    },
    {
     "name": "stdout",
     "output_type": "stream",
     "text": [
      "WARNING:tensorflow:Compiled the loaded model, but the compiled metrics have yet to be built. `model.compile_metrics` will be empty until you train or evaluate the model.\n"
     ]
    },
    {
     "name": "stderr",
     "output_type": "stream",
     "text": [
      "WARNING:tensorflow:Compiled the loaded model, but the compiled metrics have yet to be built. `model.compile_metrics` will be empty until you train or evaluate the model.\n",
      "WARNING:absl:Found untraced functions such as _jit_compiled_convolution_op, _jit_compiled_convolution_op, _jit_compiled_convolution_op, _jit_compiled_convolution_op while saving (showing 4 of 4). These functions will not be directly callable after loading.\n"
     ]
    },
    {
     "name": "stdout",
     "output_type": "stream",
     "text": [
      "INFO:tensorflow:Assets written to: discriminator.tf\\assets\n"
     ]
    },
    {
     "name": "stderr",
     "output_type": "stream",
     "text": [
      "INFO:tensorflow:Assets written to: discriminator.tf\\assets\n"
     ]
    },
    {
     "name": "stdout",
     "output_type": "stream",
     "text": [
      "469/469 [==============================] - 92s 196ms/step - d_loss: 0.5411 - g_loss: 0.8775\n",
      "Epoch 311/2500\n",
      "469/469 [==============================] - 90s 193ms/step - d_loss: 0.6310 - g_loss: 0.8306\n",
      "Epoch 312/2500\n",
      "469/469 [==============================] - 90s 193ms/step - d_loss: 0.5920 - g_loss: 0.9658\n",
      "Epoch 313/2500\n",
      "469/469 [==============================] - 90s 193ms/step - d_loss: 0.3475 - g_loss: 1.6930\n",
      "Epoch 314/2500\n",
      "469/469 [==============================] - 90s 192ms/step - d_loss: 0.6147 - g_loss: 0.8770\n",
      "Epoch 315/2500\n",
      "469/469 [==============================] - 90s 192ms/step - d_loss: 0.5576 - g_loss: 0.9920\n",
      "Epoch 316/2500\n",
      "469/469 [==============================] - 90s 192ms/step - d_loss: 0.6221 - g_loss: 0.8808\n",
      "Epoch 317/2500\n",
      "469/469 [==============================] - 90s 192ms/step - d_loss: 0.5705 - g_loss: 0.8916\n",
      "Epoch 318/2500\n",
      "469/469 [==============================] - 90s 192ms/step - d_loss: 0.5509 - g_loss: 0.9993\n",
      "Epoch 319/2500\n",
      "469/469 [==============================] - 90s 192ms/step - d_loss: 0.5523 - g_loss: 1.1675\n",
      "Epoch 320/2500\n",
      "469/469 [==============================] - 90s 192ms/step - d_loss: 0.5502 - g_loss: 1.0309\n",
      "Epoch 321/2500\n",
      "469/469 [==============================] - 90s 192ms/step - d_loss: 0.6564 - g_loss: 0.8340\n",
      "Epoch 322/2500\n",
      "469/469 [==============================] - 90s 192ms/step - d_loss: 0.5872 - g_loss: 0.9167\n",
      "Epoch 323/2500\n",
      "469/469 [==============================] - 90s 192ms/step - d_loss: 0.3716 - g_loss: 1.6291\n",
      "Epoch 324/2500\n",
      "469/469 [==============================] - 90s 193ms/step - d_loss: 0.5731 - g_loss: 0.8119\n",
      "Epoch 325/2500\n",
      "469/469 [==============================] - 90s 193ms/step - d_loss: 0.5938 - g_loss: 1.1326\n",
      "Epoch 326/2500\n",
      "469/469 [==============================] - 90s 192ms/step - d_loss: 0.4911 - g_loss: 1.2975\n",
      "Epoch 327/2500\n",
      "469/469 [==============================] - 90s 192ms/step - d_loss: 0.5849 - g_loss: 0.8937\n",
      "Epoch 328/2500\n",
      "469/469 [==============================] - 90s 192ms/step - d_loss: 0.6190 - g_loss: 0.8319\n",
      "Epoch 329/2500\n",
      "469/469 [==============================] - 90s 192ms/step - d_loss: 0.5743 - g_loss: 1.0474\n",
      "Epoch 330/2500\n",
      "469/469 [==============================] - 90s 192ms/step - d_loss: 0.3514 - g_loss: 1.9940\n",
      "Epoch 331/2500\n",
      "469/469 [==============================] - 90s 193ms/step - d_loss: 0.5655 - g_loss: 0.8690\n",
      "Epoch 332/2500\n",
      "469/469 [==============================] - 90s 193ms/step - d_loss: 0.5586 - g_loss: 1.0449\n",
      "Epoch 333/2500\n",
      "469/469 [==============================] - 90s 193ms/step - d_loss: 0.6156 - g_loss: 0.8339\n",
      "Epoch 334/2500\n",
      "469/469 [==============================] - 90s 192ms/step - d_loss: 0.5687 - g_loss: 0.8759\n",
      "Epoch 335/2500\n",
      "469/469 [==============================] - 90s 192ms/step - d_loss: 0.6450 - g_loss: 0.7567\n",
      "Epoch 336/2500\n",
      "469/469 [==============================] - 90s 192ms/step - d_loss: 0.6389 - g_loss: 0.7386\n",
      "Epoch 337/2500\n",
      "469/469 [==============================] - 90s 192ms/step - d_loss: 0.5828 - g_loss: 0.9689\n",
      "Epoch 338/2500\n",
      "469/469 [==============================] - 90s 193ms/step - d_loss: 0.5997 - g_loss: 0.8583\n",
      "Epoch 339/2500\n",
      "469/469 [==============================] - 90s 193ms/step - d_loss: 0.5325 - g_loss: 1.1185\n",
      "Epoch 340/2500\n",
      "469/469 [==============================] - 90s 193ms/step - d_loss: 0.5846 - g_loss: 0.8632\n",
      "Epoch 341/2500\n",
      "469/469 [==============================] - ETA: 0s - d_loss: 0.5741 - g_loss: 0.8782WARNING:tensorflow:Compiled the loaded model, but the compiled metrics have yet to be built. `model.compile_metrics` will be empty until you train or evaluate the model.\n"
     ]
    },
    {
     "name": "stderr",
     "output_type": "stream",
     "text": [
      "WARNING:tensorflow:Compiled the loaded model, but the compiled metrics have yet to be built. `model.compile_metrics` will be empty until you train or evaluate the model.\n",
      "WARNING:absl:Found untraced functions such as _jit_compiled_convolution_op, _jit_compiled_convolution_op, _jit_compiled_convolution_op, _jit_compiled_convolution_op, _jit_compiled_convolution_op while saving (showing 5 of 5). These functions will not be directly callable after loading.\n"
     ]
    },
    {
     "name": "stdout",
     "output_type": "stream",
     "text": [
      "INFO:tensorflow:Assets written to: generator.tf\\assets\n"
     ]
    },
    {
     "name": "stderr",
     "output_type": "stream",
     "text": [
      "INFO:tensorflow:Assets written to: generator.tf\\assets\n"
     ]
    },
    {
     "name": "stdout",
     "output_type": "stream",
     "text": [
      "WARNING:tensorflow:Compiled the loaded model, but the compiled metrics have yet to be built. `model.compile_metrics` will be empty until you train or evaluate the model.\n"
     ]
    },
    {
     "name": "stderr",
     "output_type": "stream",
     "text": [
      "WARNING:tensorflow:Compiled the loaded model, but the compiled metrics have yet to be built. `model.compile_metrics` will be empty until you train or evaluate the model.\n",
      "WARNING:absl:Found untraced functions such as _jit_compiled_convolution_op, _jit_compiled_convolution_op, _jit_compiled_convolution_op, _jit_compiled_convolution_op while saving (showing 4 of 4). These functions will not be directly callable after loading.\n"
     ]
    },
    {
     "name": "stdout",
     "output_type": "stream",
     "text": [
      "INFO:tensorflow:Assets written to: discriminator.tf\\assets\n"
     ]
    },
    {
     "name": "stderr",
     "output_type": "stream",
     "text": [
      "INFO:tensorflow:Assets written to: discriminator.tf\\assets\n"
     ]
    },
    {
     "name": "stdout",
     "output_type": "stream",
     "text": [
      "469/469 [==============================] - 92s 197ms/step - d_loss: 0.5739 - g_loss: 0.8782\n",
      "Epoch 342/2500\n",
      "469/469 [==============================] - 90s 192ms/step - d_loss: 0.6015 - g_loss: 0.7639\n",
      "Epoch 343/2500\n",
      "469/469 [==============================] - 90s 192ms/step - d_loss: 0.6240 - g_loss: 0.8342\n",
      "Epoch 344/2500\n",
      "469/469 [==============================] - 90s 193ms/step - d_loss: 0.6393 - g_loss: 0.7551\n",
      "Epoch 345/2500\n",
      "469/469 [==============================] - 90s 192ms/step - d_loss: 0.5650 - g_loss: 0.9795\n",
      "Epoch 346/2500\n",
      "469/469 [==============================] - 90s 192ms/step - d_loss: 0.5723 - g_loss: 0.7775\n",
      "Epoch 347/2500\n",
      "469/469 [==============================] - 90s 192ms/step - d_loss: 0.5350 - g_loss: 1.3418\n",
      "Epoch 348/2500\n",
      "469/469 [==============================] - 90s 193ms/step - d_loss: 0.5872 - g_loss: 0.8436\n",
      "Epoch 349/2500\n",
      "469/469 [==============================] - 90s 192ms/step - d_loss: 0.6488 - g_loss: 0.6949\n",
      "Epoch 350/2500\n",
      "469/469 [==============================] - 90s 192ms/step - d_loss: 0.5639 - g_loss: 0.9046\n",
      "Epoch 351/2500\n",
      "469/469 [==============================] - 90s 192ms/step - d_loss: 0.6239 - g_loss: 0.9436\n",
      "Epoch 352/2500\n",
      "469/469 [==============================] - 90s 192ms/step - d_loss: 0.5444 - g_loss: 0.8058\n",
      "Epoch 353/2500\n",
      "469/469 [==============================] - 90s 193ms/step - d_loss: 0.5891 - g_loss: 0.8562\n",
      "Epoch 354/2500\n",
      "469/469 [==============================] - 90s 193ms/step - d_loss: 0.6125 - g_loss: 0.8304\n",
      "Epoch 355/2500\n",
      "469/469 [==============================] - 90s 193ms/step - d_loss: 0.5683 - g_loss: 0.8879\n",
      "Epoch 356/2500\n",
      "469/469 [==============================] - 90s 193ms/step - d_loss: 0.6627 - g_loss: 0.8169\n",
      "Epoch 357/2500\n",
      "469/469 [==============================] - 90s 193ms/step - d_loss: 0.6069 - g_loss: 0.7942\n",
      "Epoch 358/2500\n",
      "469/469 [==============================] - 90s 193ms/step - d_loss: 0.6372 - g_loss: 0.8289\n",
      "Epoch 359/2500\n",
      "469/469 [==============================] - 90s 192ms/step - d_loss: 0.6187 - g_loss: 0.7522\n",
      "Epoch 360/2500\n",
      "469/469 [==============================] - 90s 192ms/step - d_loss: 0.6169 - g_loss: 0.8456\n",
      "Epoch 361/2500\n",
      "469/469 [==============================] - 90s 192ms/step - d_loss: 0.5396 - g_loss: 0.9976\n",
      "Epoch 362/2500\n",
      "469/469 [==============================] - 90s 192ms/step - d_loss: 0.5261 - g_loss: 0.9460\n",
      "Epoch 363/2500\n",
      "469/469 [==============================] - 90s 193ms/step - d_loss: 0.5798 - g_loss: 0.9438\n",
      "Epoch 364/2500\n",
      "469/469 [==============================] - 90s 193ms/step - d_loss: 0.5466 - g_loss: 0.9301\n",
      "Epoch 365/2500\n",
      "469/469 [==============================] - 90s 193ms/step - d_loss: 0.5484 - g_loss: 0.9324\n",
      "Epoch 366/2500\n",
      "469/469 [==============================] - 90s 193ms/step - d_loss: 0.6053 - g_loss: 0.8851\n",
      "Epoch 367/2500\n",
      "469/469 [==============================] - 90s 192ms/step - d_loss: 0.5745 - g_loss: 0.8810\n",
      "Epoch 368/2500\n",
      "469/469 [==============================] - 90s 192ms/step - d_loss: 0.5647 - g_loss: 0.9832\n",
      "Epoch 369/2500\n",
      "469/469 [==============================] - 90s 192ms/step - d_loss: 0.5901 - g_loss: 0.8863\n",
      "Epoch 370/2500\n",
      "469/469 [==============================] - 90s 192ms/step - d_loss: 0.5800 - g_loss: 0.9224\n",
      "Epoch 371/2500\n",
      "469/469 [==============================] - 90s 192ms/step - d_loss: 0.3998 - g_loss: 1.3615\n",
      "Epoch 372/2500\n",
      "469/469 [==============================] - ETA: 0s - d_loss: 0.6086 - g_loss: 0.8552WARNING:tensorflow:Compiled the loaded model, but the compiled metrics have yet to be built. `model.compile_metrics` will be empty until you train or evaluate the model.\n"
     ]
    },
    {
     "name": "stderr",
     "output_type": "stream",
     "text": [
      "WARNING:tensorflow:Compiled the loaded model, but the compiled metrics have yet to be built. `model.compile_metrics` will be empty until you train or evaluate the model.\n",
      "WARNING:absl:Found untraced functions such as _jit_compiled_convolution_op, _jit_compiled_convolution_op, _jit_compiled_convolution_op, _jit_compiled_convolution_op, _jit_compiled_convolution_op while saving (showing 5 of 5). These functions will not be directly callable after loading.\n"
     ]
    },
    {
     "name": "stdout",
     "output_type": "stream",
     "text": [
      "INFO:tensorflow:Assets written to: generator.tf\\assets\n"
     ]
    },
    {
     "name": "stderr",
     "output_type": "stream",
     "text": [
      "INFO:tensorflow:Assets written to: generator.tf\\assets\n"
     ]
    },
    {
     "name": "stdout",
     "output_type": "stream",
     "text": [
      "WARNING:tensorflow:Compiled the loaded model, but the compiled metrics have yet to be built. `model.compile_metrics` will be empty until you train or evaluate the model.\n"
     ]
    },
    {
     "name": "stderr",
     "output_type": "stream",
     "text": [
      "WARNING:tensorflow:Compiled the loaded model, but the compiled metrics have yet to be built. `model.compile_metrics` will be empty until you train or evaluate the model.\n",
      "WARNING:absl:Found untraced functions such as _jit_compiled_convolution_op, _jit_compiled_convolution_op, _jit_compiled_convolution_op, _jit_compiled_convolution_op while saving (showing 4 of 4). These functions will not be directly callable after loading.\n"
     ]
    },
    {
     "name": "stdout",
     "output_type": "stream",
     "text": [
      "INFO:tensorflow:Assets written to: discriminator.tf\\assets\n"
     ]
    },
    {
     "name": "stderr",
     "output_type": "stream",
     "text": [
      "INFO:tensorflow:Assets written to: discriminator.tf\\assets\n"
     ]
    },
    {
     "name": "stdout",
     "output_type": "stream",
     "text": [
      "469/469 [==============================] - 92s 196ms/step - d_loss: 0.6083 - g_loss: 0.8561\n",
      "Epoch 373/2500\n",
      "469/469 [==============================] - 90s 193ms/step - d_loss: 0.5668 - g_loss: 0.9612\n",
      "Epoch 374/2500\n",
      "469/469 [==============================] - 90s 193ms/step - d_loss: 0.6194 - g_loss: 0.7667\n",
      "Epoch 375/2500\n",
      "469/469 [==============================] - 90s 193ms/step - d_loss: 0.6211 - g_loss: 0.8051\n",
      "Epoch 376/2500\n",
      "469/469 [==============================] - 90s 192ms/step - d_loss: 0.4925 - g_loss: 1.1282\n",
      "Epoch 377/2500\n",
      "469/469 [==============================] - 90s 192ms/step - d_loss: 0.5538 - g_loss: 1.1396\n",
      "Epoch 378/2500\n",
      "469/469 [==============================] - 90s 192ms/step - d_loss: 0.5557 - g_loss: 1.0077\n",
      "Epoch 379/2500\n",
      "469/469 [==============================] - 90s 192ms/step - d_loss: 0.5703 - g_loss: 0.8423\n",
      "Epoch 380/2500\n",
      "469/469 [==============================] - 90s 192ms/step - d_loss: 0.5907 - g_loss: 0.8451\n",
      "Epoch 381/2500\n",
      "469/469 [==============================] - 90s 192ms/step - d_loss: 0.5608 - g_loss: 0.9822\n",
      "Epoch 382/2500\n",
      "469/469 [==============================] - 90s 192ms/step - d_loss: 0.5701 - g_loss: 0.8443\n",
      "Epoch 383/2500\n",
      "469/469 [==============================] - 90s 193ms/step - d_loss: 0.6132 - g_loss: 0.8246\n",
      "Epoch 384/2500\n",
      "469/469 [==============================] - 90s 192ms/step - d_loss: 0.5536 - g_loss: 1.0027\n",
      "Epoch 385/2500\n",
      "469/469 [==============================] - 90s 192ms/step - d_loss: 0.6488 - g_loss: 0.7320\n",
      "Epoch 386/2500\n",
      "469/469 [==============================] - 90s 192ms/step - d_loss: 0.4780 - g_loss: 1.3096\n",
      "Epoch 387/2500\n",
      "469/469 [==============================] - 90s 193ms/step - d_loss: 0.6252 - g_loss: 0.6999\n",
      "Epoch 388/2500\n",
      "469/469 [==============================] - 90s 193ms/step - d_loss: 0.5953 - g_loss: 0.9093\n",
      "Epoch 389/2500\n",
      "469/469 [==============================] - 90s 193ms/step - d_loss: 0.2974 - g_loss: 2.6555\n",
      "Epoch 390/2500\n",
      "469/469 [==============================] - 90s 193ms/step - d_loss: 0.2792 - g_loss: 2.7354\n",
      "Epoch 391/2500\n",
      "469/469 [==============================] - 90s 192ms/step - d_loss: 0.3817 - g_loss: 1.7995\n",
      "Epoch 392/2500\n",
      "469/469 [==============================] - 90s 192ms/step - d_loss: 0.5700 - g_loss: 1.1335\n",
      "Epoch 393/2500\n",
      "469/469 [==============================] - 90s 193ms/step - d_loss: 0.6405 - g_loss: 0.7327\n",
      "Epoch 394/2500\n",
      "469/469 [==============================] - 90s 193ms/step - d_loss: 0.5601 - g_loss: 0.9023\n",
      "Epoch 395/2500\n",
      "469/469 [==============================] - 90s 193ms/step - d_loss: 0.5980 - g_loss: 0.8415\n",
      "Epoch 396/2500\n",
      "469/469 [==============================] - 90s 193ms/step - d_loss: 0.5648 - g_loss: 0.8869\n",
      "Epoch 397/2500\n",
      "469/469 [==============================] - 93s 198ms/step - d_loss: 0.5630 - g_loss: 0.9333\n",
      "Epoch 398/2500\n",
      "469/469 [==============================] - 90s 192ms/step - d_loss: 0.5542 - g_loss: 1.0876\n",
      "Epoch 399/2500\n",
      "469/469 [==============================] - 90s 192ms/step - d_loss: 0.5313 - g_loss: 0.9690\n",
      "Epoch 400/2500\n",
      "469/469 [==============================] - 90s 193ms/step - d_loss: 0.6271 - g_loss: 0.9393\n",
      "Epoch 401/2500\n",
      "469/469 [==============================] - 90s 193ms/step - d_loss: 0.5819 - g_loss: 0.8836\n",
      "Epoch 402/2500\n",
      "469/469 [==============================] - 90s 193ms/step - d_loss: 0.5925 - g_loss: 0.8814\n",
      "Epoch 403/2500\n",
      "469/469 [==============================] - ETA: 0s - d_loss: 0.6040 - g_loss: 0.8526WARNING:tensorflow:Compiled the loaded model, but the compiled metrics have yet to be built. `model.compile_metrics` will be empty until you train or evaluate the model.\n"
     ]
    },
    {
     "name": "stderr",
     "output_type": "stream",
     "text": [
      "WARNING:tensorflow:Compiled the loaded model, but the compiled metrics have yet to be built. `model.compile_metrics` will be empty until you train or evaluate the model.\n",
      "WARNING:absl:Found untraced functions such as _jit_compiled_convolution_op, _jit_compiled_convolution_op, _jit_compiled_convolution_op, _jit_compiled_convolution_op, _jit_compiled_convolution_op while saving (showing 5 of 5). These functions will not be directly callable after loading.\n"
     ]
    },
    {
     "name": "stdout",
     "output_type": "stream",
     "text": [
      "INFO:tensorflow:Assets written to: generator.tf\\assets\n"
     ]
    },
    {
     "name": "stderr",
     "output_type": "stream",
     "text": [
      "INFO:tensorflow:Assets written to: generator.tf\\assets\n"
     ]
    },
    {
     "name": "stdout",
     "output_type": "stream",
     "text": [
      "WARNING:tensorflow:Compiled the loaded model, but the compiled metrics have yet to be built. `model.compile_metrics` will be empty until you train or evaluate the model.\n"
     ]
    },
    {
     "name": "stderr",
     "output_type": "stream",
     "text": [
      "WARNING:tensorflow:Compiled the loaded model, but the compiled metrics have yet to be built. `model.compile_metrics` will be empty until you train or evaluate the model.\n",
      "WARNING:absl:Found untraced functions such as _jit_compiled_convolution_op, _jit_compiled_convolution_op, _jit_compiled_convolution_op, _jit_compiled_convolution_op while saving (showing 4 of 4). These functions will not be directly callable after loading.\n"
     ]
    },
    {
     "name": "stdout",
     "output_type": "stream",
     "text": [
      "INFO:tensorflow:Assets written to: discriminator.tf\\assets\n"
     ]
    },
    {
     "name": "stderr",
     "output_type": "stream",
     "text": [
      "INFO:tensorflow:Assets written to: discriminator.tf\\assets\n"
     ]
    },
    {
     "name": "stdout",
     "output_type": "stream",
     "text": [
      "469/469 [==============================] - 92s 197ms/step - d_loss: 0.6041 - g_loss: 0.8526\n",
      "Epoch 404/2500\n",
      "469/469 [==============================] - 90s 193ms/step - d_loss: 0.5856 - g_loss: 0.9432\n",
      "Epoch 405/2500\n",
      "469/469 [==============================] - 90s 192ms/step - d_loss: 0.5345 - g_loss: 0.9853\n",
      "Epoch 406/2500\n",
      "469/469 [==============================] - 90s 192ms/step - d_loss: 0.5534 - g_loss: 1.0304\n",
      "Epoch 407/2500\n",
      "469/469 [==============================] - 90s 192ms/step - d_loss: 0.5181 - g_loss: 1.1434\n",
      "Epoch 408/2500\n",
      "469/469 [==============================] - 90s 193ms/step - d_loss: 0.5466 - g_loss: 0.9332\n",
      "Epoch 409/2500\n",
      "469/469 [==============================] - 90s 193ms/step - d_loss: 0.5835 - g_loss: 0.9455\n",
      "Epoch 410/2500\n",
      "469/469 [==============================] - 90s 193ms/step - d_loss: 0.5716 - g_loss: 0.8489\n",
      "Epoch 411/2500\n",
      "469/469 [==============================] - 90s 193ms/step - d_loss: 0.5929 - g_loss: 0.9976\n",
      "Epoch 412/2500\n",
      "469/469 [==============================] - 90s 192ms/step - d_loss: 0.5446 - g_loss: 0.9327\n",
      "Epoch 413/2500\n",
      "469/469 [==============================] - 90s 192ms/step - d_loss: 0.5838 - g_loss: 0.8757\n",
      "Epoch 414/2500\n",
      "469/469 [==============================] - 90s 192ms/step - d_loss: 0.5316 - g_loss: 1.2573\n",
      "Epoch 415/2500\n",
      "469/469 [==============================] - 90s 193ms/step - d_loss: 0.5527 - g_loss: 0.9325\n",
      "Epoch 416/2500\n",
      "469/469 [==============================] - 90s 193ms/step - d_loss: 0.6046 - g_loss: 0.8794\n",
      "Epoch 417/2500\n",
      "469/469 [==============================] - 90s 193ms/step - d_loss: 0.5824 - g_loss: 0.8831\n",
      "Epoch 418/2500\n",
      "469/469 [==============================] - 90s 193ms/step - d_loss: 0.5942 - g_loss: 0.8538\n",
      "Epoch 419/2500\n",
      "469/469 [==============================] - 90s 192ms/step - d_loss: 0.4216 - g_loss: 1.7026\n",
      "Epoch 420/2500\n",
      "469/469 [==============================] - 90s 192ms/step - d_loss: 0.4140 - g_loss: 1.4298\n",
      "Epoch 421/2500\n",
      "469/469 [==============================] - 90s 193ms/step - d_loss: 0.5373 - g_loss: 1.0253\n",
      "Epoch 422/2500\n",
      "469/469 [==============================] - 90s 192ms/step - d_loss: 0.5964 - g_loss: 0.9607\n",
      "Epoch 423/2500\n",
      "469/469 [==============================] - 90s 193ms/step - d_loss: 0.5443 - g_loss: 0.9741\n",
      "Epoch 424/2500\n",
      "469/469 [==============================] - 90s 193ms/step - d_loss: 0.4867 - g_loss: 1.1449\n",
      "Epoch 425/2500\n",
      "469/469 [==============================] - 90s 192ms/step - d_loss: 0.4023 - g_loss: 1.8732\n",
      "Epoch 426/2500\n",
      "469/469 [==============================] - 90s 192ms/step - d_loss: 0.4940 - g_loss: 1.1800\n",
      "Epoch 427/2500\n",
      "469/469 [==============================] - 90s 192ms/step - d_loss: 0.5248 - g_loss: 0.9828\n",
      "Epoch 428/2500\n",
      "469/469 [==============================] - 90s 192ms/step - d_loss: 0.5989 - g_loss: 0.8867\n",
      "Epoch 429/2500\n",
      "469/469 [==============================] - 90s 193ms/step - d_loss: 0.5433 - g_loss: 0.9813\n",
      "Epoch 430/2500\n",
      "469/469 [==============================] - 90s 193ms/step - d_loss: 0.5949 - g_loss: 0.8447\n",
      "Epoch 431/2500\n",
      "469/469 [==============================] - 90s 193ms/step - d_loss: 0.6109 - g_loss: 0.8556\n",
      "Epoch 432/2500\n",
      "469/469 [==============================] - 90s 193ms/step - d_loss: 0.3753 - g_loss: 2.1638\n",
      "Epoch 433/2500\n",
      "469/469 [==============================] - 90s 192ms/step - d_loss: 0.2786 - g_loss: 2.8472\n",
      "Epoch 434/2500\n",
      "469/469 [==============================] - ETA: 0s - d_loss: 0.2753 - g_loss: 2.8283WARNING:tensorflow:Compiled the loaded model, but the compiled metrics have yet to be built. `model.compile_metrics` will be empty until you train or evaluate the model.\n"
     ]
    },
    {
     "name": "stderr",
     "output_type": "stream",
     "text": [
      "WARNING:tensorflow:Compiled the loaded model, but the compiled metrics have yet to be built. `model.compile_metrics` will be empty until you train or evaluate the model.\n",
      "WARNING:absl:Found untraced functions such as _jit_compiled_convolution_op, _jit_compiled_convolution_op, _jit_compiled_convolution_op, _jit_compiled_convolution_op, _jit_compiled_convolution_op while saving (showing 5 of 5). These functions will not be directly callable after loading.\n"
     ]
    },
    {
     "name": "stdout",
     "output_type": "stream",
     "text": [
      "INFO:tensorflow:Assets written to: generator.tf\\assets\n"
     ]
    },
    {
     "name": "stderr",
     "output_type": "stream",
     "text": [
      "INFO:tensorflow:Assets written to: generator.tf\\assets\n"
     ]
    },
    {
     "name": "stdout",
     "output_type": "stream",
     "text": [
      "WARNING:tensorflow:Compiled the loaded model, but the compiled metrics have yet to be built. `model.compile_metrics` will be empty until you train or evaluate the model.\n"
     ]
    },
    {
     "name": "stderr",
     "output_type": "stream",
     "text": [
      "WARNING:tensorflow:Compiled the loaded model, but the compiled metrics have yet to be built. `model.compile_metrics` will be empty until you train or evaluate the model.\n",
      "WARNING:absl:Found untraced functions such as _jit_compiled_convolution_op, _jit_compiled_convolution_op, _jit_compiled_convolution_op, _jit_compiled_convolution_op while saving (showing 4 of 4). These functions will not be directly callable after loading.\n"
     ]
    },
    {
     "name": "stdout",
     "output_type": "stream",
     "text": [
      "INFO:tensorflow:Assets written to: discriminator.tf\\assets\n"
     ]
    },
    {
     "name": "stderr",
     "output_type": "stream",
     "text": [
      "INFO:tensorflow:Assets written to: discriminator.tf\\assets\n"
     ]
    },
    {
     "name": "stdout",
     "output_type": "stream",
     "text": [
      "469/469 [==============================] - 92s 197ms/step - d_loss: 0.2753 - g_loss: 2.8283\n",
      "Epoch 435/2500\n",
      "469/469 [==============================] - 90s 192ms/step - d_loss: 0.2729 - g_loss: 2.8206\n",
      "Epoch 436/2500\n",
      "469/469 [==============================] - 90s 192ms/step - d_loss: 0.2724 - g_loss: 2.8186\n",
      "Epoch 437/2500\n",
      "469/469 [==============================] - 90s 193ms/step - d_loss: 0.2709 - g_loss: 2.8247\n",
      "Epoch 438/2500\n",
      "469/469 [==============================] - 90s 193ms/step - d_loss: 0.2701 - g_loss: 2.8143\n",
      "Epoch 439/2500\n",
      "469/469 [==============================] - 90s 192ms/step - d_loss: 0.2696 - g_loss: 2.8140\n",
      "Epoch 440/2500\n",
      "469/469 [==============================] - 90s 192ms/step - d_loss: 0.2779 - g_loss: 2.7778\n",
      "Epoch 441/2500\n",
      "469/469 [==============================] - 90s 192ms/step - d_loss: 0.3233 - g_loss: 1.5135\n",
      "Epoch 442/2500\n",
      "469/469 [==============================] - 90s 192ms/step - d_loss: 0.5203 - g_loss: 1.2091\n",
      "Epoch 443/2500\n",
      "469/469 [==============================] - 90s 193ms/step - d_loss: 0.5588 - g_loss: 0.9449\n",
      "Epoch 444/2500\n",
      "469/469 [==============================] - 90s 193ms/step - d_loss: 0.5338 - g_loss: 1.0756\n",
      "Epoch 445/2500\n",
      "469/469 [==============================] - 90s 193ms/step - d_loss: 0.5217 - g_loss: 1.0912\n",
      "Epoch 446/2500\n",
      "469/469 [==============================] - 90s 193ms/step - d_loss: 0.5396 - g_loss: 0.9418\n",
      "Epoch 447/2500\n",
      "469/469 [==============================] - 90s 192ms/step - d_loss: 0.5529 - g_loss: 0.8411\n",
      "Epoch 448/2500\n",
      "469/469 [==============================] - 90s 193ms/step - d_loss: 0.5116 - g_loss: 1.0403\n",
      "Epoch 449/2500\n",
      "469/469 [==============================] - 90s 192ms/step - d_loss: 0.5280 - g_loss: 1.1417\n",
      "Epoch 450/2500\n",
      "469/469 [==============================] - 90s 193ms/step - d_loss: 0.5958 - g_loss: 0.8317\n",
      "Epoch 451/2500\n",
      "469/469 [==============================] - 90s 192ms/step - d_loss: 0.5143 - g_loss: 1.2137\n",
      "Epoch 452/2500\n",
      "469/469 [==============================] - 90s 193ms/step - d_loss: 0.5705 - g_loss: 0.9209\n",
      "Epoch 453/2500\n",
      "469/469 [==============================] - 90s 193ms/step - d_loss: 0.5016 - g_loss: 1.0757\n",
      "Epoch 454/2500\n",
      "469/469 [==============================] - 90s 193ms/step - d_loss: 0.6094 - g_loss: 0.8194\n",
      "Epoch 455/2500\n",
      "469/469 [==============================] - 90s 193ms/step - d_loss: 0.4693 - g_loss: 1.3228\n",
      "Epoch 456/2500\n",
      "469/469 [==============================] - 90s 193ms/step - d_loss: 0.5716 - g_loss: 1.0266\n",
      "Epoch 457/2500\n",
      "469/469 [==============================] - 90s 193ms/step - d_loss: 0.5981 - g_loss: 0.9011\n",
      "Epoch 458/2500\n",
      "469/469 [==============================] - 90s 193ms/step - d_loss: 0.5956 - g_loss: 0.9037\n",
      "Epoch 459/2500\n",
      "469/469 [==============================] - 90s 192ms/step - d_loss: 0.5893 - g_loss: 0.9660\n",
      "Epoch 460/2500\n",
      "469/469 [==============================] - 90s 193ms/step - d_loss: 0.5655 - g_loss: 0.9655\n",
      "Epoch 461/2500\n",
      "469/469 [==============================] - 90s 193ms/step - d_loss: 0.5084 - g_loss: 1.1055\n",
      "Epoch 462/2500\n",
      "469/469 [==============================] - 90s 193ms/step - d_loss: 0.5695 - g_loss: 0.9481\n",
      "Epoch 463/2500\n",
      "469/469 [==============================] - 90s 193ms/step - d_loss: 0.5407 - g_loss: 0.9517\n",
      "Epoch 464/2500\n",
      "469/469 [==============================] - 90s 193ms/step - d_loss: 0.5574 - g_loss: 0.8791\n",
      "Epoch 465/2500\n",
      "469/469 [==============================] - ETA: 0s - d_loss: 0.5646 - g_loss: 0.9562WARNING:tensorflow:Compiled the loaded model, but the compiled metrics have yet to be built. `model.compile_metrics` will be empty until you train or evaluate the model.\n"
     ]
    },
    {
     "name": "stderr",
     "output_type": "stream",
     "text": [
      "WARNING:tensorflow:Compiled the loaded model, but the compiled metrics have yet to be built. `model.compile_metrics` will be empty until you train or evaluate the model.\n",
      "WARNING:absl:Found untraced functions such as _jit_compiled_convolution_op, _jit_compiled_convolution_op, _jit_compiled_convolution_op, _jit_compiled_convolution_op, _jit_compiled_convolution_op while saving (showing 5 of 5). These functions will not be directly callable after loading.\n"
     ]
    },
    {
     "name": "stdout",
     "output_type": "stream",
     "text": [
      "INFO:tensorflow:Assets written to: generator.tf\\assets\n"
     ]
    },
    {
     "name": "stderr",
     "output_type": "stream",
     "text": [
      "INFO:tensorflow:Assets written to: generator.tf\\assets\n"
     ]
    },
    {
     "name": "stdout",
     "output_type": "stream",
     "text": [
      "WARNING:tensorflow:Compiled the loaded model, but the compiled metrics have yet to be built. `model.compile_metrics` will be empty until you train or evaluate the model.\n"
     ]
    },
    {
     "name": "stderr",
     "output_type": "stream",
     "text": [
      "WARNING:tensorflow:Compiled the loaded model, but the compiled metrics have yet to be built. `model.compile_metrics` will be empty until you train or evaluate the model.\n",
      "WARNING:absl:Found untraced functions such as _jit_compiled_convolution_op, _jit_compiled_convolution_op, _jit_compiled_convolution_op, _jit_compiled_convolution_op while saving (showing 4 of 4). These functions will not be directly callable after loading.\n"
     ]
    },
    {
     "name": "stdout",
     "output_type": "stream",
     "text": [
      "INFO:tensorflow:Assets written to: discriminator.tf\\assets\n"
     ]
    },
    {
     "name": "stderr",
     "output_type": "stream",
     "text": [
      "INFO:tensorflow:Assets written to: discriminator.tf\\assets\n"
     ]
    },
    {
     "name": "stdout",
     "output_type": "stream",
     "text": [
      "469/469 [==============================] - 92s 196ms/step - d_loss: 0.5642 - g_loss: 0.9574\n",
      "Epoch 466/2500\n",
      "469/469 [==============================] - 90s 193ms/step - d_loss: 0.5169 - g_loss: 1.0798\n",
      "Epoch 467/2500\n",
      "469/469 [==============================] - 90s 193ms/step - d_loss: 0.5682 - g_loss: 0.9642\n",
      "Epoch 468/2500\n",
      "469/469 [==============================] - 90s 193ms/step - d_loss: 0.4118 - g_loss: 1.3801\n",
      "Epoch 469/2500\n",
      "469/469 [==============================] - 90s 193ms/step - d_loss: 0.4888 - g_loss: 1.0080\n",
      "Epoch 470/2500\n",
      "469/469 [==============================] - 90s 193ms/step - d_loss: 0.5580 - g_loss: 0.8927\n",
      "Epoch 471/2500\n",
      "469/469 [==============================] - 90s 193ms/step - d_loss: 0.6126 - g_loss: 0.8684\n",
      "Epoch 472/2500\n",
      "469/469 [==============================] - 90s 193ms/step - d_loss: 0.4608 - g_loss: 1.1531\n",
      "Epoch 473/2500\n",
      "469/469 [==============================] - 90s 193ms/step - d_loss: 0.5156 - g_loss: 1.1971\n",
      "Epoch 474/2500\n",
      "469/469 [==============================] - 90s 193ms/step - d_loss: 0.5181 - g_loss: 1.1228\n",
      "Epoch 475/2500\n",
      "469/469 [==============================] - 90s 193ms/step - d_loss: 0.5757 - g_loss: 0.9381\n",
      "Epoch 476/2500\n",
      "469/469 [==============================] - 90s 193ms/step - d_loss: 0.5837 - g_loss: 0.9172\n",
      "Epoch 477/2500\n",
      "469/469 [==============================] - 90s 192ms/step - d_loss: 0.5244 - g_loss: 1.0711\n",
      "Epoch 478/2500\n",
      "469/469 [==============================] - 90s 193ms/step - d_loss: 0.5880 - g_loss: 0.8398\n",
      "Epoch 479/2500\n",
      "469/469 [==============================] - 90s 193ms/step - d_loss: 0.5736 - g_loss: 0.8700\n",
      "Epoch 480/2500\n",
      "469/469 [==============================] - 90s 193ms/step - d_loss: 0.4355 - g_loss: 1.3560\n",
      "Epoch 481/2500\n",
      "469/469 [==============================] - 90s 193ms/step - d_loss: 0.5732 - g_loss: 1.0199\n",
      "Epoch 482/2500\n",
      "469/469 [==============================] - 90s 193ms/step - d_loss: 0.5056 - g_loss: 1.0978\n",
      "Epoch 483/2500\n",
      "469/469 [==============================] - 90s 193ms/step - d_loss: 0.5415 - g_loss: 1.0425\n",
      "Epoch 484/2500\n",
      "469/469 [==============================] - 90s 193ms/step - d_loss: 0.5072 - g_loss: 1.0768\n",
      "Epoch 485/2500\n",
      "469/469 [==============================] - 90s 193ms/step - d_loss: 0.5258 - g_loss: 1.2150\n",
      "Epoch 486/2500\n",
      "469/469 [==============================] - 90s 193ms/step - d_loss: 0.5309 - g_loss: 0.9696\n",
      "Epoch 487/2500\n",
      "469/469 [==============================] - 90s 193ms/step - d_loss: 0.5520 - g_loss: 1.1337\n",
      "Epoch 488/2500\n",
      "469/469 [==============================] - 90s 193ms/step - d_loss: 0.6014 - g_loss: 0.8926\n",
      "Epoch 489/2500\n",
      "469/469 [==============================] - 90s 193ms/step - d_loss: 0.5999 - g_loss: 0.8817\n",
      "Epoch 490/2500\n",
      "469/469 [==============================] - 90s 192ms/step - d_loss: 0.5146 - g_loss: 1.0518\n",
      "Epoch 491/2500\n",
      "469/469 [==============================] - 90s 192ms/step - d_loss: 0.5962 - g_loss: 0.9254\n",
      "Epoch 492/2500\n",
      "469/469 [==============================] - 90s 192ms/step - d_loss: 0.5605 - g_loss: 0.9043\n",
      "Epoch 493/2500\n",
      "469/469 [==============================] - 90s 192ms/step - d_loss: 0.3809 - g_loss: 1.7371\n",
      "Epoch 494/2500\n",
      "469/469 [==============================] - 90s 193ms/step - d_loss: 0.5025 - g_loss: 1.1288\n",
      "Epoch 495/2500\n",
      "469/469 [==============================] - 90s 193ms/step - d_loss: 0.5372 - g_loss: 0.9306\n",
      "Epoch 496/2500\n",
      "469/469 [==============================] - ETA: 0s - d_loss: 0.5839 - g_loss: 0.8994WARNING:tensorflow:Compiled the loaded model, but the compiled metrics have yet to be built. `model.compile_metrics` will be empty until you train or evaluate the model.\n"
     ]
    },
    {
     "name": "stderr",
     "output_type": "stream",
     "text": [
      "WARNING:tensorflow:Compiled the loaded model, but the compiled metrics have yet to be built. `model.compile_metrics` will be empty until you train or evaluate the model.\n",
      "WARNING:absl:Found untraced functions such as _jit_compiled_convolution_op, _jit_compiled_convolution_op, _jit_compiled_convolution_op, _jit_compiled_convolution_op, _jit_compiled_convolution_op while saving (showing 5 of 5). These functions will not be directly callable after loading.\n"
     ]
    },
    {
     "name": "stdout",
     "output_type": "stream",
     "text": [
      "INFO:tensorflow:Assets written to: generator.tf\\assets\n"
     ]
    },
    {
     "name": "stderr",
     "output_type": "stream",
     "text": [
      "INFO:tensorflow:Assets written to: generator.tf\\assets\n"
     ]
    },
    {
     "name": "stdout",
     "output_type": "stream",
     "text": [
      "WARNING:tensorflow:Compiled the loaded model, but the compiled metrics have yet to be built. `model.compile_metrics` will be empty until you train or evaluate the model.\n"
     ]
    },
    {
     "name": "stderr",
     "output_type": "stream",
     "text": [
      "WARNING:tensorflow:Compiled the loaded model, but the compiled metrics have yet to be built. `model.compile_metrics` will be empty until you train or evaluate the model.\n",
      "WARNING:absl:Found untraced functions such as _jit_compiled_convolution_op, _jit_compiled_convolution_op, _jit_compiled_convolution_op, _jit_compiled_convolution_op while saving (showing 4 of 4). These functions will not be directly callable after loading.\n"
     ]
    },
    {
     "name": "stdout",
     "output_type": "stream",
     "text": [
      "INFO:tensorflow:Assets written to: discriminator.tf\\assets\n"
     ]
    },
    {
     "name": "stderr",
     "output_type": "stream",
     "text": [
      "INFO:tensorflow:Assets written to: discriminator.tf\\assets\n"
     ]
    },
    {
     "name": "stdout",
     "output_type": "stream",
     "text": [
      "469/469 [==============================] - 92s 197ms/step - d_loss: 0.5837 - g_loss: 0.8994\n",
      "Epoch 497/2500\n",
      "469/469 [==============================] - 90s 193ms/step - d_loss: 0.5407 - g_loss: 1.0262\n",
      "Epoch 498/2500\n",
      "469/469 [==============================] - 90s 192ms/step - d_loss: 0.5690 - g_loss: 1.0104\n",
      "Epoch 499/2500\n",
      "469/469 [==============================] - 90s 192ms/step - d_loss: 0.3020 - g_loss: 2.6463\n",
      "Epoch 500/2500\n",
      "469/469 [==============================] - 90s 192ms/step - d_loss: 0.3130 - g_loss: 2.4194\n",
      "Epoch 501/2500\n",
      "469/469 [==============================] - 90s 193ms/step - d_loss: 0.5728 - g_loss: 0.9088\n",
      "Epoch 502/2500\n",
      "469/469 [==============================] - 90s 193ms/step - d_loss: 0.5597 - g_loss: 1.0818\n",
      "Epoch 503/2500\n",
      "469/469 [==============================] - 90s 193ms/step - d_loss: 0.5533 - g_loss: 0.9972\n",
      "Epoch 504/2500\n",
      "469/469 [==============================] - 90s 193ms/step - d_loss: 0.5835 - g_loss: 0.8962\n",
      "Epoch 505/2500\n",
      "469/469 [==============================] - 90s 192ms/step - d_loss: 0.5074 - g_loss: 1.0237\n",
      "Epoch 506/2500\n",
      "469/469 [==============================] - 90s 193ms/step - d_loss: 0.5610 - g_loss: 0.9077\n",
      "Epoch 507/2500\n",
      "469/469 [==============================] - 90s 193ms/step - d_loss: 0.4930 - g_loss: 1.1164\n",
      "Epoch 508/2500\n",
      "469/469 [==============================] - 90s 193ms/step - d_loss: 0.5513 - g_loss: 1.0755\n",
      "Epoch 509/2500\n",
      "469/469 [==============================] - 90s 193ms/step - d_loss: 0.5577 - g_loss: 0.9331\n",
      "Epoch 510/2500\n",
      "469/469 [==============================] - 90s 193ms/step - d_loss: 0.5568 - g_loss: 0.9976\n",
      "Epoch 511/2500\n",
      "469/469 [==============================] - 90s 192ms/step - d_loss: 0.3558 - g_loss: 1.7365\n",
      "Epoch 512/2500\n",
      "469/469 [==============================] - 90s 192ms/step - d_loss: 0.2884 - g_loss: 1.8985\n",
      "Epoch 513/2500\n",
      "469/469 [==============================] - 90s 192ms/step - d_loss: 0.2929 - g_loss: 1.9174\n",
      "Epoch 514/2500\n",
      "469/469 [==============================] - 90s 193ms/step - d_loss: 0.5412 - g_loss: 1.0393\n",
      "Epoch 515/2500\n",
      "469/469 [==============================] - 90s 193ms/step - d_loss: 0.5021 - g_loss: 1.0919\n",
      "Epoch 516/2500\n",
      "469/469 [==============================] - 90s 193ms/step - d_loss: 0.5279 - g_loss: 1.0761\n",
      "Epoch 517/2500\n",
      "469/469 [==============================] - 90s 193ms/step - d_loss: 0.5672 - g_loss: 0.9021\n",
      "Epoch 518/2500\n",
      "469/469 [==============================] - 90s 192ms/step - d_loss: 0.4553 - g_loss: 1.4746\n",
      "Epoch 519/2500\n",
      "469/469 [==============================] - 90s 193ms/step - d_loss: 0.5862 - g_loss: 0.9154\n",
      "Epoch 520/2500\n",
      "469/469 [==============================] - 90s 193ms/step - d_loss: 0.5971 - g_loss: 0.8315\n",
      "Epoch 521/2500\n",
      "469/469 [==============================] - 90s 193ms/step - d_loss: 0.5351 - g_loss: 0.8387\n",
      "Epoch 522/2500\n",
      "469/469 [==============================] - 90s 193ms/step - d_loss: 0.5871 - g_loss: 0.9669\n",
      "Epoch 523/2500\n",
      "469/469 [==============================] - 90s 193ms/step - d_loss: 0.5989 - g_loss: 0.8618\n",
      "Epoch 524/2500\n",
      "469/469 [==============================] - 90s 193ms/step - d_loss: 0.4072 - g_loss: 1.6054\n",
      "Epoch 525/2500\n",
      "469/469 [==============================] - 90s 193ms/step - d_loss: 0.5610 - g_loss: 1.0325\n",
      "Epoch 526/2500\n",
      "469/469 [==============================] - 90s 193ms/step - d_loss: 0.5086 - g_loss: 1.0020\n",
      "Epoch 527/2500\n",
      "469/469 [==============================] - ETA: 0s - d_loss: 0.5596 - g_loss: 0.9696WARNING:tensorflow:Compiled the loaded model, but the compiled metrics have yet to be built. `model.compile_metrics` will be empty until you train or evaluate the model.\n"
     ]
    },
    {
     "name": "stderr",
     "output_type": "stream",
     "text": [
      "WARNING:tensorflow:Compiled the loaded model, but the compiled metrics have yet to be built. `model.compile_metrics` will be empty until you train or evaluate the model.\n",
      "WARNING:absl:Found untraced functions such as _jit_compiled_convolution_op, _jit_compiled_convolution_op, _jit_compiled_convolution_op, _jit_compiled_convolution_op, _jit_compiled_convolution_op while saving (showing 5 of 5). These functions will not be directly callable after loading.\n"
     ]
    },
    {
     "name": "stdout",
     "output_type": "stream",
     "text": [
      "INFO:tensorflow:Assets written to: generator.tf\\assets\n"
     ]
    },
    {
     "name": "stderr",
     "output_type": "stream",
     "text": [
      "INFO:tensorflow:Assets written to: generator.tf\\assets\n"
     ]
    },
    {
     "name": "stdout",
     "output_type": "stream",
     "text": [
      "WARNING:tensorflow:Compiled the loaded model, but the compiled metrics have yet to be built. `model.compile_metrics` will be empty until you train or evaluate the model.\n"
     ]
    },
    {
     "name": "stderr",
     "output_type": "stream",
     "text": [
      "WARNING:tensorflow:Compiled the loaded model, but the compiled metrics have yet to be built. `model.compile_metrics` will be empty until you train or evaluate the model.\n",
      "WARNING:absl:Found untraced functions such as _jit_compiled_convolution_op, _jit_compiled_convolution_op, _jit_compiled_convolution_op, _jit_compiled_convolution_op while saving (showing 4 of 4). These functions will not be directly callable after loading.\n"
     ]
    },
    {
     "name": "stdout",
     "output_type": "stream",
     "text": [
      "INFO:tensorflow:Assets written to: discriminator.tf\\assets\n"
     ]
    },
    {
     "name": "stderr",
     "output_type": "stream",
     "text": [
      "INFO:tensorflow:Assets written to: discriminator.tf\\assets\n"
     ]
    },
    {
     "name": "stdout",
     "output_type": "stream",
     "text": [
      "469/469 [==============================] - 92s 196ms/step - d_loss: 0.5599 - g_loss: 0.9691\n",
      "Epoch 528/2500\n",
      "469/469 [==============================] - 90s 193ms/step - d_loss: 0.5689 - g_loss: 0.8253\n",
      "Epoch 529/2500\n",
      "469/469 [==============================] - 90s 193ms/step - d_loss: 0.5567 - g_loss: 0.9079\n",
      "Epoch 530/2500\n",
      "469/469 [==============================] - 90s 192ms/step - d_loss: 0.5518 - g_loss: 1.1292\n",
      "Epoch 531/2500\n",
      "469/469 [==============================] - 90s 192ms/step - d_loss: 0.5294 - g_loss: 0.9039\n",
      "Epoch 532/2500\n",
      "469/469 [==============================] - 90s 192ms/step - d_loss: 0.4954 - g_loss: 1.2069\n",
      "Epoch 533/2500\n",
      "469/469 [==============================] - 90s 192ms/step - d_loss: 0.5148 - g_loss: 1.1566\n",
      "Epoch 534/2500\n",
      "469/469 [==============================] - 90s 193ms/step - d_loss: 0.6030 - g_loss: 0.9432\n",
      "Epoch 535/2500\n",
      "469/469 [==============================] - 90s 193ms/step - d_loss: 0.4907 - g_loss: 0.9455\n",
      "Epoch 536/2500\n",
      "469/469 [==============================] - 90s 193ms/step - d_loss: 0.5180 - g_loss: 0.9793\n",
      "Epoch 537/2500\n",
      "469/469 [==============================] - 90s 193ms/step - d_loss: 0.5346 - g_loss: 1.0177\n",
      "Epoch 538/2500\n",
      "469/469 [==============================] - 90s 193ms/step - d_loss: 0.5225 - g_loss: 1.0621\n",
      "Epoch 539/2500\n",
      "469/469 [==============================] - 90s 192ms/step - d_loss: 0.4752 - g_loss: 1.1231\n",
      "Epoch 540/2500\n",
      "469/469 [==============================] - 90s 192ms/step - d_loss: 0.5567 - g_loss: 0.9900\n",
      "Epoch 541/2500\n",
      "469/469 [==============================] - 90s 193ms/step - d_loss: 0.5667 - g_loss: 0.9737\n",
      "Epoch 542/2500\n",
      "469/469 [==============================] - 90s 193ms/step - d_loss: 0.4847 - g_loss: 1.0551\n",
      "Epoch 543/2500\n",
      "469/469 [==============================] - 90s 193ms/step - d_loss: 0.4907 - g_loss: 1.2047\n",
      "Epoch 544/2500\n",
      "469/469 [==============================] - 90s 193ms/step - d_loss: 0.5146 - g_loss: 1.0164\n",
      "Epoch 545/2500\n",
      "469/469 [==============================] - 90s 193ms/step - d_loss: 0.5033 - g_loss: 1.1443\n",
      "Epoch 546/2500\n",
      "469/469 [==============================] - 90s 192ms/step - d_loss: 0.4321 - g_loss: 1.4640\n",
      "Epoch 547/2500\n",
      "469/469 [==============================] - 90s 192ms/step - d_loss: 0.5479 - g_loss: 0.9154\n",
      "Epoch 548/2500\n",
      "469/469 [==============================] - 90s 193ms/step - d_loss: 0.5462 - g_loss: 0.9537\n",
      "Epoch 549/2500\n",
      "469/469 [==============================] - 90s 192ms/step - d_loss: 0.5057 - g_loss: 1.1661\n",
      "Epoch 550/2500\n",
      "469/469 [==============================] - 90s 193ms/step - d_loss: 0.5700 - g_loss: 1.0324\n",
      "Epoch 551/2500\n",
      "469/469 [==============================] - 90s 192ms/step - d_loss: 0.5403 - g_loss: 1.2100\n",
      "Epoch 552/2500\n",
      "469/469 [==============================] - 90s 193ms/step - d_loss: 0.5531 - g_loss: 1.0268\n",
      "Epoch 553/2500\n",
      "469/469 [==============================] - 90s 193ms/step - d_loss: 0.4794 - g_loss: 1.4870\n",
      "Epoch 554/2500\n",
      "469/469 [==============================] - 90s 193ms/step - d_loss: 0.5054 - g_loss: 0.9571\n",
      "Epoch 555/2500\n",
      "469/469 [==============================] - 90s 193ms/step - d_loss: 0.5149 - g_loss: 1.1156\n",
      "Epoch 556/2500\n",
      "469/469 [==============================] - 90s 193ms/step - d_loss: 0.5522 - g_loss: 0.9382\n",
      "Epoch 557/2500\n",
      "469/469 [==============================] - 90s 193ms/step - d_loss: 0.3871 - g_loss: 1.6198\n",
      "Epoch 558/2500\n",
      "469/469 [==============================] - ETA: 0s - d_loss: 0.5243 - g_loss: 0.9789WARNING:tensorflow:Compiled the loaded model, but the compiled metrics have yet to be built. `model.compile_metrics` will be empty until you train or evaluate the model.\n"
     ]
    },
    {
     "name": "stderr",
     "output_type": "stream",
     "text": [
      "WARNING:tensorflow:Compiled the loaded model, but the compiled metrics have yet to be built. `model.compile_metrics` will be empty until you train or evaluate the model.\n",
      "WARNING:absl:Found untraced functions such as _jit_compiled_convolution_op, _jit_compiled_convolution_op, _jit_compiled_convolution_op, _jit_compiled_convolution_op, _jit_compiled_convolution_op while saving (showing 5 of 5). These functions will not be directly callable after loading.\n"
     ]
    },
    {
     "name": "stdout",
     "output_type": "stream",
     "text": [
      "INFO:tensorflow:Assets written to: generator.tf\\assets\n"
     ]
    },
    {
     "name": "stderr",
     "output_type": "stream",
     "text": [
      "INFO:tensorflow:Assets written to: generator.tf\\assets\n"
     ]
    },
    {
     "name": "stdout",
     "output_type": "stream",
     "text": [
      "WARNING:tensorflow:Compiled the loaded model, but the compiled metrics have yet to be built. `model.compile_metrics` will be empty until you train or evaluate the model.\n"
     ]
    },
    {
     "name": "stderr",
     "output_type": "stream",
     "text": [
      "WARNING:tensorflow:Compiled the loaded model, but the compiled metrics have yet to be built. `model.compile_metrics` will be empty until you train or evaluate the model.\n",
      "WARNING:absl:Found untraced functions such as _jit_compiled_convolution_op, _jit_compiled_convolution_op, _jit_compiled_convolution_op, _jit_compiled_convolution_op while saving (showing 4 of 4). These functions will not be directly callable after loading.\n"
     ]
    },
    {
     "name": "stdout",
     "output_type": "stream",
     "text": [
      "INFO:tensorflow:Assets written to: discriminator.tf\\assets\n"
     ]
    },
    {
     "name": "stderr",
     "output_type": "stream",
     "text": [
      "INFO:tensorflow:Assets written to: discriminator.tf\\assets\n"
     ]
    },
    {
     "name": "stdout",
     "output_type": "stream",
     "text": [
      "469/469 [==============================] - 92s 197ms/step - d_loss: 0.5241 - g_loss: 0.9799\n",
      "Epoch 559/2500\n",
      "469/469 [==============================] - 90s 192ms/step - d_loss: 0.4772 - g_loss: 1.4178\n",
      "Epoch 560/2500\n",
      "469/469 [==============================] - 90s 193ms/step - d_loss: 0.5677 - g_loss: 0.9152\n",
      "Epoch 561/2500\n",
      "469/469 [==============================] - 90s 192ms/step - d_loss: 0.5115 - g_loss: 1.3067\n",
      "Epoch 562/2500\n",
      "469/469 [==============================] - 90s 192ms/step - d_loss: 0.4730 - g_loss: 1.2407\n",
      "Epoch 563/2500\n",
      "469/469 [==============================] - 90s 192ms/step - d_loss: 0.5383 - g_loss: 1.1182\n",
      "Epoch 564/2500\n",
      "469/469 [==============================] - 90s 192ms/step - d_loss: 0.5559 - g_loss: 0.9041\n",
      "Epoch 565/2500\n",
      "469/469 [==============================] - 90s 193ms/step - d_loss: 0.5111 - g_loss: 1.1976\n",
      "Epoch 566/2500\n",
      "469/469 [==============================] - 90s 193ms/step - d_loss: 0.5437 - g_loss: 0.9068\n",
      "Epoch 567/2500\n",
      "469/469 [==============================] - 90s 193ms/step - d_loss: 0.4628 - g_loss: 1.3270\n",
      "Epoch 568/2500\n",
      "469/469 [==============================] - 90s 193ms/step - d_loss: 0.5176 - g_loss: 1.0005\n",
      "Epoch 569/2500\n",
      "469/469 [==============================] - 90s 192ms/step - d_loss: 0.5054 - g_loss: 1.2446\n",
      "Epoch 570/2500\n",
      "469/469 [==============================] - 90s 192ms/step - d_loss: 0.5925 - g_loss: 0.9761\n",
      "Epoch 571/2500\n",
      "469/469 [==============================] - 90s 193ms/step - d_loss: 0.5450 - g_loss: 1.0113\n",
      "Epoch 572/2500\n",
      "469/469 [==============================] - 90s 192ms/step - d_loss: 0.5105 - g_loss: 1.3323\n",
      "Epoch 573/2500\n",
      "469/469 [==============================] - 90s 192ms/step - d_loss: 0.4152 - g_loss: 1.5864\n",
      "Epoch 574/2500\n",
      "469/469 [==============================] - 90s 193ms/step - d_loss: 0.5696 - g_loss: 0.9234\n",
      "Epoch 575/2500\n",
      "469/469 [==============================] - 90s 193ms/step - d_loss: 0.5726 - g_loss: 0.9425\n",
      "Epoch 576/2500\n",
      "469/469 [==============================] - 90s 193ms/step - d_loss: 0.5080 - g_loss: 0.9672\n",
      "Epoch 577/2500\n",
      "469/469 [==============================] - 90s 193ms/step - d_loss: 0.5848 - g_loss: 0.9407\n",
      "Epoch 578/2500\n",
      "469/469 [==============================] - 90s 192ms/step - d_loss: 0.5111 - g_loss: 1.1082\n",
      "Epoch 579/2500\n",
      "469/469 [==============================] - 90s 192ms/step - d_loss: 0.5431 - g_loss: 1.0895\n",
      "Epoch 580/2500\n",
      "469/469 [==============================] - 90s 193ms/step - d_loss: 0.5184 - g_loss: 1.0972\n",
      "Epoch 581/2500\n",
      "469/469 [==============================] - 90s 193ms/step - d_loss: 0.5324 - g_loss: 1.1845\n",
      "Epoch 582/2500\n",
      "469/469 [==============================] - 90s 193ms/step - d_loss: 0.5668 - g_loss: 0.8338\n",
      "Epoch 583/2500\n",
      "469/469 [==============================] - 90s 193ms/step - d_loss: 0.5621 - g_loss: 0.9949\n",
      "Epoch 584/2500\n",
      "469/469 [==============================] - 90s 193ms/step - d_loss: 0.5930 - g_loss: 0.8786\n",
      "Epoch 585/2500\n",
      "469/469 [==============================] - 90s 192ms/step - d_loss: 0.4938 - g_loss: 1.4896\n",
      "Epoch 586/2500\n",
      "469/469 [==============================] - 90s 192ms/step - d_loss: 0.2869 - g_loss: 2.6774\n",
      "Epoch 587/2500\n",
      "469/469 [==============================] - 90s 192ms/step - d_loss: 0.2772 - g_loss: 2.7101\n",
      "Epoch 588/2500\n",
      "469/469 [==============================] - 90s 192ms/step - d_loss: 0.2740 - g_loss: 2.7595\n",
      "Epoch 589/2500\n",
      "469/469 [==============================] - ETA: 0s - d_loss: 0.2734 - g_loss: 2.7217WARNING:tensorflow:Compiled the loaded model, but the compiled metrics have yet to be built. `model.compile_metrics` will be empty until you train or evaluate the model.\n"
     ]
    },
    {
     "name": "stderr",
     "output_type": "stream",
     "text": [
      "WARNING:tensorflow:Compiled the loaded model, but the compiled metrics have yet to be built. `model.compile_metrics` will be empty until you train or evaluate the model.\n",
      "WARNING:absl:Found untraced functions such as _jit_compiled_convolution_op, _jit_compiled_convolution_op, _jit_compiled_convolution_op, _jit_compiled_convolution_op, _jit_compiled_convolution_op while saving (showing 5 of 5). These functions will not be directly callable after loading.\n"
     ]
    },
    {
     "name": "stdout",
     "output_type": "stream",
     "text": [
      "INFO:tensorflow:Assets written to: generator.tf\\assets\n"
     ]
    },
    {
     "name": "stderr",
     "output_type": "stream",
     "text": [
      "INFO:tensorflow:Assets written to: generator.tf\\assets\n"
     ]
    },
    {
     "name": "stdout",
     "output_type": "stream",
     "text": [
      "WARNING:tensorflow:Compiled the loaded model, but the compiled metrics have yet to be built. `model.compile_metrics` will be empty until you train or evaluate the model.\n"
     ]
    },
    {
     "name": "stderr",
     "output_type": "stream",
     "text": [
      "WARNING:tensorflow:Compiled the loaded model, but the compiled metrics have yet to be built. `model.compile_metrics` will be empty until you train or evaluate the model.\n",
      "WARNING:absl:Found untraced functions such as _jit_compiled_convolution_op, _jit_compiled_convolution_op, _jit_compiled_convolution_op, _jit_compiled_convolution_op while saving (showing 4 of 4). These functions will not be directly callable after loading.\n"
     ]
    },
    {
     "name": "stdout",
     "output_type": "stream",
     "text": [
      "INFO:tensorflow:Assets written to: discriminator.tf\\assets\n"
     ]
    },
    {
     "name": "stderr",
     "output_type": "stream",
     "text": [
      "INFO:tensorflow:Assets written to: discriminator.tf\\assets\n"
     ]
    },
    {
     "name": "stdout",
     "output_type": "stream",
     "text": [
      "469/469 [==============================] - 92s 197ms/step - d_loss: 0.2734 - g_loss: 2.7216\n",
      "Epoch 590/2500\n",
      "469/469 [==============================] - 90s 192ms/step - d_loss: 0.2711 - g_loss: 2.7066\n",
      "Epoch 591/2500\n",
      "469/469 [==============================] - 90s 192ms/step - d_loss: 0.2708 - g_loss: 2.7105\n",
      "Epoch 592/2500\n",
      "469/469 [==============================] - 90s 192ms/step - d_loss: 0.2707 - g_loss: 2.7195\n",
      "Epoch 593/2500\n",
      "469/469 [==============================] - 90s 192ms/step - d_loss: 0.2696 - g_loss: 2.7359\n",
      "Epoch 594/2500\n",
      "469/469 [==============================] - 90s 192ms/step - d_loss: 0.2692 - g_loss: 2.7546\n",
      "Epoch 595/2500\n",
      "469/469 [==============================] - 90s 192ms/step - d_loss: 0.2685 - g_loss: 2.7700\n",
      "Epoch 596/2500\n",
      "469/469 [==============================] - 90s 192ms/step - d_loss: 0.2683 - g_loss: 2.7816\n",
      "Epoch 597/2500\n",
      "469/469 [==============================] - 90s 193ms/step - d_loss: 0.2683 - g_loss: 2.7961\n",
      "Epoch 598/2500\n",
      "469/469 [==============================] - 90s 192ms/step - d_loss: 0.2677 - g_loss: 2.8108\n",
      "Epoch 599/2500\n",
      "469/469 [==============================] - 90s 192ms/step - d_loss: 0.2674 - g_loss: 2.8115\n",
      "Epoch 600/2500\n",
      "469/469 [==============================] - 90s 192ms/step - d_loss: 0.2681 - g_loss: 2.8069\n",
      "Epoch 601/2500\n",
      "469/469 [==============================] - 90s 192ms/step - d_loss: 0.2680 - g_loss: 2.8069\n",
      "Epoch 602/2500\n",
      "469/469 [==============================] - 90s 192ms/step - d_loss: 0.2678 - g_loss: 2.8224\n",
      "Epoch 603/2500\n",
      "469/469 [==============================] - 90s 192ms/step - d_loss: 0.3193 - g_loss: 1.8656\n",
      "Epoch 604/2500\n",
      "469/469 [==============================] - 90s 192ms/step - d_loss: 0.2893 - g_loss: 1.4070\n",
      "Epoch 605/2500\n",
      "469/469 [==============================] - 90s 192ms/step - d_loss: 0.2858 - g_loss: 1.2104\n",
      "Epoch 606/2500\n",
      "469/469 [==============================] - 90s 192ms/step - d_loss: 0.2818 - g_loss: 1.0265\n",
      "Epoch 607/2500\n",
      "469/469 [==============================] - 90s 192ms/step - d_loss: 0.2946 - g_loss: 0.9410\n",
      "Epoch 608/2500\n",
      "469/469 [==============================] - 90s 192ms/step - d_loss: 0.3000 - g_loss: 2.1682\n",
      "Epoch 609/2500\n",
      "469/469 [==============================] - 90s 192ms/step - d_loss: 0.3560 - g_loss: 1.5683\n",
      "Epoch 610/2500\n",
      "469/469 [==============================] - 90s 192ms/step - d_loss: 0.5061 - g_loss: 1.0635\n",
      "Epoch 611/2500\n",
      "469/469 [==============================] - 90s 192ms/step - d_loss: 0.4800 - g_loss: 1.2694\n",
      "Epoch 612/2500\n",
      "469/469 [==============================] - 90s 192ms/step - d_loss: 0.5195 - g_loss: 1.2438\n",
      "Epoch 613/2500\n",
      "469/469 [==============================] - 90s 193ms/step - d_loss: 0.5378 - g_loss: 0.8915\n",
      "Epoch 614/2500\n",
      "469/469 [==============================] - 90s 193ms/step - d_loss: 0.5390 - g_loss: 0.9244\n",
      "Epoch 615/2500\n",
      "469/469 [==============================] - 90s 193ms/step - d_loss: 0.4973 - g_loss: 1.0605\n",
      "Epoch 616/2500\n",
      "469/469 [==============================] - 90s 193ms/step - d_loss: 0.5507 - g_loss: 0.8380\n",
      "Epoch 617/2500\n",
      "469/469 [==============================] - 90s 193ms/step - d_loss: 0.5528 - g_loss: 0.9843\n",
      "Epoch 618/2500\n",
      "469/469 [==============================] - 90s 192ms/step - d_loss: 0.5451 - g_loss: 1.0504\n",
      "Epoch 619/2500\n",
      "469/469 [==============================] - 90s 192ms/step - d_loss: 0.5577 - g_loss: 0.8489\n",
      "Epoch 620/2500\n",
      "469/469 [==============================] - ETA: 0s - d_loss: 0.4970 - g_loss: 0.9974WARNING:tensorflow:Compiled the loaded model, but the compiled metrics have yet to be built. `model.compile_metrics` will be empty until you train or evaluate the model.\n"
     ]
    },
    {
     "name": "stderr",
     "output_type": "stream",
     "text": [
      "WARNING:tensorflow:Compiled the loaded model, but the compiled metrics have yet to be built. `model.compile_metrics` will be empty until you train or evaluate the model.\n",
      "WARNING:absl:Found untraced functions such as _jit_compiled_convolution_op, _jit_compiled_convolution_op, _jit_compiled_convolution_op, _jit_compiled_convolution_op, _jit_compiled_convolution_op while saving (showing 5 of 5). These functions will not be directly callable after loading.\n"
     ]
    },
    {
     "name": "stdout",
     "output_type": "stream",
     "text": [
      "INFO:tensorflow:Assets written to: generator.tf\\assets\n"
     ]
    },
    {
     "name": "stderr",
     "output_type": "stream",
     "text": [
      "INFO:tensorflow:Assets written to: generator.tf\\assets\n"
     ]
    },
    {
     "name": "stdout",
     "output_type": "stream",
     "text": [
      "WARNING:tensorflow:Compiled the loaded model, but the compiled metrics have yet to be built. `model.compile_metrics` will be empty until you train or evaluate the model.\n"
     ]
    },
    {
     "name": "stderr",
     "output_type": "stream",
     "text": [
      "WARNING:tensorflow:Compiled the loaded model, but the compiled metrics have yet to be built. `model.compile_metrics` will be empty until you train or evaluate the model.\n",
      "WARNING:absl:Found untraced functions such as _jit_compiled_convolution_op, _jit_compiled_convolution_op, _jit_compiled_convolution_op, _jit_compiled_convolution_op while saving (showing 4 of 4). These functions will not be directly callable after loading.\n"
     ]
    },
    {
     "name": "stdout",
     "output_type": "stream",
     "text": [
      "INFO:tensorflow:Assets written to: discriminator.tf\\assets\n"
     ]
    },
    {
     "name": "stderr",
     "output_type": "stream",
     "text": [
      "INFO:tensorflow:Assets written to: discriminator.tf\\assets\n"
     ]
    },
    {
     "name": "stdout",
     "output_type": "stream",
     "text": [
      "469/469 [==============================] - 92s 196ms/step - d_loss: 0.4969 - g_loss: 0.9975\n",
      "Epoch 621/2500\n",
      "469/469 [==============================] - 90s 192ms/step - d_loss: 0.5159 - g_loss: 1.0069\n",
      "Epoch 622/2500\n",
      "469/469 [==============================] - 90s 193ms/step - d_loss: 0.4652 - g_loss: 1.3265\n",
      "Epoch 623/2500\n",
      "469/469 [==============================] - 90s 193ms/step - d_loss: 0.5871 - g_loss: 0.9391\n",
      "Epoch 624/2500\n",
      "469/469 [==============================] - 90s 193ms/step - d_loss: 0.5028 - g_loss: 1.1359\n",
      "Epoch 625/2500\n",
      "469/469 [==============================] - 90s 192ms/step - d_loss: 0.4696 - g_loss: 1.1285\n",
      "Epoch 626/2500\n",
      "469/469 [==============================] - 90s 192ms/step - d_loss: 0.3450 - g_loss: 2.3009\n",
      "Epoch 627/2500\n",
      "469/469 [==============================] - 90s 192ms/step - d_loss: 0.3447 - g_loss: 2.0240\n",
      "Epoch 628/2500\n",
      "469/469 [==============================] - 90s 193ms/step - d_loss: 0.4342 - g_loss: 1.4484\n",
      "Epoch 629/2500\n",
      "469/469 [==============================] - 90s 193ms/step - d_loss: 0.4588 - g_loss: 1.4201\n",
      "Epoch 630/2500\n",
      "469/469 [==============================] - 90s 193ms/step - d_loss: 0.5043 - g_loss: 1.0269\n",
      "Epoch 631/2500\n",
      "469/469 [==============================] - 90s 192ms/step - d_loss: 0.5483 - g_loss: 1.1132\n",
      "Epoch 632/2500\n",
      "469/469 [==============================] - 90s 193ms/step - d_loss: 0.5523 - g_loss: 1.0213\n",
      "Epoch 633/2500\n",
      "469/469 [==============================] - 90s 193ms/step - d_loss: 0.5615 - g_loss: 0.9827\n",
      "Epoch 634/2500\n",
      "469/469 [==============================] - 90s 192ms/step - d_loss: 0.5389 - g_loss: 0.8856\n",
      "Epoch 635/2500\n",
      "469/469 [==============================] - 90s 193ms/step - d_loss: 0.5326 - g_loss: 1.0062\n",
      "Epoch 636/2500\n",
      "469/469 [==============================] - 90s 193ms/step - d_loss: 0.5061 - g_loss: 0.9653\n",
      "Epoch 637/2500\n",
      "469/469 [==============================] - 90s 193ms/step - d_loss: 0.5552 - g_loss: 1.0247\n",
      "Epoch 638/2500\n",
      "469/469 [==============================] - 90s 193ms/step - d_loss: 0.5352 - g_loss: 0.9775\n",
      "Epoch 639/2500\n",
      "469/469 [==============================] - 90s 193ms/step - d_loss: 0.4907 - g_loss: 1.0106\n",
      "Epoch 640/2500\n",
      "469/469 [==============================] - 90s 192ms/step - d_loss: 0.4474 - g_loss: 1.1787\n",
      "Epoch 641/2500\n",
      "469/469 [==============================] - 90s 193ms/step - d_loss: 0.5332 - g_loss: 1.0249\n",
      "Epoch 642/2500\n",
      "469/469 [==============================] - 90s 192ms/step - d_loss: 0.3391 - g_loss: 1.9564\n",
      "Epoch 643/2500\n",
      "469/469 [==============================] - 90s 193ms/step - d_loss: 0.4973 - g_loss: 0.8580\n",
      "Epoch 644/2500\n",
      "469/469 [==============================] - 90s 193ms/step - d_loss: 0.5284 - g_loss: 1.0664\n",
      "Epoch 645/2500\n",
      "469/469 [==============================] - 90s 193ms/step - d_loss: 0.5919 - g_loss: 0.8509\n",
      "Epoch 646/2500\n",
      "469/469 [==============================] - 90s 193ms/step - d_loss: 0.5520 - g_loss: 1.0125\n",
      "Epoch 647/2500\n",
      "469/469 [==============================] - 90s 192ms/step - d_loss: 0.5123 - g_loss: 1.1659\n",
      "Epoch 648/2500\n",
      "469/469 [==============================] - 90s 192ms/step - d_loss: 0.5426 - g_loss: 1.1148\n",
      "Epoch 649/2500\n",
      "469/469 [==============================] - 90s 193ms/step - d_loss: 0.5119 - g_loss: 0.9600\n",
      "Epoch 650/2500\n",
      "469/469 [==============================] - 90s 193ms/step - d_loss: 0.5916 - g_loss: 0.8708\n",
      "Epoch 651/2500\n",
      "469/469 [==============================] - ETA: 0s - d_loss: 0.5306 - g_loss: 1.1767WARNING:tensorflow:Compiled the loaded model, but the compiled metrics have yet to be built. `model.compile_metrics` will be empty until you train or evaluate the model.\n"
     ]
    },
    {
     "name": "stderr",
     "output_type": "stream",
     "text": [
      "WARNING:tensorflow:Compiled the loaded model, but the compiled metrics have yet to be built. `model.compile_metrics` will be empty until you train or evaluate the model.\n",
      "WARNING:absl:Found untraced functions such as _jit_compiled_convolution_op, _jit_compiled_convolution_op, _jit_compiled_convolution_op, _jit_compiled_convolution_op, _jit_compiled_convolution_op while saving (showing 5 of 5). These functions will not be directly callable after loading.\n"
     ]
    },
    {
     "name": "stdout",
     "output_type": "stream",
     "text": [
      "INFO:tensorflow:Assets written to: generator.tf\\assets\n"
     ]
    },
    {
     "name": "stderr",
     "output_type": "stream",
     "text": [
      "INFO:tensorflow:Assets written to: generator.tf\\assets\n"
     ]
    },
    {
     "name": "stdout",
     "output_type": "stream",
     "text": [
      "WARNING:tensorflow:Compiled the loaded model, but the compiled metrics have yet to be built. `model.compile_metrics` will be empty until you train or evaluate the model.\n"
     ]
    },
    {
     "name": "stderr",
     "output_type": "stream",
     "text": [
      "WARNING:tensorflow:Compiled the loaded model, but the compiled metrics have yet to be built. `model.compile_metrics` will be empty until you train or evaluate the model.\n",
      "WARNING:absl:Found untraced functions such as _jit_compiled_convolution_op, _jit_compiled_convolution_op, _jit_compiled_convolution_op, _jit_compiled_convolution_op while saving (showing 4 of 4). These functions will not be directly callable after loading.\n"
     ]
    },
    {
     "name": "stdout",
     "output_type": "stream",
     "text": [
      "INFO:tensorflow:Assets written to: discriminator.tf\\assets\n"
     ]
    },
    {
     "name": "stderr",
     "output_type": "stream",
     "text": [
      "INFO:tensorflow:Assets written to: discriminator.tf\\assets\n"
     ]
    },
    {
     "name": "stdout",
     "output_type": "stream",
     "text": [
      "469/469 [==============================] - 92s 197ms/step - d_loss: 0.5305 - g_loss: 1.1759\n",
      "Epoch 652/2500\n",
      "469/469 [==============================] - 90s 193ms/step - d_loss: 0.5691 - g_loss: 0.9959\n",
      "Epoch 653/2500\n",
      "469/469 [==============================] - 90s 193ms/step - d_loss: 0.5640 - g_loss: 0.9663\n",
      "Epoch 654/2500\n",
      "469/469 [==============================] - 90s 193ms/step - d_loss: 0.5671 - g_loss: 1.1118\n",
      "Epoch 655/2500\n",
      "469/469 [==============================] - 90s 192ms/step - d_loss: 0.5047 - g_loss: 1.1482\n",
      "Epoch 656/2500\n",
      "469/469 [==============================] - 90s 192ms/step - d_loss: 0.5823 - g_loss: 0.8962\n",
      "Epoch 657/2500\n",
      "469/469 [==============================] - 90s 192ms/step - d_loss: 0.5500 - g_loss: 1.1391\n",
      "Epoch 658/2500\n",
      "469/469 [==============================] - 90s 192ms/step - d_loss: 0.5240 - g_loss: 1.1616\n",
      "Epoch 659/2500\n",
      "469/469 [==============================] - 90s 193ms/step - d_loss: 0.4997 - g_loss: 0.9752\n",
      "Epoch 660/2500\n",
      "469/469 [==============================] - 90s 193ms/step - d_loss: 0.5018 - g_loss: 1.3387\n",
      "Epoch 661/2500\n",
      "469/469 [==============================] - 90s 193ms/step - d_loss: 0.5107 - g_loss: 1.0350\n",
      "Epoch 662/2500\n",
      "469/469 [==============================] - 90s 193ms/step - d_loss: 0.5634 - g_loss: 0.9672\n",
      "Epoch 663/2500\n",
      "469/469 [==============================] - 90s 192ms/step - d_loss: 0.5231 - g_loss: 0.9987\n",
      "Epoch 664/2500\n",
      "469/469 [==============================] - 90s 193ms/step - d_loss: 0.5104 - g_loss: 1.0872\n",
      "Epoch 665/2500\n",
      "469/469 [==============================] - 90s 193ms/step - d_loss: 0.5733 - g_loss: 0.9446\n",
      "Epoch 666/2500\n",
      "469/469 [==============================] - 90s 192ms/step - d_loss: 0.4284 - g_loss: 1.5153\n",
      "Epoch 667/2500\n",
      "469/469 [==============================] - 90s 193ms/step - d_loss: 0.5457 - g_loss: 0.9170\n",
      "Epoch 668/2500\n",
      "469/469 [==============================] - 90s 192ms/step - d_loss: 0.5130 - g_loss: 1.0043\n",
      "Epoch 669/2500\n",
      "469/469 [==============================] - 90s 193ms/step - d_loss: 0.5263 - g_loss: 0.9182\n",
      "Epoch 670/2500\n",
      "469/469 [==============================] - 90s 193ms/step - d_loss: 0.4735 - g_loss: 1.1019\n",
      "Epoch 671/2500\n",
      "469/469 [==============================] - 90s 193ms/step - d_loss: 0.5376 - g_loss: 1.1285\n",
      "Epoch 672/2500\n",
      "469/469 [==============================] - 90s 193ms/step - d_loss: 0.5286 - g_loss: 0.9590\n",
      "Epoch 673/2500\n",
      "469/469 [==============================] - 90s 193ms/step - d_loss: 0.5503 - g_loss: 0.9325\n",
      "Epoch 674/2500\n",
      "469/469 [==============================] - 90s 192ms/step - d_loss: 0.6042 - g_loss: 0.9130\n",
      "Epoch 675/2500\n",
      "469/469 [==============================] - 90s 193ms/step - d_loss: 0.5220 - g_loss: 1.0480\n",
      "Epoch 676/2500\n",
      "469/469 [==============================] - 90s 192ms/step - d_loss: 0.5401 - g_loss: 0.9738\n",
      "Epoch 677/2500\n",
      "469/469 [==============================] - 90s 193ms/step - d_loss: 0.4717 - g_loss: 1.0421\n",
      "Epoch 678/2500\n",
      "469/469 [==============================] - 90s 193ms/step - d_loss: 0.5636 - g_loss: 0.9260\n",
      "Epoch 679/2500\n",
      "469/469 [==============================] - 90s 193ms/step - d_loss: 0.4639 - g_loss: 1.7006\n",
      "Epoch 680/2500\n",
      "469/469 [==============================] - 90s 193ms/step - d_loss: 0.2837 - g_loss: 2.8100\n",
      "Epoch 681/2500\n",
      "469/469 [==============================] - 90s 193ms/step - d_loss: 0.2755 - g_loss: 2.8067\n",
      "Epoch 682/2500\n",
      "469/469 [==============================] - ETA: 0s - d_loss: 0.2894 - g_loss: 2.6731WARNING:tensorflow:Compiled the loaded model, but the compiled metrics have yet to be built. `model.compile_metrics` will be empty until you train or evaluate the model.\n"
     ]
    },
    {
     "name": "stderr",
     "output_type": "stream",
     "text": [
      "WARNING:tensorflow:Compiled the loaded model, but the compiled metrics have yet to be built. `model.compile_metrics` will be empty until you train or evaluate the model.\n",
      "WARNING:absl:Found untraced functions such as _jit_compiled_convolution_op, _jit_compiled_convolution_op, _jit_compiled_convolution_op, _jit_compiled_convolution_op, _jit_compiled_convolution_op while saving (showing 5 of 5). These functions will not be directly callable after loading.\n"
     ]
    },
    {
     "name": "stdout",
     "output_type": "stream",
     "text": [
      "INFO:tensorflow:Assets written to: generator.tf\\assets\n"
     ]
    },
    {
     "name": "stderr",
     "output_type": "stream",
     "text": [
      "INFO:tensorflow:Assets written to: generator.tf\\assets\n"
     ]
    },
    {
     "name": "stdout",
     "output_type": "stream",
     "text": [
      "WARNING:tensorflow:Compiled the loaded model, but the compiled metrics have yet to be built. `model.compile_metrics` will be empty until you train or evaluate the model.\n"
     ]
    },
    {
     "name": "stderr",
     "output_type": "stream",
     "text": [
      "WARNING:tensorflow:Compiled the loaded model, but the compiled metrics have yet to be built. `model.compile_metrics` will be empty until you train or evaluate the model.\n",
      "WARNING:absl:Found untraced functions such as _jit_compiled_convolution_op, _jit_compiled_convolution_op, _jit_compiled_convolution_op, _jit_compiled_convolution_op while saving (showing 4 of 4). These functions will not be directly callable after loading.\n"
     ]
    },
    {
     "name": "stdout",
     "output_type": "stream",
     "text": [
      "INFO:tensorflow:Assets written to: discriminator.tf\\assets\n"
     ]
    },
    {
     "name": "stderr",
     "output_type": "stream",
     "text": [
      "INFO:tensorflow:Assets written to: discriminator.tf\\assets\n"
     ]
    },
    {
     "name": "stdout",
     "output_type": "stream",
     "text": [
      "469/469 [==============================] - 92s 196ms/step - d_loss: 0.2895 - g_loss: 2.6717\n",
      "Epoch 683/2500\n",
      "469/469 [==============================] - 90s 192ms/step - d_loss: 0.4388 - g_loss: 1.3475\n",
      "Epoch 684/2500\n",
      "469/469 [==============================] - 90s 193ms/step - d_loss: 0.5488 - g_loss: 0.9014\n",
      "Epoch 685/2500\n",
      "469/469 [==============================] - 90s 193ms/step - d_loss: 0.5050 - g_loss: 1.1682\n",
      "Epoch 686/2500\n",
      "469/469 [==============================] - 90s 193ms/step - d_loss: 0.5122 - g_loss: 1.2649\n",
      "Epoch 687/2500\n",
      "469/469 [==============================] - 90s 193ms/step - d_loss: 0.5001 - g_loss: 1.3087\n",
      "Epoch 688/2500\n",
      "469/469 [==============================] - 90s 193ms/step - d_loss: 0.5215 - g_loss: 1.0044\n",
      "Epoch 689/2500\n",
      "469/469 [==============================] - 90s 192ms/step - d_loss: 0.4837 - g_loss: 1.4411\n",
      "Epoch 690/2500\n",
      "469/469 [==============================] - 90s 192ms/step - d_loss: 0.5252 - g_loss: 1.1170\n",
      "Epoch 691/2500\n",
      "469/469 [==============================] - 90s 192ms/step - d_loss: 0.6089 - g_loss: 0.8074\n",
      "Epoch 692/2500\n",
      "469/469 [==============================] - 90s 192ms/step - d_loss: 0.5914 - g_loss: 0.8945\n",
      "Epoch 693/2500\n",
      "469/469 [==============================] - 90s 193ms/step - d_loss: 0.5608 - g_loss: 1.0719\n",
      "Epoch 694/2500\n",
      "469/469 [==============================] - 90s 193ms/step - d_loss: 0.2923 - g_loss: 2.8828\n",
      "Epoch 695/2500\n",
      "469/469 [==============================] - 90s 193ms/step - d_loss: 0.2825 - g_loss: 2.8593\n",
      "Epoch 696/2500\n",
      "469/469 [==============================] - 90s 192ms/step - d_loss: 0.5626 - g_loss: 0.8199\n",
      "Epoch 697/2500\n",
      "469/469 [==============================] - 90s 193ms/step - d_loss: 0.5657 - g_loss: 1.1488\n",
      "Epoch 698/2500\n",
      "469/469 [==============================] - 90s 193ms/step - d_loss: 0.5780 - g_loss: 0.8548\n",
      "Epoch 699/2500\n",
      "469/469 [==============================] - 90s 193ms/step - d_loss: 0.5786 - g_loss: 0.9973\n",
      "Epoch 700/2500\n",
      "469/469 [==============================] - 90s 193ms/step - d_loss: 0.4942 - g_loss: 1.0746\n",
      "Epoch 701/2500\n",
      "469/469 [==============================] - 90s 193ms/step - d_loss: 0.5479 - g_loss: 0.9538\n",
      "Epoch 702/2500\n",
      "469/469 [==============================] - 90s 193ms/step - d_loss: 0.5400 - g_loss: 0.9925\n",
      "Epoch 703/2500\n",
      "469/469 [==============================] - 90s 193ms/step - d_loss: 0.5477 - g_loss: 0.9080\n",
      "Epoch 704/2500\n",
      "469/469 [==============================] - 90s 193ms/step - d_loss: 0.5924 - g_loss: 0.8663\n",
      "Epoch 705/2500\n",
      "469/469 [==============================] - 90s 193ms/step - d_loss: 0.5693 - g_loss: 0.9159\n",
      "Epoch 706/2500\n",
      "469/469 [==============================] - 90s 192ms/step - d_loss: 0.4985 - g_loss: 1.4549\n",
      "Epoch 707/2500\n",
      "469/469 [==============================] - 90s 193ms/step - d_loss: 0.5799 - g_loss: 0.8102\n",
      "Epoch 708/2500\n",
      "469/469 [==============================] - 90s 193ms/step - d_loss: 0.6283 - g_loss: 0.7357\n",
      "Epoch 709/2500\n",
      "469/469 [==============================] - 90s 193ms/step - d_loss: 0.6839 - g_loss: 0.6836\n",
      "Epoch 710/2500\n",
      "469/469 [==============================] - 90s 193ms/step - d_loss: 0.6487 - g_loss: 0.6689\n",
      "Epoch 711/2500\n",
      "469/469 [==============================] - 90s 193ms/step - d_loss: 0.6697 - g_loss: 0.6457\n",
      "Epoch 712/2500\n",
      "469/469 [==============================] - 90s 193ms/step - d_loss: 0.6612 - g_loss: 0.6871\n",
      "Epoch 713/2500\n",
      "469/469 [==============================] - ETA: 0s - d_loss: 0.6491 - g_loss: 0.6994WARNING:tensorflow:Compiled the loaded model, but the compiled metrics have yet to be built. `model.compile_metrics` will be empty until you train or evaluate the model.\n"
     ]
    },
    {
     "name": "stderr",
     "output_type": "stream",
     "text": [
      "WARNING:tensorflow:Compiled the loaded model, but the compiled metrics have yet to be built. `model.compile_metrics` will be empty until you train or evaluate the model.\n",
      "WARNING:absl:Found untraced functions such as _jit_compiled_convolution_op, _jit_compiled_convolution_op, _jit_compiled_convolution_op, _jit_compiled_convolution_op, _jit_compiled_convolution_op while saving (showing 5 of 5). These functions will not be directly callable after loading.\n"
     ]
    },
    {
     "name": "stdout",
     "output_type": "stream",
     "text": [
      "INFO:tensorflow:Assets written to: generator.tf\\assets\n"
     ]
    },
    {
     "name": "stderr",
     "output_type": "stream",
     "text": [
      "INFO:tensorflow:Assets written to: generator.tf\\assets\n"
     ]
    },
    {
     "name": "stdout",
     "output_type": "stream",
     "text": [
      "WARNING:tensorflow:Compiled the loaded model, but the compiled metrics have yet to be built. `model.compile_metrics` will be empty until you train or evaluate the model.\n"
     ]
    },
    {
     "name": "stderr",
     "output_type": "stream",
     "text": [
      "WARNING:tensorflow:Compiled the loaded model, but the compiled metrics have yet to be built. `model.compile_metrics` will be empty until you train or evaluate the model.\n",
      "WARNING:absl:Found untraced functions such as _jit_compiled_convolution_op, _jit_compiled_convolution_op, _jit_compiled_convolution_op, _jit_compiled_convolution_op while saving (showing 4 of 4). These functions will not be directly callable after loading.\n"
     ]
    },
    {
     "name": "stdout",
     "output_type": "stream",
     "text": [
      "INFO:tensorflow:Assets written to: discriminator.tf\\assets\n"
     ]
    },
    {
     "name": "stderr",
     "output_type": "stream",
     "text": [
      "INFO:tensorflow:Assets written to: discriminator.tf\\assets\n"
     ]
    },
    {
     "name": "stdout",
     "output_type": "stream",
     "text": [
      "469/469 [==============================] - 92s 197ms/step - d_loss: 0.6491 - g_loss: 0.6995\n",
      "Epoch 714/2500\n",
      "469/469 [==============================] - 90s 192ms/step - d_loss: 0.6527 - g_loss: 0.7054\n",
      "Epoch 715/2500\n",
      "469/469 [==============================] - 90s 193ms/step - d_loss: 0.6442 - g_loss: 0.7106\n",
      "Epoch 716/2500\n",
      "469/469 [==============================] - 90s 193ms/step - d_loss: 0.6681 - g_loss: 0.6897\n",
      "Epoch 717/2500\n",
      "469/469 [==============================] - 90s 193ms/step - d_loss: 0.6598 - g_loss: 0.6903\n",
      "Epoch 718/2500\n",
      "469/469 [==============================] - 90s 193ms/step - d_loss: 0.6393 - g_loss: 0.7324\n",
      "Epoch 719/2500\n",
      "469/469 [==============================] - 90s 192ms/step - d_loss: 0.6465 - g_loss: 0.7032\n",
      "Epoch 720/2500\n",
      "469/469 [==============================] - 90s 193ms/step - d_loss: 0.6548 - g_loss: 0.6995\n",
      "Epoch 721/2500\n",
      "469/469 [==============================] - 90s 192ms/step - d_loss: 0.6686 - g_loss: 0.6710\n",
      "Epoch 722/2500\n",
      "469/469 [==============================] - 90s 192ms/step - d_loss: 0.6500 - g_loss: 0.6961\n",
      "Epoch 723/2500\n",
      "469/469 [==============================] - 90s 193ms/step - d_loss: 0.6510 - g_loss: 0.7062\n",
      "Epoch 724/2500\n",
      "469/469 [==============================] - 90s 192ms/step - d_loss: 0.6599 - g_loss: 0.6910\n",
      "Epoch 725/2500\n",
      "469/469 [==============================] - 90s 193ms/step - d_loss: 0.6698 - g_loss: 0.6778\n",
      "Epoch 726/2500\n",
      "469/469 [==============================] - 90s 193ms/step - d_loss: 0.6629 - g_loss: 0.6740\n",
      "Epoch 727/2500\n",
      "469/469 [==============================] - 90s 193ms/step - d_loss: 0.6424 - g_loss: 0.7547\n",
      "Epoch 728/2500\n",
      "469/469 [==============================] - 90s 192ms/step - d_loss: 0.6512 - g_loss: 0.6539\n",
      "Epoch 729/2500\n",
      "469/469 [==============================] - 90s 192ms/step - d_loss: 0.6541 - g_loss: 0.6870\n",
      "Epoch 730/2500\n",
      "469/469 [==============================] - 90s 193ms/step - d_loss: 0.6529 - g_loss: 0.6992\n",
      "Epoch 731/2500\n",
      "469/469 [==============================] - 90s 193ms/step - d_loss: 0.6495 - g_loss: 0.7048\n",
      "Epoch 732/2500\n",
      "469/469 [==============================] - 90s 192ms/step - d_loss: 0.6489 - g_loss: 0.7163\n",
      "Epoch 733/2500\n",
      "469/469 [==============================] - 90s 193ms/step - d_loss: 0.6359 - g_loss: 0.7544\n",
      "Epoch 734/2500\n",
      "469/469 [==============================] - 90s 193ms/step - d_loss: 0.6609 - g_loss: 0.6764\n",
      "Epoch 735/2500\n",
      "469/469 [==============================] - 90s 193ms/step - d_loss: 0.6710 - g_loss: 0.7209\n",
      "Epoch 736/2500\n",
      "469/469 [==============================] - 90s 193ms/step - d_loss: 0.6571 - g_loss: 0.6775\n",
      "Epoch 737/2500\n",
      "469/469 [==============================] - 90s 193ms/step - d_loss: 0.6451 - g_loss: 0.7064\n",
      "Epoch 738/2500\n",
      "469/469 [==============================] - 90s 193ms/step - d_loss: 0.6313 - g_loss: 0.7443\n",
      "Epoch 739/2500\n",
      "469/469 [==============================] - 90s 192ms/step - d_loss: 0.6378 - g_loss: 0.7834\n",
      "Epoch 740/2500\n",
      "469/469 [==============================] - 90s 193ms/step - d_loss: 0.6475 - g_loss: 0.7601\n",
      "Epoch 741/2500\n",
      "469/469 [==============================] - 90s 193ms/step - d_loss: 0.6577 - g_loss: 0.6916\n",
      "Epoch 742/2500\n",
      "469/469 [==============================] - 90s 193ms/step - d_loss: 0.6309 - g_loss: 0.7195\n",
      "Epoch 743/2500\n",
      "469/469 [==============================] - 90s 193ms/step - d_loss: 0.6648 - g_loss: 0.6786\n",
      "Epoch 744/2500\n",
      "469/469 [==============================] - ETA: 0s - d_loss: 0.6471 - g_loss: 0.7163WARNING:tensorflow:Compiled the loaded model, but the compiled metrics have yet to be built. `model.compile_metrics` will be empty until you train or evaluate the model.\n"
     ]
    },
    {
     "name": "stderr",
     "output_type": "stream",
     "text": [
      "WARNING:tensorflow:Compiled the loaded model, but the compiled metrics have yet to be built. `model.compile_metrics` will be empty until you train or evaluate the model.\n",
      "WARNING:absl:Found untraced functions such as _jit_compiled_convolution_op, _jit_compiled_convolution_op, _jit_compiled_convolution_op, _jit_compiled_convolution_op, _jit_compiled_convolution_op while saving (showing 5 of 5). These functions will not be directly callable after loading.\n"
     ]
    },
    {
     "name": "stdout",
     "output_type": "stream",
     "text": [
      "INFO:tensorflow:Assets written to: generator.tf\\assets\n"
     ]
    },
    {
     "name": "stderr",
     "output_type": "stream",
     "text": [
      "INFO:tensorflow:Assets written to: generator.tf\\assets\n"
     ]
    },
    {
     "name": "stdout",
     "output_type": "stream",
     "text": [
      "WARNING:tensorflow:Compiled the loaded model, but the compiled metrics have yet to be built. `model.compile_metrics` will be empty until you train or evaluate the model.\n"
     ]
    },
    {
     "name": "stderr",
     "output_type": "stream",
     "text": [
      "WARNING:tensorflow:Compiled the loaded model, but the compiled metrics have yet to be built. `model.compile_metrics` will be empty until you train or evaluate the model.\n",
      "WARNING:absl:Found untraced functions such as _jit_compiled_convolution_op, _jit_compiled_convolution_op, _jit_compiled_convolution_op, _jit_compiled_convolution_op while saving (showing 4 of 4). These functions will not be directly callable after loading.\n"
     ]
    },
    {
     "name": "stdout",
     "output_type": "stream",
     "text": [
      "INFO:tensorflow:Assets written to: discriminator.tf\\assets\n"
     ]
    },
    {
     "name": "stderr",
     "output_type": "stream",
     "text": [
      "INFO:tensorflow:Assets written to: discriminator.tf\\assets\n"
     ]
    },
    {
     "name": "stdout",
     "output_type": "stream",
     "text": [
      "469/469 [==============================] - 92s 196ms/step - d_loss: 0.6473 - g_loss: 0.7161\n",
      "Epoch 745/2500\n",
      "469/469 [==============================] - 90s 193ms/step - d_loss: 0.6673 - g_loss: 0.7057\n",
      "Epoch 746/2500\n",
      "469/469 [==============================] - 90s 193ms/step - d_loss: 0.6710 - g_loss: 0.6671\n",
      "Epoch 747/2500\n",
      "469/469 [==============================] - 90s 192ms/step - d_loss: 0.6673 - g_loss: 0.6940\n",
      "Epoch 748/2500\n",
      "469/469 [==============================] - 90s 192ms/step - d_loss: 0.6608 - g_loss: 0.7004\n",
      "Epoch 749/2500\n",
      "469/469 [==============================] - 90s 193ms/step - d_loss: 0.6697 - g_loss: 0.6759\n",
      "Epoch 750/2500\n",
      "469/469 [==============================] - 90s 193ms/step - d_loss: 0.6654 - g_loss: 0.6849\n",
      "Epoch 751/2500\n",
      "469/469 [==============================] - 90s 193ms/step - d_loss: 0.6575 - g_loss: 0.7063\n",
      "Epoch 752/2500\n",
      "469/469 [==============================] - 90s 193ms/step - d_loss: 0.6627 - g_loss: 0.7099\n",
      "Epoch 753/2500\n",
      "469/469 [==============================] - 90s 193ms/step - d_loss: 0.6472 - g_loss: 0.6993\n",
      "Epoch 754/2500\n",
      "469/469 [==============================] - 90s 193ms/step - d_loss: 0.6627 - g_loss: 0.6858\n",
      "Epoch 755/2500\n",
      "469/469 [==============================] - 90s 193ms/step - d_loss: 0.6679 - g_loss: 0.6547\n",
      "Epoch 756/2500\n",
      "469/469 [==============================] - 90s 193ms/step - d_loss: 0.6735 - g_loss: 0.6323\n",
      "Epoch 757/2500\n",
      "469/469 [==============================] - 90s 192ms/step - d_loss: 0.6731 - g_loss: 0.6646\n",
      "Epoch 758/2500\n",
      "469/469 [==============================] - 90s 193ms/step - d_loss: 0.6866 - g_loss: 0.6421\n",
      "Epoch 759/2500\n",
      "469/469 [==============================] - 90s 193ms/step - d_loss: 0.6810 - g_loss: 0.6728\n",
      "Epoch 760/2500\n",
      "469/469 [==============================] - 90s 193ms/step - d_loss: 0.6776 - g_loss: 0.6534\n",
      "Epoch 761/2500\n",
      "469/469 [==============================] - 90s 193ms/step - d_loss: 0.6728 - g_loss: 0.6724\n",
      "Epoch 762/2500\n",
      "469/469 [==============================] - 90s 192ms/step - d_loss: 0.4859 - g_loss: 1.0605\n",
      "Epoch 763/2500\n",
      "469/469 [==============================] - 90s 193ms/step - d_loss: 0.6392 - g_loss: 0.7319\n",
      "Epoch 764/2500\n",
      "469/469 [==============================] - 90s 192ms/step - d_loss: 0.6373 - g_loss: 0.7626\n",
      "Epoch 765/2500\n",
      "469/469 [==============================] - 90s 193ms/step - d_loss: 0.6525 - g_loss: 0.7150\n",
      "Epoch 766/2500\n",
      "469/469 [==============================] - 90s 193ms/step - d_loss: 0.6538 - g_loss: 0.6820\n",
      "Epoch 767/2500\n",
      "469/469 [==============================] - 90s 193ms/step - d_loss: 0.6493 - g_loss: 0.6926\n",
      "Epoch 768/2500\n",
      "469/469 [==============================] - 90s 193ms/step - d_loss: 0.6533 - g_loss: 0.6921\n",
      "Epoch 769/2500\n",
      "469/469 [==============================] - 90s 193ms/step - d_loss: 0.6611 - g_loss: 0.6768\n",
      "Epoch 770/2500\n",
      "469/469 [==============================] - 90s 192ms/step - d_loss: 0.6706 - g_loss: 0.6882\n",
      "Epoch 771/2500\n",
      "469/469 [==============================] - 90s 193ms/step - d_loss: 0.6463 - g_loss: 0.6890\n",
      "Epoch 772/2500\n",
      "469/469 [==============================] - 90s 193ms/step - d_loss: 0.6492 - g_loss: 0.7161\n",
      "Epoch 773/2500\n",
      "469/469 [==============================] - 90s 193ms/step - d_loss: 0.6441 - g_loss: 0.7142\n",
      "Epoch 774/2500\n",
      "469/469 [==============================] - 90s 193ms/step - d_loss: 0.6662 - g_loss: 0.6617\n",
      "Epoch 775/2500\n",
      "469/469 [==============================] - ETA: 0s - d_loss: 0.6366 - g_loss: 0.7995WARNING:tensorflow:Compiled the loaded model, but the compiled metrics have yet to be built. `model.compile_metrics` will be empty until you train or evaluate the model.\n"
     ]
    },
    {
     "name": "stderr",
     "output_type": "stream",
     "text": [
      "WARNING:tensorflow:Compiled the loaded model, but the compiled metrics have yet to be built. `model.compile_metrics` will be empty until you train or evaluate the model.\n",
      "WARNING:absl:Found untraced functions such as _jit_compiled_convolution_op, _jit_compiled_convolution_op, _jit_compiled_convolution_op, _jit_compiled_convolution_op, _jit_compiled_convolution_op while saving (showing 5 of 5). These functions will not be directly callable after loading.\n"
     ]
    },
    {
     "name": "stdout",
     "output_type": "stream",
     "text": [
      "INFO:tensorflow:Assets written to: generator.tf\\assets\n"
     ]
    },
    {
     "name": "stderr",
     "output_type": "stream",
     "text": [
      "INFO:tensorflow:Assets written to: generator.tf\\assets\n"
     ]
    },
    {
     "name": "stdout",
     "output_type": "stream",
     "text": [
      "WARNING:tensorflow:Compiled the loaded model, but the compiled metrics have yet to be built. `model.compile_metrics` will be empty until you train or evaluate the model.\n"
     ]
    },
    {
     "name": "stderr",
     "output_type": "stream",
     "text": [
      "WARNING:tensorflow:Compiled the loaded model, but the compiled metrics have yet to be built. `model.compile_metrics` will be empty until you train or evaluate the model.\n",
      "WARNING:absl:Found untraced functions such as _jit_compiled_convolution_op, _jit_compiled_convolution_op, _jit_compiled_convolution_op, _jit_compiled_convolution_op while saving (showing 4 of 4). These functions will not be directly callable after loading.\n"
     ]
    },
    {
     "name": "stdout",
     "output_type": "stream",
     "text": [
      "INFO:tensorflow:Assets written to: discriminator.tf\\assets\n"
     ]
    },
    {
     "name": "stderr",
     "output_type": "stream",
     "text": [
      "INFO:tensorflow:Assets written to: discriminator.tf\\assets\n"
     ]
    },
    {
     "name": "stdout",
     "output_type": "stream",
     "text": [
      "469/469 [==============================] - 92s 197ms/step - d_loss: 0.6365 - g_loss: 0.7991\n",
      "Epoch 776/2500\n",
      "469/469 [==============================] - 90s 192ms/step - d_loss: 0.6447 - g_loss: 0.6363\n",
      "Epoch 777/2500\n",
      "469/469 [==============================] - 90s 192ms/step - d_loss: 0.6778 - g_loss: 0.6584\n",
      "Epoch 778/2500\n",
      "469/469 [==============================] - 90s 192ms/step - d_loss: 0.6809 - g_loss: 0.6399\n",
      "Epoch 779/2500\n",
      "469/469 [==============================] - 90s 193ms/step - d_loss: 0.6672 - g_loss: 0.6777\n",
      "Epoch 780/2500\n",
      "469/469 [==============================] - 90s 192ms/step - d_loss: 0.6763 - g_loss: 0.6729\n",
      "Epoch 781/2500\n",
      "469/469 [==============================] - 90s 193ms/step - d_loss: 0.6710 - g_loss: 0.6551\n",
      "Epoch 782/2500\n",
      "469/469 [==============================] - 90s 193ms/step - d_loss: 0.6704 - g_loss: 0.6737\n",
      "Epoch 783/2500\n",
      "469/469 [==============================] - 90s 192ms/step - d_loss: 0.6765 - g_loss: 0.6637\n",
      "Epoch 784/2500\n",
      "469/469 [==============================] - 90s 193ms/step - d_loss: 0.6553 - g_loss: 0.6840\n",
      "Epoch 785/2500\n",
      "469/469 [==============================] - 90s 192ms/step - d_loss: 0.6540 - g_loss: 0.6882\n",
      "Epoch 786/2500\n",
      "469/469 [==============================] - 90s 192ms/step - d_loss: 0.6695 - g_loss: 0.6910\n",
      "Epoch 787/2500\n",
      "469/469 [==============================] - 90s 193ms/step - d_loss: 0.6680 - g_loss: 0.6839\n",
      "Epoch 788/2500\n",
      "469/469 [==============================] - 90s 193ms/step - d_loss: 0.6092 - g_loss: 0.8569\n",
      "Epoch 789/2500\n",
      "469/469 [==============================] - 90s 193ms/step - d_loss: 0.6646 - g_loss: 0.6398\n",
      "Epoch 790/2500\n",
      "469/469 [==============================] - 90s 193ms/step - d_loss: 0.6721 - g_loss: 0.6614\n",
      "Epoch 791/2500\n",
      "469/469 [==============================] - 90s 192ms/step - d_loss: 0.6856 - g_loss: 0.6578\n",
      "Epoch 792/2500\n",
      "469/469 [==============================] - 90s 192ms/step - d_loss: 0.6523 - g_loss: 0.7275\n",
      "Epoch 793/2500\n",
      "469/469 [==============================] - 90s 193ms/step - d_loss: 0.6318 - g_loss: 0.7418\n",
      "Epoch 794/2500\n",
      "469/469 [==============================] - 90s 193ms/step - d_loss: 0.6517 - g_loss: 0.6943\n",
      "Epoch 795/2500\n",
      "469/469 [==============================] - 90s 193ms/step - d_loss: 0.6498 - g_loss: 0.6992\n",
      "Epoch 796/2500\n",
      "469/469 [==============================] - 90s 193ms/step - d_loss: 0.6494 - g_loss: 0.7218\n",
      "Epoch 797/2500\n",
      "469/469 [==============================] - 90s 193ms/step - d_loss: 0.6484 - g_loss: 0.7153\n",
      "Epoch 798/2500\n",
      "469/469 [==============================] - 90s 193ms/step - d_loss: 0.6138 - g_loss: 0.7266\n",
      "Epoch 799/2500\n",
      "469/469 [==============================] - 90s 193ms/step - d_loss: 0.6253 - g_loss: 0.7448\n",
      "Epoch 800/2500\n",
      "469/469 [==============================] - 90s 193ms/step - d_loss: 0.6473 - g_loss: 0.7225\n",
      "Epoch 801/2500\n",
      "469/469 [==============================] - 90s 193ms/step - d_loss: 0.6512 - g_loss: 0.6890\n",
      "Epoch 802/2500\n",
      "469/469 [==============================] - 90s 193ms/step - d_loss: 0.6360 - g_loss: 0.6958\n",
      "Epoch 803/2500\n",
      "469/469 [==============================] - 90s 193ms/step - d_loss: 0.6523 - g_loss: 0.7178\n",
      "Epoch 804/2500\n",
      "469/469 [==============================] - 90s 193ms/step - d_loss: 0.6669 - g_loss: 0.6728\n",
      "Epoch 805/2500\n",
      "469/469 [==============================] - 90s 193ms/step - d_loss: 0.6688 - g_loss: 0.6919\n",
      "Epoch 806/2500\n",
      "469/469 [==============================] - ETA: 0s - d_loss: 0.6685 - g_loss: 0.6646WARNING:tensorflow:Compiled the loaded model, but the compiled metrics have yet to be built. `model.compile_metrics` will be empty until you train or evaluate the model.\n"
     ]
    },
    {
     "name": "stderr",
     "output_type": "stream",
     "text": [
      "WARNING:tensorflow:Compiled the loaded model, but the compiled metrics have yet to be built. `model.compile_metrics` will be empty until you train or evaluate the model.\n",
      "WARNING:absl:Found untraced functions such as _jit_compiled_convolution_op, _jit_compiled_convolution_op, _jit_compiled_convolution_op, _jit_compiled_convolution_op, _jit_compiled_convolution_op while saving (showing 5 of 5). These functions will not be directly callable after loading.\n"
     ]
    },
    {
     "name": "stdout",
     "output_type": "stream",
     "text": [
      "INFO:tensorflow:Assets written to: generator.tf\\assets\n"
     ]
    },
    {
     "name": "stderr",
     "output_type": "stream",
     "text": [
      "INFO:tensorflow:Assets written to: generator.tf\\assets\n"
     ]
    },
    {
     "name": "stdout",
     "output_type": "stream",
     "text": [
      "WARNING:tensorflow:Compiled the loaded model, but the compiled metrics have yet to be built. `model.compile_metrics` will be empty until you train or evaluate the model.\n"
     ]
    },
    {
     "name": "stderr",
     "output_type": "stream",
     "text": [
      "WARNING:tensorflow:Compiled the loaded model, but the compiled metrics have yet to be built. `model.compile_metrics` will be empty until you train or evaluate the model.\n",
      "WARNING:absl:Found untraced functions such as _jit_compiled_convolution_op, _jit_compiled_convolution_op, _jit_compiled_convolution_op, _jit_compiled_convolution_op while saving (showing 4 of 4). These functions will not be directly callable after loading.\n"
     ]
    },
    {
     "name": "stdout",
     "output_type": "stream",
     "text": [
      "INFO:tensorflow:Assets written to: discriminator.tf\\assets\n"
     ]
    },
    {
     "name": "stderr",
     "output_type": "stream",
     "text": [
      "INFO:tensorflow:Assets written to: discriminator.tf\\assets\n"
     ]
    },
    {
     "name": "stdout",
     "output_type": "stream",
     "text": [
      "469/469 [==============================] - 92s 197ms/step - d_loss: 0.6685 - g_loss: 0.6648\n",
      "Epoch 807/2500\n",
      "469/469 [==============================] - 90s 192ms/step - d_loss: 0.6819 - g_loss: 0.6789\n",
      "Epoch 808/2500\n",
      "469/469 [==============================] - 90s 192ms/step - d_loss: 0.6679 - g_loss: 0.7042\n",
      "Epoch 809/2500\n",
      "469/469 [==============================] - 90s 192ms/step - d_loss: 0.6662 - g_loss: 0.6957\n",
      "Epoch 810/2500\n",
      "469/469 [==============================] - 90s 192ms/step - d_loss: 0.6588 - g_loss: 0.7205\n",
      "Epoch 811/2500\n",
      "469/469 [==============================] - 90s 192ms/step - d_loss: 0.6399 - g_loss: 0.7872\n",
      "Epoch 812/2500\n",
      "469/469 [==============================] - 90s 192ms/step - d_loss: 0.6417 - g_loss: 0.6782\n",
      "Epoch 813/2500\n",
      "469/469 [==============================] - 90s 192ms/step - d_loss: 0.6573 - g_loss: 0.7070\n",
      "Epoch 814/2500\n",
      "469/469 [==============================] - 90s 192ms/step - d_loss: 0.6648 - g_loss: 0.6737\n",
      "Epoch 815/2500\n",
      "469/469 [==============================] - 90s 193ms/step - d_loss: 0.6512 - g_loss: 0.7427\n",
      "Epoch 816/2500\n",
      "469/469 [==============================] - 90s 193ms/step - d_loss: 0.6233 - g_loss: 0.8032\n",
      "Epoch 817/2500\n",
      "469/469 [==============================] - 90s 193ms/step - d_loss: 0.6335 - g_loss: 0.7938\n",
      "Epoch 818/2500\n",
      "469/469 [==============================] - 90s 192ms/step - d_loss: 0.6373 - g_loss: 0.7251\n",
      "Epoch 819/2500\n",
      "469/469 [==============================] - 90s 192ms/step - d_loss: 0.6489 - g_loss: 0.7385\n",
      "Epoch 820/2500\n",
      "469/469 [==============================] - 90s 192ms/step - d_loss: 0.6615 - g_loss: 0.6929\n",
      "Epoch 821/2500\n",
      "469/469 [==============================] - 90s 192ms/step - d_loss: 0.6667 - g_loss: 0.7113\n",
      "Epoch 822/2500\n",
      "469/469 [==============================] - 90s 193ms/step - d_loss: 0.6726 - g_loss: 0.7079\n",
      "Epoch 823/2500\n",
      "469/469 [==============================] - 90s 193ms/step - d_loss: 0.6751 - g_loss: 0.6900\n",
      "Epoch 824/2500\n",
      "469/469 [==============================] - 90s 193ms/step - d_loss: 0.4180 - g_loss: 1.4532\n",
      "Epoch 825/2500\n",
      "469/469 [==============================] - 90s 193ms/step - d_loss: 0.6240 - g_loss: 0.7203\n",
      "Epoch 826/2500\n",
      "469/469 [==============================] - 90s 192ms/step - d_loss: 0.6482 - g_loss: 0.6931\n",
      "Epoch 827/2500\n",
      "469/469 [==============================] - 90s 192ms/step - d_loss: 0.6588 - g_loss: 0.7175\n",
      "Epoch 828/2500\n",
      "469/469 [==============================] - 90s 192ms/step - d_loss: 0.6607 - g_loss: 0.7154\n",
      "Epoch 829/2500\n",
      "469/469 [==============================] - 90s 193ms/step - d_loss: 0.6686 - g_loss: 0.7041\n",
      "Epoch 830/2500\n",
      "469/469 [==============================] - 90s 192ms/step - d_loss: 0.6670 - g_loss: 0.6912\n",
      "Epoch 831/2500\n",
      "469/469 [==============================] - 90s 192ms/step - d_loss: 0.6689 - g_loss: 0.6802\n",
      "Epoch 832/2500\n",
      "469/469 [==============================] - 90s 193ms/step - d_loss: 0.6796 - g_loss: 0.6639\n",
      "Epoch 833/2500\n",
      "469/469 [==============================] - 90s 193ms/step - d_loss: 0.6780 - g_loss: 0.6311\n",
      "Epoch 834/2500\n",
      "469/469 [==============================] - 90s 193ms/step - d_loss: 0.6643 - g_loss: 0.6879\n",
      "Epoch 835/2500\n",
      "469/469 [==============================] - 90s 193ms/step - d_loss: 0.6736 - g_loss: 0.6584\n",
      "Epoch 836/2500\n",
      "469/469 [==============================] - 90s 193ms/step - d_loss: 0.6618 - g_loss: 0.7039\n",
      "Epoch 837/2500\n",
      "469/469 [==============================] - ETA: 0s - d_loss: 0.6564 - g_loss: 0.6628WARNING:tensorflow:Compiled the loaded model, but the compiled metrics have yet to be built. `model.compile_metrics` will be empty until you train or evaluate the model.\n"
     ]
    },
    {
     "name": "stderr",
     "output_type": "stream",
     "text": [
      "WARNING:tensorflow:Compiled the loaded model, but the compiled metrics have yet to be built. `model.compile_metrics` will be empty until you train or evaluate the model.\n",
      "WARNING:absl:Found untraced functions such as _jit_compiled_convolution_op, _jit_compiled_convolution_op, _jit_compiled_convolution_op, _jit_compiled_convolution_op, _jit_compiled_convolution_op while saving (showing 5 of 5). These functions will not be directly callable after loading.\n"
     ]
    },
    {
     "name": "stdout",
     "output_type": "stream",
     "text": [
      "INFO:tensorflow:Assets written to: generator.tf\\assets\n"
     ]
    },
    {
     "name": "stderr",
     "output_type": "stream",
     "text": [
      "INFO:tensorflow:Assets written to: generator.tf\\assets\n"
     ]
    },
    {
     "name": "stdout",
     "output_type": "stream",
     "text": [
      "WARNING:tensorflow:Compiled the loaded model, but the compiled metrics have yet to be built. `model.compile_metrics` will be empty until you train or evaluate the model.\n"
     ]
    },
    {
     "name": "stderr",
     "output_type": "stream",
     "text": [
      "WARNING:tensorflow:Compiled the loaded model, but the compiled metrics have yet to be built. `model.compile_metrics` will be empty until you train or evaluate the model.\n",
      "WARNING:absl:Found untraced functions such as _jit_compiled_convolution_op, _jit_compiled_convolution_op, _jit_compiled_convolution_op, _jit_compiled_convolution_op while saving (showing 4 of 4). These functions will not be directly callable after loading.\n"
     ]
    },
    {
     "name": "stdout",
     "output_type": "stream",
     "text": [
      "INFO:tensorflow:Assets written to: discriminator.tf\\assets\n"
     ]
    },
    {
     "name": "stderr",
     "output_type": "stream",
     "text": [
      "INFO:tensorflow:Assets written to: discriminator.tf\\assets\n"
     ]
    },
    {
     "name": "stdout",
     "output_type": "stream",
     "text": [
      "469/469 [==============================] - 92s 196ms/step - d_loss: 0.6563 - g_loss: 0.6626\n",
      "Epoch 838/2500\n",
      "469/469 [==============================] - 90s 193ms/step - d_loss: 0.6703 - g_loss: 0.6544\n",
      "Epoch 839/2500\n",
      "469/469 [==============================] - 90s 192ms/step - d_loss: 0.6746 - g_loss: 0.6562\n",
      "Epoch 840/2500\n",
      "469/469 [==============================] - 90s 192ms/step - d_loss: 0.6704 - g_loss: 0.6715\n",
      "Epoch 841/2500\n",
      "469/469 [==============================] - 90s 192ms/step - d_loss: 0.6788 - g_loss: 0.6377\n",
      "Epoch 842/2500\n",
      "469/469 [==============================] - 90s 193ms/step - d_loss: 0.6660 - g_loss: 0.6715\n",
      "Epoch 843/2500\n",
      "469/469 [==============================] - 90s 193ms/step - d_loss: 0.6603 - g_loss: 0.6714\n",
      "Epoch 844/2500\n",
      "469/469 [==============================] - 90s 193ms/step - d_loss: 0.6600 - g_loss: 0.6859\n",
      "Epoch 845/2500\n",
      "469/469 [==============================] - 90s 193ms/step - d_loss: 0.6581 - g_loss: 0.6612\n",
      "Epoch 846/2500\n",
      "469/469 [==============================] - 90s 193ms/step - d_loss: 0.6539 - g_loss: 0.6999\n",
      "Epoch 847/2500\n",
      "469/469 [==============================] - 90s 192ms/step - d_loss: 0.6707 - g_loss: 0.6873\n",
      "Epoch 848/2500\n",
      "469/469 [==============================] - 90s 192ms/step - d_loss: 0.6811 - g_loss: 0.6493\n",
      "Epoch 849/2500\n",
      "469/469 [==============================] - 90s 193ms/step - d_loss: 0.6751 - g_loss: 0.6581\n",
      "Epoch 850/2500\n",
      "469/469 [==============================] - 90s 192ms/step - d_loss: 0.6524 - g_loss: 0.6868\n",
      "Epoch 851/2500\n",
      "469/469 [==============================] - 90s 193ms/step - d_loss: 0.6697 - g_loss: 0.6316\n",
      "Epoch 852/2500\n",
      "469/469 [==============================] - 90s 193ms/step - d_loss: 0.6590 - g_loss: 0.6996\n",
      "Epoch 853/2500\n",
      "469/469 [==============================] - 90s 193ms/step - d_loss: 0.6798 - g_loss: 0.6319\n",
      "Epoch 854/2500\n",
      "469/469 [==============================] - 90s 192ms/step - d_loss: 0.6792 - g_loss: 0.6630\n",
      "Epoch 855/2500\n",
      "469/469 [==============================] - 90s 192ms/step - d_loss: 0.6709 - g_loss: 0.6482\n",
      "Epoch 856/2500\n",
      "469/469 [==============================] - 90s 192ms/step - d_loss: 0.6707 - g_loss: 0.6699\n",
      "Epoch 857/2500\n",
      "469/469 [==============================] - 90s 192ms/step - d_loss: 0.6699 - g_loss: 0.6430\n",
      "Epoch 858/2500\n",
      "469/469 [==============================] - 90s 193ms/step - d_loss: 0.6728 - g_loss: 0.6530\n",
      "Epoch 859/2500\n",
      "469/469 [==============================] - 90s 193ms/step - d_loss: 0.6693 - g_loss: 0.6513\n",
      "Epoch 860/2500\n",
      "469/469 [==============================] - 90s 193ms/step - d_loss: 0.6600 - g_loss: 0.6877\n",
      "Epoch 861/2500\n",
      "469/469 [==============================] - 90s 193ms/step - d_loss: 0.6735 - g_loss: 0.6174\n",
      "Epoch 862/2500\n",
      "469/469 [==============================] - 90s 193ms/step - d_loss: 0.6800 - g_loss: 0.6292\n",
      "Epoch 863/2500\n",
      "469/469 [==============================] - 90s 192ms/step - d_loss: 0.6768 - g_loss: 0.6464\n",
      "Epoch 864/2500\n",
      "469/469 [==============================] - 90s 192ms/step - d_loss: 0.6713 - g_loss: 0.6593\n",
      "Epoch 865/2500\n",
      "469/469 [==============================] - 90s 192ms/step - d_loss: 0.6645 - g_loss: 0.6804\n",
      "Epoch 866/2500\n",
      "469/469 [==============================] - 90s 192ms/step - d_loss: 0.6642 - g_loss: 0.6396\n",
      "Epoch 867/2500\n",
      "469/469 [==============================] - 90s 192ms/step - d_loss: 0.6462 - g_loss: 0.7439\n",
      "Epoch 868/2500\n",
      "469/469 [==============================] - ETA: 0s - d_loss: 0.6697 - g_loss: 0.6588WARNING:tensorflow:Compiled the loaded model, but the compiled metrics have yet to be built. `model.compile_metrics` will be empty until you train or evaluate the model.\n"
     ]
    },
    {
     "name": "stderr",
     "output_type": "stream",
     "text": [
      "WARNING:tensorflow:Compiled the loaded model, but the compiled metrics have yet to be built. `model.compile_metrics` will be empty until you train or evaluate the model.\n",
      "WARNING:absl:Found untraced functions such as _jit_compiled_convolution_op, _jit_compiled_convolution_op, _jit_compiled_convolution_op, _jit_compiled_convolution_op, _jit_compiled_convolution_op while saving (showing 5 of 5). These functions will not be directly callable after loading.\n"
     ]
    },
    {
     "name": "stdout",
     "output_type": "stream",
     "text": [
      "INFO:tensorflow:Assets written to: generator.tf\\assets\n"
     ]
    },
    {
     "name": "stderr",
     "output_type": "stream",
     "text": [
      "INFO:tensorflow:Assets written to: generator.tf\\assets\n"
     ]
    },
    {
     "name": "stdout",
     "output_type": "stream",
     "text": [
      "WARNING:tensorflow:Compiled the loaded model, but the compiled metrics have yet to be built. `model.compile_metrics` will be empty until you train or evaluate the model.\n"
     ]
    },
    {
     "name": "stderr",
     "output_type": "stream",
     "text": [
      "WARNING:tensorflow:Compiled the loaded model, but the compiled metrics have yet to be built. `model.compile_metrics` will be empty until you train or evaluate the model.\n",
      "WARNING:absl:Found untraced functions such as _jit_compiled_convolution_op, _jit_compiled_convolution_op, _jit_compiled_convolution_op, _jit_compiled_convolution_op while saving (showing 4 of 4). These functions will not be directly callable after loading.\n"
     ]
    },
    {
     "name": "stdout",
     "output_type": "stream",
     "text": [
      "INFO:tensorflow:Assets written to: discriminator.tf\\assets\n"
     ]
    },
    {
     "name": "stderr",
     "output_type": "stream",
     "text": [
      "INFO:tensorflow:Assets written to: discriminator.tf\\assets\n"
     ]
    },
    {
     "name": "stdout",
     "output_type": "stream",
     "text": [
      "469/469 [==============================] - 92s 197ms/step - d_loss: 0.6697 - g_loss: 0.6588\n",
      "Epoch 869/2500\n",
      "469/469 [==============================] - 91s 193ms/step - d_loss: 0.6811 - g_loss: 0.6573\n",
      "Epoch 870/2500\n",
      "469/469 [==============================] - 90s 193ms/step - d_loss: 0.6777 - g_loss: 0.6430\n",
      "Epoch 871/2500\n",
      "469/469 [==============================] - 90s 193ms/step - d_loss: 0.6608 - g_loss: 0.6606\n",
      "Epoch 872/2500\n",
      "469/469 [==============================] - 90s 192ms/step - d_loss: 0.6669 - g_loss: 0.6704\n",
      "Epoch 873/2500\n",
      "469/469 [==============================] - 90s 192ms/step - d_loss: 0.6501 - g_loss: 0.6974\n",
      "Epoch 874/2500\n",
      "469/469 [==============================] - 90s 192ms/step - d_loss: 0.6622 - g_loss: 0.6487\n",
      "Epoch 875/2500\n",
      "469/469 [==============================] - 90s 192ms/step - d_loss: 0.6583 - g_loss: 0.7013\n",
      "Epoch 876/2500\n",
      "469/469 [==============================] - 90s 193ms/step - d_loss: 0.6506 - g_loss: 0.7045\n",
      "Epoch 877/2500\n",
      "469/469 [==============================] - 90s 193ms/step - d_loss: 0.6501 - g_loss: 0.6866\n",
      "Epoch 878/2500\n",
      "469/469 [==============================] - 90s 193ms/step - d_loss: 0.6619 - g_loss: 0.6752\n",
      "Epoch 879/2500\n",
      "469/469 [==============================] - 90s 192ms/step - d_loss: 0.6574 - g_loss: 0.6867\n",
      "Epoch 880/2500\n",
      "469/469 [==============================] - 90s 193ms/step - d_loss: 0.6743 - g_loss: 0.6750\n",
      "Epoch 881/2500\n",
      "469/469 [==============================] - 90s 192ms/step - d_loss: 0.6371 - g_loss: 0.6913\n",
      "Epoch 882/2500\n",
      "469/469 [==============================] - 90s 192ms/step - d_loss: 0.6707 - g_loss: 0.6655\n",
      "Epoch 883/2500\n",
      "469/469 [==============================] - 90s 193ms/step - d_loss: 0.6796 - g_loss: 0.6520\n",
      "Epoch 884/2500\n",
      "469/469 [==============================] - 90s 193ms/step - d_loss: 0.6438 - g_loss: 0.7320\n",
      "Epoch 885/2500\n",
      "469/469 [==============================] - 90s 193ms/step - d_loss: 0.6678 - g_loss: 0.6465\n",
      "Epoch 886/2500\n",
      "469/469 [==============================] - 90s 193ms/step - d_loss: 0.6751 - g_loss: 0.6612\n",
      "Epoch 887/2500\n",
      "469/469 [==============================] - 90s 193ms/step - d_loss: 0.6798 - g_loss: 0.6635\n",
      "Epoch 888/2500\n",
      "469/469 [==============================] - 90s 193ms/step - d_loss: 0.6706 - g_loss: 0.6448\n",
      "Epoch 889/2500\n",
      "469/469 [==============================] - 90s 192ms/step - d_loss: 0.6735 - g_loss: 0.6452\n",
      "Epoch 890/2500\n",
      "469/469 [==============================] - 90s 192ms/step - d_loss: 0.6741 - g_loss: 0.6562\n",
      "Epoch 891/2500\n",
      "469/469 [==============================] - 90s 193ms/step - d_loss: 0.6702 - g_loss: 0.6764\n",
      "Epoch 892/2500\n",
      "469/469 [==============================] - 90s 193ms/step - d_loss: 0.6697 - g_loss: 0.6709\n",
      "Epoch 893/2500\n",
      "469/469 [==============================] - 90s 193ms/step - d_loss: 0.6674 - g_loss: 0.6790\n",
      "Epoch 894/2500\n",
      "469/469 [==============================] - 90s 193ms/step - d_loss: 0.6558 - g_loss: 0.6902\n",
      "Epoch 895/2500\n",
      "469/469 [==============================] - 90s 193ms/step - d_loss: 0.6573 - g_loss: 0.6763\n",
      "Epoch 896/2500\n",
      "469/469 [==============================] - 90s 193ms/step - d_loss: 0.6519 - g_loss: 0.6253\n",
      "Epoch 897/2500\n",
      "469/469 [==============================] - 90s 193ms/step - d_loss: 0.6715 - g_loss: 0.6508\n",
      "Epoch 898/2500\n",
      "469/469 [==============================] - 90s 193ms/step - d_loss: 0.6628 - g_loss: 0.7017\n",
      "Epoch 899/2500\n",
      "469/469 [==============================] - ETA: 0s - d_loss: 0.6639 - g_loss: 0.6498WARNING:tensorflow:Compiled the loaded model, but the compiled metrics have yet to be built. `model.compile_metrics` will be empty until you train or evaluate the model.\n"
     ]
    },
    {
     "name": "stderr",
     "output_type": "stream",
     "text": [
      "WARNING:tensorflow:Compiled the loaded model, but the compiled metrics have yet to be built. `model.compile_metrics` will be empty until you train or evaluate the model.\n",
      "WARNING:absl:Found untraced functions such as _jit_compiled_convolution_op, _jit_compiled_convolution_op, _jit_compiled_convolution_op, _jit_compiled_convolution_op, _jit_compiled_convolution_op while saving (showing 5 of 5). These functions will not be directly callable after loading.\n"
     ]
    },
    {
     "name": "stdout",
     "output_type": "stream",
     "text": [
      "INFO:tensorflow:Assets written to: generator.tf\\assets\n"
     ]
    },
    {
     "name": "stderr",
     "output_type": "stream",
     "text": [
      "INFO:tensorflow:Assets written to: generator.tf\\assets\n"
     ]
    },
    {
     "name": "stdout",
     "output_type": "stream",
     "text": [
      "WARNING:tensorflow:Compiled the loaded model, but the compiled metrics have yet to be built. `model.compile_metrics` will be empty until you train or evaluate the model.\n"
     ]
    },
    {
     "name": "stderr",
     "output_type": "stream",
     "text": [
      "WARNING:tensorflow:Compiled the loaded model, but the compiled metrics have yet to be built. `model.compile_metrics` will be empty until you train or evaluate the model.\n",
      "WARNING:absl:Found untraced functions such as _jit_compiled_convolution_op, _jit_compiled_convolution_op, _jit_compiled_convolution_op, _jit_compiled_convolution_op while saving (showing 4 of 4). These functions will not be directly callable after loading.\n"
     ]
    },
    {
     "name": "stdout",
     "output_type": "stream",
     "text": [
      "INFO:tensorflow:Assets written to: discriminator.tf\\assets\n"
     ]
    },
    {
     "name": "stderr",
     "output_type": "stream",
     "text": [
      "INFO:tensorflow:Assets written to: discriminator.tf\\assets\n"
     ]
    },
    {
     "name": "stdout",
     "output_type": "stream",
     "text": [
      "469/469 [==============================] - 92s 196ms/step - d_loss: 0.6639 - g_loss: 0.6496\n",
      "Epoch 900/2500\n",
      "469/469 [==============================] - 90s 193ms/step - d_loss: 0.6717 - g_loss: 0.6661\n",
      "Epoch 901/2500\n",
      "469/469 [==============================] - 90s 193ms/step - d_loss: 0.6478 - g_loss: 0.7116\n",
      "Epoch 902/2500\n",
      "469/469 [==============================] - 90s 193ms/step - d_loss: 0.6416 - g_loss: 0.6981\n",
      "Epoch 903/2500\n",
      "469/469 [==============================] - 90s 193ms/step - d_loss: 0.6387 - g_loss: 0.7220\n",
      "Epoch 904/2500\n",
      "469/469 [==============================] - 90s 193ms/step - d_loss: 0.5977 - g_loss: 0.7952\n",
      "Epoch 905/2500\n",
      "469/469 [==============================] - 90s 193ms/step - d_loss: 0.6094 - g_loss: 0.8001\n",
      "Epoch 906/2500\n",
      "469/469 [==============================] - 90s 193ms/step - d_loss: 0.6351 - g_loss: 0.7508\n",
      "Epoch 907/2500\n",
      "469/469 [==============================] - 90s 193ms/step - d_loss: 0.6329 - g_loss: 0.7627\n",
      "Epoch 908/2500\n",
      "469/469 [==============================] - 90s 193ms/step - d_loss: 0.6518 - g_loss: 0.6813\n",
      "Epoch 909/2500\n",
      "469/469 [==============================] - 90s 192ms/step - d_loss: 0.6564 - g_loss: 0.6698\n",
      "Epoch 910/2500\n",
      "469/469 [==============================] - 90s 193ms/step - d_loss: 0.6382 - g_loss: 0.7067\n",
      "Epoch 911/2500\n",
      "469/469 [==============================] - 90s 193ms/step - d_loss: 0.6435 - g_loss: 0.7512\n",
      "Epoch 912/2500\n",
      "469/469 [==============================] - 90s 192ms/step - d_loss: 0.6569 - g_loss: 0.7319\n",
      "Epoch 913/2500\n",
      "469/469 [==============================] - 90s 193ms/step - d_loss: 0.6259 - g_loss: 0.7446\n",
      "Epoch 914/2500\n",
      "469/469 [==============================] - 90s 193ms/step - d_loss: 0.6382 - g_loss: 0.6815\n",
      "Epoch 915/2500\n",
      "469/469 [==============================] - 90s 193ms/step - d_loss: 0.6465 - g_loss: 0.7250\n",
      "Epoch 916/2500\n",
      "469/469 [==============================] - 90s 193ms/step - d_loss: 0.6548 - g_loss: 0.6808\n",
      "Epoch 917/2500\n",
      "469/469 [==============================] - 90s 193ms/step - d_loss: 0.6301 - g_loss: 0.7417\n",
      "Epoch 918/2500\n",
      "469/469 [==============================] - 90s 193ms/step - d_loss: 0.6217 - g_loss: 0.7401\n",
      "Epoch 919/2500\n",
      "469/469 [==============================] - 90s 193ms/step - d_loss: 0.6146 - g_loss: 0.7922\n",
      "Epoch 920/2500\n",
      "469/469 [==============================] - 90s 192ms/step - d_loss: 0.6449 - g_loss: 0.7960\n",
      "Epoch 921/2500\n",
      "469/469 [==============================] - 90s 193ms/step - d_loss: 0.6339 - g_loss: 0.7563\n",
      "Epoch 922/2500\n",
      "469/469 [==============================] - 90s 193ms/step - d_loss: 0.6497 - g_loss: 0.7184\n",
      "Epoch 923/2500\n",
      "469/469 [==============================] - 90s 193ms/step - d_loss: 0.6560 - g_loss: 0.6762\n",
      "Epoch 924/2500\n",
      "469/469 [==============================] - 90s 193ms/step - d_loss: 0.6509 - g_loss: 0.6870\n",
      "Epoch 925/2500\n",
      "469/469 [==============================] - 90s 192ms/step - d_loss: 0.6521 - g_loss: 0.6619\n",
      "Epoch 926/2500\n",
      "469/469 [==============================] - 90s 192ms/step - d_loss: 0.6432 - g_loss: 0.7082\n",
      "Epoch 927/2500\n",
      "469/469 [==============================] - 90s 192ms/step - d_loss: 0.6793 - g_loss: 0.6704\n",
      "Epoch 928/2500\n",
      "469/469 [==============================] - 90s 193ms/step - d_loss: 0.6601 - g_loss: 0.6942\n",
      "Epoch 929/2500\n",
      "469/469 [==============================] - 90s 193ms/step - d_loss: 0.6689 - g_loss: 0.6695\n",
      "Epoch 930/2500\n",
      "469/469 [==============================] - ETA: 0s - d_loss: 0.6574 - g_loss: 0.6690WARNING:tensorflow:Compiled the loaded model, but the compiled metrics have yet to be built. `model.compile_metrics` will be empty until you train or evaluate the model.\n"
     ]
    },
    {
     "name": "stderr",
     "output_type": "stream",
     "text": [
      "WARNING:tensorflow:Compiled the loaded model, but the compiled metrics have yet to be built. `model.compile_metrics` will be empty until you train or evaluate the model.\n",
      "WARNING:absl:Found untraced functions such as _jit_compiled_convolution_op, _jit_compiled_convolution_op, _jit_compiled_convolution_op, _jit_compiled_convolution_op, _jit_compiled_convolution_op while saving (showing 5 of 5). These functions will not be directly callable after loading.\n"
     ]
    },
    {
     "name": "stdout",
     "output_type": "stream",
     "text": [
      "INFO:tensorflow:Assets written to: generator.tf\\assets\n"
     ]
    },
    {
     "name": "stderr",
     "output_type": "stream",
     "text": [
      "INFO:tensorflow:Assets written to: generator.tf\\assets\n"
     ]
    },
    {
     "name": "stdout",
     "output_type": "stream",
     "text": [
      "WARNING:tensorflow:Compiled the loaded model, but the compiled metrics have yet to be built. `model.compile_metrics` will be empty until you train or evaluate the model.\n"
     ]
    },
    {
     "name": "stderr",
     "output_type": "stream",
     "text": [
      "WARNING:tensorflow:Compiled the loaded model, but the compiled metrics have yet to be built. `model.compile_metrics` will be empty until you train or evaluate the model.\n",
      "WARNING:absl:Found untraced functions such as _jit_compiled_convolution_op, _jit_compiled_convolution_op, _jit_compiled_convolution_op, _jit_compiled_convolution_op while saving (showing 4 of 4). These functions will not be directly callable after loading.\n"
     ]
    },
    {
     "name": "stdout",
     "output_type": "stream",
     "text": [
      "INFO:tensorflow:Assets written to: discriminator.tf\\assets\n"
     ]
    },
    {
     "name": "stderr",
     "output_type": "stream",
     "text": [
      "INFO:tensorflow:Assets written to: discriminator.tf\\assets\n"
     ]
    },
    {
     "name": "stdout",
     "output_type": "stream",
     "text": [
      "469/469 [==============================] - 92s 197ms/step - d_loss: 0.6573 - g_loss: 0.6696\n",
      "Epoch 931/2500\n",
      "469/469 [==============================] - 91s 193ms/step - d_loss: 0.6502 - g_loss: 0.7151\n",
      "Epoch 932/2500\n",
      "469/469 [==============================] - 90s 193ms/step - d_loss: 0.6507 - g_loss: 0.7068\n",
      "Epoch 933/2500\n",
      "469/469 [==============================] - 90s 193ms/step - d_loss: 0.6268 - g_loss: 0.7357\n",
      "Epoch 934/2500\n",
      "469/469 [==============================] - 90s 192ms/step - d_loss: 0.6376 - g_loss: 0.6922\n",
      "Epoch 935/2500\n",
      "469/469 [==============================] - 90s 192ms/step - d_loss: 0.6110 - g_loss: 0.7934\n",
      "Epoch 936/2500\n",
      "469/469 [==============================] - 90s 193ms/step - d_loss: 0.6517 - g_loss: 0.7003\n",
      "Epoch 937/2500\n",
      "469/469 [==============================] - 90s 193ms/step - d_loss: 0.6382 - g_loss: 0.7438\n",
      "Epoch 938/2500\n",
      "469/469 [==============================] - 90s 193ms/step - d_loss: 0.6395 - g_loss: 0.6882\n",
      "Epoch 939/2500\n",
      "469/469 [==============================] - 90s 193ms/step - d_loss: 0.6493 - g_loss: 0.7127\n",
      "Epoch 940/2500\n",
      "469/469 [==============================] - 90s 192ms/step - d_loss: 0.6565 - g_loss: 0.6721\n",
      "Epoch 941/2500\n",
      "469/469 [==============================] - 90s 193ms/step - d_loss: 0.6443 - g_loss: 0.6852\n",
      "Epoch 942/2500\n",
      "469/469 [==============================] - 90s 193ms/step - d_loss: 0.6368 - g_loss: 0.7152\n",
      "Epoch 943/2500\n",
      "469/469 [==============================] - 90s 193ms/step - d_loss: 0.6076 - g_loss: 0.8133\n",
      "Epoch 944/2500\n",
      "469/469 [==============================] - 90s 193ms/step - d_loss: 0.6370 - g_loss: 0.6904\n",
      "Epoch 945/2500\n",
      "469/469 [==============================] - 90s 193ms/step - d_loss: 0.6401 - g_loss: 0.7445\n",
      "Epoch 946/2500\n",
      "469/469 [==============================] - 90s 193ms/step - d_loss: 0.6557 - g_loss: 0.7104\n",
      "Epoch 947/2500\n",
      "469/469 [==============================] - 90s 193ms/step - d_loss: 0.6562 - g_loss: 0.7291\n",
      "Epoch 948/2500\n",
      "469/469 [==============================] - 90s 193ms/step - d_loss: 0.6425 - g_loss: 0.7145\n",
      "Epoch 949/2500\n",
      "469/469 [==============================] - 90s 193ms/step - d_loss: 0.6399 - g_loss: 0.7053\n",
      "Epoch 950/2500\n",
      "469/469 [==============================] - 90s 193ms/step - d_loss: 0.6032 - g_loss: 0.7917\n",
      "Epoch 951/2500\n",
      "469/469 [==============================] - 90s 193ms/step - d_loss: 0.5657 - g_loss: 1.0378\n",
      "Epoch 952/2500\n",
      "469/469 [==============================] - 90s 193ms/step - d_loss: 0.6417 - g_loss: 0.6785\n",
      "Epoch 953/2500\n",
      "469/469 [==============================] - 90s 193ms/step - d_loss: 0.6181 - g_loss: 0.7386\n",
      "Epoch 954/2500\n",
      "469/469 [==============================] - 90s 193ms/step - d_loss: 0.6396 - g_loss: 0.7022\n",
      "Epoch 955/2500\n",
      "469/469 [==============================] - 90s 193ms/step - d_loss: 0.6650 - g_loss: 0.6788\n",
      "Epoch 956/2500\n",
      "469/469 [==============================] - 90s 193ms/step - d_loss: 0.6450 - g_loss: 0.6977\n",
      "Epoch 957/2500\n",
      "469/469 [==============================] - 90s 193ms/step - d_loss: 0.6616 - g_loss: 0.7200\n",
      "Epoch 958/2500\n",
      "469/469 [==============================] - 90s 193ms/step - d_loss: 0.6554 - g_loss: 0.6845\n",
      "Epoch 959/2500\n",
      "469/469 [==============================] - 90s 193ms/step - d_loss: 0.6676 - g_loss: 0.6842\n",
      "Epoch 960/2500\n",
      "469/469 [==============================] - 90s 193ms/step - d_loss: 0.6208 - g_loss: 0.7884\n",
      "Epoch 961/2500\n",
      "469/469 [==============================] - ETA: 0s - d_loss: 0.6450 - g_loss: 0.6597WARNING:tensorflow:Compiled the loaded model, but the compiled metrics have yet to be built. `model.compile_metrics` will be empty until you train or evaluate the model.\n"
     ]
    },
    {
     "name": "stderr",
     "output_type": "stream",
     "text": [
      "WARNING:tensorflow:Compiled the loaded model, but the compiled metrics have yet to be built. `model.compile_metrics` will be empty until you train or evaluate the model.\n",
      "WARNING:absl:Found untraced functions such as _jit_compiled_convolution_op, _jit_compiled_convolution_op, _jit_compiled_convolution_op, _jit_compiled_convolution_op, _jit_compiled_convolution_op while saving (showing 5 of 5). These functions will not be directly callable after loading.\n"
     ]
    },
    {
     "name": "stdout",
     "output_type": "stream",
     "text": [
      "INFO:tensorflow:Assets written to: generator.tf\\assets\n"
     ]
    },
    {
     "name": "stderr",
     "output_type": "stream",
     "text": [
      "INFO:tensorflow:Assets written to: generator.tf\\assets\n"
     ]
    },
    {
     "name": "stdout",
     "output_type": "stream",
     "text": [
      "WARNING:tensorflow:Compiled the loaded model, but the compiled metrics have yet to be built. `model.compile_metrics` will be empty until you train or evaluate the model.\n"
     ]
    },
    {
     "name": "stderr",
     "output_type": "stream",
     "text": [
      "WARNING:tensorflow:Compiled the loaded model, but the compiled metrics have yet to be built. `model.compile_metrics` will be empty until you train or evaluate the model.\n",
      "WARNING:absl:Found untraced functions such as _jit_compiled_convolution_op, _jit_compiled_convolution_op, _jit_compiled_convolution_op, _jit_compiled_convolution_op while saving (showing 4 of 4). These functions will not be directly callable after loading.\n"
     ]
    },
    {
     "name": "stdout",
     "output_type": "stream",
     "text": [
      "INFO:tensorflow:Assets written to: discriminator.tf\\assets\n"
     ]
    },
    {
     "name": "stderr",
     "output_type": "stream",
     "text": [
      "INFO:tensorflow:Assets written to: discriminator.tf\\assets\n"
     ]
    },
    {
     "name": "stdout",
     "output_type": "stream",
     "text": [
      "469/469 [==============================] - 92s 196ms/step - d_loss: 0.6451 - g_loss: 0.6596\n",
      "Epoch 962/2500\n",
      "469/469 [==============================] - 90s 193ms/step - d_loss: 0.6635 - g_loss: 0.6661\n",
      "Epoch 963/2500\n",
      "469/469 [==============================] - 90s 192ms/step - d_loss: 0.6516 - g_loss: 0.6979\n",
      "Epoch 964/2500\n",
      "469/469 [==============================] - 90s 193ms/step - d_loss: 0.6544 - g_loss: 0.6620\n",
      "Epoch 965/2500\n",
      "469/469 [==============================] - 90s 193ms/step - d_loss: 0.6553 - g_loss: 0.6851\n",
      "Epoch 966/2500\n",
      "469/469 [==============================] - 90s 192ms/step - d_loss: 0.6580 - g_loss: 0.6764\n",
      "Epoch 967/2500\n",
      "469/469 [==============================] - 90s 192ms/step - d_loss: 0.6588 - g_loss: 0.6591\n",
      "Epoch 968/2500\n",
      "469/469 [==============================] - 90s 192ms/step - d_loss: 0.6541 - g_loss: 0.6526\n",
      "Epoch 969/2500\n",
      "469/469 [==============================] - 90s 192ms/step - d_loss: 0.6603 - g_loss: 0.6792\n",
      "Epoch 970/2500\n",
      "469/469 [==============================] - 90s 192ms/step - d_loss: 0.6561 - g_loss: 0.6767\n",
      "Epoch 971/2500\n",
      "469/469 [==============================] - 90s 192ms/step - d_loss: 0.6398 - g_loss: 0.6748\n",
      "Epoch 972/2500\n",
      "469/469 [==============================] - 90s 193ms/step - d_loss: 0.6613 - g_loss: 0.6582\n",
      "Epoch 973/2500\n",
      "469/469 [==============================] - 90s 193ms/step - d_loss: 0.6649 - g_loss: 0.6405\n",
      "Epoch 974/2500\n",
      "469/469 [==============================] - 90s 193ms/step - d_loss: 0.6562 - g_loss: 0.6793\n",
      "Epoch 975/2500\n",
      "469/469 [==============================] - 90s 193ms/step - d_loss: 0.6486 - g_loss: 0.6810\n",
      "Epoch 976/2500\n",
      "469/469 [==============================] - 90s 192ms/step - d_loss: 0.6592 - g_loss: 0.6542\n",
      "Epoch 977/2500\n",
      "469/469 [==============================] - 90s 192ms/step - d_loss: 0.6621 - g_loss: 0.6723\n",
      "Epoch 978/2500\n",
      "469/469 [==============================] - 90s 192ms/step - d_loss: 0.6570 - g_loss: 0.6668\n",
      "Epoch 979/2500\n",
      "469/469 [==============================] - 90s 193ms/step - d_loss: 0.6697 - g_loss: 0.6577\n",
      "Epoch 980/2500\n",
      "469/469 [==============================] - 90s 193ms/step - d_loss: 0.6452 - g_loss: 0.7370\n",
      "Epoch 981/2500\n",
      "469/469 [==============================] - 90s 193ms/step - d_loss: 0.6533 - g_loss: 0.6901\n",
      "Epoch 982/2500\n",
      "469/469 [==============================] - 90s 193ms/step - d_loss: 0.6635 - g_loss: 0.6702\n",
      "Epoch 983/2500\n",
      "469/469 [==============================] - 90s 193ms/step - d_loss: 0.6476 - g_loss: 0.7106\n",
      "Epoch 984/2500\n",
      "469/469 [==============================] - 90s 192ms/step - d_loss: 0.6385 - g_loss: 0.7214\n",
      "Epoch 985/2500\n",
      "469/469 [==============================] - 90s 192ms/step - d_loss: 0.6802 - g_loss: 0.6638\n",
      "Epoch 986/2500\n",
      "469/469 [==============================] - 90s 192ms/step - d_loss: 0.6608 - g_loss: 0.6794\n",
      "Epoch 987/2500\n",
      "469/469 [==============================] - 90s 193ms/step - d_loss: 0.6611 - g_loss: 0.6813\n",
      "Epoch 988/2500\n",
      "469/469 [==============================] - 90s 193ms/step - d_loss: 0.6526 - g_loss: 0.7208\n",
      "Epoch 989/2500\n",
      "469/469 [==============================] - 90s 193ms/step - d_loss: 0.6619 - g_loss: 0.6487\n",
      "Epoch 990/2500\n",
      "469/469 [==============================] - 90s 193ms/step - d_loss: 0.6396 - g_loss: 0.7369\n",
      "Epoch 991/2500\n",
      "469/469 [==============================] - 90s 193ms/step - d_loss: 0.6408 - g_loss: 0.7410\n",
      "Epoch 992/2500\n",
      "469/469 [==============================] - ETA: 0s - d_loss: 0.6519 - g_loss: 0.6927WARNING:tensorflow:Compiled the loaded model, but the compiled metrics have yet to be built. `model.compile_metrics` will be empty until you train or evaluate the model.\n"
     ]
    },
    {
     "name": "stderr",
     "output_type": "stream",
     "text": [
      "WARNING:tensorflow:Compiled the loaded model, but the compiled metrics have yet to be built. `model.compile_metrics` will be empty until you train or evaluate the model.\n",
      "WARNING:absl:Found untraced functions such as _jit_compiled_convolution_op, _jit_compiled_convolution_op, _jit_compiled_convolution_op, _jit_compiled_convolution_op, _jit_compiled_convolution_op while saving (showing 5 of 5). These functions will not be directly callable after loading.\n"
     ]
    },
    {
     "name": "stdout",
     "output_type": "stream",
     "text": [
      "INFO:tensorflow:Assets written to: generator.tf\\assets\n"
     ]
    },
    {
     "name": "stderr",
     "output_type": "stream",
     "text": [
      "INFO:tensorflow:Assets written to: generator.tf\\assets\n"
     ]
    },
    {
     "name": "stdout",
     "output_type": "stream",
     "text": [
      "WARNING:tensorflow:Compiled the loaded model, but the compiled metrics have yet to be built. `model.compile_metrics` will be empty until you train or evaluate the model.\n"
     ]
    },
    {
     "name": "stderr",
     "output_type": "stream",
     "text": [
      "WARNING:tensorflow:Compiled the loaded model, but the compiled metrics have yet to be built. `model.compile_metrics` will be empty until you train or evaluate the model.\n",
      "WARNING:absl:Found untraced functions such as _jit_compiled_convolution_op, _jit_compiled_convolution_op, _jit_compiled_convolution_op, _jit_compiled_convolution_op while saving (showing 4 of 4). These functions will not be directly callable after loading.\n"
     ]
    },
    {
     "name": "stdout",
     "output_type": "stream",
     "text": [
      "INFO:tensorflow:Assets written to: discriminator.tf\\assets\n"
     ]
    },
    {
     "name": "stderr",
     "output_type": "stream",
     "text": [
      "INFO:tensorflow:Assets written to: discriminator.tf\\assets\n"
     ]
    },
    {
     "name": "stdout",
     "output_type": "stream",
     "text": [
      "469/469 [==============================] - 92s 197ms/step - d_loss: 0.6517 - g_loss: 0.6935\n",
      "Epoch 993/2500\n",
      "469/469 [==============================] - 90s 192ms/step - d_loss: 0.6427 - g_loss: 0.6958\n",
      "Epoch 994/2500\n",
      "469/469 [==============================] - 90s 192ms/step - d_loss: 0.6349 - g_loss: 0.7088\n",
      "Epoch 995/2500\n",
      "469/469 [==============================] - 90s 192ms/step - d_loss: 0.6394 - g_loss: 0.7154\n",
      "Epoch 996/2500\n",
      "469/469 [==============================] - 90s 193ms/step - d_loss: 0.6340 - g_loss: 0.7519\n",
      "Epoch 997/2500\n",
      "469/469 [==============================] - 90s 193ms/step - d_loss: 0.6189 - g_loss: 0.8051\n",
      "Epoch 998/2500\n",
      "469/469 [==============================] - 90s 193ms/step - d_loss: 0.6574 - g_loss: 0.7207\n",
      "Epoch 999/2500\n",
      "469/469 [==============================] - 90s 193ms/step - d_loss: 0.6287 - g_loss: 0.6761\n",
      "Epoch 1000/2500\n",
      "469/469 [==============================] - 90s 192ms/step - d_loss: 0.6464 - g_loss: 0.7324\n",
      "Epoch 1001/2500\n",
      "469/469 [==============================] - 90s 192ms/step - d_loss: 0.6351 - g_loss: 0.7244\n",
      "Epoch 1002/2500\n",
      "469/469 [==============================] - 90s 192ms/step - d_loss: 0.6286 - g_loss: 0.7025\n",
      "Epoch 1003/2500\n",
      "469/469 [==============================] - 90s 193ms/step - d_loss: 0.6385 - g_loss: 0.7418\n",
      "Epoch 1004/2500\n",
      "469/469 [==============================] - 90s 193ms/step - d_loss: 0.6418 - g_loss: 0.7467\n",
      "Epoch 1005/2500\n",
      "469/469 [==============================] - 90s 193ms/step - d_loss: 0.6654 - g_loss: 0.6908\n",
      "Epoch 1006/2500\n",
      "469/469 [==============================] - 90s 193ms/step - d_loss: 0.6455 - g_loss: 0.7207\n",
      "Epoch 1007/2500\n",
      "469/469 [==============================] - 90s 193ms/step - d_loss: 0.6369 - g_loss: 0.7347\n",
      "Epoch 1008/2500\n",
      "469/469 [==============================] - 90s 193ms/step - d_loss: 0.6443 - g_loss: 0.7114\n",
      "Epoch 1009/2500\n",
      "469/469 [==============================] - 90s 192ms/step - d_loss: 0.6632 - g_loss: 0.6747\n",
      "Epoch 1010/2500\n",
      "469/469 [==============================] - 90s 193ms/step - d_loss: 0.6379 - g_loss: 0.7069\n",
      "Epoch 1011/2500\n",
      "469/469 [==============================] - 90s 193ms/step - d_loss: 0.6429 - g_loss: 0.6890\n",
      "Epoch 1012/2500\n",
      "469/469 [==============================] - 90s 193ms/step - d_loss: 0.6632 - g_loss: 0.6685\n",
      "Epoch 1013/2500\n",
      "469/469 [==============================] - 90s 193ms/step - d_loss: 0.6261 - g_loss: 0.7101\n",
      "Epoch 1014/2500\n",
      "469/469 [==============================] - 90s 192ms/step - d_loss: 0.6400 - g_loss: 0.6813\n",
      "Epoch 1015/2500\n",
      "469/469 [==============================] - 90s 192ms/step - d_loss: 0.6290 - g_loss: 0.7507\n",
      "Epoch 1016/2500\n",
      "469/469 [==============================] - 90s 192ms/step - d_loss: 0.6045 - g_loss: 0.8729\n",
      "Epoch 1017/2500\n",
      "469/469 [==============================] - 90s 192ms/step - d_loss: 0.6594 - g_loss: 0.7100\n",
      "Epoch 1018/2500\n",
      "469/469 [==============================] - 90s 193ms/step - d_loss: 0.6349 - g_loss: 0.7699\n",
      "Epoch 1019/2500\n",
      "469/469 [==============================] - 90s 193ms/step - d_loss: 0.6303 - g_loss: 0.7229\n",
      "Epoch 1020/2500\n",
      "469/469 [==============================] - 90s 193ms/step - d_loss: 0.6371 - g_loss: 0.7670\n",
      "Epoch 1021/2500\n",
      "469/469 [==============================] - 90s 192ms/step - d_loss: 0.6296 - g_loss: 0.8087\n",
      "Epoch 1022/2500\n",
      "469/469 [==============================] - 90s 192ms/step - d_loss: 0.6575 - g_loss: 0.6973\n",
      "Epoch 1023/2500\n",
      "469/469 [==============================] - ETA: 0s - d_loss: 0.6435 - g_loss: 0.7292WARNING:tensorflow:Compiled the loaded model, but the compiled metrics have yet to be built. `model.compile_metrics` will be empty until you train or evaluate the model.\n"
     ]
    },
    {
     "name": "stderr",
     "output_type": "stream",
     "text": [
      "WARNING:tensorflow:Compiled the loaded model, but the compiled metrics have yet to be built. `model.compile_metrics` will be empty until you train or evaluate the model.\n",
      "WARNING:absl:Found untraced functions such as _jit_compiled_convolution_op, _jit_compiled_convolution_op, _jit_compiled_convolution_op, _jit_compiled_convolution_op, _jit_compiled_convolution_op while saving (showing 5 of 5). These functions will not be directly callable after loading.\n"
     ]
    },
    {
     "name": "stdout",
     "output_type": "stream",
     "text": [
      "INFO:tensorflow:Assets written to: generator.tf\\assets\n"
     ]
    },
    {
     "name": "stderr",
     "output_type": "stream",
     "text": [
      "INFO:tensorflow:Assets written to: generator.tf\\assets\n"
     ]
    },
    {
     "name": "stdout",
     "output_type": "stream",
     "text": [
      "WARNING:tensorflow:Compiled the loaded model, but the compiled metrics have yet to be built. `model.compile_metrics` will be empty until you train or evaluate the model.\n"
     ]
    },
    {
     "name": "stderr",
     "output_type": "stream",
     "text": [
      "WARNING:tensorflow:Compiled the loaded model, but the compiled metrics have yet to be built. `model.compile_metrics` will be empty until you train or evaluate the model.\n",
      "WARNING:absl:Found untraced functions such as _jit_compiled_convolution_op, _jit_compiled_convolution_op, _jit_compiled_convolution_op, _jit_compiled_convolution_op while saving (showing 4 of 4). These functions will not be directly callable after loading.\n"
     ]
    },
    {
     "name": "stdout",
     "output_type": "stream",
     "text": [
      "INFO:tensorflow:Assets written to: discriminator.tf\\assets\n"
     ]
    },
    {
     "name": "stderr",
     "output_type": "stream",
     "text": [
      "INFO:tensorflow:Assets written to: discriminator.tf\\assets\n"
     ]
    },
    {
     "name": "stdout",
     "output_type": "stream",
     "text": [
      "469/469 [==============================] - 92s 197ms/step - d_loss: 0.6436 - g_loss: 0.7291\n",
      "Epoch 1024/2500\n",
      "469/469 [==============================] - 90s 192ms/step - d_loss: 0.6249 - g_loss: 0.7199\n",
      "Epoch 1025/2500\n",
      "469/469 [==============================] - 90s 192ms/step - d_loss: 0.6456 - g_loss: 0.7145\n",
      "Epoch 1026/2500\n",
      "469/469 [==============================] - 90s 193ms/step - d_loss: 0.6305 - g_loss: 0.7581\n",
      "Epoch 1027/2500\n",
      "469/469 [==============================] - 90s 193ms/step - d_loss: 0.6208 - g_loss: 0.7079\n",
      "Epoch 1028/2500\n",
      "469/469 [==============================] - 90s 192ms/step - d_loss: 0.6529 - g_loss: 0.6991\n",
      "Epoch 1029/2500\n",
      "469/469 [==============================] - 90s 192ms/step - d_loss: 0.6587 - g_loss: 0.6514\n",
      "Epoch 1030/2500\n",
      "469/469 [==============================] - 90s 193ms/step - d_loss: 0.6583 - g_loss: 0.6645\n",
      "Epoch 1031/2500\n",
      "469/469 [==============================] - 90s 192ms/step - d_loss: 0.6543 - g_loss: 0.6852\n",
      "Epoch 1032/2500\n",
      "469/469 [==============================] - 93s 197ms/step - d_loss: 0.6400 - g_loss: 0.6988\n",
      "Epoch 1033/2500\n",
      "469/469 [==============================] - 91s 193ms/step - d_loss: 0.6572 - g_loss: 0.7360\n",
      "Epoch 1034/2500\n",
      "469/469 [==============================] - 91s 193ms/step - d_loss: 0.6632 - g_loss: 0.6910\n",
      "Epoch 1035/2500\n",
      "469/469 [==============================] - 91s 193ms/step - d_loss: 0.6563 - g_loss: 0.7237\n",
      "Epoch 1036/2500\n",
      "469/469 [==============================] - 91s 193ms/step - d_loss: 0.6188 - g_loss: 0.7366\n",
      "Epoch 1037/2500\n",
      "469/469 [==============================] - 91s 193ms/step - d_loss: 0.6426 - g_loss: 0.7258\n",
      "Epoch 1038/2500\n",
      "469/469 [==============================] - 91s 193ms/step - d_loss: 0.6523 - g_loss: 0.6863\n",
      "Epoch 1039/2500\n",
      "469/469 [==============================] - 91s 193ms/step - d_loss: 0.6518 - g_loss: 0.7223\n",
      "Epoch 1040/2500\n",
      "469/469 [==============================] - 91s 193ms/step - d_loss: 0.6508 - g_loss: 0.7130\n",
      "Epoch 1041/2500\n",
      "469/469 [==============================] - 91s 193ms/step - d_loss: 0.6285 - g_loss: 0.7309\n",
      "Epoch 1042/2500\n",
      "469/469 [==============================] - 91s 193ms/step - d_loss: 0.6431 - g_loss: 0.7165\n",
      "Epoch 1043/2500\n",
      "469/469 [==============================] - 91s 193ms/step - d_loss: 0.6160 - g_loss: 0.7771\n",
      "Epoch 1044/2500\n",
      "469/469 [==============================] - 91s 193ms/step - d_loss: 0.6364 - g_loss: 0.7345\n",
      "Epoch 1045/2500\n",
      "469/469 [==============================] - 91s 193ms/step - d_loss: 0.6641 - g_loss: 0.6972\n",
      "Epoch 1046/2500\n",
      "469/469 [==============================] - 91s 193ms/step - d_loss: 0.6560 - g_loss: 0.7050\n",
      "Epoch 1047/2500\n",
      "469/469 [==============================] - 91s 193ms/step - d_loss: 0.6370 - g_loss: 0.7244\n",
      "Epoch 1048/2500\n",
      "469/469 [==============================] - 91s 193ms/step - d_loss: 0.6409 - g_loss: 0.7104\n",
      "Epoch 1049/2500\n",
      "469/469 [==============================] - 91s 193ms/step - d_loss: 0.6646 - g_loss: 0.6757\n",
      "Epoch 1050/2500\n",
      "469/469 [==============================] - 91s 193ms/step - d_loss: 0.6537 - g_loss: 0.6981\n",
      "Epoch 1051/2500\n",
      "469/469 [==============================] - 91s 193ms/step - d_loss: 0.6475 - g_loss: 0.6983\n",
      "Epoch 1052/2500\n",
      "469/469 [==============================] - 91s 193ms/step - d_loss: 0.6523 - g_loss: 0.6990\n",
      "Epoch 1053/2500\n",
      "469/469 [==============================] - 90s 192ms/step - d_loss: 0.6320 - g_loss: 0.7346\n",
      "Epoch 1054/2500\n",
      "469/469 [==============================] - ETA: 0s - d_loss: 0.6766 - g_loss: 0.6373WARNING:tensorflow:Compiled the loaded model, but the compiled metrics have yet to be built. `model.compile_metrics` will be empty until you train or evaluate the model.\n"
     ]
    },
    {
     "name": "stderr",
     "output_type": "stream",
     "text": [
      "WARNING:tensorflow:Compiled the loaded model, but the compiled metrics have yet to be built. `model.compile_metrics` will be empty until you train or evaluate the model.\n",
      "WARNING:absl:Found untraced functions such as _jit_compiled_convolution_op, _jit_compiled_convolution_op, _jit_compiled_convolution_op, _jit_compiled_convolution_op, _jit_compiled_convolution_op while saving (showing 5 of 5). These functions will not be directly callable after loading.\n"
     ]
    },
    {
     "name": "stdout",
     "output_type": "stream",
     "text": [
      "INFO:tensorflow:Assets written to: generator.tf\\assets\n"
     ]
    },
    {
     "name": "stderr",
     "output_type": "stream",
     "text": [
      "INFO:tensorflow:Assets written to: generator.tf\\assets\n"
     ]
    },
    {
     "name": "stdout",
     "output_type": "stream",
     "text": [
      "WARNING:tensorflow:Compiled the loaded model, but the compiled metrics have yet to be built. `model.compile_metrics` will be empty until you train or evaluate the model.\n"
     ]
    },
    {
     "name": "stderr",
     "output_type": "stream",
     "text": [
      "WARNING:tensorflow:Compiled the loaded model, but the compiled metrics have yet to be built. `model.compile_metrics` will be empty until you train or evaluate the model.\n",
      "WARNING:absl:Found untraced functions such as _jit_compiled_convolution_op, _jit_compiled_convolution_op, _jit_compiled_convolution_op, _jit_compiled_convolution_op while saving (showing 4 of 4). These functions will not be directly callable after loading.\n"
     ]
    },
    {
     "name": "stdout",
     "output_type": "stream",
     "text": [
      "INFO:tensorflow:Assets written to: discriminator.tf\\assets\n"
     ]
    },
    {
     "name": "stderr",
     "output_type": "stream",
     "text": [
      "INFO:tensorflow:Assets written to: discriminator.tf\\assets\n"
     ]
    },
    {
     "name": "stdout",
     "output_type": "stream",
     "text": [
      "469/469 [==============================] - 99s 212ms/step - d_loss: 0.6766 - g_loss: 0.6374\n",
      "Epoch 1055/2500\n",
      "469/469 [==============================] - 90s 192ms/step - d_loss: 0.6545 - g_loss: 0.7063\n",
      "Epoch 1056/2500\n",
      "469/469 [==============================] - 90s 192ms/step - d_loss: 0.6447 - g_loss: 0.7069\n",
      "Epoch 1057/2500\n",
      "469/469 [==============================] - 90s 192ms/step - d_loss: 0.6362 - g_loss: 0.7540\n",
      "Epoch 1058/2500\n",
      "469/469 [==============================] - 90s 192ms/step - d_loss: 0.6517 - g_loss: 0.7022\n",
      "Epoch 1059/2500\n",
      "469/469 [==============================] - 90s 192ms/step - d_loss: 0.6473 - g_loss: 0.7280\n",
      "Epoch 1060/2500\n",
      "469/469 [==============================] - 90s 192ms/step - d_loss: 0.6195 - g_loss: 0.7488\n",
      "Epoch 1061/2500\n",
      "469/469 [==============================] - 90s 192ms/step - d_loss: 0.6380 - g_loss: 0.7462\n",
      "Epoch 1062/2500\n",
      "469/469 [==============================] - 90s 192ms/step - d_loss: 0.6162 - g_loss: 0.7562\n",
      "Epoch 1063/2500\n",
      "469/469 [==============================] - 90s 192ms/step - d_loss: 0.6260 - g_loss: 0.7651\n",
      "Epoch 1064/2500\n",
      "469/469 [==============================] - 90s 192ms/step - d_loss: 0.6328 - g_loss: 0.7504\n",
      "Epoch 1065/2500\n",
      "469/469 [==============================] - 90s 193ms/step - d_loss: 0.6306 - g_loss: 0.7538\n",
      "Epoch 1066/2500\n",
      "469/469 [==============================] - 90s 192ms/step - d_loss: 0.6549 - g_loss: 0.7292\n",
      "Epoch 1067/2500\n",
      "469/469 [==============================] - 90s 193ms/step - d_loss: 0.6394 - g_loss: 0.7096\n",
      "Epoch 1068/2500\n",
      "469/469 [==============================] - 90s 192ms/step - d_loss: 0.6518 - g_loss: 0.7139\n",
      "Epoch 1069/2500\n",
      "469/469 [==============================] - 90s 192ms/step - d_loss: 0.6376 - g_loss: 0.6993\n",
      "Epoch 1070/2500\n",
      "469/469 [==============================] - 90s 192ms/step - d_loss: 0.6521 - g_loss: 0.7011\n",
      "Epoch 1071/2500\n",
      "469/469 [==============================] - 90s 192ms/step - d_loss: 0.6534 - g_loss: 0.6718\n",
      "Epoch 1072/2500\n",
      "469/469 [==============================] - 90s 192ms/step - d_loss: 0.6412 - g_loss: 0.7353\n",
      "Epoch 1073/2500\n",
      "469/469 [==============================] - 90s 193ms/step - d_loss: 0.6378 - g_loss: 0.7725\n",
      "Epoch 1074/2500\n",
      "469/469 [==============================] - 90s 193ms/step - d_loss: 0.6223 - g_loss: 0.7112\n",
      "Epoch 1075/2500\n",
      "469/469 [==============================] - 90s 193ms/step - d_loss: 0.6523 - g_loss: 0.6718\n",
      "Epoch 1076/2500\n",
      "469/469 [==============================] - 90s 192ms/step - d_loss: 0.6707 - g_loss: 0.6754\n",
      "Epoch 1077/2500\n",
      "469/469 [==============================] - 90s 193ms/step - d_loss: 0.6628 - g_loss: 0.6908\n",
      "Epoch 1078/2500\n",
      "469/469 [==============================] - 90s 192ms/step - d_loss: 0.6683 - g_loss: 0.6571\n",
      "Epoch 1079/2500\n",
      "469/469 [==============================] - 90s 192ms/step - d_loss: 0.6729 - g_loss: 0.6939\n",
      "Epoch 1080/2500\n",
      "469/469 [==============================] - 90s 192ms/step - d_loss: 0.6742 - g_loss: 0.6445\n",
      "Epoch 1081/2500\n",
      "469/469 [==============================] - 90s 192ms/step - d_loss: 0.6778 - g_loss: 0.6516\n",
      "Epoch 1082/2500\n",
      "469/469 [==============================] - 90s 192ms/step - d_loss: 0.6714 - g_loss: 0.6711\n",
      "Epoch 1083/2500\n",
      "469/469 [==============================] - 90s 193ms/step - d_loss: 0.6772 - g_loss: 0.6550\n",
      "Epoch 1084/2500\n",
      "469/469 [==============================] - 90s 193ms/step - d_loss: 0.6826 - g_loss: 0.6318\n",
      "Epoch 1085/2500\n",
      "469/469 [==============================] - ETA: 0s - d_loss: 0.6649 - g_loss: 0.7230WARNING:tensorflow:Compiled the loaded model, but the compiled metrics have yet to be built. `model.compile_metrics` will be empty until you train or evaluate the model.\n"
     ]
    },
    {
     "name": "stderr",
     "output_type": "stream",
     "text": [
      "WARNING:tensorflow:Compiled the loaded model, but the compiled metrics have yet to be built. `model.compile_metrics` will be empty until you train or evaluate the model.\n",
      "WARNING:absl:Found untraced functions such as _jit_compiled_convolution_op, _jit_compiled_convolution_op, _jit_compiled_convolution_op, _jit_compiled_convolution_op, _jit_compiled_convolution_op while saving (showing 5 of 5). These functions will not be directly callable after loading.\n"
     ]
    },
    {
     "name": "stdout",
     "output_type": "stream",
     "text": [
      "INFO:tensorflow:Assets written to: generator.tf\\assets\n"
     ]
    },
    {
     "name": "stderr",
     "output_type": "stream",
     "text": [
      "INFO:tensorflow:Assets written to: generator.tf\\assets\n"
     ]
    },
    {
     "name": "stdout",
     "output_type": "stream",
     "text": [
      "WARNING:tensorflow:Compiled the loaded model, but the compiled metrics have yet to be built. `model.compile_metrics` will be empty until you train or evaluate the model.\n"
     ]
    },
    {
     "name": "stderr",
     "output_type": "stream",
     "text": [
      "WARNING:tensorflow:Compiled the loaded model, but the compiled metrics have yet to be built. `model.compile_metrics` will be empty until you train or evaluate the model.\n",
      "WARNING:absl:Found untraced functions such as _jit_compiled_convolution_op, _jit_compiled_convolution_op, _jit_compiled_convolution_op, _jit_compiled_convolution_op while saving (showing 4 of 4). These functions will not be directly callable after loading.\n"
     ]
    },
    {
     "name": "stdout",
     "output_type": "stream",
     "text": [
      "INFO:tensorflow:Assets written to: discriminator.tf\\assets\n"
     ]
    },
    {
     "name": "stderr",
     "output_type": "stream",
     "text": [
      "INFO:tensorflow:Assets written to: discriminator.tf\\assets\n"
     ]
    },
    {
     "name": "stdout",
     "output_type": "stream",
     "text": [
      "469/469 [==============================] - 92s 197ms/step - d_loss: 0.6650 - g_loss: 0.7231\n",
      "Epoch 1086/2500\n",
      "469/469 [==============================] - 90s 192ms/step - d_loss: 0.6715 - g_loss: 0.6959\n",
      "Epoch 1087/2500\n",
      "469/469 [==============================] - 90s 192ms/step - d_loss: 0.6821 - g_loss: 0.6850\n",
      "Epoch 1088/2500\n",
      "469/469 [==============================] - 90s 192ms/step - d_loss: 0.6747 - g_loss: 0.6418\n",
      "Epoch 1089/2500\n",
      "469/469 [==============================] - 90s 192ms/step - d_loss: 0.6860 - g_loss: 0.6637\n",
      "Epoch 1090/2500\n",
      "469/469 [==============================] - 90s 193ms/step - d_loss: 0.6821 - g_loss: 0.6192\n",
      "Epoch 1091/2500\n",
      "469/469 [==============================] - 90s 193ms/step - d_loss: 0.6825 - g_loss: 0.6699\n",
      "Epoch 1092/2500\n",
      "469/469 [==============================] - 90s 193ms/step - d_loss: 0.6833 - g_loss: 0.6511\n",
      "Epoch 1093/2500\n",
      "469/469 [==============================] - 90s 193ms/step - d_loss: 0.6777 - g_loss: 0.6465\n",
      "Epoch 1094/2500\n",
      "469/469 [==============================] - 90s 193ms/step - d_loss: 0.6821 - g_loss: 0.6306\n",
      "Epoch 1095/2500\n",
      "469/469 [==============================] - 90s 192ms/step - d_loss: 0.6835 - g_loss: 0.6508\n",
      "Epoch 1096/2500\n",
      "469/469 [==============================] - 90s 192ms/step - d_loss: 0.6837 - g_loss: 0.6412\n",
      "Epoch 1097/2500\n",
      "469/469 [==============================] - 90s 192ms/step - d_loss: 0.6853 - g_loss: 0.6614\n",
      "Epoch 1098/2500\n",
      "469/469 [==============================] - 90s 193ms/step - d_loss: 0.6605 - g_loss: 0.6841\n",
      "Epoch 1099/2500\n",
      "469/469 [==============================] - 90s 193ms/step - d_loss: 0.6802 - g_loss: 0.6331\n",
      "Epoch 1100/2500\n",
      "469/469 [==============================] - 90s 192ms/step - d_loss: 0.6793 - g_loss: 0.6531\n",
      "Epoch 1101/2500\n",
      "469/469 [==============================] - 90s 192ms/step - d_loss: 0.6813 - g_loss: 0.6221\n",
      "Epoch 1102/2500\n",
      "469/469 [==============================] - 90s 193ms/step - d_loss: 0.6820 - g_loss: 0.6452\n",
      "Epoch 1103/2500\n",
      "469/469 [==============================] - 90s 192ms/step - d_loss: 0.6896 - g_loss: 0.6352\n",
      "Epoch 1104/2500\n",
      "469/469 [==============================] - 90s 192ms/step - d_loss: 0.6867 - g_loss: 0.6372\n",
      "Epoch 1105/2500\n",
      "469/469 [==============================] - 90s 192ms/step - d_loss: 0.6915 - g_loss: 0.6407\n",
      "Epoch 1106/2500\n",
      "469/469 [==============================] - 90s 192ms/step - d_loss: 0.6854 - g_loss: 0.6449\n",
      "Epoch 1107/2500\n",
      "469/469 [==============================] - 90s 193ms/step - d_loss: 0.6848 - g_loss: 0.6514\n",
      "Epoch 1108/2500\n",
      "469/469 [==============================] - 90s 193ms/step - d_loss: 0.6833 - g_loss: 0.6594\n",
      "Epoch 1109/2500\n",
      "469/469 [==============================] - 90s 193ms/step - d_loss: 0.6762 - g_loss: 0.6848\n",
      "Epoch 1110/2500\n",
      "469/469 [==============================] - 90s 192ms/step - d_loss: 0.6868 - g_loss: 0.6409\n",
      "Epoch 1111/2500\n",
      "469/469 [==============================] - 90s 192ms/step - d_loss: 0.6891 - g_loss: 0.6313\n",
      "Epoch 1112/2500\n",
      "469/469 [==============================] - 90s 192ms/step - d_loss: 0.6880 - g_loss: 0.6458\n",
      "Epoch 1113/2500\n",
      "469/469 [==============================] - 90s 193ms/step - d_loss: 0.6883 - g_loss: 0.6491\n",
      "Epoch 1114/2500\n",
      "469/469 [==============================] - 90s 193ms/step - d_loss: 0.6832 - g_loss: 0.6671\n",
      "Epoch 1115/2500\n",
      "469/469 [==============================] - 90s 193ms/step - d_loss: 0.6779 - g_loss: 0.6935\n",
      "Epoch 1116/2500\n",
      "469/469 [==============================] - ETA: 0s - d_loss: 0.6802 - g_loss: 0.6504WARNING:tensorflow:Compiled the loaded model, but the compiled metrics have yet to be built. `model.compile_metrics` will be empty until you train or evaluate the model.\n"
     ]
    },
    {
     "name": "stderr",
     "output_type": "stream",
     "text": [
      "WARNING:tensorflow:Compiled the loaded model, but the compiled metrics have yet to be built. `model.compile_metrics` will be empty until you train or evaluate the model.\n",
      "WARNING:absl:Found untraced functions such as _jit_compiled_convolution_op, _jit_compiled_convolution_op, _jit_compiled_convolution_op, _jit_compiled_convolution_op, _jit_compiled_convolution_op while saving (showing 5 of 5). These functions will not be directly callable after loading.\n"
     ]
    },
    {
     "name": "stdout",
     "output_type": "stream",
     "text": [
      "INFO:tensorflow:Assets written to: generator.tf\\assets\n"
     ]
    },
    {
     "name": "stderr",
     "output_type": "stream",
     "text": [
      "INFO:tensorflow:Assets written to: generator.tf\\assets\n"
     ]
    },
    {
     "name": "stdout",
     "output_type": "stream",
     "text": [
      "WARNING:tensorflow:Compiled the loaded model, but the compiled metrics have yet to be built. `model.compile_metrics` will be empty until you train or evaluate the model.\n"
     ]
    },
    {
     "name": "stderr",
     "output_type": "stream",
     "text": [
      "WARNING:tensorflow:Compiled the loaded model, but the compiled metrics have yet to be built. `model.compile_metrics` will be empty until you train or evaluate the model.\n",
      "WARNING:absl:Found untraced functions such as _jit_compiled_convolution_op, _jit_compiled_convolution_op, _jit_compiled_convolution_op, _jit_compiled_convolution_op while saving (showing 4 of 4). These functions will not be directly callable after loading.\n"
     ]
    },
    {
     "name": "stdout",
     "output_type": "stream",
     "text": [
      "INFO:tensorflow:Assets written to: discriminator.tf\\assets\n"
     ]
    },
    {
     "name": "stderr",
     "output_type": "stream",
     "text": [
      "INFO:tensorflow:Assets written to: discriminator.tf\\assets\n"
     ]
    },
    {
     "name": "stdout",
     "output_type": "stream",
     "text": [
      "469/469 [==============================] - 92s 196ms/step - d_loss: 0.6802 - g_loss: 0.6502\n",
      "Epoch 1117/2500\n",
      "469/469 [==============================] - 90s 192ms/step - d_loss: 0.6872 - g_loss: 0.6609\n",
      "Epoch 1118/2500\n",
      "469/469 [==============================] - 90s 192ms/step - d_loss: 0.6916 - g_loss: 0.6329\n",
      "Epoch 1119/2500\n",
      "469/469 [==============================] - 90s 192ms/step - d_loss: 0.6852 - g_loss: 0.6538\n",
      "Epoch 1120/2500\n",
      "469/469 [==============================] - 90s 192ms/step - d_loss: 0.6794 - g_loss: 0.6384\n",
      "Epoch 1121/2500\n",
      "469/469 [==============================] - 90s 193ms/step - d_loss: 0.6811 - g_loss: 0.6478\n",
      "Epoch 1122/2500\n",
      "469/469 [==============================] - 90s 193ms/step - d_loss: 0.6844 - g_loss: 0.6603\n",
      "Epoch 1123/2500\n",
      "469/469 [==============================] - 90s 193ms/step - d_loss: 0.6802 - g_loss: 0.6407\n",
      "Epoch 1124/2500\n",
      "469/469 [==============================] - 90s 192ms/step - d_loss: 0.6750 - g_loss: 0.6655\n",
      "Epoch 1125/2500\n",
      "469/469 [==============================] - 90s 192ms/step - d_loss: 0.6868 - g_loss: 0.6550\n",
      "Epoch 1126/2500\n",
      "469/469 [==============================] - 90s 192ms/step - d_loss: 0.6811 - g_loss: 0.6686\n",
      "Epoch 1127/2500\n",
      "469/469 [==============================] - 90s 192ms/step - d_loss: 0.6838 - g_loss: 0.6633\n",
      "Epoch 1128/2500\n",
      "469/469 [==============================] - 90s 192ms/step - d_loss: 0.6828 - g_loss: 0.6380\n",
      "Epoch 1129/2500\n",
      "469/469 [==============================] - 90s 192ms/step - d_loss: 0.6866 - g_loss: 0.6364\n",
      "Epoch 1130/2500\n",
      "469/469 [==============================] - 90s 193ms/step - d_loss: 0.6883 - g_loss: 0.6470\n",
      "Epoch 1131/2500\n",
      "469/469 [==============================] - 90s 193ms/step - d_loss: 0.6868 - g_loss: 0.6334\n",
      "Epoch 1132/2500\n",
      "469/469 [==============================] - 90s 193ms/step - d_loss: 0.6852 - g_loss: 0.6494\n",
      "Epoch 1133/2500\n",
      "469/469 [==============================] - 90s 192ms/step - d_loss: 0.6791 - g_loss: 0.6417\n",
      "Epoch 1134/2500\n",
      "469/469 [==============================] - 90s 192ms/step - d_loss: 0.6833 - g_loss: 0.6240\n",
      "Epoch 1135/2500\n",
      "469/469 [==============================] - 90s 192ms/step - d_loss: 0.6888 - g_loss: 0.6367\n",
      "Epoch 1136/2500\n",
      "469/469 [==============================] - 90s 192ms/step - d_loss: 0.6826 - g_loss: 0.6658\n",
      "Epoch 1137/2500\n",
      "469/469 [==============================] - 90s 192ms/step - d_loss: 0.6809 - g_loss: 0.6381\n",
      "Epoch 1138/2500\n",
      "469/469 [==============================] - 90s 193ms/step - d_loss: 0.6893 - g_loss: 0.6486\n",
      "Epoch 1139/2500\n",
      "469/469 [==============================] - 90s 193ms/step - d_loss: 0.6877 - g_loss: 0.6357\n",
      "Epoch 1140/2500\n",
      "469/469 [==============================] - 90s 192ms/step - d_loss: 0.6886 - g_loss: 0.6437\n",
      "Epoch 1141/2500\n",
      "469/469 [==============================] - 90s 192ms/step - d_loss: 0.6924 - g_loss: 0.6430\n",
      "Epoch 1142/2500\n",
      "469/469 [==============================] - 90s 192ms/step - d_loss: 0.6924 - g_loss: 0.6423\n",
      "Epoch 1143/2500\n",
      "469/469 [==============================] - 90s 192ms/step - d_loss: 0.6848 - g_loss: 0.6580\n",
      "Epoch 1144/2500\n",
      "469/469 [==============================] - 90s 193ms/step - d_loss: 0.6834 - g_loss: 0.6392\n",
      "Epoch 1145/2500\n",
      "469/469 [==============================] - 90s 193ms/step - d_loss: 0.6592 - g_loss: 0.7146\n",
      "Epoch 1146/2500\n",
      "469/469 [==============================] - 90s 193ms/step - d_loss: 0.6580 - g_loss: 0.6569\n",
      "Epoch 1147/2500\n",
      "469/469 [==============================] - ETA: 0s - d_loss: 0.6716 - g_loss: 0.6479WARNING:tensorflow:Compiled the loaded model, but the compiled metrics have yet to be built. `model.compile_metrics` will be empty until you train or evaluate the model.\n"
     ]
    },
    {
     "name": "stderr",
     "output_type": "stream",
     "text": [
      "WARNING:tensorflow:Compiled the loaded model, but the compiled metrics have yet to be built. `model.compile_metrics` will be empty until you train or evaluate the model.\n",
      "WARNING:absl:Found untraced functions such as _jit_compiled_convolution_op, _jit_compiled_convolution_op, _jit_compiled_convolution_op, _jit_compiled_convolution_op, _jit_compiled_convolution_op while saving (showing 5 of 5). These functions will not be directly callable after loading.\n"
     ]
    },
    {
     "name": "stdout",
     "output_type": "stream",
     "text": [
      "INFO:tensorflow:Assets written to: generator.tf\\assets\n"
     ]
    },
    {
     "name": "stderr",
     "output_type": "stream",
     "text": [
      "INFO:tensorflow:Assets written to: generator.tf\\assets\n"
     ]
    },
    {
     "name": "stdout",
     "output_type": "stream",
     "text": [
      "WARNING:tensorflow:Compiled the loaded model, but the compiled metrics have yet to be built. `model.compile_metrics` will be empty until you train or evaluate the model.\n"
     ]
    },
    {
     "name": "stderr",
     "output_type": "stream",
     "text": [
      "WARNING:tensorflow:Compiled the loaded model, but the compiled metrics have yet to be built. `model.compile_metrics` will be empty until you train or evaluate the model.\n",
      "WARNING:absl:Found untraced functions such as _jit_compiled_convolution_op, _jit_compiled_convolution_op, _jit_compiled_convolution_op, _jit_compiled_convolution_op while saving (showing 4 of 4). These functions will not be directly callable after loading.\n"
     ]
    },
    {
     "name": "stdout",
     "output_type": "stream",
     "text": [
      "INFO:tensorflow:Assets written to: discriminator.tf\\assets\n"
     ]
    },
    {
     "name": "stderr",
     "output_type": "stream",
     "text": [
      "INFO:tensorflow:Assets written to: discriminator.tf\\assets\n"
     ]
    },
    {
     "name": "stdout",
     "output_type": "stream",
     "text": [
      "469/469 [==============================] - 92s 197ms/step - d_loss: 0.6716 - g_loss: 0.6479\n",
      "Epoch 1148/2500\n",
      "469/469 [==============================] - 90s 193ms/step - d_loss: 0.6754 - g_loss: 0.6763\n",
      "Epoch 1149/2500\n",
      "469/469 [==============================] - 90s 192ms/step - d_loss: 0.6707 - g_loss: 0.6423\n",
      "Epoch 1150/2500\n",
      "469/469 [==============================] - 90s 192ms/step - d_loss: 0.6878 - g_loss: 0.6402\n",
      "Epoch 1151/2500\n",
      "469/469 [==============================] - 90s 192ms/step - d_loss: 0.6853 - g_loss: 0.6424\n",
      "Epoch 1152/2500\n",
      "469/469 [==============================] - 90s 192ms/step - d_loss: 0.6819 - g_loss: 0.6406\n",
      "Epoch 1153/2500\n",
      "469/469 [==============================] - 90s 193ms/step - d_loss: 0.6878 - g_loss: 0.6420\n",
      "Epoch 1154/2500\n",
      "469/469 [==============================] - 90s 193ms/step - d_loss: 0.6924 - g_loss: 0.6250\n",
      "Epoch 1155/2500\n",
      "469/469 [==============================] - 90s 193ms/step - d_loss: 0.6888 - g_loss: 0.6450\n",
      "Epoch 1156/2500\n",
      "469/469 [==============================] - 90s 192ms/step - d_loss: 0.6842 - g_loss: 0.6649\n",
      "Epoch 1157/2500\n",
      "469/469 [==============================] - 90s 192ms/step - d_loss: 0.6890 - g_loss: 0.6508\n",
      "Epoch 1158/2500\n",
      "469/469 [==============================] - 90s 192ms/step - d_loss: 0.6887 - g_loss: 0.6561\n",
      "Epoch 1159/2500\n",
      "469/469 [==============================] - 90s 192ms/step - d_loss: 0.6836 - g_loss: 0.6632\n",
      "Epoch 1160/2500\n",
      "469/469 [==============================] - 90s 193ms/step - d_loss: 0.6867 - g_loss: 0.6539\n",
      "Epoch 1161/2500\n",
      "469/469 [==============================] - 90s 193ms/step - d_loss: 0.6874 - g_loss: 0.6496\n",
      "Epoch 1162/2500\n",
      "469/469 [==============================] - 90s 193ms/step - d_loss: 0.6903 - g_loss: 0.6522\n",
      "Epoch 1163/2500\n",
      "469/469 [==============================] - 90s 193ms/step - d_loss: 0.6927 - g_loss: 0.6331\n",
      "Epoch 1164/2500\n",
      "469/469 [==============================] - 90s 192ms/step - d_loss: 0.6984 - g_loss: 0.6449\n",
      "Epoch 1165/2500\n",
      "469/469 [==============================] - 90s 192ms/step - d_loss: 0.6925 - g_loss: 0.6631\n",
      "Epoch 1166/2500\n",
      "469/469 [==============================] - 90s 192ms/step - d_loss: 0.6903 - g_loss: 0.6470\n",
      "Epoch 1167/2500\n",
      "469/469 [==============================] - 90s 193ms/step - d_loss: 0.6926 - g_loss: 0.6700\n",
      "Epoch 1168/2500\n",
      "469/469 [==============================] - 90s 193ms/step - d_loss: 0.6908 - g_loss: 0.6547\n",
      "Epoch 1169/2500\n",
      "469/469 [==============================] - 90s 193ms/step - d_loss: 0.6911 - g_loss: 0.6562\n",
      "Epoch 1170/2500\n",
      "469/469 [==============================] - 90s 193ms/step - d_loss: 0.6935 - g_loss: 0.6598\n",
      "Epoch 1171/2500\n",
      "469/469 [==============================] - 90s 193ms/step - d_loss: 0.6881 - g_loss: 0.6498\n",
      "Epoch 1172/2500\n",
      "469/469 [==============================] - 90s 192ms/step - d_loss: 0.6925 - g_loss: 0.6555\n",
      "Epoch 1173/2500\n",
      "469/469 [==============================] - 90s 192ms/step - d_loss: 0.6887 - g_loss: 0.6509\n",
      "Epoch 1174/2500\n",
      "469/469 [==============================] - 90s 192ms/step - d_loss: 0.6874 - g_loss: 0.6598\n",
      "Epoch 1175/2500\n",
      "469/469 [==============================] - 90s 193ms/step - d_loss: 0.6638 - g_loss: 0.6985\n",
      "Epoch 1176/2500\n",
      "469/469 [==============================] - 90s 193ms/step - d_loss: 0.6842 - g_loss: 0.6589\n",
      "Epoch 1177/2500\n",
      "469/469 [==============================] - 90s 193ms/step - d_loss: 0.6856 - g_loss: 0.6465\n",
      "Epoch 1178/2500\n",
      "469/469 [==============================] - ETA: 0s - d_loss: 0.6894 - g_loss: 0.6579WARNING:tensorflow:Compiled the loaded model, but the compiled metrics have yet to be built. `model.compile_metrics` will be empty until you train or evaluate the model.\n"
     ]
    },
    {
     "name": "stderr",
     "output_type": "stream",
     "text": [
      "WARNING:tensorflow:Compiled the loaded model, but the compiled metrics have yet to be built. `model.compile_metrics` will be empty until you train or evaluate the model.\n",
      "WARNING:absl:Found untraced functions such as _jit_compiled_convolution_op, _jit_compiled_convolution_op, _jit_compiled_convolution_op, _jit_compiled_convolution_op, _jit_compiled_convolution_op while saving (showing 5 of 5). These functions will not be directly callable after loading.\n"
     ]
    },
    {
     "name": "stdout",
     "output_type": "stream",
     "text": [
      "INFO:tensorflow:Assets written to: generator.tf\\assets\n"
     ]
    },
    {
     "name": "stderr",
     "output_type": "stream",
     "text": [
      "INFO:tensorflow:Assets written to: generator.tf\\assets\n"
     ]
    },
    {
     "name": "stdout",
     "output_type": "stream",
     "text": [
      "WARNING:tensorflow:Compiled the loaded model, but the compiled metrics have yet to be built. `model.compile_metrics` will be empty until you train or evaluate the model.\n"
     ]
    },
    {
     "name": "stderr",
     "output_type": "stream",
     "text": [
      "WARNING:tensorflow:Compiled the loaded model, but the compiled metrics have yet to be built. `model.compile_metrics` will be empty until you train or evaluate the model.\n",
      "WARNING:absl:Found untraced functions such as _jit_compiled_convolution_op, _jit_compiled_convolution_op, _jit_compiled_convolution_op, _jit_compiled_convolution_op while saving (showing 4 of 4). These functions will not be directly callable after loading.\n"
     ]
    },
    {
     "name": "stdout",
     "output_type": "stream",
     "text": [
      "INFO:tensorflow:Assets written to: discriminator.tf\\assets\n"
     ]
    },
    {
     "name": "stderr",
     "output_type": "stream",
     "text": [
      "INFO:tensorflow:Assets written to: discriminator.tf\\assets\n"
     ]
    },
    {
     "name": "stdout",
     "output_type": "stream",
     "text": [
      "469/469 [==============================] - 92s 196ms/step - d_loss: 0.6894 - g_loss: 0.6579\n",
      "Epoch 1179/2500\n",
      "469/469 [==============================] - 90s 192ms/step - d_loss: 0.6890 - g_loss: 0.6385\n",
      "Epoch 1180/2500\n",
      "469/469 [==============================] - 90s 192ms/step - d_loss: 0.6862 - g_loss: 0.6567\n",
      "Epoch 1181/2500\n",
      "469/469 [==============================] - 90s 192ms/step - d_loss: 0.6853 - g_loss: 0.6519\n",
      "Epoch 1182/2500\n",
      "469/469 [==============================] - 90s 192ms/step - d_loss: 0.6895 - g_loss: 0.6515\n",
      "Epoch 1183/2500\n",
      "469/469 [==============================] - 90s 192ms/step - d_loss: 0.6920 - g_loss: 0.6449\n",
      "Epoch 1184/2500\n",
      "469/469 [==============================] - 90s 193ms/step - d_loss: 0.6849 - g_loss: 0.6646\n",
      "Epoch 1185/2500\n",
      "469/469 [==============================] - 90s 193ms/step - d_loss: 0.6897 - g_loss: 0.6442\n",
      "Epoch 1186/2500\n",
      "469/469 [==============================] - 90s 192ms/step - d_loss: 0.6878 - g_loss: 0.6591\n",
      "Epoch 1187/2500\n",
      "469/469 [==============================] - 90s 192ms/step - d_loss: 0.6868 - g_loss: 0.6558\n",
      "Epoch 1188/2500\n",
      "469/469 [==============================] - 90s 192ms/step - d_loss: 0.6849 - g_loss: 0.6652\n",
      "Epoch 1189/2500\n",
      "469/469 [==============================] - 90s 192ms/step - d_loss: 0.5450 - g_loss: 0.9835\n",
      "Epoch 1190/2500\n",
      "469/469 [==============================] - 90s 193ms/step - d_loss: 0.6579 - g_loss: 0.7295\n",
      "Epoch 1191/2500\n",
      "469/469 [==============================] - 90s 193ms/step - d_loss: 0.6769 - g_loss: 0.6634\n",
      "Epoch 1192/2500\n",
      "469/469 [==============================] - 90s 193ms/step - d_loss: 0.6814 - g_loss: 0.6681\n",
      "Epoch 1193/2500\n",
      "469/469 [==============================] - 90s 193ms/step - d_loss: 0.6784 - g_loss: 0.6569\n",
      "Epoch 1194/2500\n",
      "469/469 [==============================] - 90s 192ms/step - d_loss: 0.6909 - g_loss: 0.6360\n",
      "Epoch 1195/2500\n",
      "469/469 [==============================] - 90s 192ms/step - d_loss: 0.6858 - g_loss: 0.6473\n",
      "Epoch 1196/2500\n",
      "469/469 [==============================] - 90s 192ms/step - d_loss: 0.6872 - g_loss: 0.6400\n",
      "Epoch 1197/2500\n",
      "469/469 [==============================] - 90s 192ms/step - d_loss: 0.6924 - g_loss: 0.6502\n",
      "Epoch 1198/2500\n",
      "469/469 [==============================] - 90s 193ms/step - d_loss: 0.6939 - g_loss: 0.6367\n",
      "Epoch 1199/2500\n",
      "469/469 [==============================] - 90s 193ms/step - d_loss: 0.6859 - g_loss: 0.6393\n",
      "Epoch 1200/2500\n",
      "469/469 [==============================] - 90s 193ms/step - d_loss: 0.6842 - g_loss: 0.6514\n",
      "Epoch 1201/2500\n",
      "469/469 [==============================] - 90s 193ms/step - d_loss: 0.6861 - g_loss: 0.6356\n",
      "Epoch 1202/2500\n",
      "469/469 [==============================] - 90s 192ms/step - d_loss: 0.6783 - g_loss: 0.6519\n",
      "Epoch 1203/2500\n",
      "469/469 [==============================] - 90s 192ms/step - d_loss: 0.6897 - g_loss: 0.6451\n",
      "Epoch 1204/2500\n",
      "469/469 [==============================] - 90s 192ms/step - d_loss: 0.6862 - g_loss: 0.6354\n",
      "Epoch 1205/2500\n",
      "469/469 [==============================] - 90s 193ms/step - d_loss: 0.6862 - g_loss: 0.6373\n",
      "Epoch 1206/2500\n",
      "469/469 [==============================] - 90s 192ms/step - d_loss: 0.6879 - g_loss: 0.6530\n",
      "Epoch 1207/2500\n",
      "469/469 [==============================] - 90s 193ms/step - d_loss: 0.6819 - g_loss: 0.6554\n",
      "Epoch 1208/2500\n",
      "469/469 [==============================] - 90s 193ms/step - d_loss: 0.6878 - g_loss: 0.6493\n",
      "Epoch 1209/2500\n",
      "469/469 [==============================] - ETA: 0s - d_loss: 0.6828 - g_loss: 0.6613WARNING:tensorflow:Compiled the loaded model, but the compiled metrics have yet to be built. `model.compile_metrics` will be empty until you train or evaluate the model.\n"
     ]
    },
    {
     "name": "stderr",
     "output_type": "stream",
     "text": [
      "WARNING:tensorflow:Compiled the loaded model, but the compiled metrics have yet to be built. `model.compile_metrics` will be empty until you train or evaluate the model.\n",
      "WARNING:absl:Found untraced functions such as _jit_compiled_convolution_op, _jit_compiled_convolution_op, _jit_compiled_convolution_op, _jit_compiled_convolution_op, _jit_compiled_convolution_op while saving (showing 5 of 5). These functions will not be directly callable after loading.\n"
     ]
    },
    {
     "name": "stdout",
     "output_type": "stream",
     "text": [
      "INFO:tensorflow:Assets written to: generator.tf\\assets\n"
     ]
    },
    {
     "name": "stderr",
     "output_type": "stream",
     "text": [
      "INFO:tensorflow:Assets written to: generator.tf\\assets\n"
     ]
    },
    {
     "name": "stdout",
     "output_type": "stream",
     "text": [
      "WARNING:tensorflow:Compiled the loaded model, but the compiled metrics have yet to be built. `model.compile_metrics` will be empty until you train or evaluate the model.\n"
     ]
    },
    {
     "name": "stderr",
     "output_type": "stream",
     "text": [
      "WARNING:tensorflow:Compiled the loaded model, but the compiled metrics have yet to be built. `model.compile_metrics` will be empty until you train or evaluate the model.\n",
      "WARNING:absl:Found untraced functions such as _jit_compiled_convolution_op, _jit_compiled_convolution_op, _jit_compiled_convolution_op, _jit_compiled_convolution_op while saving (showing 4 of 4). These functions will not be directly callable after loading.\n"
     ]
    },
    {
     "name": "stdout",
     "output_type": "stream",
     "text": [
      "INFO:tensorflow:Assets written to: discriminator.tf\\assets\n"
     ]
    },
    {
     "name": "stderr",
     "output_type": "stream",
     "text": [
      "INFO:tensorflow:Assets written to: discriminator.tf\\assets\n"
     ]
    },
    {
     "name": "stdout",
     "output_type": "stream",
     "text": [
      "469/469 [==============================] - 92s 197ms/step - d_loss: 0.6828 - g_loss: 0.6611\n",
      "Epoch 1210/2500\n",
      "469/469 [==============================] - 90s 192ms/step - d_loss: 0.6953 - g_loss: 0.6455\n",
      "Epoch 1211/2500\n",
      "469/469 [==============================] - 90s 192ms/step - d_loss: 0.6899 - g_loss: 0.6475\n",
      "Epoch 1212/2500\n",
      "469/469 [==============================] - 90s 193ms/step - d_loss: 0.6965 - g_loss: 0.6438\n",
      "Epoch 1213/2500\n",
      "469/469 [==============================] - 90s 192ms/step - d_loss: 0.6919 - g_loss: 0.6453\n",
      "Epoch 1214/2500\n",
      "469/469 [==============================] - 90s 192ms/step - d_loss: 0.6871 - g_loss: 0.6538\n",
      "Epoch 1215/2500\n",
      "469/469 [==============================] - 90s 193ms/step - d_loss: 0.6886 - g_loss: 0.6572\n",
      "Epoch 1216/2500\n",
      "469/469 [==============================] - 90s 193ms/step - d_loss: 0.6850 - g_loss: 0.6468\n",
      "Epoch 1217/2500\n",
      "469/469 [==============================] - 90s 193ms/step - d_loss: 0.6916 - g_loss: 0.6452\n",
      "Epoch 1218/2500\n",
      "469/469 [==============================] - 90s 192ms/step - d_loss: 0.6855 - g_loss: 0.6502\n",
      "Epoch 1219/2500\n",
      "469/469 [==============================] - 90s 192ms/step - d_loss: 0.6855 - g_loss: 0.6362\n",
      "Epoch 1220/2500\n",
      "469/469 [==============================] - 90s 192ms/step - d_loss: 0.6826 - g_loss: 0.6667\n",
      "Epoch 1221/2500\n",
      "469/469 [==============================] - 90s 192ms/step - d_loss: 0.6868 - g_loss: 0.6612\n",
      "Epoch 1222/2500\n",
      "469/469 [==============================] - 90s 193ms/step - d_loss: 0.6905 - g_loss: 0.6467\n",
      "Epoch 1223/2500\n",
      "469/469 [==============================] - 90s 193ms/step - d_loss: 0.6868 - g_loss: 0.6636\n",
      "Epoch 1224/2500\n",
      "469/469 [==============================] - 90s 193ms/step - d_loss: 0.6893 - g_loss: 0.6497\n",
      "Epoch 1225/2500\n",
      "469/469 [==============================] - 90s 193ms/step - d_loss: 0.6902 - g_loss: 0.6468\n",
      "Epoch 1226/2500\n",
      "469/469 [==============================] - 90s 192ms/step - d_loss: 0.6899 - g_loss: 0.6447\n",
      "Epoch 1227/2500\n",
      "469/469 [==============================] - 90s 192ms/step - d_loss: 0.6873 - g_loss: 0.6549\n",
      "Epoch 1228/2500\n",
      "469/469 [==============================] - 90s 192ms/step - d_loss: 0.6872 - g_loss: 0.6570\n",
      "Epoch 1229/2500\n",
      "469/469 [==============================] - 90s 193ms/step - d_loss: 0.6837 - g_loss: 0.6559\n",
      "Epoch 1230/2500\n",
      "469/469 [==============================] - 90s 193ms/step - d_loss: 0.6916 - g_loss: 0.6568\n",
      "Epoch 1231/2500\n",
      "469/469 [==============================] - 90s 193ms/step - d_loss: 0.6880 - g_loss: 0.6578\n",
      "Epoch 1232/2500\n",
      "469/469 [==============================] - 90s 193ms/step - d_loss: 0.6872 - g_loss: 0.6670\n",
      "Epoch 1233/2500\n",
      "469/469 [==============================] - 90s 193ms/step - d_loss: 0.6851 - g_loss: 0.6621\n",
      "Epoch 1234/2500\n",
      "469/469 [==============================] - 90s 192ms/step - d_loss: 0.6903 - g_loss: 0.6572\n",
      "Epoch 1235/2500\n",
      "469/469 [==============================] - 90s 192ms/step - d_loss: 0.6908 - g_loss: 0.6469\n",
      "Epoch 1236/2500\n",
      "469/469 [==============================] - 90s 192ms/step - d_loss: 0.6899 - g_loss: 0.6499\n",
      "Epoch 1237/2500\n",
      "469/469 [==============================] - 90s 193ms/step - d_loss: 0.6836 - g_loss: 0.6643\n",
      "Epoch 1238/2500\n",
      "469/469 [==============================] - 90s 193ms/step - d_loss: 0.6887 - g_loss: 0.6667\n",
      "Epoch 1239/2500\n",
      "469/469 [==============================] - 90s 193ms/step - d_loss: 0.6897 - g_loss: 0.6581\n",
      "Epoch 1240/2500\n",
      "469/469 [==============================] - ETA: 0s - d_loss: 0.6889 - g_loss: 0.6509WARNING:tensorflow:Compiled the loaded model, but the compiled metrics have yet to be built. `model.compile_metrics` will be empty until you train or evaluate the model.\n"
     ]
    },
    {
     "name": "stderr",
     "output_type": "stream",
     "text": [
      "WARNING:tensorflow:Compiled the loaded model, but the compiled metrics have yet to be built. `model.compile_metrics` will be empty until you train or evaluate the model.\n",
      "WARNING:absl:Found untraced functions such as _jit_compiled_convolution_op, _jit_compiled_convolution_op, _jit_compiled_convolution_op, _jit_compiled_convolution_op, _jit_compiled_convolution_op while saving (showing 5 of 5). These functions will not be directly callable after loading.\n"
     ]
    },
    {
     "name": "stdout",
     "output_type": "stream",
     "text": [
      "INFO:tensorflow:Assets written to: generator.tf\\assets\n"
     ]
    },
    {
     "name": "stderr",
     "output_type": "stream",
     "text": [
      "INFO:tensorflow:Assets written to: generator.tf\\assets\n"
     ]
    },
    {
     "name": "stdout",
     "output_type": "stream",
     "text": [
      "WARNING:tensorflow:Compiled the loaded model, but the compiled metrics have yet to be built. `model.compile_metrics` will be empty until you train or evaluate the model.\n"
     ]
    },
    {
     "name": "stderr",
     "output_type": "stream",
     "text": [
      "WARNING:tensorflow:Compiled the loaded model, but the compiled metrics have yet to be built. `model.compile_metrics` will be empty until you train or evaluate the model.\n",
      "WARNING:absl:Found untraced functions such as _jit_compiled_convolution_op, _jit_compiled_convolution_op, _jit_compiled_convolution_op, _jit_compiled_convolution_op while saving (showing 4 of 4). These functions will not be directly callable after loading.\n"
     ]
    },
    {
     "name": "stdout",
     "output_type": "stream",
     "text": [
      "INFO:tensorflow:Assets written to: discriminator.tf\\assets\n"
     ]
    },
    {
     "name": "stderr",
     "output_type": "stream",
     "text": [
      "INFO:tensorflow:Assets written to: discriminator.tf\\assets\n"
     ]
    },
    {
     "name": "stdout",
     "output_type": "stream",
     "text": [
      "469/469 [==============================] - 92s 197ms/step - d_loss: 0.6889 - g_loss: 0.6510\n",
      "Epoch 1241/2500\n",
      "469/469 [==============================] - 90s 193ms/step - d_loss: 0.6867 - g_loss: 0.6592\n",
      "Epoch 1242/2500\n",
      "469/469 [==============================] - 90s 192ms/step - d_loss: 0.6810 - g_loss: 0.6710\n",
      "Epoch 1243/2500\n",
      "469/469 [==============================] - 90s 192ms/step - d_loss: 0.6904 - g_loss: 0.6386\n",
      "Epoch 1244/2500\n",
      "469/469 [==============================] - 90s 193ms/step - d_loss: 0.6889 - g_loss: 0.6512\n",
      "Epoch 1245/2500\n",
      "469/469 [==============================] - 90s 193ms/step - d_loss: 0.6869 - g_loss: 0.6525\n",
      "Epoch 1246/2500\n",
      "469/469 [==============================] - 90s 193ms/step - d_loss: 0.6857 - g_loss: 0.6547\n",
      "Epoch 1247/2500\n",
      "469/469 [==============================] - 90s 193ms/step - d_loss: 0.6852 - g_loss: 0.6610\n",
      "Epoch 1248/2500\n",
      "469/469 [==============================] - 90s 193ms/step - d_loss: 0.6817 - g_loss: 0.6738\n",
      "Epoch 1249/2500\n",
      "469/469 [==============================] - 90s 193ms/step - d_loss: 0.6821 - g_loss: 0.6727\n",
      "Epoch 1250/2500\n",
      "469/469 [==============================] - 90s 193ms/step - d_loss: 0.6890 - g_loss: 0.6490\n",
      "Epoch 1251/2500\n",
      "469/469 [==============================] - 90s 193ms/step - d_loss: 0.6907 - g_loss: 0.6460\n",
      "Epoch 1252/2500\n",
      "469/469 [==============================] - 90s 193ms/step - d_loss: 0.6899 - g_loss: 0.6543\n",
      "Epoch 1253/2500\n",
      "469/469 [==============================] - 90s 193ms/step - d_loss: 0.6861 - g_loss: 0.6601\n",
      "Epoch 1254/2500\n",
      "469/469 [==============================] - 90s 193ms/step - d_loss: 0.6897 - g_loss: 0.6546\n",
      "Epoch 1255/2500\n",
      "469/469 [==============================] - 90s 193ms/step - d_loss: 0.6880 - g_loss: 0.6575\n",
      "Epoch 1256/2500\n",
      "469/469 [==============================] - 90s 193ms/step - d_loss: 0.6888 - g_loss: 0.6518\n",
      "Epoch 1257/2500\n",
      "469/469 [==============================] - 90s 193ms/step - d_loss: 0.6827 - g_loss: 0.6712\n",
      "Epoch 1258/2500\n",
      "469/469 [==============================] - 90s 193ms/step - d_loss: 0.6774 - g_loss: 0.6718\n",
      "Epoch 1259/2500\n",
      "469/469 [==============================] - 90s 193ms/step - d_loss: 0.6862 - g_loss: 0.6548\n",
      "Epoch 1260/2500\n",
      "469/469 [==============================] - 90s 193ms/step - d_loss: 0.6767 - g_loss: 0.6699\n",
      "Epoch 1261/2500\n",
      "469/469 [==============================] - 90s 193ms/step - d_loss: 0.6829 - g_loss: 0.6741\n",
      "Epoch 1262/2500\n",
      "469/469 [==============================] - 90s 193ms/step - d_loss: 0.6901 - g_loss: 0.6451\n",
      "Epoch 1263/2500\n",
      "469/469 [==============================] - 90s 193ms/step - d_loss: 0.6927 - g_loss: 0.6649\n",
      "Epoch 1264/2500\n",
      "469/469 [==============================] - 90s 193ms/step - d_loss: 0.6915 - g_loss: 0.6554\n",
      "Epoch 1265/2500\n",
      "469/469 [==============================] - 90s 193ms/step - d_loss: 0.6916 - g_loss: 0.6616\n",
      "Epoch 1266/2500\n",
      "469/469 [==============================] - 90s 193ms/step - d_loss: 0.6506 - g_loss: 0.7461\n",
      "Epoch 1267/2500\n",
      "469/469 [==============================] - 90s 193ms/step - d_loss: 0.6782 - g_loss: 0.6676\n",
      "Epoch 1268/2500\n",
      "469/469 [==============================] - 90s 193ms/step - d_loss: 0.6776 - g_loss: 0.6771\n",
      "Epoch 1269/2500\n",
      "469/469 [==============================] - 90s 193ms/step - d_loss: 0.6889 - g_loss: 0.6579\n",
      "Epoch 1270/2500\n",
      "469/469 [==============================] - 90s 193ms/step - d_loss: 0.6793 - g_loss: 0.6637\n",
      "Epoch 1271/2500\n",
      "469/469 [==============================] - ETA: 0s - d_loss: 0.6822 - g_loss: 0.6672WARNING:tensorflow:Compiled the loaded model, but the compiled metrics have yet to be built. `model.compile_metrics` will be empty until you train or evaluate the model.\n"
     ]
    },
    {
     "name": "stderr",
     "output_type": "stream",
     "text": [
      "WARNING:tensorflow:Compiled the loaded model, but the compiled metrics have yet to be built. `model.compile_metrics` will be empty until you train or evaluate the model.\n",
      "WARNING:absl:Found untraced functions such as _jit_compiled_convolution_op, _jit_compiled_convolution_op, _jit_compiled_convolution_op, _jit_compiled_convolution_op, _jit_compiled_convolution_op while saving (showing 5 of 5). These functions will not be directly callable after loading.\n"
     ]
    },
    {
     "name": "stdout",
     "output_type": "stream",
     "text": [
      "INFO:tensorflow:Assets written to: generator.tf\\assets\n"
     ]
    },
    {
     "name": "stderr",
     "output_type": "stream",
     "text": [
      "INFO:tensorflow:Assets written to: generator.tf\\assets\n"
     ]
    },
    {
     "name": "stdout",
     "output_type": "stream",
     "text": [
      "WARNING:tensorflow:Compiled the loaded model, but the compiled metrics have yet to be built. `model.compile_metrics` will be empty until you train or evaluate the model.\n"
     ]
    },
    {
     "name": "stderr",
     "output_type": "stream",
     "text": [
      "WARNING:tensorflow:Compiled the loaded model, but the compiled metrics have yet to be built. `model.compile_metrics` will be empty until you train or evaluate the model.\n",
      "WARNING:absl:Found untraced functions such as _jit_compiled_convolution_op, _jit_compiled_convolution_op, _jit_compiled_convolution_op, _jit_compiled_convolution_op while saving (showing 4 of 4). These functions will not be directly callable after loading.\n"
     ]
    },
    {
     "name": "stdout",
     "output_type": "stream",
     "text": [
      "INFO:tensorflow:Assets written to: discriminator.tf\\assets\n"
     ]
    },
    {
     "name": "stderr",
     "output_type": "stream",
     "text": [
      "INFO:tensorflow:Assets written to: discriminator.tf\\assets\n"
     ]
    },
    {
     "name": "stdout",
     "output_type": "stream",
     "text": [
      "469/469 [==============================] - 92s 196ms/step - d_loss: 0.6822 - g_loss: 0.6672\n",
      "Epoch 1272/2500\n",
      "469/469 [==============================] - 90s 193ms/step - d_loss: 0.6856 - g_loss: 0.6579\n",
      "Epoch 1273/2500\n",
      "469/469 [==============================] - 90s 193ms/step - d_loss: 0.6851 - g_loss: 0.6614\n",
      "Epoch 1274/2500\n",
      "469/469 [==============================] - 90s 193ms/step - d_loss: 0.6764 - g_loss: 0.6768\n",
      "Epoch 1275/2500\n",
      "469/469 [==============================] - 90s 193ms/step - d_loss: 0.6859 - g_loss: 0.6597\n",
      "Epoch 1276/2500\n",
      "469/469 [==============================] - 90s 193ms/step - d_loss: 0.6885 - g_loss: 0.6434\n",
      "Epoch 1277/2500\n",
      "469/469 [==============================] - 90s 193ms/step - d_loss: 0.6866 - g_loss: 0.6616\n",
      "Epoch 1278/2500\n",
      "469/469 [==============================] - 90s 193ms/step - d_loss: 0.6839 - g_loss: 0.6711\n",
      "Epoch 1279/2500\n",
      "469/469 [==============================] - 90s 193ms/step - d_loss: 0.6779 - g_loss: 0.6822\n",
      "Epoch 1280/2500\n",
      "469/469 [==============================] - 90s 193ms/step - d_loss: 0.6896 - g_loss: 0.6432\n",
      "Epoch 1281/2500\n",
      "469/469 [==============================] - 90s 193ms/step - d_loss: 0.6890 - g_loss: 0.6581\n",
      "Epoch 1282/2500\n",
      "469/469 [==============================] - 90s 193ms/step - d_loss: 0.6851 - g_loss: 0.6512\n",
      "Epoch 1283/2500\n",
      "469/469 [==============================] - 90s 193ms/step - d_loss: 0.6875 - g_loss: 0.6518\n",
      "Epoch 1284/2500\n",
      "469/469 [==============================] - 90s 193ms/step - d_loss: 0.6818 - g_loss: 0.6519\n",
      "Epoch 1285/2500\n",
      "469/469 [==============================] - 90s 193ms/step - d_loss: 0.6809 - g_loss: 0.6520\n",
      "Epoch 1286/2500\n",
      "469/469 [==============================] - 90s 193ms/step - d_loss: 0.6852 - g_loss: 0.6363\n",
      "Epoch 1287/2500\n",
      "469/469 [==============================] - 90s 193ms/step - d_loss: 0.6842 - g_loss: 0.6452\n",
      "Epoch 1288/2500\n",
      "469/469 [==============================] - 90s 193ms/step - d_loss: 0.6876 - g_loss: 0.6357\n",
      "Epoch 1289/2500\n",
      "469/469 [==============================] - 90s 193ms/step - d_loss: 0.6893 - g_loss: 0.6418\n",
      "Epoch 1290/2500\n",
      "469/469 [==============================] - 90s 193ms/step - d_loss: 0.6828 - g_loss: 0.6491\n",
      "Epoch 1291/2500\n",
      "469/469 [==============================] - 90s 193ms/step - d_loss: 0.6906 - g_loss: 0.6442\n",
      "Epoch 1292/2500\n",
      "469/469 [==============================] - 90s 193ms/step - d_loss: 0.6840 - g_loss: 0.6687\n",
      "Epoch 1293/2500\n",
      "469/469 [==============================] - 90s 193ms/step - d_loss: 0.6876 - g_loss: 0.6577\n",
      "Epoch 1294/2500\n",
      "469/469 [==============================] - 90s 193ms/step - d_loss: 0.6836 - g_loss: 0.6623\n",
      "Epoch 1295/2500\n",
      "469/469 [==============================] - 90s 193ms/step - d_loss: 0.6878 - g_loss: 0.6426\n",
      "Epoch 1296/2500\n",
      "469/469 [==============================] - 90s 193ms/step - d_loss: 0.6921 - g_loss: 0.6429\n",
      "Epoch 1297/2500\n",
      "469/469 [==============================] - 90s 193ms/step - d_loss: 0.6858 - g_loss: 0.6458\n",
      "Epoch 1298/2500\n",
      "469/469 [==============================] - 90s 193ms/step - d_loss: 0.6929 - g_loss: 0.6490\n",
      "Epoch 1299/2500\n",
      "469/469 [==============================] - 90s 193ms/step - d_loss: 0.6828 - g_loss: 0.6562\n",
      "Epoch 1300/2500\n",
      "469/469 [==============================] - 90s 193ms/step - d_loss: 0.6887 - g_loss: 0.6453\n",
      "Epoch 1301/2500\n",
      "469/469 [==============================] - 90s 193ms/step - d_loss: 0.6893 - g_loss: 0.6500\n",
      "Epoch 1302/2500\n",
      "469/469 [==============================] - ETA: 0s - d_loss: 0.6910 - g_loss: 0.6432WARNING:tensorflow:Compiled the loaded model, but the compiled metrics have yet to be built. `model.compile_metrics` will be empty until you train or evaluate the model.\n"
     ]
    },
    {
     "name": "stderr",
     "output_type": "stream",
     "text": [
      "WARNING:tensorflow:Compiled the loaded model, but the compiled metrics have yet to be built. `model.compile_metrics` will be empty until you train or evaluate the model.\n",
      "WARNING:absl:Found untraced functions such as _jit_compiled_convolution_op, _jit_compiled_convolution_op, _jit_compiled_convolution_op, _jit_compiled_convolution_op, _jit_compiled_convolution_op while saving (showing 5 of 5). These functions will not be directly callable after loading.\n"
     ]
    },
    {
     "name": "stdout",
     "output_type": "stream",
     "text": [
      "INFO:tensorflow:Assets written to: generator.tf\\assets\n"
     ]
    },
    {
     "name": "stderr",
     "output_type": "stream",
     "text": [
      "INFO:tensorflow:Assets written to: generator.tf\\assets\n"
     ]
    },
    {
     "name": "stdout",
     "output_type": "stream",
     "text": [
      "WARNING:tensorflow:Compiled the loaded model, but the compiled metrics have yet to be built. `model.compile_metrics` will be empty until you train or evaluate the model.\n"
     ]
    },
    {
     "name": "stderr",
     "output_type": "stream",
     "text": [
      "WARNING:tensorflow:Compiled the loaded model, but the compiled metrics have yet to be built. `model.compile_metrics` will be empty until you train or evaluate the model.\n",
      "WARNING:absl:Found untraced functions such as _jit_compiled_convolution_op, _jit_compiled_convolution_op, _jit_compiled_convolution_op, _jit_compiled_convolution_op while saving (showing 4 of 4). These functions will not be directly callable after loading.\n"
     ]
    },
    {
     "name": "stdout",
     "output_type": "stream",
     "text": [
      "INFO:tensorflow:Assets written to: discriminator.tf\\assets\n"
     ]
    },
    {
     "name": "stderr",
     "output_type": "stream",
     "text": [
      "INFO:tensorflow:Assets written to: discriminator.tf\\assets\n"
     ]
    },
    {
     "name": "stdout",
     "output_type": "stream",
     "text": [
      "469/469 [==============================] - 92s 197ms/step - d_loss: 0.6909 - g_loss: 0.6432\n",
      "Epoch 1303/2500\n",
      "469/469 [==============================] - 91s 193ms/step - d_loss: 0.6908 - g_loss: 0.6312\n",
      "Epoch 1304/2500\n",
      "469/469 [==============================] - 90s 193ms/step - d_loss: 0.6857 - g_loss: 0.6591\n",
      "Epoch 1305/2500\n",
      "469/469 [==============================] - 90s 193ms/step - d_loss: 0.6918 - g_loss: 0.6492\n",
      "Epoch 1306/2500\n",
      "469/469 [==============================] - 92s 195ms/step - d_loss: 0.6880 - g_loss: 0.6562\n",
      "Epoch 1307/2500\n",
      "469/469 [==============================] - 90s 193ms/step - d_loss: 0.6906 - g_loss: 0.6493\n",
      "Epoch 1308/2500\n",
      "469/469 [==============================] - 90s 193ms/step - d_loss: 0.6922 - g_loss: 0.6552\n",
      "Epoch 1309/2500\n",
      "469/469 [==============================] - 90s 193ms/step - d_loss: 0.6890 - g_loss: 0.6554\n",
      "Epoch 1310/2500\n",
      "469/469 [==============================] - 90s 193ms/step - d_loss: 0.6858 - g_loss: 0.6587\n",
      "Epoch 1311/2500\n",
      "469/469 [==============================] - 90s 193ms/step - d_loss: 0.6648 - g_loss: 0.7021\n",
      "Epoch 1312/2500\n",
      "469/469 [==============================] - 90s 193ms/step - d_loss: 0.6838 - g_loss: 0.6482\n",
      "Epoch 1313/2500\n",
      "469/469 [==============================] - 90s 193ms/step - d_loss: 0.6862 - g_loss: 0.6454\n",
      "Epoch 1314/2500\n",
      "469/469 [==============================] - 90s 193ms/step - d_loss: 0.6875 - g_loss: 0.6536\n",
      "Epoch 1315/2500\n",
      "469/469 [==============================] - 90s 193ms/step - d_loss: 0.6877 - g_loss: 0.6434\n",
      "Epoch 1316/2500\n",
      "469/469 [==============================] - 90s 193ms/step - d_loss: 0.6926 - g_loss: 0.6427\n",
      "Epoch 1317/2500\n",
      "469/469 [==============================] - 90s 193ms/step - d_loss: 0.6877 - g_loss: 0.6704\n",
      "Epoch 1318/2500\n",
      "469/469 [==============================] - 90s 193ms/step - d_loss: 0.6877 - g_loss: 0.6596\n",
      "Epoch 1319/2500\n",
      "469/469 [==============================] - 90s 193ms/step - d_loss: 0.6881 - g_loss: 0.6477\n",
      "Epoch 1320/2500\n",
      "469/469 [==============================] - 90s 193ms/step - d_loss: 0.6864 - g_loss: 0.6532\n",
      "Epoch 1321/2500\n",
      "469/469 [==============================] - 90s 193ms/step - d_loss: 0.6892 - g_loss: 0.6512\n",
      "Epoch 1322/2500\n",
      "469/469 [==============================] - 90s 193ms/step - d_loss: 0.6855 - g_loss: 0.6675\n",
      "Epoch 1323/2500\n",
      "469/469 [==============================] - 90s 193ms/step - d_loss: 0.6883 - g_loss: 0.6660\n",
      "Epoch 1324/2500\n",
      "469/469 [==============================] - 90s 193ms/step - d_loss: 0.6853 - g_loss: 0.6610\n",
      "Epoch 1325/2500\n",
      "469/469 [==============================] - 90s 193ms/step - d_loss: 0.6871 - g_loss: 0.6416\n",
      "Epoch 1326/2500\n",
      "469/469 [==============================] - 90s 193ms/step - d_loss: 0.6884 - g_loss: 0.6553\n",
      "Epoch 1327/2500\n",
      "469/469 [==============================] - 90s 193ms/step - d_loss: 0.6897 - g_loss: 0.6435\n",
      "Epoch 1328/2500\n",
      "469/469 [==============================] - 90s 193ms/step - d_loss: 0.6863 - g_loss: 0.6565\n",
      "Epoch 1329/2500\n",
      "469/469 [==============================] - 90s 193ms/step - d_loss: 0.6905 - g_loss: 0.6627\n",
      "Epoch 1330/2500\n",
      "469/469 [==============================] - 90s 193ms/step - d_loss: 0.6905 - g_loss: 0.6570\n",
      "Epoch 1331/2500\n",
      "469/469 [==============================] - 90s 193ms/step - d_loss: 0.6857 - g_loss: 0.6554\n",
      "Epoch 1332/2500\n",
      "469/469 [==============================] - 90s 193ms/step - d_loss: 0.6850 - g_loss: 0.6630\n",
      "Epoch 1333/2500\n",
      "469/469 [==============================] - ETA: 0s - d_loss: 0.6854 - g_loss: 0.6634WARNING:tensorflow:Compiled the loaded model, but the compiled metrics have yet to be built. `model.compile_metrics` will be empty until you train or evaluate the model.\n"
     ]
    },
    {
     "name": "stderr",
     "output_type": "stream",
     "text": [
      "WARNING:tensorflow:Compiled the loaded model, but the compiled metrics have yet to be built. `model.compile_metrics` will be empty until you train or evaluate the model.\n",
      "WARNING:absl:Found untraced functions such as _jit_compiled_convolution_op, _jit_compiled_convolution_op, _jit_compiled_convolution_op, _jit_compiled_convolution_op, _jit_compiled_convolution_op while saving (showing 5 of 5). These functions will not be directly callable after loading.\n"
     ]
    },
    {
     "name": "stdout",
     "output_type": "stream",
     "text": [
      "INFO:tensorflow:Assets written to: generator.tf\\assets\n"
     ]
    },
    {
     "name": "stderr",
     "output_type": "stream",
     "text": [
      "INFO:tensorflow:Assets written to: generator.tf\\assets\n"
     ]
    },
    {
     "name": "stdout",
     "output_type": "stream",
     "text": [
      "WARNING:tensorflow:Compiled the loaded model, but the compiled metrics have yet to be built. `model.compile_metrics` will be empty until you train or evaluate the model.\n"
     ]
    },
    {
     "name": "stderr",
     "output_type": "stream",
     "text": [
      "WARNING:tensorflow:Compiled the loaded model, but the compiled metrics have yet to be built. `model.compile_metrics` will be empty until you train or evaluate the model.\n",
      "WARNING:absl:Found untraced functions such as _jit_compiled_convolution_op, _jit_compiled_convolution_op, _jit_compiled_convolution_op, _jit_compiled_convolution_op while saving (showing 4 of 4). These functions will not be directly callable after loading.\n"
     ]
    },
    {
     "name": "stdout",
     "output_type": "stream",
     "text": [
      "INFO:tensorflow:Assets written to: discriminator.tf\\assets\n"
     ]
    },
    {
     "name": "stderr",
     "output_type": "stream",
     "text": [
      "INFO:tensorflow:Assets written to: discriminator.tf\\assets\n"
     ]
    },
    {
     "name": "stdout",
     "output_type": "stream",
     "text": [
      "469/469 [==============================] - 92s 196ms/step - d_loss: 0.6855 - g_loss: 0.6634\n",
      "Epoch 1334/2500\n",
      "469/469 [==============================] - 90s 193ms/step - d_loss: 0.6890 - g_loss: 0.6609\n",
      "Epoch 1335/2500\n",
      "469/469 [==============================] - 90s 193ms/step - d_loss: 0.6869 - g_loss: 0.6553\n",
      "Epoch 1336/2500\n",
      "469/469 [==============================] - 90s 193ms/step - d_loss: 0.6907 - g_loss: 0.6549\n",
      "Epoch 1337/2500\n",
      "469/469 [==============================] - 90s 193ms/step - d_loss: 0.6876 - g_loss: 0.6564\n",
      "Epoch 1338/2500\n",
      "469/469 [==============================] - 90s 193ms/step - d_loss: 0.6934 - g_loss: 0.6612\n",
      "Epoch 1339/2500\n",
      "469/469 [==============================] - 90s 193ms/step - d_loss: 0.6898 - g_loss: 0.6458\n",
      "Epoch 1340/2500\n",
      "469/469 [==============================] - 90s 193ms/step - d_loss: 0.6861 - g_loss: 0.6695\n",
      "Epoch 1341/2500\n",
      "469/469 [==============================] - 90s 193ms/step - d_loss: 0.6844 - g_loss: 0.6791\n",
      "Epoch 1342/2500\n",
      "469/469 [==============================] - 90s 193ms/step - d_loss: 0.6819 - g_loss: 0.6592\n",
      "Epoch 1343/2500\n",
      "469/469 [==============================] - 90s 193ms/step - d_loss: 0.6907 - g_loss: 0.6541\n",
      "Epoch 1344/2500\n",
      "469/469 [==============================] - 90s 193ms/step - d_loss: 0.6893 - g_loss: 0.6320\n",
      "Epoch 1345/2500\n",
      "469/469 [==============================] - 90s 193ms/step - d_loss: 0.5757 - g_loss: 0.9970\n",
      "Epoch 1346/2500\n",
      "469/469 [==============================] - 90s 193ms/step - d_loss: 0.6823 - g_loss: 0.6572\n",
      "Epoch 1347/2500\n",
      "469/469 [==============================] - 90s 193ms/step - d_loss: 0.6826 - g_loss: 0.6533\n",
      "Epoch 1348/2500\n",
      "469/469 [==============================] - 90s 193ms/step - d_loss: 0.6887 - g_loss: 0.6584\n",
      "Epoch 1349/2500\n",
      "469/469 [==============================] - 90s 193ms/step - d_loss: 0.6784 - g_loss: 0.6785\n",
      "Epoch 1350/2500\n",
      "469/469 [==============================] - 90s 193ms/step - d_loss: 0.6871 - g_loss: 0.6453\n",
      "Epoch 1351/2500\n",
      "469/469 [==============================] - 90s 193ms/step - d_loss: 0.6903 - g_loss: 0.6481\n",
      "Epoch 1352/2500\n",
      "469/469 [==============================] - 90s 193ms/step - d_loss: 0.6882 - g_loss: 0.6589\n",
      "Epoch 1353/2500\n",
      "469/469 [==============================] - 90s 193ms/step - d_loss: 0.6894 - g_loss: 0.6646\n",
      "Epoch 1354/2500\n",
      "469/469 [==============================] - 90s 193ms/step - d_loss: 0.6864 - g_loss: 0.6514\n",
      "Epoch 1355/2500\n",
      "469/469 [==============================] - 90s 193ms/step - d_loss: 0.6879 - g_loss: 0.6647\n",
      "Epoch 1356/2500\n",
      "469/469 [==============================] - 90s 193ms/step - d_loss: 0.6847 - g_loss: 0.6596\n",
      "Epoch 1357/2500\n",
      "469/469 [==============================] - 90s 193ms/step - d_loss: 0.6826 - g_loss: 0.6707\n",
      "Epoch 1358/2500\n",
      "469/469 [==============================] - 90s 193ms/step - d_loss: 0.6902 - g_loss: 0.6554\n",
      "Epoch 1359/2500\n",
      "469/469 [==============================] - 90s 193ms/step - d_loss: 0.6843 - g_loss: 0.6631\n",
      "Epoch 1360/2500\n",
      "469/469 [==============================] - 90s 193ms/step - d_loss: 0.6844 - g_loss: 0.6538\n",
      "Epoch 1361/2500\n",
      "469/469 [==============================] - 90s 193ms/step - d_loss: 0.6883 - g_loss: 0.6628\n",
      "Epoch 1362/2500\n",
      "469/469 [==============================] - 90s 193ms/step - d_loss: 0.6843 - g_loss: 0.6663\n",
      "Epoch 1363/2500\n",
      "469/469 [==============================] - 90s 193ms/step - d_loss: 0.6854 - g_loss: 0.6609\n",
      "Epoch 1364/2500\n",
      "469/469 [==============================] - ETA: 0s - d_loss: 0.6903 - g_loss: 0.6491WARNING:tensorflow:Compiled the loaded model, but the compiled metrics have yet to be built. `model.compile_metrics` will be empty until you train or evaluate the model.\n"
     ]
    },
    {
     "name": "stderr",
     "output_type": "stream",
     "text": [
      "WARNING:tensorflow:Compiled the loaded model, but the compiled metrics have yet to be built. `model.compile_metrics` will be empty until you train or evaluate the model.\n",
      "WARNING:absl:Found untraced functions such as _jit_compiled_convolution_op, _jit_compiled_convolution_op, _jit_compiled_convolution_op, _jit_compiled_convolution_op, _jit_compiled_convolution_op while saving (showing 5 of 5). These functions will not be directly callable after loading.\n"
     ]
    },
    {
     "name": "stdout",
     "output_type": "stream",
     "text": [
      "INFO:tensorflow:Assets written to: generator.tf\\assets\n"
     ]
    },
    {
     "name": "stderr",
     "output_type": "stream",
     "text": [
      "INFO:tensorflow:Assets written to: generator.tf\\assets\n"
     ]
    },
    {
     "name": "stdout",
     "output_type": "stream",
     "text": [
      "WARNING:tensorflow:Compiled the loaded model, but the compiled metrics have yet to be built. `model.compile_metrics` will be empty until you train or evaluate the model.\n"
     ]
    },
    {
     "name": "stderr",
     "output_type": "stream",
     "text": [
      "WARNING:tensorflow:Compiled the loaded model, but the compiled metrics have yet to be built. `model.compile_metrics` will be empty until you train or evaluate the model.\n",
      "WARNING:absl:Found untraced functions such as _jit_compiled_convolution_op, _jit_compiled_convolution_op, _jit_compiled_convolution_op, _jit_compiled_convolution_op while saving (showing 4 of 4). These functions will not be directly callable after loading.\n"
     ]
    },
    {
     "name": "stdout",
     "output_type": "stream",
     "text": [
      "INFO:tensorflow:Assets written to: discriminator.tf\\assets\n"
     ]
    },
    {
     "name": "stderr",
     "output_type": "stream",
     "text": [
      "INFO:tensorflow:Assets written to: discriminator.tf\\assets\n"
     ]
    },
    {
     "name": "stdout",
     "output_type": "stream",
     "text": [
      "469/469 [==============================] - 92s 197ms/step - d_loss: 0.6903 - g_loss: 0.6492\n",
      "Epoch 1365/2500\n",
      "469/469 [==============================] - 91s 193ms/step - d_loss: 0.6864 - g_loss: 0.6611\n",
      "Epoch 1366/2500\n",
      "469/469 [==============================] - 90s 193ms/step - d_loss: 0.6867 - g_loss: 0.6540\n",
      "Epoch 1367/2500\n",
      "469/469 [==============================] - 90s 193ms/step - d_loss: 0.6838 - g_loss: 0.6672\n",
      "Epoch 1368/2500\n",
      "469/469 [==============================] - 90s 193ms/step - d_loss: 0.6850 - g_loss: 0.6595\n",
      "Epoch 1369/2500\n",
      "469/469 [==============================] - 90s 193ms/step - d_loss: 0.6893 - g_loss: 0.6501\n",
      "Epoch 1370/2500\n",
      "469/469 [==============================] - 90s 193ms/step - d_loss: 0.6875 - g_loss: 0.6548\n",
      "Epoch 1371/2500\n",
      "469/469 [==============================] - 90s 193ms/step - d_loss: 0.6870 - g_loss: 0.6381\n",
      "Epoch 1372/2500\n",
      "469/469 [==============================] - 90s 193ms/step - d_loss: 0.6844 - g_loss: 0.6660\n",
      "Epoch 1373/2500\n",
      "469/469 [==============================] - 90s 193ms/step - d_loss: 0.6860 - g_loss: 0.6544\n",
      "Epoch 1374/2500\n",
      "469/469 [==============================] - 90s 193ms/step - d_loss: 0.6895 - g_loss: 0.6430\n",
      "Epoch 1375/2500\n",
      "469/469 [==============================] - 90s 193ms/step - d_loss: 0.6808 - g_loss: 0.6592\n",
      "Epoch 1376/2500\n",
      "469/469 [==============================] - 90s 193ms/step - d_loss: 0.6926 - g_loss: 0.6461\n",
      "Epoch 1377/2500\n",
      "469/469 [==============================] - 90s 193ms/step - d_loss: 0.6880 - g_loss: 0.6447\n",
      "Epoch 1378/2500\n",
      "469/469 [==============================] - 90s 193ms/step - d_loss: 0.6896 - g_loss: 0.6545\n",
      "Epoch 1379/2500\n",
      "469/469 [==============================] - 90s 193ms/step - d_loss: 0.6850 - g_loss: 0.6602\n",
      "Epoch 1380/2500\n",
      "469/469 [==============================] - 90s 193ms/step - d_loss: 0.6840 - g_loss: 0.6646\n",
      "Epoch 1381/2500\n",
      "469/469 [==============================] - 90s 193ms/step - d_loss: 0.6832 - g_loss: 0.6544\n",
      "Epoch 1382/2500\n",
      "469/469 [==============================] - 90s 193ms/step - d_loss: 0.6854 - g_loss: 0.6622\n",
      "Epoch 1383/2500\n",
      "469/469 [==============================] - 90s 193ms/step - d_loss: 0.6813 - g_loss: 0.6665\n",
      "Epoch 1384/2500\n",
      "469/469 [==============================] - 90s 193ms/step - d_loss: 0.6897 - g_loss: 0.6600\n",
      "Epoch 1385/2500\n",
      "469/469 [==============================] - 90s 193ms/step - d_loss: 0.6790 - g_loss: 0.6664\n",
      "Epoch 1386/2500\n",
      "469/469 [==============================] - 90s 193ms/step - d_loss: 0.6816 - g_loss: 0.6674\n",
      "Epoch 1387/2500\n",
      "469/469 [==============================] - 90s 193ms/step - d_loss: 0.6801 - g_loss: 0.6560\n",
      "Epoch 1388/2500\n",
      "469/469 [==============================] - 90s 193ms/step - d_loss: 0.6751 - g_loss: 0.6739\n",
      "Epoch 1389/2500\n",
      "469/469 [==============================] - 90s 193ms/step - d_loss: 0.6840 - g_loss: 0.6516\n",
      "Epoch 1390/2500\n",
      "469/469 [==============================] - 90s 193ms/step - d_loss: 0.6852 - g_loss: 0.6586\n",
      "Epoch 1391/2500\n",
      "469/469 [==============================] - 90s 193ms/step - d_loss: 0.6808 - g_loss: 0.6553\n",
      "Epoch 1392/2500\n",
      "469/469 [==============================] - 90s 193ms/step - d_loss: 0.6864 - g_loss: 0.6524\n",
      "Epoch 1393/2500\n",
      "469/469 [==============================] - 90s 193ms/step - d_loss: 0.6820 - g_loss: 0.6661\n",
      "Epoch 1394/2500\n",
      "469/469 [==============================] - 90s 193ms/step - d_loss: 0.6836 - g_loss: 0.6427\n",
      "Epoch 1395/2500\n",
      "469/469 [==============================] - ETA: 0s - d_loss: 0.6846 - g_loss: 0.6407WARNING:tensorflow:Compiled the loaded model, but the compiled metrics have yet to be built. `model.compile_metrics` will be empty until you train or evaluate the model.\n"
     ]
    },
    {
     "name": "stderr",
     "output_type": "stream",
     "text": [
      "WARNING:tensorflow:Compiled the loaded model, but the compiled metrics have yet to be built. `model.compile_metrics` will be empty until you train or evaluate the model.\n",
      "WARNING:absl:Found untraced functions such as _jit_compiled_convolution_op, _jit_compiled_convolution_op, _jit_compiled_convolution_op, _jit_compiled_convolution_op, _jit_compiled_convolution_op while saving (showing 5 of 5). These functions will not be directly callable after loading.\n"
     ]
    },
    {
     "name": "stdout",
     "output_type": "stream",
     "text": [
      "INFO:tensorflow:Assets written to: generator.tf\\assets\n"
     ]
    },
    {
     "name": "stderr",
     "output_type": "stream",
     "text": [
      "INFO:tensorflow:Assets written to: generator.tf\\assets\n"
     ]
    },
    {
     "name": "stdout",
     "output_type": "stream",
     "text": [
      "WARNING:tensorflow:Compiled the loaded model, but the compiled metrics have yet to be built. `model.compile_metrics` will be empty until you train or evaluate the model.\n"
     ]
    },
    {
     "name": "stderr",
     "output_type": "stream",
     "text": [
      "WARNING:tensorflow:Compiled the loaded model, but the compiled metrics have yet to be built. `model.compile_metrics` will be empty until you train or evaluate the model.\n",
      "WARNING:absl:Found untraced functions such as _jit_compiled_convolution_op, _jit_compiled_convolution_op, _jit_compiled_convolution_op, _jit_compiled_convolution_op while saving (showing 4 of 4). These functions will not be directly callable after loading.\n"
     ]
    },
    {
     "name": "stdout",
     "output_type": "stream",
     "text": [
      "INFO:tensorflow:Assets written to: discriminator.tf\\assets\n"
     ]
    },
    {
     "name": "stderr",
     "output_type": "stream",
     "text": [
      "INFO:tensorflow:Assets written to: discriminator.tf\\assets\n"
     ]
    },
    {
     "name": "stdout",
     "output_type": "stream",
     "text": [
      "469/469 [==============================] - 92s 196ms/step - d_loss: 0.6846 - g_loss: 0.6407\n",
      "Epoch 1396/2500\n",
      "469/469 [==============================] - 90s 193ms/step - d_loss: 0.6768 - g_loss: 0.6610\n",
      "Epoch 1397/2500\n",
      "469/469 [==============================] - 90s 193ms/step - d_loss: 0.6815 - g_loss: 0.6608\n",
      "Epoch 1398/2500\n",
      "469/469 [==============================] - 90s 193ms/step - d_loss: 0.6799 - g_loss: 0.6582\n",
      "Epoch 1399/2500\n",
      "469/469 [==============================] - 90s 193ms/step - d_loss: 0.6795 - g_loss: 0.6779\n",
      "Epoch 1400/2500\n",
      "469/469 [==============================] - 90s 193ms/step - d_loss: 0.6800 - g_loss: 0.6582\n",
      "Epoch 1401/2500\n",
      "469/469 [==============================] - 90s 193ms/step - d_loss: 0.6779 - g_loss: 0.6780\n",
      "Epoch 1402/2500\n",
      "469/469 [==============================] - 90s 193ms/step - d_loss: 0.6115 - g_loss: 0.9449\n",
      "Epoch 1403/2500\n",
      "469/469 [==============================] - 90s 193ms/step - d_loss: 0.6654 - g_loss: 0.6752\n",
      "Epoch 1404/2500\n",
      "469/469 [==============================] - 90s 193ms/step - d_loss: 0.6796 - g_loss: 0.6850\n",
      "Epoch 1405/2500\n",
      "469/469 [==============================] - 90s 193ms/step - d_loss: 0.6798 - g_loss: 0.6546\n",
      "Epoch 1406/2500\n",
      "469/469 [==============================] - 90s 193ms/step - d_loss: 0.6839 - g_loss: 0.6471\n",
      "Epoch 1407/2500\n",
      "469/469 [==============================] - 90s 193ms/step - d_loss: 0.6833 - g_loss: 0.6608\n",
      "Epoch 1408/2500\n",
      "469/469 [==============================] - 90s 193ms/step - d_loss: 0.6761 - g_loss: 0.6684\n",
      "Epoch 1409/2500\n",
      "469/469 [==============================] - 90s 193ms/step - d_loss: 0.6782 - g_loss: 0.6727\n",
      "Epoch 1410/2500\n",
      "469/469 [==============================] - 90s 193ms/step - d_loss: 0.6809 - g_loss: 0.6542\n",
      "Epoch 1411/2500\n",
      "469/469 [==============================] - 90s 193ms/step - d_loss: 0.6820 - g_loss: 0.6611\n",
      "Epoch 1412/2500\n",
      "469/469 [==============================] - 90s 193ms/step - d_loss: 0.6782 - g_loss: 0.6533\n",
      "Epoch 1413/2500\n",
      "469/469 [==============================] - 90s 193ms/step - d_loss: 0.6853 - g_loss: 0.6388\n",
      "Epoch 1414/2500\n",
      "469/469 [==============================] - 90s 193ms/step - d_loss: 0.6829 - g_loss: 0.6534\n",
      "Epoch 1415/2500\n",
      "469/469 [==============================] - 90s 193ms/step - d_loss: 0.6862 - g_loss: 0.6718\n",
      "Epoch 1416/2500\n",
      "469/469 [==============================] - 90s 193ms/step - d_loss: 0.6881 - g_loss: 0.6423\n",
      "Epoch 1417/2500\n",
      "469/469 [==============================] - 90s 193ms/step - d_loss: 0.6859 - g_loss: 0.6512\n",
      "Epoch 1418/2500\n",
      "469/469 [==============================] - 90s 193ms/step - d_loss: 0.6838 - g_loss: 0.6529\n",
      "Epoch 1419/2500\n",
      "469/469 [==============================] - 90s 193ms/step - d_loss: 0.6883 - g_loss: 0.6609\n",
      "Epoch 1420/2500\n",
      "469/469 [==============================] - 90s 193ms/step - d_loss: 0.6812 - g_loss: 0.6627\n",
      "Epoch 1421/2500\n",
      "469/469 [==============================] - 90s 193ms/step - d_loss: 0.6869 - g_loss: 0.6486\n",
      "Epoch 1422/2500\n",
      "469/469 [==============================] - 90s 193ms/step - d_loss: 0.6839 - g_loss: 0.6575\n",
      "Epoch 1423/2500\n",
      "469/469 [==============================] - 90s 193ms/step - d_loss: 0.6800 - g_loss: 0.6735\n",
      "Epoch 1424/2500\n",
      "469/469 [==============================] - 90s 193ms/step - d_loss: 0.6862 - g_loss: 0.6508\n",
      "Epoch 1425/2500\n",
      "469/469 [==============================] - 90s 193ms/step - d_loss: 0.6874 - g_loss: 0.6418\n",
      "Epoch 1426/2500\n",
      "469/469 [==============================] - ETA: 0s - d_loss: 0.6882 - g_loss: 0.6555WARNING:tensorflow:Compiled the loaded model, but the compiled metrics have yet to be built. `model.compile_metrics` will be empty until you train or evaluate the model.\n"
     ]
    },
    {
     "name": "stderr",
     "output_type": "stream",
     "text": [
      "WARNING:tensorflow:Compiled the loaded model, but the compiled metrics have yet to be built. `model.compile_metrics` will be empty until you train or evaluate the model.\n",
      "WARNING:absl:Found untraced functions such as _jit_compiled_convolution_op, _jit_compiled_convolution_op, _jit_compiled_convolution_op, _jit_compiled_convolution_op, _jit_compiled_convolution_op while saving (showing 5 of 5). These functions will not be directly callable after loading.\n"
     ]
    },
    {
     "name": "stdout",
     "output_type": "stream",
     "text": [
      "INFO:tensorflow:Assets written to: generator.tf\\assets\n"
     ]
    },
    {
     "name": "stderr",
     "output_type": "stream",
     "text": [
      "INFO:tensorflow:Assets written to: generator.tf\\assets\n"
     ]
    },
    {
     "name": "stdout",
     "output_type": "stream",
     "text": [
      "WARNING:tensorflow:Compiled the loaded model, but the compiled metrics have yet to be built. `model.compile_metrics` will be empty until you train or evaluate the model.\n"
     ]
    },
    {
     "name": "stderr",
     "output_type": "stream",
     "text": [
      "WARNING:tensorflow:Compiled the loaded model, but the compiled metrics have yet to be built. `model.compile_metrics` will be empty until you train or evaluate the model.\n",
      "WARNING:absl:Found untraced functions such as _jit_compiled_convolution_op, _jit_compiled_convolution_op, _jit_compiled_convolution_op, _jit_compiled_convolution_op while saving (showing 4 of 4). These functions will not be directly callable after loading.\n"
     ]
    },
    {
     "name": "stdout",
     "output_type": "stream",
     "text": [
      "INFO:tensorflow:Assets written to: discriminator.tf\\assets\n"
     ]
    },
    {
     "name": "stderr",
     "output_type": "stream",
     "text": [
      "INFO:tensorflow:Assets written to: discriminator.tf\\assets\n"
     ]
    },
    {
     "name": "stdout",
     "output_type": "stream",
     "text": [
      "469/469 [==============================] - 92s 197ms/step - d_loss: 0.6883 - g_loss: 0.6554\n",
      "Epoch 1427/2500\n",
      "469/469 [==============================] - 90s 193ms/step - d_loss: 0.6861 - g_loss: 0.6542\n",
      "Epoch 1428/2500\n",
      "469/469 [==============================] - 90s 193ms/step - d_loss: 0.6872 - g_loss: 0.6442\n",
      "Epoch 1429/2500\n",
      "469/469 [==============================] - 90s 193ms/step - d_loss: 0.6756 - g_loss: 0.6787\n",
      "Epoch 1430/2500\n",
      "469/469 [==============================] - 90s 193ms/step - d_loss: 0.6835 - g_loss: 0.6459\n",
      "Epoch 1431/2500\n",
      "469/469 [==============================] - 90s 193ms/step - d_loss: 0.6864 - g_loss: 0.6597\n",
      "Epoch 1432/2500\n",
      "469/469 [==============================] - 90s 193ms/step - d_loss: 0.6804 - g_loss: 0.6680\n",
      "Epoch 1433/2500\n",
      "469/469 [==============================] - 90s 193ms/step - d_loss: 0.6841 - g_loss: 0.6592\n",
      "Epoch 1434/2500\n",
      "469/469 [==============================] - 90s 193ms/step - d_loss: 0.6830 - g_loss: 0.6623\n",
      "Epoch 1435/2500\n",
      "469/469 [==============================] - 90s 193ms/step - d_loss: 0.6879 - g_loss: 0.6668\n",
      "Epoch 1436/2500\n",
      "469/469 [==============================] - 90s 193ms/step - d_loss: 0.5979 - g_loss: 0.9154\n",
      "Epoch 1437/2500\n",
      "469/469 [==============================] - 90s 193ms/step - d_loss: 0.6784 - g_loss: 0.6657\n",
      "Epoch 1438/2500\n",
      "469/469 [==============================] - 90s 193ms/step - d_loss: 0.6816 - g_loss: 0.6682\n",
      "Epoch 1439/2500\n",
      "469/469 [==============================] - 90s 193ms/step - d_loss: 0.6794 - g_loss: 0.6739\n",
      "Epoch 1440/2500\n",
      "469/469 [==============================] - 90s 193ms/step - d_loss: 0.6829 - g_loss: 0.6452\n",
      "Epoch 1441/2500\n",
      "469/469 [==============================] - 90s 193ms/step - d_loss: 0.6840 - g_loss: 0.6593\n",
      "Epoch 1442/2500\n",
      "469/469 [==============================] - 90s 193ms/step - d_loss: 0.6844 - g_loss: 0.6834\n",
      "Epoch 1443/2500\n",
      "469/469 [==============================] - 90s 193ms/step - d_loss: 0.6871 - g_loss: 0.6630\n",
      "Epoch 1444/2500\n",
      "469/469 [==============================] - 90s 193ms/step - d_loss: 0.6869 - g_loss: 0.6624\n",
      "Epoch 1445/2500\n",
      "469/469 [==============================] - 90s 193ms/step - d_loss: 0.6830 - g_loss: 0.6639\n",
      "Epoch 1446/2500\n",
      "469/469 [==============================] - 90s 193ms/step - d_loss: 0.6838 - g_loss: 0.6719\n",
      "Epoch 1447/2500\n",
      "469/469 [==============================] - 90s 193ms/step - d_loss: 0.6866 - g_loss: 0.6573\n",
      "Epoch 1448/2500\n",
      "469/469 [==============================] - 90s 193ms/step - d_loss: 0.6877 - g_loss: 0.6670\n",
      "Epoch 1449/2500\n",
      "469/469 [==============================] - 90s 193ms/step - d_loss: 0.6844 - g_loss: 0.6807\n",
      "Epoch 1450/2500\n",
      "469/469 [==============================] - 90s 193ms/step - d_loss: 0.6873 - g_loss: 0.6713\n",
      "Epoch 1451/2500\n",
      "469/469 [==============================] - 90s 193ms/step - d_loss: 0.6816 - g_loss: 0.6755\n",
      "Epoch 1452/2500\n",
      "469/469 [==============================] - 90s 193ms/step - d_loss: 0.6879 - g_loss: 0.6548\n",
      "Epoch 1453/2500\n",
      "469/469 [==============================] - 90s 193ms/step - d_loss: 0.6903 - g_loss: 0.6560\n",
      "Epoch 1454/2500\n",
      "469/469 [==============================] - 90s 193ms/step - d_loss: 0.6848 - g_loss: 0.6588\n",
      "Epoch 1455/2500\n",
      "469/469 [==============================] - 90s 193ms/step - d_loss: 0.6878 - g_loss: 0.6477\n",
      "Epoch 1456/2500\n",
      "469/469 [==============================] - 90s 193ms/step - d_loss: 0.6836 - g_loss: 0.6603\n",
      "Epoch 1457/2500\n",
      "469/469 [==============================] - ETA: 0s - d_loss: 0.6862 - g_loss: 0.6521WARNING:tensorflow:Compiled the loaded model, but the compiled metrics have yet to be built. `model.compile_metrics` will be empty until you train or evaluate the model.\n"
     ]
    },
    {
     "name": "stderr",
     "output_type": "stream",
     "text": [
      "WARNING:tensorflow:Compiled the loaded model, but the compiled metrics have yet to be built. `model.compile_metrics` will be empty until you train or evaluate the model.\n",
      "WARNING:absl:Found untraced functions such as _jit_compiled_convolution_op, _jit_compiled_convolution_op, _jit_compiled_convolution_op, _jit_compiled_convolution_op, _jit_compiled_convolution_op while saving (showing 5 of 5). These functions will not be directly callable after loading.\n"
     ]
    },
    {
     "name": "stdout",
     "output_type": "stream",
     "text": [
      "INFO:tensorflow:Assets written to: generator.tf\\assets\n"
     ]
    },
    {
     "name": "stderr",
     "output_type": "stream",
     "text": [
      "INFO:tensorflow:Assets written to: generator.tf\\assets\n"
     ]
    },
    {
     "name": "stdout",
     "output_type": "stream",
     "text": [
      "WARNING:tensorflow:Compiled the loaded model, but the compiled metrics have yet to be built. `model.compile_metrics` will be empty until you train or evaluate the model.\n"
     ]
    },
    {
     "name": "stderr",
     "output_type": "stream",
     "text": [
      "WARNING:tensorflow:Compiled the loaded model, but the compiled metrics have yet to be built. `model.compile_metrics` will be empty until you train or evaluate the model.\n",
      "WARNING:absl:Found untraced functions such as _jit_compiled_convolution_op, _jit_compiled_convolution_op, _jit_compiled_convolution_op, _jit_compiled_convolution_op while saving (showing 4 of 4). These functions will not be directly callable after loading.\n"
     ]
    },
    {
     "name": "stdout",
     "output_type": "stream",
     "text": [
      "INFO:tensorflow:Assets written to: discriminator.tf\\assets\n"
     ]
    },
    {
     "name": "stderr",
     "output_type": "stream",
     "text": [
      "INFO:tensorflow:Assets written to: discriminator.tf\\assets\n"
     ]
    },
    {
     "name": "stdout",
     "output_type": "stream",
     "text": [
      "469/469 [==============================] - 92s 197ms/step - d_loss: 0.6861 - g_loss: 0.6520\n",
      "Epoch 1458/2500\n",
      "469/469 [==============================] - 91s 193ms/step - d_loss: 0.6910 - g_loss: 0.6442\n",
      "Epoch 1459/2500\n",
      "469/469 [==============================] - 90s 193ms/step - d_loss: 0.6874 - g_loss: 0.6672\n",
      "Epoch 1460/2500\n",
      "469/469 [==============================] - 90s 193ms/step - d_loss: 0.6906 - g_loss: 0.6446\n",
      "Epoch 1461/2500\n",
      "469/469 [==============================] - 90s 193ms/step - d_loss: 0.6832 - g_loss: 0.6520\n",
      "Epoch 1462/2500\n",
      "469/469 [==============================] - 90s 193ms/step - d_loss: 0.6883 - g_loss: 0.6593\n",
      "Epoch 1463/2500\n",
      "469/469 [==============================] - 90s 193ms/step - d_loss: 0.6809 - g_loss: 0.6489\n",
      "Epoch 1464/2500\n",
      "469/469 [==============================] - 90s 193ms/step - d_loss: 0.6883 - g_loss: 0.6566\n",
      "Epoch 1465/2500\n",
      "469/469 [==============================] - 90s 193ms/step - d_loss: 0.6836 - g_loss: 0.6596\n",
      "Epoch 1466/2500\n",
      "469/469 [==============================] - 90s 193ms/step - d_loss: 0.6855 - g_loss: 0.6639\n",
      "Epoch 1467/2500\n",
      "469/469 [==============================] - 90s 193ms/step - d_loss: 0.6905 - g_loss: 0.6577\n",
      "Epoch 1468/2500\n",
      "469/469 [==============================] - 90s 193ms/step - d_loss: 0.6840 - g_loss: 0.6470\n",
      "Epoch 1469/2500\n",
      "469/469 [==============================] - 90s 193ms/step - d_loss: 0.6885 - g_loss: 0.6520\n",
      "Epoch 1470/2500\n",
      "469/469 [==============================] - 90s 193ms/step - d_loss: 0.6906 - g_loss: 0.6587\n",
      "Epoch 1471/2500\n",
      "469/469 [==============================] - 90s 193ms/step - d_loss: 0.6876 - g_loss: 0.6465\n",
      "Epoch 1472/2500\n",
      "469/469 [==============================] - 90s 193ms/step - d_loss: 0.6864 - g_loss: 0.6612\n",
      "Epoch 1473/2500\n",
      "469/469 [==============================] - 90s 193ms/step - d_loss: 0.6798 - g_loss: 0.6752\n",
      "Epoch 1474/2500\n",
      "469/469 [==============================] - 90s 193ms/step - d_loss: 0.6807 - g_loss: 0.6495\n",
      "Epoch 1475/2500\n",
      "469/469 [==============================] - 90s 193ms/step - d_loss: 0.6821 - g_loss: 0.6516\n",
      "Epoch 1476/2500\n",
      "469/469 [==============================] - 90s 193ms/step - d_loss: 0.6815 - g_loss: 0.6587\n",
      "Epoch 1477/2500\n",
      "469/469 [==============================] - 90s 193ms/step - d_loss: 0.6871 - g_loss: 0.6557\n",
      "Epoch 1478/2500\n",
      "469/469 [==============================] - 90s 193ms/step - d_loss: 0.6842 - g_loss: 0.6637\n",
      "Epoch 1479/2500\n",
      "469/469 [==============================] - 90s 193ms/step - d_loss: 0.6831 - g_loss: 0.6642\n",
      "Epoch 1480/2500\n",
      "469/469 [==============================] - 90s 193ms/step - d_loss: 0.6839 - g_loss: 0.6520\n",
      "Epoch 1481/2500\n",
      "469/469 [==============================] - 90s 193ms/step - d_loss: 0.6799 - g_loss: 0.6632\n",
      "Epoch 1482/2500\n",
      "469/469 [==============================] - 90s 193ms/step - d_loss: 0.6884 - g_loss: 0.6593\n",
      "Epoch 1483/2500\n",
      "469/469 [==============================] - 90s 193ms/step - d_loss: 0.6822 - g_loss: 0.6747\n",
      "Epoch 1484/2500\n",
      "469/469 [==============================] - 90s 193ms/step - d_loss: 0.6906 - g_loss: 0.6643\n",
      "Epoch 1485/2500\n",
      "469/469 [==============================] - 90s 193ms/step - d_loss: 0.6852 - g_loss: 0.6633\n",
      "Epoch 1486/2500\n",
      "469/469 [==============================] - 90s 193ms/step - d_loss: 0.6892 - g_loss: 0.6583\n",
      "Epoch 1487/2500\n",
      "469/469 [==============================] - 90s 193ms/step - d_loss: 0.6885 - g_loss: 0.6524\n",
      "Epoch 1488/2500\n",
      "469/469 [==============================] - ETA: 0s - d_loss: 0.6868 - g_loss: 0.6553WARNING:tensorflow:Compiled the loaded model, but the compiled metrics have yet to be built. `model.compile_metrics` will be empty until you train or evaluate the model.\n"
     ]
    },
    {
     "name": "stderr",
     "output_type": "stream",
     "text": [
      "WARNING:tensorflow:Compiled the loaded model, but the compiled metrics have yet to be built. `model.compile_metrics` will be empty until you train or evaluate the model.\n",
      "WARNING:absl:Found untraced functions such as _jit_compiled_convolution_op, _jit_compiled_convolution_op, _jit_compiled_convolution_op, _jit_compiled_convolution_op, _jit_compiled_convolution_op while saving (showing 5 of 5). These functions will not be directly callable after loading.\n"
     ]
    },
    {
     "name": "stdout",
     "output_type": "stream",
     "text": [
      "INFO:tensorflow:Assets written to: generator.tf\\assets\n"
     ]
    },
    {
     "name": "stderr",
     "output_type": "stream",
     "text": [
      "INFO:tensorflow:Assets written to: generator.tf\\assets\n"
     ]
    },
    {
     "name": "stdout",
     "output_type": "stream",
     "text": [
      "WARNING:tensorflow:Compiled the loaded model, but the compiled metrics have yet to be built. `model.compile_metrics` will be empty until you train or evaluate the model.\n"
     ]
    },
    {
     "name": "stderr",
     "output_type": "stream",
     "text": [
      "WARNING:tensorflow:Compiled the loaded model, but the compiled metrics have yet to be built. `model.compile_metrics` will be empty until you train or evaluate the model.\n",
      "WARNING:absl:Found untraced functions such as _jit_compiled_convolution_op, _jit_compiled_convolution_op, _jit_compiled_convolution_op, _jit_compiled_convolution_op while saving (showing 4 of 4). These functions will not be directly callable after loading.\n"
     ]
    },
    {
     "name": "stdout",
     "output_type": "stream",
     "text": [
      "INFO:tensorflow:Assets written to: discriminator.tf\\assets\n"
     ]
    },
    {
     "name": "stderr",
     "output_type": "stream",
     "text": [
      "INFO:tensorflow:Assets written to: discriminator.tf\\assets\n"
     ]
    },
    {
     "name": "stdout",
     "output_type": "stream",
     "text": [
      "469/469 [==============================] - 92s 196ms/step - d_loss: 0.6868 - g_loss: 0.6552\n",
      "Epoch 1489/2500\n",
      "469/469 [==============================] - 90s 193ms/step - d_loss: 0.6861 - g_loss: 0.6503\n",
      "Epoch 1490/2500\n",
      "469/469 [==============================] - 90s 192ms/step - d_loss: 0.6868 - g_loss: 0.6542\n",
      "Epoch 1491/2500\n",
      "469/469 [==============================] - 90s 193ms/step - d_loss: 0.6932 - g_loss: 0.6539\n",
      "Epoch 1492/2500\n",
      "469/469 [==============================] - 90s 193ms/step - d_loss: 0.6930 - g_loss: 0.6538\n",
      "Epoch 1493/2500\n",
      "469/469 [==============================] - 90s 193ms/step - d_loss: 0.6932 - g_loss: 0.6556\n",
      "Epoch 1494/2500\n",
      "469/469 [==============================] - 90s 193ms/step - d_loss: 0.6884 - g_loss: 0.6575\n",
      "Epoch 1495/2500\n",
      "469/469 [==============================] - 90s 193ms/step - d_loss: 0.6908 - g_loss: 0.6516\n",
      "Epoch 1496/2500\n",
      "469/469 [==============================] - 90s 193ms/step - d_loss: 0.6899 - g_loss: 0.6539\n",
      "Epoch 1497/2500\n",
      "469/469 [==============================] - 90s 193ms/step - d_loss: 0.6846 - g_loss: 0.6670\n",
      "Epoch 1498/2500\n",
      "469/469 [==============================] - 90s 193ms/step - d_loss: 0.6852 - g_loss: 0.6674\n",
      "Epoch 1499/2500\n",
      "469/469 [==============================] - 90s 193ms/step - d_loss: 0.6902 - g_loss: 0.6483\n",
      "Epoch 1500/2500\n",
      "469/469 [==============================] - 90s 193ms/step - d_loss: 0.6873 - g_loss: 0.6529\n",
      "Epoch 1501/2500\n",
      "469/469 [==============================] - 90s 193ms/step - d_loss: 0.6907 - g_loss: 0.6439\n",
      "Epoch 1502/2500\n",
      "469/469 [==============================] - 90s 193ms/step - d_loss: 0.6913 - g_loss: 0.6682\n",
      "Epoch 1503/2500\n",
      "469/469 [==============================] - 90s 193ms/step - d_loss: 0.6871 - g_loss: 0.6625\n",
      "Epoch 1504/2500\n",
      "469/469 [==============================] - 90s 193ms/step - d_loss: 0.6876 - g_loss: 0.6606\n",
      "Epoch 1505/2500\n",
      "469/469 [==============================] - 90s 193ms/step - d_loss: 0.6865 - g_loss: 0.6626\n",
      "Epoch 1506/2500\n",
      "469/469 [==============================] - 90s 193ms/step - d_loss: 0.6880 - g_loss: 0.6707\n",
      "Epoch 1507/2500\n",
      "469/469 [==============================] - 90s 193ms/step - d_loss: 0.6879 - g_loss: 0.6605\n",
      "Epoch 1508/2500\n",
      "469/469 [==============================] - 90s 193ms/step - d_loss: 0.6923 - g_loss: 0.6615\n",
      "Epoch 1509/2500\n",
      "469/469 [==============================] - 90s 193ms/step - d_loss: 0.6922 - g_loss: 0.6622\n",
      "Epoch 1510/2500\n",
      "469/469 [==============================] - 90s 193ms/step - d_loss: 0.6885 - g_loss: 0.6655\n",
      "Epoch 1511/2500\n",
      "469/469 [==============================] - 90s 193ms/step - d_loss: 0.6882 - g_loss: 0.6675\n",
      "Epoch 1512/2500\n",
      "469/469 [==============================] - 90s 193ms/step - d_loss: 0.6854 - g_loss: 0.6561\n",
      "Epoch 1513/2500\n",
      "469/469 [==============================] - 90s 193ms/step - d_loss: 0.6889 - g_loss: 0.6674\n",
      "Epoch 1514/2500\n",
      "469/469 [==============================] - 90s 193ms/step - d_loss: 0.6867 - g_loss: 0.6682\n",
      "Epoch 1515/2500\n",
      "469/469 [==============================] - 90s 193ms/step - d_loss: 0.6867 - g_loss: 0.6703\n",
      "Epoch 1516/2500\n",
      "469/469 [==============================] - 90s 193ms/step - d_loss: 0.6923 - g_loss: 0.6614\n",
      "Epoch 1517/2500\n",
      "469/469 [==============================] - 90s 193ms/step - d_loss: 0.6800 - g_loss: 0.6964\n",
      "Epoch 1518/2500\n",
      "469/469 [==============================] - 90s 193ms/step - d_loss: 0.6853 - g_loss: 0.6526\n",
      "Epoch 1519/2500\n",
      "469/469 [==============================] - ETA: 0s - d_loss: 0.6867 - g_loss: 0.6661WARNING:tensorflow:Compiled the loaded model, but the compiled metrics have yet to be built. `model.compile_metrics` will be empty until you train or evaluate the model.\n"
     ]
    },
    {
     "name": "stderr",
     "output_type": "stream",
     "text": [
      "WARNING:tensorflow:Compiled the loaded model, but the compiled metrics have yet to be built. `model.compile_metrics` will be empty until you train or evaluate the model.\n",
      "WARNING:absl:Found untraced functions such as _jit_compiled_convolution_op, _jit_compiled_convolution_op, _jit_compiled_convolution_op, _jit_compiled_convolution_op, _jit_compiled_convolution_op while saving (showing 5 of 5). These functions will not be directly callable after loading.\n"
     ]
    },
    {
     "name": "stdout",
     "output_type": "stream",
     "text": [
      "INFO:tensorflow:Assets written to: generator.tf\\assets\n"
     ]
    },
    {
     "name": "stderr",
     "output_type": "stream",
     "text": [
      "INFO:tensorflow:Assets written to: generator.tf\\assets\n"
     ]
    },
    {
     "name": "stdout",
     "output_type": "stream",
     "text": [
      "WARNING:tensorflow:Compiled the loaded model, but the compiled metrics have yet to be built. `model.compile_metrics` will be empty until you train or evaluate the model.\n"
     ]
    },
    {
     "name": "stderr",
     "output_type": "stream",
     "text": [
      "WARNING:tensorflow:Compiled the loaded model, but the compiled metrics have yet to be built. `model.compile_metrics` will be empty until you train or evaluate the model.\n",
      "WARNING:absl:Found untraced functions such as _jit_compiled_convolution_op, _jit_compiled_convolution_op, _jit_compiled_convolution_op, _jit_compiled_convolution_op while saving (showing 4 of 4). These functions will not be directly callable after loading.\n"
     ]
    },
    {
     "name": "stdout",
     "output_type": "stream",
     "text": [
      "INFO:tensorflow:Assets written to: discriminator.tf\\assets\n"
     ]
    },
    {
     "name": "stderr",
     "output_type": "stream",
     "text": [
      "INFO:tensorflow:Assets written to: discriminator.tf\\assets\n"
     ]
    },
    {
     "name": "stdout",
     "output_type": "stream",
     "text": [
      "469/469 [==============================] - 92s 197ms/step - d_loss: 0.6867 - g_loss: 0.6661\n",
      "Epoch 1520/2500\n",
      "469/469 [==============================] - 91s 193ms/step - d_loss: 0.6889 - g_loss: 0.6618\n",
      "Epoch 1521/2500\n",
      "469/469 [==============================] - 90s 193ms/step - d_loss: 0.6846 - g_loss: 0.6817\n",
      "Epoch 1522/2500\n",
      "469/469 [==============================] - 90s 193ms/step - d_loss: 0.6857 - g_loss: 0.6735\n",
      "Epoch 1523/2500\n",
      "469/469 [==============================] - 90s 193ms/step - d_loss: 0.6898 - g_loss: 0.6488\n",
      "Epoch 1524/2500\n",
      "469/469 [==============================] - 90s 193ms/step - d_loss: 0.6859 - g_loss: 0.6816\n",
      "Epoch 1525/2500\n",
      "469/469 [==============================] - 90s 193ms/step - d_loss: 0.6839 - g_loss: 0.6796\n",
      "Epoch 1526/2500\n",
      "469/469 [==============================] - 90s 193ms/step - d_loss: 0.6888 - g_loss: 0.6678\n",
      "Epoch 1527/2500\n",
      "469/469 [==============================] - 90s 193ms/step - d_loss: 0.6856 - g_loss: 0.6635\n",
      "Epoch 1528/2500\n",
      "469/469 [==============================] - 90s 193ms/step - d_loss: 0.6895 - g_loss: 0.6567\n",
      "Epoch 1529/2500\n",
      "469/469 [==============================] - 90s 192ms/step - d_loss: 0.6884 - g_loss: 0.6705\n",
      "Epoch 1530/2500\n",
      "469/469 [==============================] - 90s 193ms/step - d_loss: 0.6849 - g_loss: 0.6676\n",
      "Epoch 1531/2500\n",
      "469/469 [==============================] - 90s 193ms/step - d_loss: 0.6885 - g_loss: 0.6482\n",
      "Epoch 1532/2500\n",
      "469/469 [==============================] - 90s 193ms/step - d_loss: 0.6927 - g_loss: 0.6556\n",
      "Epoch 1533/2500\n",
      "469/469 [==============================] - 90s 193ms/step - d_loss: 0.6899 - g_loss: 0.6678\n",
      "Epoch 1534/2500\n",
      "469/469 [==============================] - 90s 193ms/step - d_loss: 0.6905 - g_loss: 0.6591\n",
      "Epoch 1535/2500\n",
      "469/469 [==============================] - 90s 193ms/step - d_loss: 0.6900 - g_loss: 0.6625\n",
      "Epoch 1536/2500\n",
      "469/469 [==============================] - 90s 193ms/step - d_loss: 0.6939 - g_loss: 0.6608\n",
      "Epoch 1537/2500\n",
      "469/469 [==============================] - 90s 193ms/step - d_loss: 0.6865 - g_loss: 0.6622\n",
      "Epoch 1538/2500\n",
      "469/469 [==============================] - 90s 193ms/step - d_loss: 0.6928 - g_loss: 0.6546\n",
      "Epoch 1539/2500\n",
      "469/469 [==============================] - 90s 193ms/step - d_loss: 0.6884 - g_loss: 0.6601\n",
      "Epoch 1540/2500\n",
      "469/469 [==============================] - 90s 193ms/step - d_loss: 0.6910 - g_loss: 0.6587\n",
      "Epoch 1541/2500\n",
      "469/469 [==============================] - 90s 193ms/step - d_loss: 0.6892 - g_loss: 0.6690\n",
      "Epoch 1542/2500\n",
      "469/469 [==============================] - 90s 193ms/step - d_loss: 0.6867 - g_loss: 0.6718\n",
      "Epoch 1543/2500\n",
      "469/469 [==============================] - 90s 193ms/step - d_loss: 0.6897 - g_loss: 0.6638\n",
      "Epoch 1544/2500\n",
      "469/469 [==============================] - 90s 193ms/step - d_loss: 0.6822 - g_loss: 0.6659\n",
      "Epoch 1545/2500\n",
      "469/469 [==============================] - 90s 193ms/step - d_loss: 0.6837 - g_loss: 0.6690\n",
      "Epoch 1546/2500\n",
      "469/469 [==============================] - 90s 193ms/step - d_loss: 0.6832 - g_loss: 0.6722\n",
      "Epoch 1547/2500\n",
      "469/469 [==============================] - 90s 193ms/step - d_loss: 0.6865 - g_loss: 0.6550\n",
      "Epoch 1548/2500\n",
      "469/469 [==============================] - 90s 193ms/step - d_loss: 0.6848 - g_loss: 0.6719\n",
      "Epoch 1549/2500\n",
      "469/469 [==============================] - 90s 193ms/step - d_loss: 0.6865 - g_loss: 0.6667\n",
      "Epoch 1550/2500\n",
      "469/469 [==============================] - ETA: 0s - d_loss: 0.6867 - g_loss: 0.6735WARNING:tensorflow:Compiled the loaded model, but the compiled metrics have yet to be built. `model.compile_metrics` will be empty until you train or evaluate the model.\n"
     ]
    },
    {
     "name": "stderr",
     "output_type": "stream",
     "text": [
      "WARNING:tensorflow:Compiled the loaded model, but the compiled metrics have yet to be built. `model.compile_metrics` will be empty until you train or evaluate the model.\n",
      "WARNING:absl:Found untraced functions such as _jit_compiled_convolution_op, _jit_compiled_convolution_op, _jit_compiled_convolution_op, _jit_compiled_convolution_op, _jit_compiled_convolution_op while saving (showing 5 of 5). These functions will not be directly callable after loading.\n"
     ]
    },
    {
     "name": "stdout",
     "output_type": "stream",
     "text": [
      "INFO:tensorflow:Assets written to: generator.tf\\assets\n"
     ]
    },
    {
     "name": "stderr",
     "output_type": "stream",
     "text": [
      "INFO:tensorflow:Assets written to: generator.tf\\assets\n"
     ]
    },
    {
     "name": "stdout",
     "output_type": "stream",
     "text": [
      "WARNING:tensorflow:Compiled the loaded model, but the compiled metrics have yet to be built. `model.compile_metrics` will be empty until you train or evaluate the model.\n"
     ]
    },
    {
     "name": "stderr",
     "output_type": "stream",
     "text": [
      "WARNING:tensorflow:Compiled the loaded model, but the compiled metrics have yet to be built. `model.compile_metrics` will be empty until you train or evaluate the model.\n",
      "WARNING:absl:Found untraced functions such as _jit_compiled_convolution_op, _jit_compiled_convolution_op, _jit_compiled_convolution_op, _jit_compiled_convolution_op while saving (showing 4 of 4). These functions will not be directly callable after loading.\n"
     ]
    },
    {
     "name": "stdout",
     "output_type": "stream",
     "text": [
      "INFO:tensorflow:Assets written to: discriminator.tf\\assets\n"
     ]
    },
    {
     "name": "stderr",
     "output_type": "stream",
     "text": [
      "INFO:tensorflow:Assets written to: discriminator.tf\\assets\n"
     ]
    },
    {
     "name": "stdout",
     "output_type": "stream",
     "text": [
      "469/469 [==============================] - 92s 196ms/step - d_loss: 0.6867 - g_loss: 0.6735\n",
      "Epoch 1551/2500\n",
      "469/469 [==============================] - 90s 193ms/step - d_loss: 0.6840 - g_loss: 0.6837\n",
      "Epoch 1552/2500\n",
      "469/469 [==============================] - 90s 193ms/step - d_loss: 0.6813 - g_loss: 0.6602\n",
      "Epoch 1553/2500\n",
      "469/469 [==============================] - 90s 193ms/step - d_loss: 0.6845 - g_loss: 0.6759\n",
      "Epoch 1554/2500\n",
      "469/469 [==============================] - 90s 193ms/step - d_loss: 0.6838 - g_loss: 0.6614\n",
      "Epoch 1555/2500\n",
      "469/469 [==============================] - 90s 193ms/step - d_loss: 0.6864 - g_loss: 0.6571\n",
      "Epoch 1556/2500\n",
      "469/469 [==============================] - 90s 193ms/step - d_loss: 0.6857 - g_loss: 0.6776\n",
      "Epoch 1557/2500\n",
      "469/469 [==============================] - 90s 193ms/step - d_loss: 0.6858 - g_loss: 0.6664\n",
      "Epoch 1558/2500\n",
      "469/469 [==============================] - 90s 193ms/step - d_loss: 0.6864 - g_loss: 0.6786\n",
      "Epoch 1559/2500\n",
      "469/469 [==============================] - 90s 193ms/step - d_loss: 0.6852 - g_loss: 0.6650\n",
      "Epoch 1560/2500\n",
      "469/469 [==============================] - 90s 193ms/step - d_loss: 0.6821 - g_loss: 0.6554\n",
      "Epoch 1561/2500\n",
      "469/469 [==============================] - 90s 193ms/step - d_loss: 0.6936 - g_loss: 0.6603\n",
      "Epoch 1562/2500\n",
      "469/469 [==============================] - 90s 193ms/step - d_loss: 0.6822 - g_loss: 0.6720\n",
      "Epoch 1563/2500\n",
      "469/469 [==============================] - 90s 193ms/step - d_loss: 0.6834 - g_loss: 0.6661\n",
      "Epoch 1564/2500\n",
      "469/469 [==============================] - 90s 193ms/step - d_loss: 0.6789 - g_loss: 0.6656\n",
      "Epoch 1565/2500\n",
      "469/469 [==============================] - 90s 193ms/step - d_loss: 0.6873 - g_loss: 0.6753\n",
      "Epoch 1566/2500\n",
      "469/469 [==============================] - 90s 193ms/step - d_loss: 0.6842 - g_loss: 0.6576\n",
      "Epoch 1567/2500\n",
      "469/469 [==============================] - 90s 193ms/step - d_loss: 0.6864 - g_loss: 0.6708\n",
      "Epoch 1568/2500\n",
      "469/469 [==============================] - 90s 193ms/step - d_loss: 0.6820 - g_loss: 0.6501\n",
      "Epoch 1569/2500\n",
      "469/469 [==============================] - 90s 193ms/step - d_loss: 0.6847 - g_loss: 0.6728\n",
      "Epoch 1570/2500\n",
      "469/469 [==============================] - 90s 193ms/step - d_loss: 0.6829 - g_loss: 0.6563\n",
      "Epoch 1571/2500\n",
      "469/469 [==============================] - 90s 193ms/step - d_loss: 0.6875 - g_loss: 0.6566\n",
      "Epoch 1572/2500\n",
      "469/469 [==============================] - 90s 193ms/step - d_loss: 0.6711 - g_loss: 0.6668\n",
      "Epoch 1573/2500\n",
      "469/469 [==============================] - 90s 193ms/step - d_loss: 0.6865 - g_loss: 0.6376\n",
      "Epoch 1574/2500\n",
      "469/469 [==============================] - 90s 193ms/step - d_loss: 0.6856 - g_loss: 0.6559\n",
      "Epoch 1575/2500\n",
      "469/469 [==============================] - 90s 193ms/step - d_loss: 0.6852 - g_loss: 0.6644\n",
      "Epoch 1576/2500\n",
      "469/469 [==============================] - 90s 193ms/step - d_loss: 0.6829 - g_loss: 0.6668\n",
      "Epoch 1577/2500\n",
      "469/469 [==============================] - 90s 193ms/step - d_loss: 0.6863 - g_loss: 0.6574\n",
      "Epoch 1578/2500\n",
      "469/469 [==============================] - 90s 193ms/step - d_loss: 0.6821 - g_loss: 0.6672\n",
      "Epoch 1579/2500\n",
      "469/469 [==============================] - 90s 193ms/step - d_loss: 0.6848 - g_loss: 0.6641\n",
      "Epoch 1580/2500\n",
      "469/469 [==============================] - 90s 193ms/step - d_loss: 0.6913 - g_loss: 0.6672\n",
      "Epoch 1581/2500\n",
      "469/469 [==============================] - ETA: 0s - d_loss: 0.6847 - g_loss: 0.6480WARNING:tensorflow:Compiled the loaded model, but the compiled metrics have yet to be built. `model.compile_metrics` will be empty until you train or evaluate the model.\n"
     ]
    },
    {
     "name": "stderr",
     "output_type": "stream",
     "text": [
      "WARNING:tensorflow:Compiled the loaded model, but the compiled metrics have yet to be built. `model.compile_metrics` will be empty until you train or evaluate the model.\n",
      "WARNING:absl:Found untraced functions such as _jit_compiled_convolution_op, _jit_compiled_convolution_op, _jit_compiled_convolution_op, _jit_compiled_convolution_op, _jit_compiled_convolution_op while saving (showing 5 of 5). These functions will not be directly callable after loading.\n"
     ]
    },
    {
     "name": "stdout",
     "output_type": "stream",
     "text": [
      "INFO:tensorflow:Assets written to: generator.tf\\assets\n"
     ]
    },
    {
     "name": "stderr",
     "output_type": "stream",
     "text": [
      "INFO:tensorflow:Assets written to: generator.tf\\assets\n"
     ]
    },
    {
     "name": "stdout",
     "output_type": "stream",
     "text": [
      "WARNING:tensorflow:Compiled the loaded model, but the compiled metrics have yet to be built. `model.compile_metrics` will be empty until you train or evaluate the model.\n"
     ]
    },
    {
     "name": "stderr",
     "output_type": "stream",
     "text": [
      "WARNING:tensorflow:Compiled the loaded model, but the compiled metrics have yet to be built. `model.compile_metrics` will be empty until you train or evaluate the model.\n",
      "WARNING:absl:Found untraced functions such as _jit_compiled_convolution_op, _jit_compiled_convolution_op, _jit_compiled_convolution_op, _jit_compiled_convolution_op while saving (showing 4 of 4). These functions will not be directly callable after loading.\n"
     ]
    },
    {
     "name": "stdout",
     "output_type": "stream",
     "text": [
      "INFO:tensorflow:Assets written to: discriminator.tf\\assets\n"
     ]
    },
    {
     "name": "stderr",
     "output_type": "stream",
     "text": [
      "INFO:tensorflow:Assets written to: discriminator.tf\\assets\n"
     ]
    },
    {
     "name": "stdout",
     "output_type": "stream",
     "text": [
      "469/469 [==============================] - 92s 197ms/step - d_loss: 0.6847 - g_loss: 0.6480\n",
      "Epoch 1582/2500\n",
      "469/469 [==============================] - 91s 193ms/step - d_loss: 0.6900 - g_loss: 0.6593\n",
      "Epoch 1583/2500\n",
      "469/469 [==============================] - 90s 193ms/step - d_loss: 0.6848 - g_loss: 0.6751\n",
      "Epoch 1584/2500\n",
      "469/469 [==============================] - 90s 193ms/step - d_loss: 0.6874 - g_loss: 0.6524\n",
      "Epoch 1585/2500\n",
      "469/469 [==============================] - 90s 193ms/step - d_loss: 0.6907 - g_loss: 0.6592\n",
      "Epoch 1586/2500\n",
      "469/469 [==============================] - 90s 193ms/step - d_loss: 0.6862 - g_loss: 0.6584\n",
      "Epoch 1587/2500\n",
      "469/469 [==============================] - 90s 193ms/step - d_loss: 0.6864 - g_loss: 0.6534\n",
      "Epoch 1588/2500\n",
      "469/469 [==============================] - 90s 193ms/step - d_loss: 0.6874 - g_loss: 0.6517\n",
      "Epoch 1589/2500\n",
      "469/469 [==============================] - 90s 193ms/step - d_loss: 0.6890 - g_loss: 0.6664\n",
      "Epoch 1590/2500\n",
      "469/469 [==============================] - 90s 193ms/step - d_loss: 0.6905 - g_loss: 0.6650\n",
      "Epoch 1591/2500\n",
      "469/469 [==============================] - 90s 193ms/step - d_loss: 0.6886 - g_loss: 0.6674\n",
      "Epoch 1592/2500\n",
      "469/469 [==============================] - 90s 193ms/step - d_loss: 0.6844 - g_loss: 0.6625\n",
      "Epoch 1593/2500\n",
      "469/469 [==============================] - 90s 193ms/step - d_loss: 0.6906 - g_loss: 0.6543\n",
      "Epoch 1594/2500\n",
      "469/469 [==============================] - 90s 193ms/step - d_loss: 0.6886 - g_loss: 0.6635\n",
      "Epoch 1595/2500\n",
      "469/469 [==============================] - 90s 193ms/step - d_loss: 0.6799 - g_loss: 0.6920\n",
      "Epoch 1596/2500\n",
      "469/469 [==============================] - 90s 193ms/step - d_loss: 0.6802 - g_loss: 0.6646\n",
      "Epoch 1597/2500\n",
      "469/469 [==============================] - 90s 193ms/step - d_loss: 0.6882 - g_loss: 0.6604\n",
      "Epoch 1598/2500\n",
      "469/469 [==============================] - 90s 193ms/step - d_loss: 0.6823 - g_loss: 0.6800\n",
      "Epoch 1599/2500\n",
      "469/469 [==============================] - 90s 193ms/step - d_loss: 0.6870 - g_loss: 0.6546\n",
      "Epoch 1600/2500\n",
      "469/469 [==============================] - 90s 193ms/step - d_loss: 0.6895 - g_loss: 0.6561\n",
      "Epoch 1601/2500\n",
      "469/469 [==============================] - 90s 193ms/step - d_loss: 0.6912 - g_loss: 0.6753\n",
      "Epoch 1602/2500\n",
      "469/469 [==============================] - 90s 193ms/step - d_loss: 0.6872 - g_loss: 0.6640\n",
      "Epoch 1603/2500\n",
      "469/469 [==============================] - 90s 193ms/step - d_loss: 0.6895 - g_loss: 0.6580\n",
      "Epoch 1604/2500\n",
      "469/469 [==============================] - 90s 193ms/step - d_loss: 0.6895 - g_loss: 0.6628\n",
      "Epoch 1605/2500\n",
      "469/469 [==============================] - 90s 193ms/step - d_loss: 0.6847 - g_loss: 0.6750\n",
      "Epoch 1606/2500\n",
      "469/469 [==============================] - 90s 193ms/step - d_loss: 0.6877 - g_loss: 0.6508\n",
      "Epoch 1607/2500\n",
      "469/469 [==============================] - 90s 193ms/step - d_loss: 0.6890 - g_loss: 0.6409\n",
      "Epoch 1608/2500\n",
      "469/469 [==============================] - 90s 193ms/step - d_loss: 0.6863 - g_loss: 0.6692\n",
      "Epoch 1609/2500\n",
      "469/469 [==============================] - 90s 193ms/step - d_loss: 0.6839 - g_loss: 0.6705\n",
      "Epoch 1610/2500\n",
      "469/469 [==============================] - 90s 193ms/step - d_loss: 0.6847 - g_loss: 0.6732\n",
      "Epoch 1611/2500\n",
      "469/469 [==============================] - 90s 193ms/step - d_loss: 0.6887 - g_loss: 0.6657\n",
      "Epoch 1612/2500\n",
      "469/469 [==============================] - ETA: 0s - d_loss: 0.6822 - g_loss: 0.6815WARNING:tensorflow:Compiled the loaded model, but the compiled metrics have yet to be built. `model.compile_metrics` will be empty until you train or evaluate the model.\n"
     ]
    },
    {
     "name": "stderr",
     "output_type": "stream",
     "text": [
      "WARNING:tensorflow:Compiled the loaded model, but the compiled metrics have yet to be built. `model.compile_metrics` will be empty until you train or evaluate the model.\n",
      "WARNING:absl:Found untraced functions such as _jit_compiled_convolution_op, _jit_compiled_convolution_op, _jit_compiled_convolution_op, _jit_compiled_convolution_op, _jit_compiled_convolution_op while saving (showing 5 of 5). These functions will not be directly callable after loading.\n"
     ]
    },
    {
     "name": "stdout",
     "output_type": "stream",
     "text": [
      "INFO:tensorflow:Assets written to: generator.tf\\assets\n"
     ]
    },
    {
     "name": "stderr",
     "output_type": "stream",
     "text": [
      "INFO:tensorflow:Assets written to: generator.tf\\assets\n"
     ]
    },
    {
     "name": "stdout",
     "output_type": "stream",
     "text": [
      "WARNING:tensorflow:Compiled the loaded model, but the compiled metrics have yet to be built. `model.compile_metrics` will be empty until you train or evaluate the model.\n"
     ]
    },
    {
     "name": "stderr",
     "output_type": "stream",
     "text": [
      "WARNING:tensorflow:Compiled the loaded model, but the compiled metrics have yet to be built. `model.compile_metrics` will be empty until you train or evaluate the model.\n",
      "WARNING:absl:Found untraced functions such as _jit_compiled_convolution_op, _jit_compiled_convolution_op, _jit_compiled_convolution_op, _jit_compiled_convolution_op while saving (showing 4 of 4). These functions will not be directly callable after loading.\n"
     ]
    },
    {
     "name": "stdout",
     "output_type": "stream",
     "text": [
      "INFO:tensorflow:Assets written to: discriminator.tf\\assets\n"
     ]
    },
    {
     "name": "stderr",
     "output_type": "stream",
     "text": [
      "INFO:tensorflow:Assets written to: discriminator.tf\\assets\n"
     ]
    },
    {
     "name": "stdout",
     "output_type": "stream",
     "text": [
      "469/469 [==============================] - 92s 196ms/step - d_loss: 0.6822 - g_loss: 0.6814\n",
      "Epoch 1613/2500\n",
      "469/469 [==============================] - 90s 193ms/step - d_loss: 0.6893 - g_loss: 0.6659\n",
      "Epoch 1614/2500\n",
      "469/469 [==============================] - 90s 193ms/step - d_loss: 0.6844 - g_loss: 0.6654\n",
      "Epoch 1615/2500\n",
      "469/469 [==============================] - 90s 193ms/step - d_loss: 0.6901 - g_loss: 0.6605\n",
      "Epoch 1616/2500\n",
      "469/469 [==============================] - 90s 193ms/step - d_loss: 0.6918 - g_loss: 0.6582\n",
      "Epoch 1617/2500\n",
      "469/469 [==============================] - 90s 193ms/step - d_loss: 0.6837 - g_loss: 0.6689\n",
      "Epoch 1618/2500\n",
      "469/469 [==============================] - 90s 193ms/step - d_loss: 0.6854 - g_loss: 0.6664\n",
      "Epoch 1619/2500\n",
      "469/469 [==============================] - 90s 193ms/step - d_loss: 0.6841 - g_loss: 0.6785\n",
      "Epoch 1620/2500\n",
      "469/469 [==============================] - 90s 193ms/step - d_loss: 0.6860 - g_loss: 0.6636\n",
      "Epoch 1621/2500\n",
      "469/469 [==============================] - 90s 192ms/step - d_loss: 0.6864 - g_loss: 0.6711\n",
      "Epoch 1622/2500\n",
      "469/469 [==============================] - 90s 192ms/step - d_loss: 0.6766 - g_loss: 0.6859\n",
      "Epoch 1623/2500\n",
      "469/469 [==============================] - 90s 193ms/step - d_loss: 0.6882 - g_loss: 0.6667\n",
      "Epoch 1624/2500\n",
      "469/469 [==============================] - 90s 193ms/step - d_loss: 0.6874 - g_loss: 0.6670\n",
      "Epoch 1625/2500\n",
      "469/469 [==============================] - 90s 193ms/step - d_loss: 0.6851 - g_loss: 0.6802\n",
      "Epoch 1626/2500\n",
      "469/469 [==============================] - 90s 193ms/step - d_loss: 0.6807 - g_loss: 0.6754\n",
      "Epoch 1627/2500\n",
      "469/469 [==============================] - 90s 193ms/step - d_loss: 0.6790 - g_loss: 0.6842\n",
      "Epoch 1628/2500\n",
      "469/469 [==============================] - 90s 193ms/step - d_loss: 0.6831 - g_loss: 0.6716\n",
      "Epoch 1629/2500\n",
      "469/469 [==============================] - 90s 193ms/step - d_loss: 0.6857 - g_loss: 0.6604\n",
      "Epoch 1630/2500\n",
      "469/469 [==============================] - 90s 193ms/step - d_loss: 0.6874 - g_loss: 0.6641\n",
      "Epoch 1631/2500\n",
      "469/469 [==============================] - 90s 193ms/step - d_loss: 0.6849 - g_loss: 0.6843\n",
      "Epoch 1632/2500\n",
      "469/469 [==============================] - 90s 193ms/step - d_loss: 0.6804 - g_loss: 0.6694\n",
      "Epoch 1633/2500\n",
      "469/469 [==============================] - 90s 193ms/step - d_loss: 0.6906 - g_loss: 0.6835\n",
      "Epoch 1634/2500\n",
      "469/469 [==============================] - 90s 193ms/step - d_loss: 0.6853 - g_loss: 0.6615\n",
      "Epoch 1635/2500\n",
      "469/469 [==============================] - 90s 193ms/step - d_loss: 0.6876 - g_loss: 0.6649\n",
      "Epoch 1636/2500\n",
      "469/469 [==============================] - 90s 193ms/step - d_loss: 0.6868 - g_loss: 0.6646\n",
      "Epoch 1637/2500\n",
      "469/469 [==============================] - 90s 193ms/step - d_loss: 0.6826 - g_loss: 0.6565\n",
      "Epoch 1638/2500\n",
      "469/469 [==============================] - 90s 193ms/step - d_loss: 0.6853 - g_loss: 0.6725\n",
      "Epoch 1639/2500\n",
      "469/469 [==============================] - 90s 193ms/step - d_loss: 0.6877 - g_loss: 0.6740\n",
      "Epoch 1640/2500\n",
      "469/469 [==============================] - 90s 193ms/step - d_loss: 0.6813 - g_loss: 0.6630\n",
      "Epoch 1641/2500\n",
      "469/469 [==============================] - 90s 193ms/step - d_loss: 0.6884 - g_loss: 0.6749\n",
      "Epoch 1642/2500\n",
      "469/469 [==============================] - 90s 193ms/step - d_loss: 0.6820 - g_loss: 0.6861\n",
      "Epoch 1643/2500\n",
      "469/469 [==============================] - ETA: 0s - d_loss: 0.6821 - g_loss: 0.6768WARNING:tensorflow:Compiled the loaded model, but the compiled metrics have yet to be built. `model.compile_metrics` will be empty until you train or evaluate the model.\n"
     ]
    },
    {
     "name": "stderr",
     "output_type": "stream",
     "text": [
      "WARNING:tensorflow:Compiled the loaded model, but the compiled metrics have yet to be built. `model.compile_metrics` will be empty until you train or evaluate the model.\n",
      "WARNING:absl:Found untraced functions such as _jit_compiled_convolution_op, _jit_compiled_convolution_op, _jit_compiled_convolution_op, _jit_compiled_convolution_op, _jit_compiled_convolution_op while saving (showing 5 of 5). These functions will not be directly callable after loading.\n"
     ]
    },
    {
     "name": "stdout",
     "output_type": "stream",
     "text": [
      "INFO:tensorflow:Assets written to: generator.tf\\assets\n"
     ]
    },
    {
     "name": "stderr",
     "output_type": "stream",
     "text": [
      "INFO:tensorflow:Assets written to: generator.tf\\assets\n"
     ]
    },
    {
     "name": "stdout",
     "output_type": "stream",
     "text": [
      "WARNING:tensorflow:Compiled the loaded model, but the compiled metrics have yet to be built. `model.compile_metrics` will be empty until you train or evaluate the model.\n"
     ]
    },
    {
     "name": "stderr",
     "output_type": "stream",
     "text": [
      "WARNING:tensorflow:Compiled the loaded model, but the compiled metrics have yet to be built. `model.compile_metrics` will be empty until you train or evaluate the model.\n",
      "WARNING:absl:Found untraced functions such as _jit_compiled_convolution_op, _jit_compiled_convolution_op, _jit_compiled_convolution_op, _jit_compiled_convolution_op while saving (showing 4 of 4). These functions will not be directly callable after loading.\n"
     ]
    },
    {
     "name": "stdout",
     "output_type": "stream",
     "text": [
      "INFO:tensorflow:Assets written to: discriminator.tf\\assets\n"
     ]
    },
    {
     "name": "stderr",
     "output_type": "stream",
     "text": [
      "INFO:tensorflow:Assets written to: discriminator.tf\\assets\n"
     ]
    },
    {
     "name": "stdout",
     "output_type": "stream",
     "text": [
      "469/469 [==============================] - 92s 197ms/step - d_loss: 0.6820 - g_loss: 0.6769\n",
      "Epoch 1644/2500\n",
      "469/469 [==============================] - 91s 193ms/step - d_loss: 0.6873 - g_loss: 0.6568\n",
      "Epoch 1645/2500\n",
      "469/469 [==============================] - 90s 193ms/step - d_loss: 0.6884 - g_loss: 0.6535\n",
      "Epoch 1646/2500\n",
      "469/469 [==============================] - 90s 193ms/step - d_loss: 0.6865 - g_loss: 0.6698\n",
      "Epoch 1647/2500\n",
      "469/469 [==============================] - 90s 193ms/step - d_loss: 0.6912 - g_loss: 0.6451\n",
      "Epoch 1648/2500\n",
      "469/469 [==============================] - 90s 192ms/step - d_loss: 0.6914 - g_loss: 0.6551\n",
      "Epoch 1649/2500\n",
      "469/469 [==============================] - 90s 193ms/step - d_loss: 0.6918 - g_loss: 0.6474\n",
      "Epoch 1650/2500\n",
      "469/469 [==============================] - 90s 193ms/step - d_loss: 0.6874 - g_loss: 0.6714\n",
      "Epoch 1651/2500\n",
      "469/469 [==============================] - 90s 193ms/step - d_loss: 0.6874 - g_loss: 0.6629\n",
      "Epoch 1652/2500\n",
      "469/469 [==============================] - 90s 193ms/step - d_loss: 0.6908 - g_loss: 0.6656\n",
      "Epoch 1653/2500\n",
      "469/469 [==============================] - 90s 193ms/step - d_loss: 0.6901 - g_loss: 0.6617\n",
      "Epoch 1654/2500\n",
      "469/469 [==============================] - 90s 193ms/step - d_loss: 0.6858 - g_loss: 0.6802\n",
      "Epoch 1655/2500\n",
      "469/469 [==============================] - 90s 193ms/step - d_loss: 0.6829 - g_loss: 0.6931\n",
      "Epoch 1656/2500\n",
      "469/469 [==============================] - 90s 193ms/step - d_loss: 0.6872 - g_loss: 0.6843\n",
      "Epoch 1657/2500\n",
      "469/469 [==============================] - 90s 193ms/step - d_loss: 0.6824 - g_loss: 0.6694\n",
      "Epoch 1658/2500\n",
      "469/469 [==============================] - 90s 193ms/step - d_loss: 0.6851 - g_loss: 0.6754\n",
      "Epoch 1659/2500\n",
      "469/469 [==============================] - 90s 193ms/step - d_loss: 0.6886 - g_loss: 0.6626\n",
      "Epoch 1660/2500\n",
      "469/469 [==============================] - 90s 193ms/step - d_loss: 0.6875 - g_loss: 0.6624\n",
      "Epoch 1661/2500\n",
      "469/469 [==============================] - 90s 193ms/step - d_loss: 0.6844 - g_loss: 0.6691\n",
      "Epoch 1662/2500\n",
      "469/469 [==============================] - 90s 193ms/step - d_loss: 0.6873 - g_loss: 0.6674\n",
      "Epoch 1663/2500\n",
      "469/469 [==============================] - 90s 193ms/step - d_loss: 0.6911 - g_loss: 0.6803\n",
      "Epoch 1664/2500\n",
      "469/469 [==============================] - 90s 193ms/step - d_loss: 0.6891 - g_loss: 0.6755\n",
      "Epoch 1665/2500\n",
      "469/469 [==============================] - 90s 193ms/step - d_loss: 0.6907 - g_loss: 0.6567\n",
      "Epoch 1666/2500\n",
      "469/469 [==============================] - 90s 193ms/step - d_loss: 0.6868 - g_loss: 0.6734\n",
      "Epoch 1667/2500\n",
      "469/469 [==============================] - 90s 193ms/step - d_loss: 0.6867 - g_loss: 0.6838\n",
      "Epoch 1668/2500\n",
      "469/469 [==============================] - 90s 193ms/step - d_loss: 0.6851 - g_loss: 0.6691\n",
      "Epoch 1669/2500\n",
      "469/469 [==============================] - 90s 193ms/step - d_loss: 0.6926 - g_loss: 0.6543\n",
      "Epoch 1670/2500\n",
      "469/469 [==============================] - 90s 193ms/step - d_loss: 0.6892 - g_loss: 0.6606\n",
      "Epoch 1671/2500\n",
      "469/469 [==============================] - 90s 193ms/step - d_loss: 0.6868 - g_loss: 0.6627\n",
      "Epoch 1672/2500\n",
      "469/469 [==============================] - 90s 193ms/step - d_loss: 0.6835 - g_loss: 0.6690\n",
      "Epoch 1673/2500\n",
      "469/469 [==============================] - 90s 193ms/step - d_loss: 0.6848 - g_loss: 0.6663\n",
      "Epoch 1674/2500\n",
      "469/469 [==============================] - ETA: 0s - d_loss: 0.6819 - g_loss: 0.6617WARNING:tensorflow:Compiled the loaded model, but the compiled metrics have yet to be built. `model.compile_metrics` will be empty until you train or evaluate the model.\n"
     ]
    },
    {
     "name": "stderr",
     "output_type": "stream",
     "text": [
      "WARNING:tensorflow:Compiled the loaded model, but the compiled metrics have yet to be built. `model.compile_metrics` will be empty until you train or evaluate the model.\n",
      "WARNING:absl:Found untraced functions such as _jit_compiled_convolution_op, _jit_compiled_convolution_op, _jit_compiled_convolution_op, _jit_compiled_convolution_op, _jit_compiled_convolution_op while saving (showing 5 of 5). These functions will not be directly callable after loading.\n"
     ]
    },
    {
     "name": "stdout",
     "output_type": "stream",
     "text": [
      "INFO:tensorflow:Assets written to: generator.tf\\assets\n"
     ]
    },
    {
     "name": "stderr",
     "output_type": "stream",
     "text": [
      "INFO:tensorflow:Assets written to: generator.tf\\assets\n"
     ]
    },
    {
     "name": "stdout",
     "output_type": "stream",
     "text": [
      "WARNING:tensorflow:Compiled the loaded model, but the compiled metrics have yet to be built. `model.compile_metrics` will be empty until you train or evaluate the model.\n"
     ]
    },
    {
     "name": "stderr",
     "output_type": "stream",
     "text": [
      "WARNING:tensorflow:Compiled the loaded model, but the compiled metrics have yet to be built. `model.compile_metrics` will be empty until you train or evaluate the model.\n",
      "WARNING:absl:Found untraced functions such as _jit_compiled_convolution_op, _jit_compiled_convolution_op, _jit_compiled_convolution_op, _jit_compiled_convolution_op while saving (showing 4 of 4). These functions will not be directly callable after loading.\n"
     ]
    },
    {
     "name": "stdout",
     "output_type": "stream",
     "text": [
      "INFO:tensorflow:Assets written to: discriminator.tf\\assets\n"
     ]
    },
    {
     "name": "stderr",
     "output_type": "stream",
     "text": [
      "INFO:tensorflow:Assets written to: discriminator.tf\\assets\n"
     ]
    },
    {
     "name": "stdout",
     "output_type": "stream",
     "text": [
      "469/469 [==============================] - 92s 197ms/step - d_loss: 0.6820 - g_loss: 0.6614\n",
      "Epoch 1675/2500\n",
      "469/469 [==============================] - 91s 193ms/step - d_loss: 0.6883 - g_loss: 0.6357\n",
      "Epoch 1676/2500\n",
      "469/469 [==============================] - 90s 193ms/step - d_loss: 0.6920 - g_loss: 0.6519\n",
      "Epoch 1677/2500\n",
      "469/469 [==============================] - 90s 193ms/step - d_loss: 0.6881 - g_loss: 0.6650\n",
      "Epoch 1678/2500\n",
      "469/469 [==============================] - 90s 193ms/step - d_loss: 0.6842 - g_loss: 0.6598\n",
      "Epoch 1679/2500\n",
      "469/469 [==============================] - 90s 193ms/step - d_loss: 0.6879 - g_loss: 0.6753\n",
      "Epoch 1680/2500\n",
      "469/469 [==============================] - 90s 193ms/step - d_loss: 0.6851 - g_loss: 0.6530\n",
      "Epoch 1681/2500\n",
      "469/469 [==============================] - 90s 193ms/step - d_loss: 0.6819 - g_loss: 0.6673\n",
      "Epoch 1682/2500\n",
      "469/469 [==============================] - 90s 193ms/step - d_loss: 0.6871 - g_loss: 0.6664\n",
      "Epoch 1683/2500\n",
      "469/469 [==============================] - 90s 193ms/step - d_loss: 0.6846 - g_loss: 0.6669\n",
      "Epoch 1684/2500\n",
      "469/469 [==============================] - 90s 193ms/step - d_loss: 0.6898 - g_loss: 0.6642\n",
      "Epoch 1685/2500\n",
      "469/469 [==============================] - 90s 193ms/step - d_loss: 0.6805 - g_loss: 0.6632\n",
      "Epoch 1686/2500\n",
      "469/469 [==============================] - 90s 193ms/step - d_loss: 0.6902 - g_loss: 0.6456\n",
      "Epoch 1687/2500\n",
      "469/469 [==============================] - 90s 193ms/step - d_loss: 0.6881 - g_loss: 0.6734\n",
      "Epoch 1688/2500\n",
      "469/469 [==============================] - 90s 193ms/step - d_loss: 0.6860 - g_loss: 0.6593\n",
      "Epoch 1689/2500\n",
      "469/469 [==============================] - 90s 193ms/step - d_loss: 0.6901 - g_loss: 0.6432\n",
      "Epoch 1690/2500\n",
      "469/469 [==============================] - 90s 193ms/step - d_loss: 0.6905 - g_loss: 0.6648\n",
      "Epoch 1691/2500\n",
      "469/469 [==============================] - 90s 193ms/step - d_loss: 0.6884 - g_loss: 0.6760\n",
      "Epoch 1692/2500\n",
      "469/469 [==============================] - 90s 193ms/step - d_loss: 0.6834 - g_loss: 0.6644\n",
      "Epoch 1693/2500\n",
      "469/469 [==============================] - 90s 193ms/step - d_loss: 0.6856 - g_loss: 0.6703\n",
      "Epoch 1694/2500\n",
      "469/469 [==============================] - 90s 193ms/step - d_loss: 0.6859 - g_loss: 0.6554\n",
      "Epoch 1695/2500\n",
      "469/469 [==============================] - 90s 193ms/step - d_loss: 0.6787 - g_loss: 0.6805\n",
      "Epoch 1696/2500\n",
      "469/469 [==============================] - 90s 193ms/step - d_loss: 0.6833 - g_loss: 0.6814\n",
      "Epoch 1697/2500\n",
      "469/469 [==============================] - 90s 193ms/step - d_loss: 0.6842 - g_loss: 0.6767\n",
      "Epoch 1698/2500\n",
      "469/469 [==============================] - 90s 193ms/step - d_loss: 0.6874 - g_loss: 0.6564\n",
      "Epoch 1699/2500\n",
      "469/469 [==============================] - 90s 193ms/step - d_loss: 0.6883 - g_loss: 0.6661\n",
      "Epoch 1700/2500\n",
      "469/469 [==============================] - 90s 193ms/step - d_loss: 0.6840 - g_loss: 0.6784\n",
      "Epoch 1701/2500\n",
      "469/469 [==============================] - 90s 193ms/step - d_loss: 0.6825 - g_loss: 0.6732\n",
      "Epoch 1702/2500\n",
      "469/469 [==============================] - 90s 193ms/step - d_loss: 0.6777 - g_loss: 0.6748\n",
      "Epoch 1703/2500\n",
      "469/469 [==============================] - 90s 193ms/step - d_loss: 0.6777 - g_loss: 0.6834\n",
      "Epoch 1704/2500\n",
      "469/469 [==============================] - 90s 193ms/step - d_loss: 0.6747 - g_loss: 0.6898\n",
      "Epoch 1705/2500\n",
      "469/469 [==============================] - ETA: 0s - d_loss: 0.6823 - g_loss: 0.6581WARNING:tensorflow:Compiled the loaded model, but the compiled metrics have yet to be built. `model.compile_metrics` will be empty until you train or evaluate the model.\n"
     ]
    },
    {
     "name": "stderr",
     "output_type": "stream",
     "text": [
      "WARNING:tensorflow:Compiled the loaded model, but the compiled metrics have yet to be built. `model.compile_metrics` will be empty until you train or evaluate the model.\n",
      "WARNING:absl:Found untraced functions such as _jit_compiled_convolution_op, _jit_compiled_convolution_op, _jit_compiled_convolution_op, _jit_compiled_convolution_op, _jit_compiled_convolution_op while saving (showing 5 of 5). These functions will not be directly callable after loading.\n"
     ]
    },
    {
     "name": "stdout",
     "output_type": "stream",
     "text": [
      "INFO:tensorflow:Assets written to: generator.tf\\assets\n"
     ]
    },
    {
     "name": "stderr",
     "output_type": "stream",
     "text": [
      "INFO:tensorflow:Assets written to: generator.tf\\assets\n"
     ]
    },
    {
     "name": "stdout",
     "output_type": "stream",
     "text": [
      "WARNING:tensorflow:Compiled the loaded model, but the compiled metrics have yet to be built. `model.compile_metrics` will be empty until you train or evaluate the model.\n"
     ]
    },
    {
     "name": "stderr",
     "output_type": "stream",
     "text": [
      "WARNING:tensorflow:Compiled the loaded model, but the compiled metrics have yet to be built. `model.compile_metrics` will be empty until you train or evaluate the model.\n",
      "WARNING:absl:Found untraced functions such as _jit_compiled_convolution_op, _jit_compiled_convolution_op, _jit_compiled_convolution_op, _jit_compiled_convolution_op while saving (showing 4 of 4). These functions will not be directly callable after loading.\n"
     ]
    },
    {
     "name": "stdout",
     "output_type": "stream",
     "text": [
      "INFO:tensorflow:Assets written to: discriminator.tf\\assets\n"
     ]
    },
    {
     "name": "stderr",
     "output_type": "stream",
     "text": [
      "INFO:tensorflow:Assets written to: discriminator.tf\\assets\n"
     ]
    },
    {
     "name": "stdout",
     "output_type": "stream",
     "text": [
      "469/469 [==============================] - 92s 196ms/step - d_loss: 0.6824 - g_loss: 0.6579\n",
      "Epoch 1706/2500\n",
      "469/469 [==============================] - 90s 193ms/step - d_loss: 0.6834 - g_loss: 0.6606\n",
      "Epoch 1707/2500\n",
      "469/469 [==============================] - 90s 193ms/step - d_loss: 0.6798 - g_loss: 0.6638\n",
      "Epoch 1708/2500\n",
      "469/469 [==============================] - 90s 193ms/step - d_loss: 0.6836 - g_loss: 0.6762\n",
      "Epoch 1709/2500\n",
      "469/469 [==============================] - 90s 193ms/step - d_loss: 0.6799 - g_loss: 0.6673\n",
      "Epoch 1710/2500\n",
      "469/469 [==============================] - 90s 193ms/step - d_loss: 0.6836 - g_loss: 0.6731\n",
      "Epoch 1711/2500\n",
      "469/469 [==============================] - 90s 193ms/step - d_loss: 0.6872 - g_loss: 0.6713\n",
      "Epoch 1712/2500\n",
      "469/469 [==============================] - 90s 193ms/step - d_loss: 0.6849 - g_loss: 0.6695\n",
      "Epoch 1713/2500\n",
      "469/469 [==============================] - 90s 193ms/step - d_loss: 0.6862 - g_loss: 0.6489\n",
      "Epoch 1714/2500\n",
      "469/469 [==============================] - 90s 193ms/step - d_loss: 0.6825 - g_loss: 0.6551\n",
      "Epoch 1715/2500\n",
      "469/469 [==============================] - 90s 193ms/step - d_loss: 0.6838 - g_loss: 0.6653\n",
      "Epoch 1716/2500\n",
      "469/469 [==============================] - 90s 193ms/step - d_loss: 0.6850 - g_loss: 0.6758\n",
      "Epoch 1717/2500\n",
      "469/469 [==============================] - 90s 193ms/step - d_loss: 0.6824 - g_loss: 0.6778\n",
      "Epoch 1718/2500\n",
      "469/469 [==============================] - 90s 193ms/step - d_loss: 0.6897 - g_loss: 0.6538\n",
      "Epoch 1719/2500\n",
      "469/469 [==============================] - 90s 193ms/step - d_loss: 0.6777 - g_loss: 0.6766\n",
      "Epoch 1720/2500\n",
      "469/469 [==============================] - 90s 193ms/step - d_loss: 0.6825 - g_loss: 0.6810\n",
      "Epoch 1721/2500\n",
      "469/469 [==============================] - 90s 193ms/step - d_loss: 0.6775 - g_loss: 0.6773\n",
      "Epoch 1722/2500\n",
      "469/469 [==============================] - 90s 193ms/step - d_loss: 0.6835 - g_loss: 0.6733\n",
      "Epoch 1723/2500\n",
      "469/469 [==============================] - 90s 193ms/step - d_loss: 0.6717 - g_loss: 0.7056\n",
      "Epoch 1724/2500\n",
      "469/469 [==============================] - 90s 193ms/step - d_loss: 0.6814 - g_loss: 0.6635\n",
      "Epoch 1725/2500\n",
      "469/469 [==============================] - 90s 193ms/step - d_loss: 0.6863 - g_loss: 0.6669\n",
      "Epoch 1726/2500\n",
      "469/469 [==============================] - 90s 193ms/step - d_loss: 0.6783 - g_loss: 0.6796\n",
      "Epoch 1727/2500\n",
      "469/469 [==============================] - 90s 193ms/step - d_loss: 0.6830 - g_loss: 0.6811\n",
      "Epoch 1728/2500\n",
      "469/469 [==============================] - 90s 193ms/step - d_loss: 0.6823 - g_loss: 0.6561\n",
      "Epoch 1729/2500\n",
      "469/469 [==============================] - 90s 193ms/step - d_loss: 0.6856 - g_loss: 0.6629\n",
      "Epoch 1730/2500\n",
      "469/469 [==============================] - 90s 193ms/step - d_loss: 0.6815 - g_loss: 0.6809\n",
      "Epoch 1731/2500\n",
      "469/469 [==============================] - 90s 193ms/step - d_loss: 0.6827 - g_loss: 0.6593\n",
      "Epoch 1732/2500\n",
      "469/469 [==============================] - 90s 193ms/step - d_loss: 0.6847 - g_loss: 0.6604\n",
      "Epoch 1733/2500\n",
      "469/469 [==============================] - 90s 193ms/step - d_loss: 0.6886 - g_loss: 0.6615\n",
      "Epoch 1734/2500\n",
      "469/469 [==============================] - 90s 193ms/step - d_loss: 0.6850 - g_loss: 0.6565\n",
      "Epoch 1735/2500\n",
      "469/469 [==============================] - 90s 193ms/step - d_loss: 0.6903 - g_loss: 0.6568\n",
      "Epoch 1736/2500\n",
      "469/469 [==============================] - ETA: 0s - d_loss: 0.6884 - g_loss: 0.6443WARNING:tensorflow:Compiled the loaded model, but the compiled metrics have yet to be built. `model.compile_metrics` will be empty until you train or evaluate the model.\n"
     ]
    },
    {
     "name": "stderr",
     "output_type": "stream",
     "text": [
      "WARNING:tensorflow:Compiled the loaded model, but the compiled metrics have yet to be built. `model.compile_metrics` will be empty until you train or evaluate the model.\n",
      "WARNING:absl:Found untraced functions such as _jit_compiled_convolution_op, _jit_compiled_convolution_op, _jit_compiled_convolution_op, _jit_compiled_convolution_op, _jit_compiled_convolution_op while saving (showing 5 of 5). These functions will not be directly callable after loading.\n"
     ]
    },
    {
     "name": "stdout",
     "output_type": "stream",
     "text": [
      "INFO:tensorflow:Assets written to: generator.tf\\assets\n"
     ]
    },
    {
     "name": "stderr",
     "output_type": "stream",
     "text": [
      "INFO:tensorflow:Assets written to: generator.tf\\assets\n"
     ]
    },
    {
     "name": "stdout",
     "output_type": "stream",
     "text": [
      "WARNING:tensorflow:Compiled the loaded model, but the compiled metrics have yet to be built. `model.compile_metrics` will be empty until you train or evaluate the model.\n"
     ]
    },
    {
     "name": "stderr",
     "output_type": "stream",
     "text": [
      "WARNING:tensorflow:Compiled the loaded model, but the compiled metrics have yet to be built. `model.compile_metrics` will be empty until you train or evaluate the model.\n",
      "WARNING:absl:Found untraced functions such as _jit_compiled_convolution_op, _jit_compiled_convolution_op, _jit_compiled_convolution_op, _jit_compiled_convolution_op while saving (showing 4 of 4). These functions will not be directly callable after loading.\n"
     ]
    },
    {
     "name": "stdout",
     "output_type": "stream",
     "text": [
      "INFO:tensorflow:Assets written to: discriminator.tf\\assets\n"
     ]
    },
    {
     "name": "stderr",
     "output_type": "stream",
     "text": [
      "INFO:tensorflow:Assets written to: discriminator.tf\\assets\n"
     ]
    },
    {
     "name": "stdout",
     "output_type": "stream",
     "text": [
      "469/469 [==============================] - 92s 197ms/step - d_loss: 0.6884 - g_loss: 0.6444\n",
      "Epoch 1737/2500\n",
      "469/469 [==============================] - 91s 193ms/step - d_loss: 0.6880 - g_loss: 0.6545\n",
      "Epoch 1738/2500\n",
      "469/469 [==============================] - 90s 193ms/step - d_loss: 0.6881 - g_loss: 0.6410\n",
      "Epoch 1739/2500\n",
      "469/469 [==============================] - 90s 193ms/step - d_loss: 0.6834 - g_loss: 0.6767\n",
      "Epoch 1740/2500\n",
      "469/469 [==============================] - 90s 193ms/step - d_loss: 0.6840 - g_loss: 0.6643\n",
      "Epoch 1741/2500\n",
      "469/469 [==============================] - 90s 193ms/step - d_loss: 0.6894 - g_loss: 0.6542\n",
      "Epoch 1742/2500\n",
      "469/469 [==============================] - 90s 193ms/step - d_loss: 0.6899 - g_loss: 0.6550\n",
      "Epoch 1743/2500\n",
      "469/469 [==============================] - 90s 193ms/step - d_loss: 0.6877 - g_loss: 0.6614\n",
      "Epoch 1744/2500\n",
      "469/469 [==============================] - 90s 193ms/step - d_loss: 0.6872 - g_loss: 0.6508\n",
      "Epoch 1745/2500\n",
      "469/469 [==============================] - 90s 193ms/step - d_loss: 0.6899 - g_loss: 0.6606\n",
      "Epoch 1746/2500\n",
      "469/469 [==============================] - 90s 193ms/step - d_loss: 0.6900 - g_loss: 0.6598\n",
      "Epoch 1747/2500\n",
      "469/469 [==============================] - 90s 193ms/step - d_loss: 0.6896 - g_loss: 0.6553\n",
      "Epoch 1748/2500\n",
      "469/469 [==============================] - 90s 193ms/step - d_loss: 0.6887 - g_loss: 0.6698\n",
      "Epoch 1749/2500\n",
      "469/469 [==============================] - 90s 193ms/step - d_loss: 0.6805 - g_loss: 0.6697\n",
      "Epoch 1750/2500\n",
      "469/469 [==============================] - 90s 193ms/step - d_loss: 0.6898 - g_loss: 0.6558\n",
      "Epoch 1751/2500\n",
      "469/469 [==============================] - 90s 193ms/step - d_loss: 0.6809 - g_loss: 0.6786\n",
      "Epoch 1752/2500\n",
      "469/469 [==============================] - 90s 193ms/step - d_loss: 0.6843 - g_loss: 0.6646\n",
      "Epoch 1753/2500\n",
      "469/469 [==============================] - 90s 193ms/step - d_loss: 0.6856 - g_loss: 0.6652\n",
      "Epoch 1754/2500\n",
      "469/469 [==============================] - 90s 193ms/step - d_loss: 0.6904 - g_loss: 0.6534\n",
      "Epoch 1755/2500\n",
      "469/469 [==============================] - 90s 193ms/step - d_loss: 0.6890 - g_loss: 0.6663\n",
      "Epoch 1756/2500\n",
      "469/469 [==============================] - 90s 193ms/step - d_loss: 0.6889 - g_loss: 0.6670\n",
      "Epoch 1757/2500\n",
      "469/469 [==============================] - 90s 193ms/step - d_loss: 0.6862 - g_loss: 0.6553\n",
      "Epoch 1758/2500\n",
      "469/469 [==============================] - 90s 193ms/step - d_loss: 0.6855 - g_loss: 0.6737\n",
      "Epoch 1759/2500\n",
      "469/469 [==============================] - 90s 193ms/step - d_loss: 0.6831 - g_loss: 0.6701\n",
      "Epoch 1760/2500\n",
      "469/469 [==============================] - 90s 193ms/step - d_loss: 0.6867 - g_loss: 0.6694\n",
      "Epoch 1761/2500\n",
      "469/469 [==============================] - 90s 193ms/step - d_loss: 0.6885 - g_loss: 0.6636\n",
      "Epoch 1762/2500\n",
      "469/469 [==============================] - 90s 193ms/step - d_loss: 0.6868 - g_loss: 0.6728\n",
      "Epoch 1763/2500\n",
      "469/469 [==============================] - 90s 193ms/step - d_loss: 0.6817 - g_loss: 0.6760\n",
      "Epoch 1764/2500\n",
      "469/469 [==============================] - 90s 193ms/step - d_loss: 0.6882 - g_loss: 0.6711\n",
      "Epoch 1765/2500\n",
      "469/469 [==============================] - 90s 193ms/step - d_loss: 0.6869 - g_loss: 0.6442\n",
      "Epoch 1766/2500\n",
      "469/469 [==============================] - 90s 193ms/step - d_loss: 0.6845 - g_loss: 0.6723\n",
      "Epoch 1767/2500\n",
      "469/469 [==============================] - ETA: 0s - d_loss: 0.6919 - g_loss: 0.6565WARNING:tensorflow:Compiled the loaded model, but the compiled metrics have yet to be built. `model.compile_metrics` will be empty until you train or evaluate the model.\n"
     ]
    },
    {
     "name": "stderr",
     "output_type": "stream",
     "text": [
      "WARNING:tensorflow:Compiled the loaded model, but the compiled metrics have yet to be built. `model.compile_metrics` will be empty until you train or evaluate the model.\n",
      "WARNING:absl:Found untraced functions such as _jit_compiled_convolution_op, _jit_compiled_convolution_op, _jit_compiled_convolution_op, _jit_compiled_convolution_op, _jit_compiled_convolution_op while saving (showing 5 of 5). These functions will not be directly callable after loading.\n"
     ]
    },
    {
     "name": "stdout",
     "output_type": "stream",
     "text": [
      "INFO:tensorflow:Assets written to: generator.tf\\assets\n"
     ]
    },
    {
     "name": "stderr",
     "output_type": "stream",
     "text": [
      "INFO:tensorflow:Assets written to: generator.tf\\assets\n"
     ]
    },
    {
     "name": "stdout",
     "output_type": "stream",
     "text": [
      "WARNING:tensorflow:Compiled the loaded model, but the compiled metrics have yet to be built. `model.compile_metrics` will be empty until you train or evaluate the model.\n"
     ]
    },
    {
     "name": "stderr",
     "output_type": "stream",
     "text": [
      "WARNING:tensorflow:Compiled the loaded model, but the compiled metrics have yet to be built. `model.compile_metrics` will be empty until you train or evaluate the model.\n",
      "WARNING:absl:Found untraced functions such as _jit_compiled_convolution_op, _jit_compiled_convolution_op, _jit_compiled_convolution_op, _jit_compiled_convolution_op while saving (showing 4 of 4). These functions will not be directly callable after loading.\n"
     ]
    },
    {
     "name": "stdout",
     "output_type": "stream",
     "text": [
      "INFO:tensorflow:Assets written to: discriminator.tf\\assets\n"
     ]
    },
    {
     "name": "stderr",
     "output_type": "stream",
     "text": [
      "INFO:tensorflow:Assets written to: discriminator.tf\\assets\n"
     ]
    },
    {
     "name": "stdout",
     "output_type": "stream",
     "text": [
      "469/469 [==============================] - 92s 196ms/step - d_loss: 0.6919 - g_loss: 0.6565\n",
      "Epoch 1768/2500\n",
      "469/469 [==============================] - 90s 193ms/step - d_loss: 0.6862 - g_loss: 0.6741\n",
      "Epoch 1769/2500\n",
      "469/469 [==============================] - 90s 193ms/step - d_loss: 0.6882 - g_loss: 0.6665\n",
      "Epoch 1770/2500\n",
      "469/469 [==============================] - 90s 193ms/step - d_loss: 0.6872 - g_loss: 0.6531\n",
      "Epoch 1771/2500\n",
      "469/469 [==============================] - 90s 193ms/step - d_loss: 0.6879 - g_loss: 0.6647\n",
      "Epoch 1772/2500\n",
      "469/469 [==============================] - 90s 193ms/step - d_loss: 0.6815 - g_loss: 0.6964\n",
      "Epoch 1773/2500\n",
      "469/469 [==============================] - 90s 193ms/step - d_loss: 0.6875 - g_loss: 0.6593\n",
      "Epoch 1774/2500\n",
      "469/469 [==============================] - 90s 193ms/step - d_loss: 0.6900 - g_loss: 0.6731\n",
      "Epoch 1775/2500\n",
      "469/469 [==============================] - 90s 193ms/step - d_loss: 0.6869 - g_loss: 0.6630\n",
      "Epoch 1776/2500\n",
      "469/469 [==============================] - 90s 193ms/step - d_loss: 0.6890 - g_loss: 0.6611\n",
      "Epoch 1777/2500\n",
      "469/469 [==============================] - 90s 193ms/step - d_loss: 0.6862 - g_loss: 0.6545\n",
      "Epoch 1778/2500\n",
      "469/469 [==============================] - 90s 193ms/step - d_loss: 0.6878 - g_loss: 0.6698\n",
      "Epoch 1779/2500\n",
      "469/469 [==============================] - 90s 193ms/step - d_loss: 0.6916 - g_loss: 0.6722\n",
      "Epoch 1780/2500\n",
      "469/469 [==============================] - 90s 193ms/step - d_loss: 0.6882 - g_loss: 0.6810\n",
      "Epoch 1781/2500\n",
      "469/469 [==============================] - 90s 193ms/step - d_loss: 0.6917 - g_loss: 0.6497\n",
      "Epoch 1782/2500\n",
      "469/469 [==============================] - 90s 193ms/step - d_loss: 0.6868 - g_loss: 0.6685\n",
      "Epoch 1783/2500\n",
      "469/469 [==============================] - 90s 193ms/step - d_loss: 0.6848 - g_loss: 0.6667\n",
      "Epoch 1784/2500\n",
      "469/469 [==============================] - 90s 193ms/step - d_loss: 0.6881 - g_loss: 0.6633\n",
      "Epoch 1785/2500\n",
      "469/469 [==============================] - 90s 193ms/step - d_loss: 0.6755 - g_loss: 0.6903\n",
      "Epoch 1786/2500\n",
      "469/469 [==============================] - 90s 193ms/step - d_loss: 0.6830 - g_loss: 0.6500\n",
      "Epoch 1787/2500\n",
      "469/469 [==============================] - 90s 193ms/step - d_loss: 0.6851 - g_loss: 0.6563\n",
      "Epoch 1788/2500\n",
      "469/469 [==============================] - 90s 193ms/step - d_loss: 0.6913 - g_loss: 0.6488\n",
      "Epoch 1789/2500\n",
      "469/469 [==============================] - 90s 193ms/step - d_loss: 0.6885 - g_loss: 0.6563\n",
      "Epoch 1790/2500\n",
      "469/469 [==============================] - 90s 193ms/step - d_loss: 0.6847 - g_loss: 0.6729\n",
      "Epoch 1791/2500\n",
      "469/469 [==============================] - 90s 193ms/step - d_loss: 0.6911 - g_loss: 0.6695\n",
      "Epoch 1792/2500\n",
      "469/469 [==============================] - 90s 193ms/step - d_loss: 0.6905 - g_loss: 0.6553\n",
      "Epoch 1793/2500\n",
      "469/469 [==============================] - 90s 193ms/step - d_loss: 0.6909 - g_loss: 0.6649\n",
      "Epoch 1794/2500\n",
      "469/469 [==============================] - 90s 193ms/step - d_loss: 0.6888 - g_loss: 0.6703\n",
      "Epoch 1795/2500\n",
      "469/469 [==============================] - 90s 193ms/step - d_loss: 0.6884 - g_loss: 0.6653\n",
      "Epoch 1796/2500\n",
      "469/469 [==============================] - 90s 193ms/step - d_loss: 0.6890 - g_loss: 0.6606\n",
      "Epoch 1797/2500\n",
      "469/469 [==============================] - 90s 193ms/step - d_loss: 0.6893 - g_loss: 0.6540\n",
      "Epoch 1798/2500\n",
      "469/469 [==============================] - ETA: 0s - d_loss: 0.6836 - g_loss: 0.6672WARNING:tensorflow:Compiled the loaded model, but the compiled metrics have yet to be built. `model.compile_metrics` will be empty until you train or evaluate the model.\n"
     ]
    },
    {
     "name": "stderr",
     "output_type": "stream",
     "text": [
      "WARNING:tensorflow:Compiled the loaded model, but the compiled metrics have yet to be built. `model.compile_metrics` will be empty until you train or evaluate the model.\n",
      "WARNING:absl:Found untraced functions such as _jit_compiled_convolution_op, _jit_compiled_convolution_op, _jit_compiled_convolution_op, _jit_compiled_convolution_op, _jit_compiled_convolution_op while saving (showing 5 of 5). These functions will not be directly callable after loading.\n"
     ]
    },
    {
     "name": "stdout",
     "output_type": "stream",
     "text": [
      "INFO:tensorflow:Assets written to: generator.tf\\assets\n"
     ]
    },
    {
     "name": "stderr",
     "output_type": "stream",
     "text": [
      "INFO:tensorflow:Assets written to: generator.tf\\assets\n"
     ]
    },
    {
     "name": "stdout",
     "output_type": "stream",
     "text": [
      "WARNING:tensorflow:Compiled the loaded model, but the compiled metrics have yet to be built. `model.compile_metrics` will be empty until you train or evaluate the model.\n"
     ]
    },
    {
     "name": "stderr",
     "output_type": "stream",
     "text": [
      "WARNING:tensorflow:Compiled the loaded model, but the compiled metrics have yet to be built. `model.compile_metrics` will be empty until you train or evaluate the model.\n",
      "WARNING:absl:Found untraced functions such as _jit_compiled_convolution_op, _jit_compiled_convolution_op, _jit_compiled_convolution_op, _jit_compiled_convolution_op while saving (showing 4 of 4). These functions will not be directly callable after loading.\n"
     ]
    },
    {
     "name": "stdout",
     "output_type": "stream",
     "text": [
      "INFO:tensorflow:Assets written to: discriminator.tf\\assets\n"
     ]
    },
    {
     "name": "stderr",
     "output_type": "stream",
     "text": [
      "INFO:tensorflow:Assets written to: discriminator.tf\\assets\n"
     ]
    },
    {
     "name": "stdout",
     "output_type": "stream",
     "text": [
      "469/469 [==============================] - 92s 197ms/step - d_loss: 0.6836 - g_loss: 0.6672\n",
      "Epoch 1799/2500\n",
      "469/469 [==============================] - 91s 193ms/step - d_loss: 0.6906 - g_loss: 0.6647\n",
      "Epoch 1800/2500\n",
      "469/469 [==============================] - 90s 193ms/step - d_loss: 0.6878 - g_loss: 0.6700\n",
      "Epoch 1801/2500\n",
      "469/469 [==============================] - 90s 193ms/step - d_loss: 0.6868 - g_loss: 0.6578\n",
      "Epoch 1802/2500\n",
      "469/469 [==============================] - 90s 193ms/step - d_loss: 0.6899 - g_loss: 0.6585\n",
      "Epoch 1803/2500\n",
      "469/469 [==============================] - 90s 193ms/step - d_loss: 0.6811 - g_loss: 0.6806\n",
      "Epoch 1804/2500\n",
      "469/469 [==============================] - 90s 193ms/step - d_loss: 0.6882 - g_loss: 0.6803\n",
      "Epoch 1805/2500\n",
      "469/469 [==============================] - 90s 193ms/step - d_loss: 0.6836 - g_loss: 0.6796\n",
      "Epoch 1806/2500\n",
      "469/469 [==============================] - 90s 193ms/step - d_loss: 0.6869 - g_loss: 0.6773\n",
      "Epoch 1807/2500\n",
      "469/469 [==============================] - 90s 193ms/step - d_loss: 0.6864 - g_loss: 0.6775\n",
      "Epoch 1808/2500\n",
      "469/469 [==============================] - 90s 193ms/step - d_loss: 0.6830 - g_loss: 0.6546\n",
      "Epoch 1809/2500\n",
      "469/469 [==============================] - 90s 193ms/step - d_loss: 0.6915 - g_loss: 0.6715\n",
      "Epoch 1810/2500\n",
      "469/469 [==============================] - 90s 193ms/step - d_loss: 0.6862 - g_loss: 0.6590\n",
      "Epoch 1811/2500\n",
      "469/469 [==============================] - 90s 193ms/step - d_loss: 0.6888 - g_loss: 0.6617\n",
      "Epoch 1812/2500\n",
      "469/469 [==============================] - 90s 193ms/step - d_loss: 0.6875 - g_loss: 0.6688\n",
      "Epoch 1813/2500\n",
      "469/469 [==============================] - 90s 193ms/step - d_loss: 0.6840 - g_loss: 0.6911\n",
      "Epoch 1814/2500\n",
      "469/469 [==============================] - 90s 193ms/step - d_loss: 0.6862 - g_loss: 0.6882\n",
      "Epoch 1815/2500\n",
      "469/469 [==============================] - 90s 193ms/step - d_loss: 0.6852 - g_loss: 0.6832\n",
      "Epoch 1816/2500\n",
      "469/469 [==============================] - 90s 193ms/step - d_loss: 0.6868 - g_loss: 0.6731\n",
      "Epoch 1817/2500\n",
      "469/469 [==============================] - 90s 193ms/step - d_loss: 0.6842 - g_loss: 0.6785\n",
      "Epoch 1818/2500\n",
      "469/469 [==============================] - 90s 193ms/step - d_loss: 0.6838 - g_loss: 0.6791\n",
      "Epoch 1819/2500\n",
      "469/469 [==============================] - 90s 193ms/step - d_loss: 0.6855 - g_loss: 0.6700\n",
      "Epoch 1820/2500\n",
      "469/469 [==============================] - 90s 193ms/step - d_loss: 0.6840 - g_loss: 0.6872\n",
      "Epoch 1821/2500\n",
      "469/469 [==============================] - 90s 193ms/step - d_loss: 0.6797 - g_loss: 0.6657\n",
      "Epoch 1822/2500\n",
      "469/469 [==============================] - 90s 193ms/step - d_loss: 0.6854 - g_loss: 0.6573\n",
      "Epoch 1823/2500\n",
      "469/469 [==============================] - 90s 193ms/step - d_loss: 0.6868 - g_loss: 0.6846\n",
      "Epoch 1824/2500\n",
      "469/469 [==============================] - 90s 193ms/step - d_loss: 0.6844 - g_loss: 0.6685\n",
      "Epoch 1825/2500\n",
      "469/469 [==============================] - 90s 193ms/step - d_loss: 0.6837 - g_loss: 0.6754\n",
      "Epoch 1826/2500\n",
      "469/469 [==============================] - 90s 193ms/step - d_loss: 0.6854 - g_loss: 0.6663\n",
      "Epoch 1827/2500\n",
      "469/469 [==============================] - 90s 193ms/step - d_loss: 0.6828 - g_loss: 0.6647\n",
      "Epoch 1828/2500\n",
      "469/469 [==============================] - 90s 193ms/step - d_loss: 0.6851 - g_loss: 0.6763\n",
      "Epoch 1829/2500\n",
      "469/469 [==============================] - ETA: 0s - d_loss: 0.6834 - g_loss: 0.6716WARNING:tensorflow:Compiled the loaded model, but the compiled metrics have yet to be built. `model.compile_metrics` will be empty until you train or evaluate the model.\n"
     ]
    },
    {
     "name": "stderr",
     "output_type": "stream",
     "text": [
      "WARNING:tensorflow:Compiled the loaded model, but the compiled metrics have yet to be built. `model.compile_metrics` will be empty until you train or evaluate the model.\n",
      "WARNING:absl:Found untraced functions such as _jit_compiled_convolution_op, _jit_compiled_convolution_op, _jit_compiled_convolution_op, _jit_compiled_convolution_op, _jit_compiled_convolution_op while saving (showing 5 of 5). These functions will not be directly callable after loading.\n"
     ]
    },
    {
     "name": "stdout",
     "output_type": "stream",
     "text": [
      "INFO:tensorflow:Assets written to: generator.tf\\assets\n"
     ]
    },
    {
     "name": "stderr",
     "output_type": "stream",
     "text": [
      "INFO:tensorflow:Assets written to: generator.tf\\assets\n"
     ]
    },
    {
     "name": "stdout",
     "output_type": "stream",
     "text": [
      "WARNING:tensorflow:Compiled the loaded model, but the compiled metrics have yet to be built. `model.compile_metrics` will be empty until you train or evaluate the model.\n"
     ]
    },
    {
     "name": "stderr",
     "output_type": "stream",
     "text": [
      "WARNING:tensorflow:Compiled the loaded model, but the compiled metrics have yet to be built. `model.compile_metrics` will be empty until you train or evaluate the model.\n",
      "WARNING:absl:Found untraced functions such as _jit_compiled_convolution_op, _jit_compiled_convolution_op, _jit_compiled_convolution_op, _jit_compiled_convolution_op while saving (showing 4 of 4). These functions will not be directly callable after loading.\n"
     ]
    },
    {
     "name": "stdout",
     "output_type": "stream",
     "text": [
      "INFO:tensorflow:Assets written to: discriminator.tf\\assets\n"
     ]
    },
    {
     "name": "stderr",
     "output_type": "stream",
     "text": [
      "INFO:tensorflow:Assets written to: discriminator.tf\\assets\n"
     ]
    },
    {
     "name": "stdout",
     "output_type": "stream",
     "text": [
      "469/469 [==============================] - 92s 197ms/step - d_loss: 0.6833 - g_loss: 0.6717\n",
      "Epoch 1830/2500\n",
      "469/469 [==============================] - 91s 193ms/step - d_loss: 0.6820 - g_loss: 0.6897\n",
      "Epoch 1831/2500\n",
      "469/469 [==============================] - 90s 193ms/step - d_loss: 0.6763 - g_loss: 0.6850\n",
      "Epoch 1832/2500\n",
      "469/469 [==============================] - 90s 193ms/step - d_loss: 0.6828 - g_loss: 0.6774\n",
      "Epoch 1833/2500\n",
      "469/469 [==============================] - 90s 193ms/step - d_loss: 0.6777 - g_loss: 0.6718\n",
      "Epoch 1834/2500\n",
      "469/469 [==============================] - 90s 193ms/step - d_loss: 0.6831 - g_loss: 0.6693\n",
      "Epoch 1835/2500\n",
      "469/469 [==============================] - 90s 193ms/step - d_loss: 0.6857 - g_loss: 0.6730\n",
      "Epoch 1836/2500\n",
      "469/469 [==============================] - 90s 193ms/step - d_loss: 0.6823 - g_loss: 0.6712\n",
      "Epoch 1837/2500\n",
      "469/469 [==============================] - 90s 193ms/step - d_loss: 0.6831 - g_loss: 0.6520\n",
      "Epoch 1838/2500\n",
      "469/469 [==============================] - 90s 193ms/step - d_loss: 0.6847 - g_loss: 0.6757\n",
      "Epoch 1839/2500\n",
      "469/469 [==============================] - 90s 193ms/step - d_loss: 0.6815 - g_loss: 0.6724\n",
      "Epoch 1840/2500\n",
      "469/469 [==============================] - 90s 193ms/step - d_loss: 0.6797 - g_loss: 0.6916\n",
      "Epoch 1841/2500\n",
      "469/469 [==============================] - 90s 193ms/step - d_loss: 0.6774 - g_loss: 0.6751\n",
      "Epoch 1842/2500\n",
      "469/469 [==============================] - 90s 193ms/step - d_loss: 0.6752 - g_loss: 0.6927\n",
      "Epoch 1843/2500\n",
      "469/469 [==============================] - 90s 193ms/step - d_loss: 0.6877 - g_loss: 0.6733\n",
      "Epoch 1844/2500\n",
      "469/469 [==============================] - 90s 193ms/step - d_loss: 0.6847 - g_loss: 0.6829\n",
      "Epoch 1845/2500\n",
      "469/469 [==============================] - 90s 193ms/step - d_loss: 0.6806 - g_loss: 0.6898\n",
      "Epoch 1846/2500\n",
      "469/469 [==============================] - 90s 193ms/step - d_loss: 0.6871 - g_loss: 0.6654\n",
      "Epoch 1847/2500\n",
      "469/469 [==============================] - 90s 193ms/step - d_loss: 0.6787 - g_loss: 0.6761\n",
      "Epoch 1848/2500\n",
      "469/469 [==============================] - 90s 193ms/step - d_loss: 0.6853 - g_loss: 0.6796\n",
      "Epoch 1849/2500\n",
      "469/469 [==============================] - 90s 193ms/step - d_loss: 0.6804 - g_loss: 0.6814\n",
      "Epoch 1850/2500\n",
      "469/469 [==============================] - 90s 193ms/step - d_loss: 0.6805 - g_loss: 0.6738\n",
      "Epoch 1851/2500\n",
      "469/469 [==============================] - 90s 193ms/step - d_loss: 0.6817 - g_loss: 0.6701\n",
      "Epoch 1852/2500\n",
      "469/469 [==============================] - 90s 193ms/step - d_loss: 0.6825 - g_loss: 0.6970\n",
      "Epoch 1853/2500\n",
      "469/469 [==============================] - 90s 193ms/step - d_loss: 0.6804 - g_loss: 0.6860\n",
      "Epoch 1854/2500\n",
      "469/469 [==============================] - 90s 193ms/step - d_loss: 0.6783 - g_loss: 0.6945\n",
      "Epoch 1855/2500\n",
      "469/469 [==============================] - 90s 193ms/step - d_loss: 0.6798 - g_loss: 0.6804\n",
      "Epoch 1856/2500\n",
      "469/469 [==============================] - 90s 193ms/step - d_loss: 0.6745 - g_loss: 0.6800\n",
      "Epoch 1857/2500\n",
      "469/469 [==============================] - 90s 193ms/step - d_loss: 0.6814 - g_loss: 0.6917\n",
      "Epoch 1858/2500\n",
      "469/469 [==============================] - 90s 193ms/step - d_loss: 0.6806 - g_loss: 0.6913\n",
      "Epoch 1859/2500\n",
      "469/469 [==============================] - 90s 193ms/step - d_loss: 0.6867 - g_loss: 0.6856\n",
      "Epoch 1860/2500\n",
      "469/469 [==============================] - ETA: 0s - d_loss: 0.6816 - g_loss: 0.6893WARNING:tensorflow:Compiled the loaded model, but the compiled metrics have yet to be built. `model.compile_metrics` will be empty until you train or evaluate the model.\n"
     ]
    },
    {
     "name": "stderr",
     "output_type": "stream",
     "text": [
      "WARNING:tensorflow:Compiled the loaded model, but the compiled metrics have yet to be built. `model.compile_metrics` will be empty until you train or evaluate the model.\n",
      "WARNING:absl:Found untraced functions such as _jit_compiled_convolution_op, _jit_compiled_convolution_op, _jit_compiled_convolution_op, _jit_compiled_convolution_op, _jit_compiled_convolution_op while saving (showing 5 of 5). These functions will not be directly callable after loading.\n"
     ]
    },
    {
     "name": "stdout",
     "output_type": "stream",
     "text": [
      "INFO:tensorflow:Assets written to: generator.tf\\assets\n"
     ]
    },
    {
     "name": "stderr",
     "output_type": "stream",
     "text": [
      "INFO:tensorflow:Assets written to: generator.tf\\assets\n"
     ]
    },
    {
     "name": "stdout",
     "output_type": "stream",
     "text": [
      "WARNING:tensorflow:Compiled the loaded model, but the compiled metrics have yet to be built. `model.compile_metrics` will be empty until you train or evaluate the model.\n"
     ]
    },
    {
     "name": "stderr",
     "output_type": "stream",
     "text": [
      "WARNING:tensorflow:Compiled the loaded model, but the compiled metrics have yet to be built. `model.compile_metrics` will be empty until you train or evaluate the model.\n",
      "WARNING:absl:Found untraced functions such as _jit_compiled_convolution_op, _jit_compiled_convolution_op, _jit_compiled_convolution_op, _jit_compiled_convolution_op while saving (showing 4 of 4). These functions will not be directly callable after loading.\n"
     ]
    },
    {
     "name": "stdout",
     "output_type": "stream",
     "text": [
      "INFO:tensorflow:Assets written to: discriminator.tf\\assets\n"
     ]
    },
    {
     "name": "stderr",
     "output_type": "stream",
     "text": [
      "INFO:tensorflow:Assets written to: discriminator.tf\\assets\n"
     ]
    },
    {
     "name": "stdout",
     "output_type": "stream",
     "text": [
      "469/469 [==============================] - 92s 197ms/step - d_loss: 0.6815 - g_loss: 0.6893\n",
      "Epoch 1861/2500\n",
      "469/469 [==============================] - 91s 193ms/step - d_loss: 0.6866 - g_loss: 0.6671\n",
      "Epoch 1862/2500\n",
      "469/469 [==============================] - 90s 193ms/step - d_loss: 0.6926 - g_loss: 0.6541\n",
      "Epoch 1863/2500\n",
      "469/469 [==============================] - 90s 193ms/step - d_loss: 0.6849 - g_loss: 0.6817\n",
      "Epoch 1864/2500\n",
      "469/469 [==============================] - 90s 193ms/step - d_loss: 0.6865 - g_loss: 0.6683\n",
      "Epoch 1865/2500\n",
      "469/469 [==============================] - 90s 193ms/step - d_loss: 0.6899 - g_loss: 0.6712\n",
      "Epoch 1866/2500\n",
      "469/469 [==============================] - 90s 193ms/step - d_loss: 0.6886 - g_loss: 0.6652\n",
      "Epoch 1867/2500\n",
      "469/469 [==============================] - 90s 193ms/step - d_loss: 0.6866 - g_loss: 0.6849\n",
      "Epoch 1868/2500\n",
      "469/469 [==============================] - 90s 193ms/step - d_loss: 0.6859 - g_loss: 0.6816\n",
      "Epoch 1869/2500\n",
      "469/469 [==============================] - 90s 193ms/step - d_loss: 0.6877 - g_loss: 0.6768\n",
      "Epoch 1870/2500\n",
      "469/469 [==============================] - 90s 193ms/step - d_loss: 0.6877 - g_loss: 0.6682\n",
      "Epoch 1871/2500\n",
      "469/469 [==============================] - 90s 193ms/step - d_loss: 0.5545 - g_loss: 1.1274\n",
      "Epoch 1872/2500\n",
      "469/469 [==============================] - 90s 193ms/step - d_loss: 0.6256 - g_loss: 0.7831\n",
      "Epoch 1873/2500\n",
      "469/469 [==============================] - 90s 193ms/step - d_loss: 0.6793 - g_loss: 0.7083\n",
      "Epoch 1874/2500\n",
      "469/469 [==============================] - 90s 193ms/step - d_loss: 0.6830 - g_loss: 0.6945\n",
      "Epoch 1875/2500\n",
      "469/469 [==============================] - 90s 193ms/step - d_loss: 0.6851 - g_loss: 0.6852\n",
      "Epoch 1876/2500\n",
      "469/469 [==============================] - 90s 193ms/step - d_loss: 0.6918 - g_loss: 0.6826\n",
      "Epoch 1877/2500\n",
      "469/469 [==============================] - 90s 193ms/step - d_loss: 0.6831 - g_loss: 0.6848\n",
      "Epoch 1878/2500\n",
      "469/469 [==============================] - 90s 193ms/step - d_loss: 0.6869 - g_loss: 0.6798\n",
      "Epoch 1879/2500\n",
      "469/469 [==============================] - 90s 193ms/step - d_loss: 0.6899 - g_loss: 0.6562\n",
      "Epoch 1880/2500\n",
      "469/469 [==============================] - 90s 193ms/step - d_loss: 0.6875 - g_loss: 0.6701\n",
      "Epoch 1881/2500\n",
      "469/469 [==============================] - 90s 193ms/step - d_loss: 0.6835 - g_loss: 0.6731\n",
      "Epoch 1882/2500\n",
      "469/469 [==============================] - 90s 193ms/step - d_loss: 0.6893 - g_loss: 0.6672\n",
      "Epoch 1883/2500\n",
      "469/469 [==============================] - 90s 193ms/step - d_loss: 0.6814 - g_loss: 0.6671\n",
      "Epoch 1884/2500\n",
      "469/469 [==============================] - 90s 193ms/step - d_loss: 0.6849 - g_loss: 0.6736\n",
      "Epoch 1885/2500\n",
      "469/469 [==============================] - 90s 193ms/step - d_loss: 0.6819 - g_loss: 0.6879\n",
      "Epoch 1886/2500\n",
      "469/469 [==============================] - 90s 193ms/step - d_loss: 0.6840 - g_loss: 0.6650\n",
      "Epoch 1887/2500\n",
      "469/469 [==============================] - 90s 193ms/step - d_loss: 0.6809 - g_loss: 0.6860\n",
      "Epoch 1888/2500\n",
      "469/469 [==============================] - 90s 193ms/step - d_loss: 0.6801 - g_loss: 0.6804\n",
      "Epoch 1889/2500\n",
      "469/469 [==============================] - 90s 193ms/step - d_loss: 0.6857 - g_loss: 0.6707\n",
      "Epoch 1890/2500\n",
      "469/469 [==============================] - 90s 193ms/step - d_loss: 0.6844 - g_loss: 0.6840\n",
      "Epoch 1891/2500\n",
      "469/469 [==============================] - ETA: 0s - d_loss: 0.6887 - g_loss: 0.6687WARNING:tensorflow:Compiled the loaded model, but the compiled metrics have yet to be built. `model.compile_metrics` will be empty until you train or evaluate the model.\n"
     ]
    },
    {
     "name": "stderr",
     "output_type": "stream",
     "text": [
      "WARNING:tensorflow:Compiled the loaded model, but the compiled metrics have yet to be built. `model.compile_metrics` will be empty until you train or evaluate the model.\n",
      "WARNING:absl:Found untraced functions such as _jit_compiled_convolution_op, _jit_compiled_convolution_op, _jit_compiled_convolution_op, _jit_compiled_convolution_op, _jit_compiled_convolution_op while saving (showing 5 of 5). These functions will not be directly callable after loading.\n"
     ]
    },
    {
     "name": "stdout",
     "output_type": "stream",
     "text": [
      "INFO:tensorflow:Assets written to: generator.tf\\assets\n"
     ]
    },
    {
     "name": "stderr",
     "output_type": "stream",
     "text": [
      "INFO:tensorflow:Assets written to: generator.tf\\assets\n"
     ]
    },
    {
     "name": "stdout",
     "output_type": "stream",
     "text": [
      "WARNING:tensorflow:Compiled the loaded model, but the compiled metrics have yet to be built. `model.compile_metrics` will be empty until you train or evaluate the model.\n"
     ]
    },
    {
     "name": "stderr",
     "output_type": "stream",
     "text": [
      "WARNING:tensorflow:Compiled the loaded model, but the compiled metrics have yet to be built. `model.compile_metrics` will be empty until you train or evaluate the model.\n",
      "WARNING:absl:Found untraced functions such as _jit_compiled_convolution_op, _jit_compiled_convolution_op, _jit_compiled_convolution_op, _jit_compiled_convolution_op while saving (showing 4 of 4). These functions will not be directly callable after loading.\n"
     ]
    },
    {
     "name": "stdout",
     "output_type": "stream",
     "text": [
      "INFO:tensorflow:Assets written to: discriminator.tf\\assets\n"
     ]
    },
    {
     "name": "stderr",
     "output_type": "stream",
     "text": [
      "INFO:tensorflow:Assets written to: discriminator.tf\\assets\n"
     ]
    },
    {
     "name": "stdout",
     "output_type": "stream",
     "text": [
      "469/469 [==============================] - 92s 197ms/step - d_loss: 0.6887 - g_loss: 0.6687\n",
      "Epoch 1892/2500\n",
      "469/469 [==============================] - 90s 192ms/step - d_loss: 0.6830 - g_loss: 0.6788\n",
      "Epoch 1893/2500\n",
      "469/469 [==============================] - 90s 193ms/step - d_loss: 0.6842 - g_loss: 0.6688\n",
      "Epoch 1894/2500\n",
      "469/469 [==============================] - 90s 193ms/step - d_loss: 0.6812 - g_loss: 0.6723\n",
      "Epoch 1895/2500\n",
      "469/469 [==============================] - 90s 193ms/step - d_loss: 0.6839 - g_loss: 0.6873\n",
      "Epoch 1896/2500\n",
      "469/469 [==============================] - 90s 193ms/step - d_loss: 0.6860 - g_loss: 0.6744\n",
      "Epoch 1897/2500\n",
      "469/469 [==============================] - 90s 193ms/step - d_loss: 0.6845 - g_loss: 0.6744\n",
      "Epoch 1898/2500\n",
      "469/469 [==============================] - 90s 193ms/step - d_loss: 0.6846 - g_loss: 0.6709\n",
      "Epoch 1899/2500\n",
      "469/469 [==============================] - 90s 193ms/step - d_loss: 0.6859 - g_loss: 0.6816\n",
      "Epoch 1900/2500\n",
      "469/469 [==============================] - 90s 193ms/step - d_loss: 0.6846 - g_loss: 0.6914\n",
      "Epoch 1901/2500\n",
      "469/469 [==============================] - 90s 193ms/step - d_loss: 0.6906 - g_loss: 0.6763\n",
      "Epoch 1902/2500\n",
      "469/469 [==============================] - 90s 193ms/step - d_loss: 0.6801 - g_loss: 0.6720\n",
      "Epoch 1903/2500\n",
      "469/469 [==============================] - 90s 193ms/step - d_loss: 0.6871 - g_loss: 0.6806\n",
      "Epoch 1904/2500\n",
      "469/469 [==============================] - 90s 193ms/step - d_loss: 0.6831 - g_loss: 0.6972\n",
      "Epoch 1905/2500\n",
      "469/469 [==============================] - 90s 193ms/step - d_loss: 0.6874 - g_loss: 0.6711\n",
      "Epoch 1906/2500\n",
      "469/469 [==============================] - 90s 193ms/step - d_loss: 0.6757 - g_loss: 0.7025\n",
      "Epoch 1907/2500\n",
      "469/469 [==============================] - 90s 193ms/step - d_loss: 0.6848 - g_loss: 0.6808\n",
      "Epoch 1908/2500\n",
      "469/469 [==============================] - 90s 193ms/step - d_loss: 0.6826 - g_loss: 0.7059\n",
      "Epoch 1909/2500\n",
      "469/469 [==============================] - 90s 193ms/step - d_loss: 0.6844 - g_loss: 0.6875\n",
      "Epoch 1910/2500\n",
      "469/469 [==============================] - 90s 193ms/step - d_loss: 0.6834 - g_loss: 0.6724\n",
      "Epoch 1911/2500\n",
      "469/469 [==============================] - 90s 193ms/step - d_loss: 0.6865 - g_loss: 0.6707\n",
      "Epoch 1912/2500\n",
      "469/469 [==============================] - 90s 193ms/step - d_loss: 0.6874 - g_loss: 0.6690\n",
      "Epoch 1913/2500\n",
      "469/469 [==============================] - 90s 193ms/step - d_loss: 0.6880 - g_loss: 0.6722\n",
      "Epoch 1914/2500\n",
      "469/469 [==============================] - 90s 193ms/step - d_loss: 0.6839 - g_loss: 0.6930\n",
      "Epoch 1915/2500\n",
      "469/469 [==============================] - 90s 193ms/step - d_loss: 0.6805 - g_loss: 0.6823\n",
      "Epoch 1916/2500\n",
      "469/469 [==============================] - 90s 193ms/step - d_loss: 0.6820 - g_loss: 0.6795\n",
      "Epoch 1917/2500\n",
      "469/469 [==============================] - 90s 193ms/step - d_loss: 0.6882 - g_loss: 0.6595\n",
      "Epoch 1918/2500\n",
      "469/469 [==============================] - 90s 193ms/step - d_loss: 0.6916 - g_loss: 0.6611\n",
      "Epoch 1919/2500\n",
      "469/469 [==============================] - 90s 193ms/step - d_loss: 0.6856 - g_loss: 0.6630\n",
      "Epoch 1920/2500\n",
      "469/469 [==============================] - 90s 193ms/step - d_loss: 0.6831 - g_loss: 0.6788\n",
      "Epoch 1921/2500\n",
      "469/469 [==============================] - 90s 193ms/step - d_loss: 0.6825 - g_loss: 0.6591\n",
      "Epoch 1922/2500\n",
      "469/469 [==============================] - ETA: 0s - d_loss: 0.6913 - g_loss: 0.6784WARNING:tensorflow:Compiled the loaded model, but the compiled metrics have yet to be built. `model.compile_metrics` will be empty until you train or evaluate the model.\n"
     ]
    },
    {
     "name": "stderr",
     "output_type": "stream",
     "text": [
      "WARNING:tensorflow:Compiled the loaded model, but the compiled metrics have yet to be built. `model.compile_metrics` will be empty until you train or evaluate the model.\n",
      "WARNING:absl:Found untraced functions such as _jit_compiled_convolution_op, _jit_compiled_convolution_op, _jit_compiled_convolution_op, _jit_compiled_convolution_op, _jit_compiled_convolution_op while saving (showing 5 of 5). These functions will not be directly callable after loading.\n"
     ]
    },
    {
     "name": "stdout",
     "output_type": "stream",
     "text": [
      "INFO:tensorflow:Assets written to: generator.tf\\assets\n"
     ]
    },
    {
     "name": "stderr",
     "output_type": "stream",
     "text": [
      "INFO:tensorflow:Assets written to: generator.tf\\assets\n"
     ]
    },
    {
     "name": "stdout",
     "output_type": "stream",
     "text": [
      "WARNING:tensorflow:Compiled the loaded model, but the compiled metrics have yet to be built. `model.compile_metrics` will be empty until you train or evaluate the model.\n"
     ]
    },
    {
     "name": "stderr",
     "output_type": "stream",
     "text": [
      "WARNING:tensorflow:Compiled the loaded model, but the compiled metrics have yet to be built. `model.compile_metrics` will be empty until you train or evaluate the model.\n",
      "WARNING:absl:Found untraced functions such as _jit_compiled_convolution_op, _jit_compiled_convolution_op, _jit_compiled_convolution_op, _jit_compiled_convolution_op while saving (showing 4 of 4). These functions will not be directly callable after loading.\n"
     ]
    },
    {
     "name": "stdout",
     "output_type": "stream",
     "text": [
      "INFO:tensorflow:Assets written to: discriminator.tf\\assets\n"
     ]
    },
    {
     "name": "stderr",
     "output_type": "stream",
     "text": [
      "INFO:tensorflow:Assets written to: discriminator.tf\\assets\n"
     ]
    },
    {
     "name": "stdout",
     "output_type": "stream",
     "text": [
      "469/469 [==============================] - 92s 196ms/step - d_loss: 0.6912 - g_loss: 0.6785\n",
      "Epoch 1923/2500\n",
      "469/469 [==============================] - 90s 193ms/step - d_loss: 0.6779 - g_loss: 0.6866\n",
      "Epoch 1924/2500\n",
      "469/469 [==============================] - 90s 193ms/step - d_loss: 0.6808 - g_loss: 0.6827\n",
      "Epoch 1925/2500\n",
      "469/469 [==============================] - 90s 193ms/step - d_loss: 0.6892 - g_loss: 0.6730\n",
      "Epoch 1926/2500\n",
      "469/469 [==============================] - 90s 193ms/step - d_loss: 0.6805 - g_loss: 0.6831\n",
      "Epoch 1927/2500\n",
      "469/469 [==============================] - 90s 193ms/step - d_loss: 0.6794 - g_loss: 0.6843\n",
      "Epoch 1928/2500\n",
      "469/469 [==============================] - 90s 193ms/step - d_loss: 0.6849 - g_loss: 0.6781\n",
      "Epoch 1929/2500\n",
      "469/469 [==============================] - 90s 193ms/step - d_loss: 0.6833 - g_loss: 0.6730\n",
      "Epoch 1930/2500\n",
      "469/469 [==============================] - 90s 193ms/step - d_loss: 0.6800 - g_loss: 0.6728\n",
      "Epoch 1931/2500\n",
      "469/469 [==============================] - 90s 193ms/step - d_loss: 0.6701 - g_loss: 0.6977\n",
      "Epoch 1932/2500\n",
      "469/469 [==============================] - 90s 193ms/step - d_loss: 0.6851 - g_loss: 0.6680\n",
      "Epoch 1933/2500\n",
      "469/469 [==============================] - 90s 193ms/step - d_loss: 0.6879 - g_loss: 0.6766\n",
      "Epoch 1934/2500\n",
      "469/469 [==============================] - 90s 193ms/step - d_loss: 0.6840 - g_loss: 0.6768\n",
      "Epoch 1935/2500\n",
      "469/469 [==============================] - 90s 193ms/step - d_loss: 0.6814 - g_loss: 0.6851\n",
      "Epoch 1936/2500\n",
      "469/469 [==============================] - 90s 193ms/step - d_loss: 0.6866 - g_loss: 0.6612\n",
      "Epoch 1937/2500\n",
      "469/469 [==============================] - 90s 193ms/step - d_loss: 0.6832 - g_loss: 0.6739\n",
      "Epoch 1938/2500\n",
      "469/469 [==============================] - 90s 193ms/step - d_loss: 0.6808 - g_loss: 0.7012\n",
      "Epoch 1939/2500\n",
      "469/469 [==============================] - 90s 193ms/step - d_loss: 0.6834 - g_loss: 0.6804\n",
      "Epoch 1940/2500\n",
      "469/469 [==============================] - 90s 193ms/step - d_loss: 0.6837 - g_loss: 0.6738\n",
      "Epoch 1941/2500\n",
      "469/469 [==============================] - 90s 193ms/step - d_loss: 0.6823 - g_loss: 0.6756\n",
      "Epoch 1942/2500\n",
      "469/469 [==============================] - 90s 193ms/step - d_loss: 0.6766 - g_loss: 0.6604\n",
      "Epoch 1943/2500\n",
      "469/469 [==============================] - 90s 193ms/step - d_loss: 0.6802 - g_loss: 0.6618\n",
      "Epoch 1944/2500\n",
      "469/469 [==============================] - 90s 193ms/step - d_loss: 0.6907 - g_loss: 0.6717\n",
      "Epoch 1945/2500\n",
      "469/469 [==============================] - 90s 193ms/step - d_loss: 0.6844 - g_loss: 0.6859\n",
      "Epoch 1946/2500\n",
      "469/469 [==============================] - 90s 193ms/step - d_loss: 0.6863 - g_loss: 0.6706\n",
      "Epoch 1947/2500\n",
      "469/469 [==============================] - 90s 193ms/step - d_loss: 0.6886 - g_loss: 0.6531\n",
      "Epoch 1948/2500\n",
      "469/469 [==============================] - 90s 192ms/step - d_loss: 0.6879 - g_loss: 0.6806\n",
      "Epoch 1949/2500\n",
      "469/469 [==============================] - 90s 193ms/step - d_loss: 0.6858 - g_loss: 0.6585\n",
      "Epoch 1950/2500\n",
      "469/469 [==============================] - 90s 193ms/step - d_loss: 0.6887 - g_loss: 0.6732\n",
      "Epoch 1951/2500\n",
      "469/469 [==============================] - 90s 193ms/step - d_loss: 0.6849 - g_loss: 0.6734\n",
      "Epoch 1952/2500\n",
      "469/469 [==============================] - 90s 193ms/step - d_loss: 0.6816 - g_loss: 0.6623\n",
      "Epoch 1953/2500\n",
      "469/469 [==============================] - ETA: 0s - d_loss: 0.6847 - g_loss: 0.6597WARNING:tensorflow:Compiled the loaded model, but the compiled metrics have yet to be built. `model.compile_metrics` will be empty until you train or evaluate the model.\n"
     ]
    },
    {
     "name": "stderr",
     "output_type": "stream",
     "text": [
      "WARNING:tensorflow:Compiled the loaded model, but the compiled metrics have yet to be built. `model.compile_metrics` will be empty until you train or evaluate the model.\n",
      "WARNING:absl:Found untraced functions such as _jit_compiled_convolution_op, _jit_compiled_convolution_op, _jit_compiled_convolution_op, _jit_compiled_convolution_op, _jit_compiled_convolution_op while saving (showing 5 of 5). These functions will not be directly callable after loading.\n"
     ]
    },
    {
     "name": "stdout",
     "output_type": "stream",
     "text": [
      "INFO:tensorflow:Assets written to: generator.tf\\assets\n"
     ]
    },
    {
     "name": "stderr",
     "output_type": "stream",
     "text": [
      "INFO:tensorflow:Assets written to: generator.tf\\assets\n"
     ]
    },
    {
     "name": "stdout",
     "output_type": "stream",
     "text": [
      "WARNING:tensorflow:Compiled the loaded model, but the compiled metrics have yet to be built. `model.compile_metrics` will be empty until you train or evaluate the model.\n"
     ]
    },
    {
     "name": "stderr",
     "output_type": "stream",
     "text": [
      "WARNING:tensorflow:Compiled the loaded model, but the compiled metrics have yet to be built. `model.compile_metrics` will be empty until you train or evaluate the model.\n",
      "WARNING:absl:Found untraced functions such as _jit_compiled_convolution_op, _jit_compiled_convolution_op, _jit_compiled_convolution_op, _jit_compiled_convolution_op while saving (showing 4 of 4). These functions will not be directly callable after loading.\n"
     ]
    },
    {
     "name": "stdout",
     "output_type": "stream",
     "text": [
      "INFO:tensorflow:Assets written to: discriminator.tf\\assets\n"
     ]
    },
    {
     "name": "stderr",
     "output_type": "stream",
     "text": [
      "INFO:tensorflow:Assets written to: discriminator.tf\\assets\n"
     ]
    },
    {
     "name": "stdout",
     "output_type": "stream",
     "text": [
      "469/469 [==============================] - 92s 197ms/step - d_loss: 0.6847 - g_loss: 0.6596\n",
      "Epoch 1954/2500\n",
      "469/469 [==============================] - 90s 192ms/step - d_loss: 0.6767 - g_loss: 0.6901\n",
      "Epoch 1955/2500\n",
      "469/469 [==============================] - 90s 192ms/step - d_loss: 0.6912 - g_loss: 0.6530\n",
      "Epoch 1956/2500\n",
      "469/469 [==============================] - 90s 192ms/step - d_loss: 0.6860 - g_loss: 0.6861\n",
      "Epoch 1957/2500\n",
      "469/469 [==============================] - 90s 192ms/step - d_loss: 0.6802 - g_loss: 0.6940\n",
      "Epoch 1958/2500\n",
      "469/469 [==============================] - 90s 192ms/step - d_loss: 0.6858 - g_loss: 0.6856\n",
      "Epoch 1959/2500\n",
      "469/469 [==============================] - 90s 192ms/step - d_loss: 0.6860 - g_loss: 0.6668\n",
      "Epoch 1960/2500\n",
      "469/469 [==============================] - 90s 192ms/step - d_loss: 0.6876 - g_loss: 0.6776\n",
      "Epoch 1961/2500\n",
      "469/469 [==============================] - 90s 192ms/step - d_loss: 0.6863 - g_loss: 0.6760\n",
      "Epoch 1962/2500\n",
      "469/469 [==============================] - 90s 192ms/step - d_loss: 0.6841 - g_loss: 0.6926\n",
      "Epoch 1963/2500\n",
      "469/469 [==============================] - 90s 192ms/step - d_loss: 0.6865 - g_loss: 0.6672\n",
      "Epoch 1964/2500\n",
      "469/469 [==============================] - 90s 192ms/step - d_loss: 0.6881 - g_loss: 0.6746\n",
      "Epoch 1965/2500\n",
      "469/469 [==============================] - 90s 192ms/step - d_loss: 0.6803 - g_loss: 0.7045\n",
      "Epoch 1966/2500\n",
      "469/469 [==============================] - 90s 192ms/step - d_loss: 0.6828 - g_loss: 0.6778\n",
      "Epoch 1967/2500\n",
      "469/469 [==============================] - 90s 192ms/step - d_loss: 0.6831 - g_loss: 0.6752\n",
      "Epoch 1968/2500\n",
      "469/469 [==============================] - 90s 192ms/step - d_loss: 0.6847 - g_loss: 0.6849\n",
      "Epoch 1969/2500\n",
      "469/469 [==============================] - 90s 192ms/step - d_loss: 0.6799 - g_loss: 0.6958\n",
      "Epoch 1970/2500\n",
      "469/469 [==============================] - 90s 192ms/step - d_loss: 0.6832 - g_loss: 0.6650\n",
      "Epoch 1971/2500\n",
      "469/469 [==============================] - 90s 192ms/step - d_loss: 0.6913 - g_loss: 0.6713\n",
      "Epoch 1972/2500\n",
      "469/469 [==============================] - 90s 192ms/step - d_loss: 0.6824 - g_loss: 0.6737\n",
      "Epoch 1973/2500\n",
      "469/469 [==============================] - 90s 192ms/step - d_loss: 0.6781 - g_loss: 0.6715\n",
      "Epoch 1974/2500\n",
      "469/469 [==============================] - 90s 192ms/step - d_loss: 0.6802 - g_loss: 0.6826\n",
      "Epoch 1975/2500\n",
      "469/469 [==============================] - 90s 192ms/step - d_loss: 0.6831 - g_loss: 0.6800\n",
      "Epoch 1976/2500\n",
      "469/469 [==============================] - 90s 192ms/step - d_loss: 0.6859 - g_loss: 0.6726\n",
      "Epoch 1977/2500\n",
      "469/469 [==============================] - 90s 192ms/step - d_loss: 0.6829 - g_loss: 0.6785\n",
      "Epoch 1978/2500\n",
      "469/469 [==============================] - 90s 192ms/step - d_loss: 0.6817 - g_loss: 0.6907\n",
      "Epoch 1979/2500\n",
      "469/469 [==============================] - 90s 192ms/step - d_loss: 0.6840 - g_loss: 0.6775\n",
      "Epoch 1980/2500\n",
      "469/469 [==============================] - 90s 192ms/step - d_loss: 0.6794 - g_loss: 0.6692\n",
      "Epoch 1981/2500\n",
      "469/469 [==============================] - 90s 192ms/step - d_loss: 0.6830 - g_loss: 0.6808\n",
      "Epoch 1982/2500\n",
      "469/469 [==============================] - 90s 192ms/step - d_loss: 0.6848 - g_loss: 0.6760\n",
      "Epoch 1983/2500\n",
      "469/469 [==============================] - 90s 192ms/step - d_loss: 0.6854 - g_loss: 0.6745\n",
      "Epoch 1984/2500\n",
      "469/469 [==============================] - ETA: 0s - d_loss: 0.6831 - g_loss: 0.6582WARNING:tensorflow:Compiled the loaded model, but the compiled metrics have yet to be built. `model.compile_metrics` will be empty until you train or evaluate the model.\n"
     ]
    },
    {
     "name": "stderr",
     "output_type": "stream",
     "text": [
      "WARNING:tensorflow:Compiled the loaded model, but the compiled metrics have yet to be built. `model.compile_metrics` will be empty until you train or evaluate the model.\n",
      "WARNING:absl:Found untraced functions such as _jit_compiled_convolution_op, _jit_compiled_convolution_op, _jit_compiled_convolution_op, _jit_compiled_convolution_op, _jit_compiled_convolution_op while saving (showing 5 of 5). These functions will not be directly callable after loading.\n"
     ]
    },
    {
     "name": "stdout",
     "output_type": "stream",
     "text": [
      "INFO:tensorflow:Assets written to: generator.tf\\assets\n"
     ]
    },
    {
     "name": "stderr",
     "output_type": "stream",
     "text": [
      "INFO:tensorflow:Assets written to: generator.tf\\assets\n"
     ]
    },
    {
     "name": "stdout",
     "output_type": "stream",
     "text": [
      "WARNING:tensorflow:Compiled the loaded model, but the compiled metrics have yet to be built. `model.compile_metrics` will be empty until you train or evaluate the model.\n"
     ]
    },
    {
     "name": "stderr",
     "output_type": "stream",
     "text": [
      "WARNING:tensorflow:Compiled the loaded model, but the compiled metrics have yet to be built. `model.compile_metrics` will be empty until you train or evaluate the model.\n",
      "WARNING:absl:Found untraced functions such as _jit_compiled_convolution_op, _jit_compiled_convolution_op, _jit_compiled_convolution_op, _jit_compiled_convolution_op while saving (showing 4 of 4). These functions will not be directly callable after loading.\n"
     ]
    },
    {
     "name": "stdout",
     "output_type": "stream",
     "text": [
      "INFO:tensorflow:Assets written to: discriminator.tf\\assets\n"
     ]
    },
    {
     "name": "stderr",
     "output_type": "stream",
     "text": [
      "INFO:tensorflow:Assets written to: discriminator.tf\\assets\n"
     ]
    },
    {
     "name": "stdout",
     "output_type": "stream",
     "text": [
      "469/469 [==============================] - 92s 196ms/step - d_loss: 0.6831 - g_loss: 0.6583\n",
      "Epoch 1985/2500\n",
      "469/469 [==============================] - 90s 192ms/step - d_loss: 0.6846 - g_loss: 0.6756\n",
      "Epoch 1986/2500\n",
      "469/469 [==============================] - 90s 192ms/step - d_loss: 0.6866 - g_loss: 0.6858\n",
      "Epoch 1987/2500\n",
      "469/469 [==============================] - 90s 192ms/step - d_loss: 0.6824 - g_loss: 0.6898\n",
      "Epoch 1988/2500\n",
      "469/469 [==============================] - 90s 192ms/step - d_loss: 0.6882 - g_loss: 0.6675\n",
      "Epoch 1989/2500\n",
      "469/469 [==============================] - 90s 192ms/step - d_loss: 0.6780 - g_loss: 0.6697\n",
      "Epoch 1990/2500\n",
      "469/469 [==============================] - 90s 192ms/step - d_loss: 0.6819 - g_loss: 0.6843\n",
      "Epoch 1991/2500\n",
      "469/469 [==============================] - 90s 192ms/step - d_loss: 0.6847 - g_loss: 0.6787\n",
      "Epoch 1992/2500\n",
      "469/469 [==============================] - 90s 192ms/step - d_loss: 0.6805 - g_loss: 0.6825\n",
      "Epoch 1993/2500\n",
      "469/469 [==============================] - 90s 192ms/step - d_loss: 0.6886 - g_loss: 0.6618\n",
      "Epoch 1994/2500\n",
      "469/469 [==============================] - 90s 192ms/step - d_loss: 0.6823 - g_loss: 0.6942\n",
      "Epoch 1995/2500\n",
      "469/469 [==============================] - 90s 192ms/step - d_loss: 0.6861 - g_loss: 0.6835\n",
      "Epoch 1996/2500\n",
      "469/469 [==============================] - 90s 192ms/step - d_loss: 0.6891 - g_loss: 0.6563\n",
      "Epoch 1997/2500\n",
      "469/469 [==============================] - 90s 192ms/step - d_loss: 0.6793 - g_loss: 0.6635\n",
      "Epoch 1998/2500\n",
      "469/469 [==============================] - 90s 192ms/step - d_loss: 0.6856 - g_loss: 0.6698\n",
      "Epoch 1999/2500\n",
      "469/469 [==============================] - 90s 192ms/step - d_loss: 0.6893 - g_loss: 0.6637\n",
      "Epoch 2000/2500\n",
      "469/469 [==============================] - 90s 192ms/step - d_loss: 0.6836 - g_loss: 0.6752\n",
      "Epoch 2001/2500\n",
      "469/469 [==============================] - 90s 192ms/step - d_loss: 0.6806 - g_loss: 0.6950\n",
      "Epoch 2002/2500\n",
      "469/469 [==============================] - 90s 192ms/step - d_loss: 0.6874 - g_loss: 0.6605\n",
      "Epoch 2003/2500\n",
      "469/469 [==============================] - 90s 192ms/step - d_loss: 0.6842 - g_loss: 0.6774\n",
      "Epoch 2004/2500\n",
      "469/469 [==============================] - 90s 192ms/step - d_loss: 0.6885 - g_loss: 0.6509\n",
      "Epoch 2005/2500\n",
      "469/469 [==============================] - 90s 192ms/step - d_loss: 0.6860 - g_loss: 0.6753\n",
      "Epoch 2006/2500\n",
      "469/469 [==============================] - 90s 192ms/step - d_loss: 0.6805 - g_loss: 0.6703\n",
      "Epoch 2007/2500\n",
      "469/469 [==============================] - 90s 192ms/step - d_loss: 0.6821 - g_loss: 0.6768\n",
      "Epoch 2008/2500\n",
      "469/469 [==============================] - 90s 192ms/step - d_loss: 0.6822 - g_loss: 0.6827\n",
      "Epoch 2009/2500\n",
      "469/469 [==============================] - 90s 192ms/step - d_loss: 0.6832 - g_loss: 0.6632\n",
      "Epoch 2010/2500\n",
      "469/469 [==============================] - 90s 192ms/step - d_loss: 0.6838 - g_loss: 0.6426\n",
      "Epoch 2011/2500\n",
      "469/469 [==============================] - 90s 192ms/step - d_loss: 0.6902 - g_loss: 0.6467\n",
      "Epoch 2012/2500\n",
      "469/469 [==============================] - 90s 192ms/step - d_loss: 0.6774 - g_loss: 0.6728\n",
      "Epoch 2013/2500\n",
      "469/469 [==============================] - 90s 192ms/step - d_loss: 0.6756 - g_loss: 0.6694\n",
      "Epoch 2014/2500\n",
      "469/469 [==============================] - 90s 192ms/step - d_loss: 0.6873 - g_loss: 0.6748\n",
      "Epoch 2015/2500\n",
      "469/469 [==============================] - ETA: 0s - d_loss: 0.6769 - g_loss: 0.6743WARNING:tensorflow:Compiled the loaded model, but the compiled metrics have yet to be built. `model.compile_metrics` will be empty until you train or evaluate the model.\n"
     ]
    },
    {
     "name": "stderr",
     "output_type": "stream",
     "text": [
      "WARNING:tensorflow:Compiled the loaded model, but the compiled metrics have yet to be built. `model.compile_metrics` will be empty until you train or evaluate the model.\n",
      "WARNING:absl:Found untraced functions such as _jit_compiled_convolution_op, _jit_compiled_convolution_op, _jit_compiled_convolution_op, _jit_compiled_convolution_op, _jit_compiled_convolution_op while saving (showing 5 of 5). These functions will not be directly callable after loading.\n"
     ]
    },
    {
     "name": "stdout",
     "output_type": "stream",
     "text": [
      "INFO:tensorflow:Assets written to: generator.tf\\assets\n"
     ]
    },
    {
     "name": "stderr",
     "output_type": "stream",
     "text": [
      "INFO:tensorflow:Assets written to: generator.tf\\assets\n"
     ]
    },
    {
     "name": "stdout",
     "output_type": "stream",
     "text": [
      "WARNING:tensorflow:Compiled the loaded model, but the compiled metrics have yet to be built. `model.compile_metrics` will be empty until you train or evaluate the model.\n"
     ]
    },
    {
     "name": "stderr",
     "output_type": "stream",
     "text": [
      "WARNING:tensorflow:Compiled the loaded model, but the compiled metrics have yet to be built. `model.compile_metrics` will be empty until you train or evaluate the model.\n",
      "WARNING:absl:Found untraced functions such as _jit_compiled_convolution_op, _jit_compiled_convolution_op, _jit_compiled_convolution_op, _jit_compiled_convolution_op while saving (showing 4 of 4). These functions will not be directly callable after loading.\n"
     ]
    },
    {
     "name": "stdout",
     "output_type": "stream",
     "text": [
      "INFO:tensorflow:Assets written to: discriminator.tf\\assets\n"
     ]
    },
    {
     "name": "stderr",
     "output_type": "stream",
     "text": [
      "INFO:tensorflow:Assets written to: discriminator.tf\\assets\n"
     ]
    },
    {
     "name": "stdout",
     "output_type": "stream",
     "text": [
      "469/469 [==============================] - 92s 197ms/step - d_loss: 0.6770 - g_loss: 0.6744\n",
      "Epoch 2016/2500\n",
      "469/469 [==============================] - 90s 192ms/step - d_loss: 0.6818 - g_loss: 0.6666\n",
      "Epoch 2017/2500\n",
      "469/469 [==============================] - 90s 192ms/step - d_loss: 0.6834 - g_loss: 0.6633\n",
      "Epoch 2018/2500\n",
      "469/469 [==============================] - 90s 192ms/step - d_loss: 0.6809 - g_loss: 0.6725\n",
      "Epoch 2019/2500\n",
      "469/469 [==============================] - 90s 192ms/step - d_loss: 0.6805 - g_loss: 0.6884\n",
      "Epoch 2020/2500\n",
      "469/469 [==============================] - 90s 192ms/step - d_loss: 0.6806 - g_loss: 0.6844\n",
      "Epoch 2021/2500\n",
      "469/469 [==============================] - 90s 192ms/step - d_loss: 0.6764 - g_loss: 0.6889\n",
      "Epoch 2022/2500\n",
      "469/469 [==============================] - 90s 192ms/step - d_loss: 0.6874 - g_loss: 0.7043\n",
      "Epoch 2023/2500\n",
      "469/469 [==============================] - 90s 192ms/step - d_loss: 0.6866 - g_loss: 0.6750\n",
      "Epoch 2024/2500\n",
      "469/469 [==============================] - 90s 192ms/step - d_loss: 0.6834 - g_loss: 0.6852\n",
      "Epoch 2025/2500\n",
      "469/469 [==============================] - 90s 192ms/step - d_loss: 0.6838 - g_loss: 0.6749\n",
      "Epoch 2026/2500\n",
      "469/469 [==============================] - 90s 192ms/step - d_loss: 0.6810 - g_loss: 0.6745\n",
      "Epoch 2027/2500\n",
      "469/469 [==============================] - 90s 192ms/step - d_loss: 0.6765 - g_loss: 0.6892\n",
      "Epoch 2028/2500\n",
      "469/469 [==============================] - 90s 192ms/step - d_loss: 0.6825 - g_loss: 0.7124\n",
      "Epoch 2029/2500\n",
      "469/469 [==============================] - 90s 192ms/step - d_loss: 0.6845 - g_loss: 0.6793\n",
      "Epoch 2030/2500\n",
      "469/469 [==============================] - 90s 192ms/step - d_loss: 0.6774 - g_loss: 0.6945\n",
      "Epoch 2031/2500\n",
      "469/469 [==============================] - 90s 192ms/step - d_loss: 0.5921 - g_loss: 1.0265\n",
      "Epoch 2032/2500\n",
      "469/469 [==============================] - 90s 192ms/step - d_loss: 0.6673 - g_loss: 0.7077\n",
      "Epoch 2033/2500\n",
      "469/469 [==============================] - 90s 192ms/step - d_loss: 0.6943 - g_loss: 0.6677\n",
      "Epoch 2034/2500\n",
      "469/469 [==============================] - 90s 192ms/step - d_loss: 0.6774 - g_loss: 0.7031\n",
      "Epoch 2035/2500\n",
      "469/469 [==============================] - 90s 192ms/step - d_loss: 0.6839 - g_loss: 0.6607\n",
      "Epoch 2036/2500\n",
      "469/469 [==============================] - 90s 192ms/step - d_loss: 0.6803 - g_loss: 0.6914\n",
      "Epoch 2037/2500\n",
      "469/469 [==============================] - 90s 192ms/step - d_loss: 0.6789 - g_loss: 0.6975\n",
      "Epoch 2038/2500\n",
      "469/469 [==============================] - 90s 192ms/step - d_loss: 0.6790 - g_loss: 0.7020\n",
      "Epoch 2039/2500\n",
      "469/469 [==============================] - 90s 192ms/step - d_loss: 0.6797 - g_loss: 0.6745\n",
      "Epoch 2040/2500\n",
      "469/469 [==============================] - 90s 192ms/step - d_loss: 0.6869 - g_loss: 0.6536\n",
      "Epoch 2041/2500\n",
      "469/469 [==============================] - 90s 192ms/step - d_loss: 0.6852 - g_loss: 0.6563\n",
      "Epoch 2042/2500\n",
      "469/469 [==============================] - 90s 192ms/step - d_loss: 0.6855 - g_loss: 0.6665\n",
      "Epoch 2043/2500\n",
      "469/469 [==============================] - 90s 192ms/step - d_loss: 0.6841 - g_loss: 0.6765\n",
      "Epoch 2044/2500\n",
      "469/469 [==============================] - 90s 192ms/step - d_loss: 0.6760 - g_loss: 0.7042\n",
      "Epoch 2045/2500\n",
      "469/469 [==============================] - 90s 192ms/step - d_loss: 0.6796 - g_loss: 0.6862\n",
      "Epoch 2046/2500\n",
      "469/469 [==============================] - ETA: 0s - d_loss: 0.6828 - g_loss: 0.6689WARNING:tensorflow:Compiled the loaded model, but the compiled metrics have yet to be built. `model.compile_metrics` will be empty until you train or evaluate the model.\n"
     ]
    },
    {
     "name": "stderr",
     "output_type": "stream",
     "text": [
      "WARNING:tensorflow:Compiled the loaded model, but the compiled metrics have yet to be built. `model.compile_metrics` will be empty until you train or evaluate the model.\n",
      "WARNING:absl:Found untraced functions such as _jit_compiled_convolution_op, _jit_compiled_convolution_op, _jit_compiled_convolution_op, _jit_compiled_convolution_op, _jit_compiled_convolution_op while saving (showing 5 of 5). These functions will not be directly callable after loading.\n"
     ]
    },
    {
     "name": "stdout",
     "output_type": "stream",
     "text": [
      "INFO:tensorflow:Assets written to: generator.tf\\assets\n"
     ]
    },
    {
     "name": "stderr",
     "output_type": "stream",
     "text": [
      "INFO:tensorflow:Assets written to: generator.tf\\assets\n"
     ]
    },
    {
     "name": "stdout",
     "output_type": "stream",
     "text": [
      "WARNING:tensorflow:Compiled the loaded model, but the compiled metrics have yet to be built. `model.compile_metrics` will be empty until you train or evaluate the model.\n"
     ]
    },
    {
     "name": "stderr",
     "output_type": "stream",
     "text": [
      "WARNING:tensorflow:Compiled the loaded model, but the compiled metrics have yet to be built. `model.compile_metrics` will be empty until you train or evaluate the model.\n",
      "WARNING:absl:Found untraced functions such as _jit_compiled_convolution_op, _jit_compiled_convolution_op, _jit_compiled_convolution_op, _jit_compiled_convolution_op while saving (showing 4 of 4). These functions will not be directly callable after loading.\n"
     ]
    },
    {
     "name": "stdout",
     "output_type": "stream",
     "text": [
      "INFO:tensorflow:Assets written to: discriminator.tf\\assets\n"
     ]
    },
    {
     "name": "stderr",
     "output_type": "stream",
     "text": [
      "INFO:tensorflow:Assets written to: discriminator.tf\\assets\n"
     ]
    },
    {
     "name": "stdout",
     "output_type": "stream",
     "text": [
      "469/469 [==============================] - 92s 196ms/step - d_loss: 0.6828 - g_loss: 0.6690\n",
      "Epoch 2047/2500\n",
      "469/469 [==============================] - 90s 192ms/step - d_loss: 0.6772 - g_loss: 0.6944\n",
      "Epoch 2048/2500\n",
      "469/469 [==============================] - 90s 192ms/step - d_loss: 0.6766 - g_loss: 0.6670\n",
      "Epoch 2049/2500\n",
      "469/469 [==============================] - 90s 192ms/step - d_loss: 0.6773 - g_loss: 0.6815\n",
      "Epoch 2050/2500\n",
      "469/469 [==============================] - 90s 192ms/step - d_loss: 0.6747 - g_loss: 0.7032\n",
      "Epoch 2051/2500\n",
      "469/469 [==============================] - 90s 192ms/step - d_loss: 0.6667 - g_loss: 0.6955\n",
      "Epoch 2052/2500\n",
      "469/469 [==============================] - 90s 192ms/step - d_loss: 0.6662 - g_loss: 0.7070\n",
      "Epoch 2053/2500\n",
      "469/469 [==============================] - 90s 192ms/step - d_loss: 0.6627 - g_loss: 0.7159\n",
      "Epoch 2054/2500\n",
      "469/469 [==============================] - 90s 192ms/step - d_loss: 0.6585 - g_loss: 0.7576\n",
      "Epoch 2055/2500\n",
      "469/469 [==============================] - 90s 192ms/step - d_loss: 0.6535 - g_loss: 0.7266\n",
      "Epoch 2056/2500\n",
      "469/469 [==============================] - 90s 192ms/step - d_loss: 0.6746 - g_loss: 0.7016\n",
      "Epoch 2057/2500\n",
      "469/469 [==============================] - 90s 192ms/step - d_loss: 0.6674 - g_loss: 0.7124\n",
      "Epoch 2058/2500\n",
      "469/469 [==============================] - 90s 192ms/step - d_loss: 0.6775 - g_loss: 0.6647\n",
      "Epoch 2059/2500\n",
      "469/469 [==============================] - 90s 192ms/step - d_loss: 0.6640 - g_loss: 0.6963\n",
      "Epoch 2060/2500\n",
      "469/469 [==============================] - 90s 192ms/step - d_loss: 0.6661 - g_loss: 0.7159\n",
      "Epoch 2061/2500\n",
      "469/469 [==============================] - 90s 192ms/step - d_loss: 0.6769 - g_loss: 0.6770\n",
      "Epoch 2062/2500\n",
      "469/469 [==============================] - 90s 192ms/step - d_loss: 0.6811 - g_loss: 0.6746\n",
      "Epoch 2063/2500\n",
      "469/469 [==============================] - 90s 192ms/step - d_loss: 0.6717 - g_loss: 0.7010\n",
      "Epoch 2064/2500\n",
      "469/469 [==============================] - 90s 192ms/step - d_loss: 0.6680 - g_loss: 0.6938\n",
      "Epoch 2065/2500\n",
      "469/469 [==============================] - 90s 192ms/step - d_loss: 0.6688 - g_loss: 0.7032\n",
      "Epoch 2066/2500\n",
      "469/469 [==============================] - 90s 192ms/step - d_loss: 0.6671 - g_loss: 0.7089\n",
      "Epoch 2067/2500\n",
      "469/469 [==============================] - 90s 192ms/step - d_loss: 0.6717 - g_loss: 0.6988\n",
      "Epoch 2068/2500\n",
      "469/469 [==============================] - 90s 192ms/step - d_loss: 0.6680 - g_loss: 0.7224\n",
      "Epoch 2069/2500\n",
      "469/469 [==============================] - 90s 192ms/step - d_loss: 0.6573 - g_loss: 0.7334\n",
      "Epoch 2070/2500\n",
      "469/469 [==============================] - 90s 192ms/step - d_loss: 0.6616 - g_loss: 0.7504\n",
      "Epoch 2071/2500\n",
      "469/469 [==============================] - 90s 192ms/step - d_loss: 0.6729 - g_loss: 0.6972\n",
      "Epoch 2072/2500\n",
      "469/469 [==============================] - 90s 192ms/step - d_loss: 0.6673 - g_loss: 0.7211\n",
      "Epoch 2073/2500\n",
      "469/469 [==============================] - 90s 192ms/step - d_loss: 0.6633 - g_loss: 0.7124\n",
      "Epoch 2074/2500\n",
      "469/469 [==============================] - 90s 192ms/step - d_loss: 0.6672 - g_loss: 0.7062\n",
      "Epoch 2075/2500\n",
      "469/469 [==============================] - 90s 192ms/step - d_loss: 0.6667 - g_loss: 0.7084\n",
      "Epoch 2076/2500\n",
      "469/469 [==============================] - 90s 192ms/step - d_loss: 0.6646 - g_loss: 0.7409\n",
      "Epoch 2077/2500\n",
      "469/469 [==============================] - ETA: 0s - d_loss: 0.6659 - g_loss: 0.7147WARNING:tensorflow:Compiled the loaded model, but the compiled metrics have yet to be built. `model.compile_metrics` will be empty until you train or evaluate the model.\n"
     ]
    },
    {
     "name": "stderr",
     "output_type": "stream",
     "text": [
      "WARNING:tensorflow:Compiled the loaded model, but the compiled metrics have yet to be built. `model.compile_metrics` will be empty until you train or evaluate the model.\n",
      "WARNING:absl:Found untraced functions such as _jit_compiled_convolution_op, _jit_compiled_convolution_op, _jit_compiled_convolution_op, _jit_compiled_convolution_op, _jit_compiled_convolution_op while saving (showing 5 of 5). These functions will not be directly callable after loading.\n"
     ]
    },
    {
     "name": "stdout",
     "output_type": "stream",
     "text": [
      "INFO:tensorflow:Assets written to: generator.tf\\assets\n"
     ]
    },
    {
     "name": "stderr",
     "output_type": "stream",
     "text": [
      "INFO:tensorflow:Assets written to: generator.tf\\assets\n"
     ]
    },
    {
     "name": "stdout",
     "output_type": "stream",
     "text": [
      "WARNING:tensorflow:Compiled the loaded model, but the compiled metrics have yet to be built. `model.compile_metrics` will be empty until you train or evaluate the model.\n"
     ]
    },
    {
     "name": "stderr",
     "output_type": "stream",
     "text": [
      "WARNING:tensorflow:Compiled the loaded model, but the compiled metrics have yet to be built. `model.compile_metrics` will be empty until you train or evaluate the model.\n",
      "WARNING:absl:Found untraced functions such as _jit_compiled_convolution_op, _jit_compiled_convolution_op, _jit_compiled_convolution_op, _jit_compiled_convolution_op while saving (showing 4 of 4). These functions will not be directly callable after loading.\n"
     ]
    },
    {
     "name": "stdout",
     "output_type": "stream",
     "text": [
      "INFO:tensorflow:Assets written to: discriminator.tf\\assets\n"
     ]
    },
    {
     "name": "stderr",
     "output_type": "stream",
     "text": [
      "INFO:tensorflow:Assets written to: discriminator.tf\\assets\n"
     ]
    },
    {
     "name": "stdout",
     "output_type": "stream",
     "text": [
      "469/469 [==============================] - 92s 197ms/step - d_loss: 0.6658 - g_loss: 0.7146\n",
      "Epoch 2078/2500\n",
      "469/469 [==============================] - 90s 192ms/step - d_loss: 0.6633 - g_loss: 0.7375\n",
      "Epoch 2079/2500\n",
      "469/469 [==============================] - 90s 192ms/step - d_loss: 0.6674 - g_loss: 0.7213\n",
      "Epoch 2080/2500\n",
      "469/469 [==============================] - 90s 192ms/step - d_loss: 0.6694 - g_loss: 0.7347\n",
      "Epoch 2081/2500\n",
      "469/469 [==============================] - 90s 192ms/step - d_loss: 0.6632 - g_loss: 0.7053\n",
      "Epoch 2082/2500\n",
      "469/469 [==============================] - 90s 192ms/step - d_loss: 0.6680 - g_loss: 0.6749\n",
      "Epoch 2083/2500\n",
      "469/469 [==============================] - 90s 192ms/step - d_loss: 0.6751 - g_loss: 0.6988\n",
      "Epoch 2084/2500\n",
      "469/469 [==============================] - 90s 192ms/step - d_loss: 0.6643 - g_loss: 0.6881\n",
      "Epoch 2085/2500\n",
      "469/469 [==============================] - 90s 192ms/step - d_loss: 0.6670 - g_loss: 0.7385\n",
      "Epoch 2086/2500\n",
      "469/469 [==============================] - 90s 192ms/step - d_loss: 0.6705 - g_loss: 0.7099\n",
      "Epoch 2087/2500\n",
      "469/469 [==============================] - 90s 192ms/step - d_loss: 0.6744 - g_loss: 0.6852\n",
      "Epoch 2088/2500\n",
      "469/469 [==============================] - 90s 192ms/step - d_loss: 0.6711 - g_loss: 0.7071\n",
      "Epoch 2089/2500\n",
      "469/469 [==============================] - 90s 192ms/step - d_loss: 0.6732 - g_loss: 0.6996\n",
      "Epoch 2090/2500\n",
      "469/469 [==============================] - 90s 192ms/step - d_loss: 0.6705 - g_loss: 0.6888\n",
      "Epoch 2091/2500\n",
      "469/469 [==============================] - 90s 192ms/step - d_loss: 0.6648 - g_loss: 0.7250\n",
      "Epoch 2092/2500\n",
      "469/469 [==============================] - 90s 192ms/step - d_loss: 0.6775 - g_loss: 0.6948\n",
      "Epoch 2093/2500\n",
      "469/469 [==============================] - 90s 192ms/step - d_loss: 0.6767 - g_loss: 0.7064\n",
      "Epoch 2094/2500\n",
      "469/469 [==============================] - 90s 192ms/step - d_loss: 0.6776 - g_loss: 0.6976\n",
      "Epoch 2095/2500\n",
      "469/469 [==============================] - 90s 192ms/step - d_loss: 0.6803 - g_loss: 0.6992\n",
      "Epoch 2096/2500\n",
      "469/469 [==============================] - 90s 192ms/step - d_loss: 0.6775 - g_loss: 0.6797\n",
      "Epoch 2097/2500\n",
      "469/469 [==============================] - 90s 192ms/step - d_loss: 0.6778 - g_loss: 0.6834\n",
      "Epoch 2098/2500\n",
      "469/469 [==============================] - 90s 192ms/step - d_loss: 0.6762 - g_loss: 0.6841\n",
      "Epoch 2099/2500\n",
      "469/469 [==============================] - 90s 192ms/step - d_loss: 0.6807 - g_loss: 0.6850\n",
      "Epoch 2100/2500\n",
      "469/469 [==============================] - 90s 192ms/step - d_loss: 0.6708 - g_loss: 0.6784\n",
      "Epoch 2101/2500\n",
      "469/469 [==============================] - 90s 192ms/step - d_loss: 0.6671 - g_loss: 0.6751\n",
      "Epoch 2102/2500\n",
      "469/469 [==============================] - 90s 192ms/step - d_loss: 0.6711 - g_loss: 0.6856\n",
      "Epoch 2103/2500\n",
      "469/469 [==============================] - 90s 192ms/step - d_loss: 0.6747 - g_loss: 0.6749\n",
      "Epoch 2104/2500\n",
      "469/469 [==============================] - 90s 192ms/step - d_loss: 0.6807 - g_loss: 0.6666\n",
      "Epoch 2105/2500\n",
      "469/469 [==============================] - 90s 192ms/step - d_loss: 0.6781 - g_loss: 0.6836\n",
      "Epoch 2106/2500\n",
      "469/469 [==============================] - 90s 192ms/step - d_loss: 0.6700 - g_loss: 0.6660\n",
      "Epoch 2107/2500\n",
      "469/469 [==============================] - 90s 192ms/step - d_loss: 0.6602 - g_loss: 0.7002\n",
      "Epoch 2108/2500\n",
      "469/469 [==============================] - ETA: 0s - d_loss: 0.6744 - g_loss: 0.6887WARNING:tensorflow:Compiled the loaded model, but the compiled metrics have yet to be built. `model.compile_metrics` will be empty until you train or evaluate the model.\n"
     ]
    },
    {
     "name": "stderr",
     "output_type": "stream",
     "text": [
      "WARNING:tensorflow:Compiled the loaded model, but the compiled metrics have yet to be built. `model.compile_metrics` will be empty until you train or evaluate the model.\n",
      "WARNING:absl:Found untraced functions such as _jit_compiled_convolution_op, _jit_compiled_convolution_op, _jit_compiled_convolution_op, _jit_compiled_convolution_op, _jit_compiled_convolution_op while saving (showing 5 of 5). These functions will not be directly callable after loading.\n"
     ]
    },
    {
     "name": "stdout",
     "output_type": "stream",
     "text": [
      "INFO:tensorflow:Assets written to: generator.tf\\assets\n"
     ]
    },
    {
     "name": "stderr",
     "output_type": "stream",
     "text": [
      "INFO:tensorflow:Assets written to: generator.tf\\assets\n"
     ]
    },
    {
     "name": "stdout",
     "output_type": "stream",
     "text": [
      "WARNING:tensorflow:Compiled the loaded model, but the compiled metrics have yet to be built. `model.compile_metrics` will be empty until you train or evaluate the model.\n"
     ]
    },
    {
     "name": "stderr",
     "output_type": "stream",
     "text": [
      "WARNING:tensorflow:Compiled the loaded model, but the compiled metrics have yet to be built. `model.compile_metrics` will be empty until you train or evaluate the model.\n",
      "WARNING:absl:Found untraced functions such as _jit_compiled_convolution_op, _jit_compiled_convolution_op, _jit_compiled_convolution_op, _jit_compiled_convolution_op while saving (showing 4 of 4). These functions will not be directly callable after loading.\n"
     ]
    },
    {
     "name": "stdout",
     "output_type": "stream",
     "text": [
      "INFO:tensorflow:Assets written to: discriminator.tf\\assets\n"
     ]
    },
    {
     "name": "stderr",
     "output_type": "stream",
     "text": [
      "INFO:tensorflow:Assets written to: discriminator.tf\\assets\n"
     ]
    },
    {
     "name": "stdout",
     "output_type": "stream",
     "text": [
      "469/469 [==============================] - 92s 196ms/step - d_loss: 0.6744 - g_loss: 0.6887\n",
      "Epoch 2109/2500\n",
      "469/469 [==============================] - 90s 192ms/step - d_loss: 0.6595 - g_loss: 0.7141\n",
      "Epoch 2110/2500\n",
      "469/469 [==============================] - 90s 192ms/step - d_loss: 0.6788 - g_loss: 0.6668\n",
      "Epoch 2111/2500\n",
      "469/469 [==============================] - 90s 192ms/step - d_loss: 0.6762 - g_loss: 0.6943\n",
      "Epoch 2112/2500\n",
      "469/469 [==============================] - 90s 192ms/step - d_loss: 0.6788 - g_loss: 0.6912\n",
      "Epoch 2113/2500\n",
      "469/469 [==============================] - 90s 192ms/step - d_loss: 0.6728 - g_loss: 0.6734\n",
      "Epoch 2114/2500\n",
      "469/469 [==============================] - 90s 192ms/step - d_loss: 0.6743 - g_loss: 0.6906\n",
      "Epoch 2115/2500\n",
      "469/469 [==============================] - 90s 192ms/step - d_loss: 0.6780 - g_loss: 0.6797\n",
      "Epoch 2116/2500\n",
      "469/469 [==============================] - 90s 192ms/step - d_loss: 0.6792 - g_loss: 0.6814\n",
      "Epoch 2117/2500\n",
      "469/469 [==============================] - 90s 192ms/step - d_loss: 0.6743 - g_loss: 0.6918\n",
      "Epoch 2118/2500\n",
      "469/469 [==============================] - 90s 192ms/step - d_loss: 0.6721 - g_loss: 0.6931\n",
      "Epoch 2119/2500\n",
      "469/469 [==============================] - 90s 192ms/step - d_loss: 0.6794 - g_loss: 0.6832\n",
      "Epoch 2120/2500\n",
      "469/469 [==============================] - 90s 192ms/step - d_loss: 0.6788 - g_loss: 0.6683\n",
      "Epoch 2121/2500\n",
      "469/469 [==============================] - 90s 192ms/step - d_loss: 0.6644 - g_loss: 0.6948\n",
      "Epoch 2122/2500\n",
      "469/469 [==============================] - 90s 192ms/step - d_loss: 0.6729 - g_loss: 0.6903\n",
      "Epoch 2123/2500\n",
      "469/469 [==============================] - 90s 192ms/step - d_loss: 0.6528 - g_loss: 0.7371\n",
      "Epoch 2124/2500\n",
      "469/469 [==============================] - 90s 192ms/step - d_loss: 0.6688 - g_loss: 0.7047\n",
      "Epoch 2125/2500\n",
      "469/469 [==============================] - 90s 192ms/step - d_loss: 0.6703 - g_loss: 0.7320\n",
      "Epoch 2126/2500\n",
      "469/469 [==============================] - 90s 192ms/step - d_loss: 0.6674 - g_loss: 0.7441\n",
      "Epoch 2127/2500\n",
      "469/469 [==============================] - 90s 192ms/step - d_loss: 0.6617 - g_loss: 0.7002\n",
      "Epoch 2128/2500\n",
      "469/469 [==============================] - 90s 192ms/step - d_loss: 0.6681 - g_loss: 0.6975\n",
      "Epoch 2129/2500\n",
      "469/469 [==============================] - 90s 192ms/step - d_loss: 0.6777 - g_loss: 0.6535\n",
      "Epoch 2130/2500\n",
      "469/469 [==============================] - 90s 192ms/step - d_loss: 0.6771 - g_loss: 0.6909\n",
      "Epoch 2131/2500\n",
      "469/469 [==============================] - 90s 192ms/step - d_loss: 0.6718 - g_loss: 0.6816\n",
      "Epoch 2132/2500\n",
      "469/469 [==============================] - 90s 192ms/step - d_loss: 0.6722 - g_loss: 0.6690\n",
      "Epoch 2133/2500\n",
      "469/469 [==============================] - 90s 192ms/step - d_loss: 0.6710 - g_loss: 0.6686\n",
      "Epoch 2134/2500\n",
      "469/469 [==============================] - 90s 192ms/step - d_loss: 0.6768 - g_loss: 0.6624\n",
      "Epoch 2135/2500\n",
      "469/469 [==============================] - 90s 192ms/step - d_loss: 0.6691 - g_loss: 0.6896\n",
      "Epoch 2136/2500\n",
      "469/469 [==============================] - 90s 192ms/step - d_loss: 0.6727 - g_loss: 0.6769\n",
      "Epoch 2137/2500\n",
      "469/469 [==============================] - 90s 192ms/step - d_loss: 0.6738 - g_loss: 0.6989\n",
      "Epoch 2138/2500\n",
      "469/469 [==============================] - 90s 192ms/step - d_loss: 0.6773 - g_loss: 0.6697\n",
      "Epoch 2139/2500\n",
      "469/469 [==============================] - ETA: 0s - d_loss: 0.6697 - g_loss: 0.7119WARNING:tensorflow:Compiled the loaded model, but the compiled metrics have yet to be built. `model.compile_metrics` will be empty until you train or evaluate the model.\n"
     ]
    },
    {
     "name": "stderr",
     "output_type": "stream",
     "text": [
      "WARNING:tensorflow:Compiled the loaded model, but the compiled metrics have yet to be built. `model.compile_metrics` will be empty until you train or evaluate the model.\n",
      "WARNING:absl:Found untraced functions such as _jit_compiled_convolution_op, _jit_compiled_convolution_op, _jit_compiled_convolution_op, _jit_compiled_convolution_op, _jit_compiled_convolution_op while saving (showing 5 of 5). These functions will not be directly callable after loading.\n"
     ]
    },
    {
     "name": "stdout",
     "output_type": "stream",
     "text": [
      "INFO:tensorflow:Assets written to: generator.tf\\assets\n"
     ]
    },
    {
     "name": "stderr",
     "output_type": "stream",
     "text": [
      "INFO:tensorflow:Assets written to: generator.tf\\assets\n"
     ]
    },
    {
     "name": "stdout",
     "output_type": "stream",
     "text": [
      "WARNING:tensorflow:Compiled the loaded model, but the compiled metrics have yet to be built. `model.compile_metrics` will be empty until you train or evaluate the model.\n"
     ]
    },
    {
     "name": "stderr",
     "output_type": "stream",
     "text": [
      "WARNING:tensorflow:Compiled the loaded model, but the compiled metrics have yet to be built. `model.compile_metrics` will be empty until you train or evaluate the model.\n",
      "WARNING:absl:Found untraced functions such as _jit_compiled_convolution_op, _jit_compiled_convolution_op, _jit_compiled_convolution_op, _jit_compiled_convolution_op while saving (showing 4 of 4). These functions will not be directly callable after loading.\n"
     ]
    },
    {
     "name": "stdout",
     "output_type": "stream",
     "text": [
      "INFO:tensorflow:Assets written to: discriminator.tf\\assets\n"
     ]
    },
    {
     "name": "stderr",
     "output_type": "stream",
     "text": [
      "INFO:tensorflow:Assets written to: discriminator.tf\\assets\n"
     ]
    },
    {
     "name": "stdout",
     "output_type": "stream",
     "text": [
      "469/469 [==============================] - 92s 196ms/step - d_loss: 0.6697 - g_loss: 0.7119\n",
      "Epoch 2140/2500\n",
      "469/469 [==============================] - 90s 192ms/step - d_loss: 0.6743 - g_loss: 0.7069\n",
      "Epoch 2141/2500\n",
      "469/469 [==============================] - 90s 192ms/step - d_loss: 0.6748 - g_loss: 0.7016\n",
      "Epoch 2142/2500\n",
      "469/469 [==============================] - 90s 192ms/step - d_loss: 0.6621 - g_loss: 0.7294\n",
      "Epoch 2143/2500\n",
      "469/469 [==============================] - 90s 192ms/step - d_loss: 0.6696 - g_loss: 0.6870\n",
      "Epoch 2144/2500\n",
      "469/469 [==============================] - 90s 192ms/step - d_loss: 0.6677 - g_loss: 0.7165\n",
      "Epoch 2145/2500\n",
      "469/469 [==============================] - 90s 192ms/step - d_loss: 0.6669 - g_loss: 0.7187\n",
      "Epoch 2146/2500\n",
      "469/469 [==============================] - 90s 192ms/step - d_loss: 0.6752 - g_loss: 0.6544\n",
      "Epoch 2147/2500\n",
      "469/469 [==============================] - 90s 192ms/step - d_loss: 0.6713 - g_loss: 0.6931\n",
      "Epoch 2148/2500\n",
      "469/469 [==============================] - 90s 192ms/step - d_loss: 0.6737 - g_loss: 0.6961\n",
      "Epoch 2149/2500\n",
      "469/469 [==============================] - 90s 192ms/step - d_loss: 0.6810 - g_loss: 0.6938\n",
      "Epoch 2150/2500\n",
      "469/469 [==============================] - 90s 192ms/step - d_loss: 0.6790 - g_loss: 0.6715\n",
      "Epoch 2151/2500\n",
      "469/469 [==============================] - 90s 192ms/step - d_loss: 0.6790 - g_loss: 0.6920\n",
      "Epoch 2152/2500\n",
      "469/469 [==============================] - 90s 192ms/step - d_loss: 0.6745 - g_loss: 0.7195\n",
      "Epoch 2153/2500\n",
      "469/469 [==============================] - 90s 192ms/step - d_loss: 0.6700 - g_loss: 0.6855\n",
      "Epoch 2154/2500\n",
      "469/469 [==============================] - 90s 192ms/step - d_loss: 0.6843 - g_loss: 0.6724\n",
      "Epoch 2155/2500\n",
      "469/469 [==============================] - 90s 192ms/step - d_loss: 0.6758 - g_loss: 0.6874\n",
      "Epoch 2156/2500\n",
      "469/469 [==============================] - 90s 192ms/step - d_loss: 0.6669 - g_loss: 0.7070\n",
      "Epoch 2157/2500\n",
      "469/469 [==============================] - 90s 192ms/step - d_loss: 0.6777 - g_loss: 0.6776\n",
      "Epoch 2158/2500\n",
      "469/469 [==============================] - 90s 192ms/step - d_loss: 0.6788 - g_loss: 0.6718\n",
      "Epoch 2159/2500\n",
      "469/469 [==============================] - 90s 192ms/step - d_loss: 0.6767 - g_loss: 0.6780\n",
      "Epoch 2160/2500\n",
      "469/469 [==============================] - 90s 192ms/step - d_loss: 0.6782 - g_loss: 0.6876\n",
      "Epoch 2161/2500\n",
      "469/469 [==============================] - 90s 192ms/step - d_loss: 0.6756 - g_loss: 0.7039\n",
      "Epoch 2162/2500\n",
      "469/469 [==============================] - 90s 192ms/step - d_loss: 0.6755 - g_loss: 0.6867\n",
      "Epoch 2163/2500\n",
      "469/469 [==============================] - 90s 192ms/step - d_loss: 0.6873 - g_loss: 0.6687\n",
      "Epoch 2164/2500\n",
      "469/469 [==============================] - 90s 192ms/step - d_loss: 0.6761 - g_loss: 0.6819\n",
      "Epoch 2165/2500\n",
      "469/469 [==============================] - 90s 192ms/step - d_loss: 0.6732 - g_loss: 0.6694\n",
      "Epoch 2166/2500\n",
      "469/469 [==============================] - 90s 192ms/step - d_loss: 0.6827 - g_loss: 0.6806\n",
      "Epoch 2167/2500\n",
      "469/469 [==============================] - 90s 192ms/step - d_loss: 0.6782 - g_loss: 0.6854\n",
      "Epoch 2168/2500\n",
      "469/469 [==============================] - 90s 192ms/step - d_loss: 0.6730 - g_loss: 0.6705\n",
      "Epoch 2169/2500\n",
      "469/469 [==============================] - 90s 192ms/step - d_loss: 0.6829 - g_loss: 0.6671\n",
      "Epoch 2170/2500\n",
      "469/469 [==============================] - ETA: 0s - d_loss: 0.6822 - g_loss: 0.6942WARNING:tensorflow:Compiled the loaded model, but the compiled metrics have yet to be built. `model.compile_metrics` will be empty until you train or evaluate the model.\n"
     ]
    },
    {
     "name": "stderr",
     "output_type": "stream",
     "text": [
      "WARNING:tensorflow:Compiled the loaded model, but the compiled metrics have yet to be built. `model.compile_metrics` will be empty until you train or evaluate the model.\n",
      "WARNING:absl:Found untraced functions such as _jit_compiled_convolution_op, _jit_compiled_convolution_op, _jit_compiled_convolution_op, _jit_compiled_convolution_op, _jit_compiled_convolution_op while saving (showing 5 of 5). These functions will not be directly callable after loading.\n"
     ]
    },
    {
     "name": "stdout",
     "output_type": "stream",
     "text": [
      "INFO:tensorflow:Assets written to: generator.tf\\assets\n"
     ]
    },
    {
     "name": "stderr",
     "output_type": "stream",
     "text": [
      "INFO:tensorflow:Assets written to: generator.tf\\assets\n"
     ]
    },
    {
     "name": "stdout",
     "output_type": "stream",
     "text": [
      "WARNING:tensorflow:Compiled the loaded model, but the compiled metrics have yet to be built. `model.compile_metrics` will be empty until you train or evaluate the model.\n"
     ]
    },
    {
     "name": "stderr",
     "output_type": "stream",
     "text": [
      "WARNING:tensorflow:Compiled the loaded model, but the compiled metrics have yet to be built. `model.compile_metrics` will be empty until you train or evaluate the model.\n",
      "WARNING:absl:Found untraced functions such as _jit_compiled_convolution_op, _jit_compiled_convolution_op, _jit_compiled_convolution_op, _jit_compiled_convolution_op while saving (showing 4 of 4). These functions will not be directly callable after loading.\n"
     ]
    },
    {
     "name": "stdout",
     "output_type": "stream",
     "text": [
      "INFO:tensorflow:Assets written to: discriminator.tf\\assets\n"
     ]
    },
    {
     "name": "stderr",
     "output_type": "stream",
     "text": [
      "INFO:tensorflow:Assets written to: discriminator.tf\\assets\n"
     ]
    },
    {
     "name": "stdout",
     "output_type": "stream",
     "text": [
      "469/469 [==============================] - 92s 197ms/step - d_loss: 0.6822 - g_loss: 0.6942\n",
      "Epoch 2171/2500\n",
      "469/469 [==============================] - 90s 192ms/step - d_loss: 0.6747 - g_loss: 0.6678\n",
      "Epoch 2172/2500\n",
      "469/469 [==============================] - 90s 192ms/step - d_loss: 0.6789 - g_loss: 0.6652\n",
      "Epoch 2173/2500\n",
      "469/469 [==============================] - 90s 192ms/step - d_loss: 0.6755 - g_loss: 0.6942\n",
      "Epoch 2174/2500\n",
      "469/469 [==============================] - 90s 192ms/step - d_loss: 0.6710 - g_loss: 0.6977\n",
      "Epoch 2175/2500\n",
      "469/469 [==============================] - 90s 192ms/step - d_loss: 0.6749 - g_loss: 0.6939\n",
      "Epoch 2176/2500\n",
      "469/469 [==============================] - 90s 192ms/step - d_loss: 0.6679 - g_loss: 0.7224\n",
      "Epoch 2177/2500\n",
      "469/469 [==============================] - 90s 192ms/step - d_loss: 0.6754 - g_loss: 0.6764\n",
      "Epoch 2178/2500\n",
      "469/469 [==============================] - 90s 192ms/step - d_loss: 0.6777 - g_loss: 0.6529\n",
      "Epoch 2179/2500\n",
      "469/469 [==============================] - 90s 192ms/step - d_loss: 0.6785 - g_loss: 0.6892\n",
      "Epoch 2180/2500\n",
      "469/469 [==============================] - 90s 192ms/step - d_loss: 0.6827 - g_loss: 0.6814\n",
      "Epoch 2181/2500\n",
      "469/469 [==============================] - 90s 192ms/step - d_loss: 0.6801 - g_loss: 0.6968\n",
      "Epoch 2182/2500\n",
      "469/469 [==============================] - 90s 192ms/step - d_loss: 0.6790 - g_loss: 0.6662\n",
      "Epoch 2183/2500\n",
      "469/469 [==============================] - 90s 192ms/step - d_loss: 0.6843 - g_loss: 0.6745\n",
      "Epoch 2184/2500\n",
      "469/469 [==============================] - 90s 192ms/step - d_loss: 0.6797 - g_loss: 0.6686\n",
      "Epoch 2185/2500\n",
      "469/469 [==============================] - 90s 192ms/step - d_loss: 0.6842 - g_loss: 0.6670\n",
      "Epoch 2186/2500\n",
      "469/469 [==============================] - 90s 192ms/step - d_loss: 0.6850 - g_loss: 0.6603\n",
      "Epoch 2187/2500\n",
      "469/469 [==============================] - 90s 192ms/step - d_loss: 0.6772 - g_loss: 0.6675\n",
      "Epoch 2188/2500\n",
      "469/469 [==============================] - 90s 192ms/step - d_loss: 0.6791 - g_loss: 0.6784\n",
      "Epoch 2189/2500\n",
      "469/469 [==============================] - 90s 192ms/step - d_loss: 0.6880 - g_loss: 0.6588\n",
      "Epoch 2190/2500\n",
      "469/469 [==============================] - 90s 192ms/step - d_loss: 0.6790 - g_loss: 0.6899\n",
      "Epoch 2191/2500\n",
      "469/469 [==============================] - 90s 192ms/step - d_loss: 0.6831 - g_loss: 0.6822\n",
      "Epoch 2192/2500\n",
      "469/469 [==============================] - 90s 192ms/step - d_loss: 0.6822 - g_loss: 0.6805\n",
      "Epoch 2193/2500\n",
      "469/469 [==============================] - 90s 192ms/step - d_loss: 0.6781 - g_loss: 0.6816\n",
      "Epoch 2194/2500\n",
      "469/469 [==============================] - 90s 192ms/step - d_loss: 0.6864 - g_loss: 0.6388\n",
      "Epoch 2195/2500\n",
      "469/469 [==============================] - 90s 192ms/step - d_loss: 0.6895 - g_loss: 0.6565\n",
      "Epoch 2196/2500\n",
      "469/469 [==============================] - 90s 192ms/step - d_loss: 0.6817 - g_loss: 0.6886\n",
      "Epoch 2197/2500\n",
      "469/469 [==============================] - 93s 197ms/step - d_loss: 0.6811 - g_loss: 0.6900\n",
      "Epoch 2198/2500\n",
      "469/469 [==============================] - 91s 193ms/step - d_loss: 0.6822 - g_loss: 0.6900\n",
      "Epoch 2199/2500\n",
      "469/469 [==============================] - 91s 193ms/step - d_loss: 0.6677 - g_loss: 0.6979\n",
      "Epoch 2200/2500\n",
      "469/469 [==============================] - 90s 193ms/step - d_loss: 0.6824 - g_loss: 0.6547\n",
      "Epoch 2201/2500\n",
      "469/469 [==============================] - ETA: 0s - d_loss: 0.6844 - g_loss: 0.6878WARNING:tensorflow:Compiled the loaded model, but the compiled metrics have yet to be built. `model.compile_metrics` will be empty until you train or evaluate the model.\n"
     ]
    },
    {
     "name": "stderr",
     "output_type": "stream",
     "text": [
      "WARNING:tensorflow:Compiled the loaded model, but the compiled metrics have yet to be built. `model.compile_metrics` will be empty until you train or evaluate the model.\n",
      "WARNING:absl:Found untraced functions such as _jit_compiled_convolution_op, _jit_compiled_convolution_op, _jit_compiled_convolution_op, _jit_compiled_convolution_op, _jit_compiled_convolution_op while saving (showing 5 of 5). These functions will not be directly callable after loading.\n"
     ]
    },
    {
     "name": "stdout",
     "output_type": "stream",
     "text": [
      "INFO:tensorflow:Assets written to: generator.tf\\assets\n"
     ]
    },
    {
     "name": "stderr",
     "output_type": "stream",
     "text": [
      "INFO:tensorflow:Assets written to: generator.tf\\assets\n"
     ]
    },
    {
     "name": "stdout",
     "output_type": "stream",
     "text": [
      "WARNING:tensorflow:Compiled the loaded model, but the compiled metrics have yet to be built. `model.compile_metrics` will be empty until you train or evaluate the model.\n"
     ]
    },
    {
     "name": "stderr",
     "output_type": "stream",
     "text": [
      "WARNING:tensorflow:Compiled the loaded model, but the compiled metrics have yet to be built. `model.compile_metrics` will be empty until you train or evaluate the model.\n",
      "WARNING:absl:Found untraced functions such as _jit_compiled_convolution_op, _jit_compiled_convolution_op, _jit_compiled_convolution_op, _jit_compiled_convolution_op while saving (showing 4 of 4). These functions will not be directly callable after loading.\n"
     ]
    },
    {
     "name": "stdout",
     "output_type": "stream",
     "text": [
      "INFO:tensorflow:Assets written to: discriminator.tf\\assets\n"
     ]
    },
    {
     "name": "stderr",
     "output_type": "stream",
     "text": [
      "INFO:tensorflow:Assets written to: discriminator.tf\\assets\n"
     ]
    },
    {
     "name": "stdout",
     "output_type": "stream",
     "text": [
      "469/469 [==============================] - 92s 197ms/step - d_loss: 0.6844 - g_loss: 0.6877\n",
      "Epoch 2202/2500\n",
      "469/469 [==============================] - 91s 193ms/step - d_loss: 0.6795 - g_loss: 0.6751\n",
      "Epoch 2203/2500\n",
      "469/469 [==============================] - 90s 193ms/step - d_loss: 0.6799 - g_loss: 0.6886\n",
      "Epoch 2204/2500\n",
      "469/469 [==============================] - 90s 193ms/step - d_loss: 0.6825 - g_loss: 0.7131\n",
      "Epoch 2205/2500\n",
      "469/469 [==============================] - 91s 193ms/step - d_loss: 0.6843 - g_loss: 0.7007\n",
      "Epoch 2206/2500\n",
      "469/469 [==============================] - 91s 193ms/step - d_loss: 0.6766 - g_loss: 0.6913\n",
      "Epoch 2207/2500\n",
      "469/469 [==============================] - 91s 193ms/step - d_loss: 0.6828 - g_loss: 0.6715\n",
      "Epoch 2208/2500\n",
      "469/469 [==============================] - 91s 193ms/step - d_loss: 0.6877 - g_loss: 0.6729\n",
      "Epoch 2209/2500\n",
      "469/469 [==============================] - 90s 193ms/step - d_loss: 0.6757 - g_loss: 0.6870\n",
      "Epoch 2210/2500\n",
      "469/469 [==============================] - 91s 193ms/step - d_loss: 0.6843 - g_loss: 0.6631\n",
      "Epoch 2211/2500\n",
      "469/469 [==============================] - 90s 193ms/step - d_loss: 0.6810 - g_loss: 0.6775\n",
      "Epoch 2212/2500\n",
      "469/469 [==============================] - 90s 193ms/step - d_loss: 0.6804 - g_loss: 0.6624\n",
      "Epoch 2213/2500\n",
      "469/469 [==============================] - 91s 193ms/step - d_loss: 0.6518 - g_loss: 0.7237\n",
      "Epoch 2214/2500\n",
      "469/469 [==============================] - 91s 193ms/step - d_loss: 0.6498 - g_loss: 0.7543\n",
      "Epoch 2215/2500\n",
      "469/469 [==============================] - 90s 193ms/step - d_loss: 0.6546 - g_loss: 0.7027\n",
      "Epoch 2216/2500\n",
      "469/469 [==============================] - 91s 193ms/step - d_loss: 0.6678 - g_loss: 0.6926\n",
      "Epoch 2217/2500\n",
      "469/469 [==============================] - 90s 193ms/step - d_loss: 0.6666 - g_loss: 0.6960\n",
      "Epoch 2218/2500\n",
      "469/469 [==============================] - 90s 192ms/step - d_loss: 0.6672 - g_loss: 0.6857\n",
      "Epoch 2219/2500\n",
      "469/469 [==============================] - 90s 192ms/step - d_loss: 0.6640 - g_loss: 0.7156\n",
      "Epoch 2220/2500\n",
      "469/469 [==============================] - 90s 192ms/step - d_loss: 0.6678 - g_loss: 0.7046\n",
      "Epoch 2221/2500\n",
      "469/469 [==============================] - 90s 192ms/step - d_loss: 0.6625 - g_loss: 0.6864\n",
      "Epoch 2222/2500\n",
      "469/469 [==============================] - 90s 192ms/step - d_loss: 0.6686 - g_loss: 0.6996\n",
      "Epoch 2223/2500\n",
      "469/469 [==============================] - 90s 192ms/step - d_loss: 0.6642 - g_loss: 0.6746\n",
      "Epoch 2224/2500\n",
      "469/469 [==============================] - 90s 192ms/step - d_loss: 0.6667 - g_loss: 0.6964\n",
      "Epoch 2225/2500\n",
      "469/469 [==============================] - 90s 192ms/step - d_loss: 0.6719 - g_loss: 0.6703\n",
      "Epoch 2226/2500\n",
      "469/469 [==============================] - 90s 192ms/step - d_loss: 0.6695 - g_loss: 0.6910\n",
      "Epoch 2227/2500\n",
      "469/469 [==============================] - 90s 192ms/step - d_loss: 0.6683 - g_loss: 0.6873\n",
      "Epoch 2228/2500\n",
      "469/469 [==============================] - 90s 192ms/step - d_loss: 0.6683 - g_loss: 0.7095\n",
      "Epoch 2229/2500\n",
      "469/469 [==============================] - 90s 192ms/step - d_loss: 0.6739 - g_loss: 0.6953\n",
      "Epoch 2230/2500\n",
      "469/469 [==============================] - 90s 192ms/step - d_loss: 0.6676 - g_loss: 0.6800\n",
      "Epoch 2231/2500\n",
      "469/469 [==============================] - 90s 192ms/step - d_loss: 0.6786 - g_loss: 0.6671\n",
      "Epoch 2232/2500\n",
      "469/469 [==============================] - ETA: 0s - d_loss: 0.6786 - g_loss: 0.6815WARNING:tensorflow:Compiled the loaded model, but the compiled metrics have yet to be built. `model.compile_metrics` will be empty until you train or evaluate the model.\n"
     ]
    },
    {
     "name": "stderr",
     "output_type": "stream",
     "text": [
      "WARNING:tensorflow:Compiled the loaded model, but the compiled metrics have yet to be built. `model.compile_metrics` will be empty until you train or evaluate the model.\n",
      "WARNING:absl:Found untraced functions such as _jit_compiled_convolution_op, _jit_compiled_convolution_op, _jit_compiled_convolution_op, _jit_compiled_convolution_op, _jit_compiled_convolution_op while saving (showing 5 of 5). These functions will not be directly callable after loading.\n"
     ]
    },
    {
     "name": "stdout",
     "output_type": "stream",
     "text": [
      "INFO:tensorflow:Assets written to: generator.tf\\assets\n"
     ]
    },
    {
     "name": "stderr",
     "output_type": "stream",
     "text": [
      "INFO:tensorflow:Assets written to: generator.tf\\assets\n"
     ]
    },
    {
     "name": "stdout",
     "output_type": "stream",
     "text": [
      "WARNING:tensorflow:Compiled the loaded model, but the compiled metrics have yet to be built. `model.compile_metrics` will be empty until you train or evaluate the model.\n"
     ]
    },
    {
     "name": "stderr",
     "output_type": "stream",
     "text": [
      "WARNING:tensorflow:Compiled the loaded model, but the compiled metrics have yet to be built. `model.compile_metrics` will be empty until you train or evaluate the model.\n",
      "WARNING:absl:Found untraced functions such as _jit_compiled_convolution_op, _jit_compiled_convolution_op, _jit_compiled_convolution_op, _jit_compiled_convolution_op while saving (showing 4 of 4). These functions will not be directly callable after loading.\n"
     ]
    },
    {
     "name": "stdout",
     "output_type": "stream",
     "text": [
      "INFO:tensorflow:Assets written to: discriminator.tf\\assets\n"
     ]
    },
    {
     "name": "stderr",
     "output_type": "stream",
     "text": [
      "INFO:tensorflow:Assets written to: discriminator.tf\\assets\n"
     ]
    },
    {
     "name": "stdout",
     "output_type": "stream",
     "text": [
      "469/469 [==============================] - 92s 197ms/step - d_loss: 0.6786 - g_loss: 0.6816\n",
      "Epoch 2233/2500\n",
      "469/469 [==============================] - 90s 192ms/step - d_loss: 0.6780 - g_loss: 0.6802\n",
      "Epoch 2234/2500\n",
      "469/469 [==============================] - 90s 192ms/step - d_loss: 0.6730 - g_loss: 0.6866\n",
      "Epoch 2235/2500\n",
      "469/469 [==============================] - 90s 192ms/step - d_loss: 0.6702 - g_loss: 0.6951\n",
      "Epoch 2236/2500\n",
      "469/469 [==============================] - 90s 192ms/step - d_loss: 0.6666 - g_loss: 0.6940\n",
      "Epoch 2237/2500\n",
      "469/469 [==============================] - 90s 192ms/step - d_loss: 0.6707 - g_loss: 0.7025\n",
      "Epoch 2238/2500\n",
      "469/469 [==============================] - 90s 192ms/step - d_loss: 0.6757 - g_loss: 0.6950\n",
      "Epoch 2239/2500\n",
      "469/469 [==============================] - 90s 192ms/step - d_loss: 0.6735 - g_loss: 0.6864\n",
      "Epoch 2240/2500\n",
      "469/469 [==============================] - 90s 192ms/step - d_loss: 0.6762 - g_loss: 0.6621\n",
      "Epoch 2241/2500\n",
      "469/469 [==============================] - 90s 192ms/step - d_loss: 0.6753 - g_loss: 0.6796\n",
      "Epoch 2242/2500\n",
      "469/469 [==============================] - 90s 192ms/step - d_loss: 0.6729 - g_loss: 0.6995\n",
      "Epoch 2243/2500\n",
      "469/469 [==============================] - 90s 192ms/step - d_loss: 0.6782 - g_loss: 0.7014\n",
      "Epoch 2244/2500\n",
      "469/469 [==============================] - 90s 192ms/step - d_loss: 0.6748 - g_loss: 0.7063\n",
      "Epoch 2245/2500\n",
      "469/469 [==============================] - 90s 193ms/step - d_loss: 0.6716 - g_loss: 0.6755\n",
      "Epoch 2246/2500\n",
      "469/469 [==============================] - 90s 192ms/step - d_loss: 0.6747 - g_loss: 0.6861\n",
      "Epoch 2247/2500\n",
      "469/469 [==============================] - 90s 192ms/step - d_loss: 0.6738 - g_loss: 0.7025\n",
      "Epoch 2248/2500\n",
      "469/469 [==============================] - 90s 192ms/step - d_loss: 0.6698 - g_loss: 0.6951\n",
      "Epoch 2249/2500\n",
      "469/469 [==============================] - 90s 192ms/step - d_loss: 0.6697 - g_loss: 0.7030\n",
      "Epoch 2250/2500\n",
      "469/469 [==============================] - 90s 192ms/step - d_loss: 0.6744 - g_loss: 0.6935\n",
      "Epoch 2251/2500\n",
      "469/469 [==============================] - 90s 192ms/step - d_loss: 0.6725 - g_loss: 0.7027\n",
      "Epoch 2252/2500\n",
      "469/469 [==============================] - 90s 192ms/step - d_loss: 0.6724 - g_loss: 0.6884\n",
      "Epoch 2253/2500\n",
      "469/469 [==============================] - 90s 192ms/step - d_loss: 0.6696 - g_loss: 0.7190\n",
      "Epoch 2254/2500\n",
      "469/469 [==============================] - 90s 193ms/step - d_loss: 0.6714 - g_loss: 0.7137\n",
      "Epoch 2255/2500\n",
      "469/469 [==============================] - 90s 193ms/step - d_loss: 0.6660 - g_loss: 0.6888\n",
      "Epoch 2256/2500\n",
      "469/469 [==============================] - 90s 192ms/step - d_loss: 0.6807 - g_loss: 0.6754\n",
      "Epoch 2257/2500\n",
      "469/469 [==============================] - 90s 192ms/step - d_loss: 0.6760 - g_loss: 0.6934\n",
      "Epoch 2258/2500\n",
      "469/469 [==============================] - 90s 192ms/step - d_loss: 0.6789 - g_loss: 0.6919\n",
      "Epoch 2259/2500\n",
      "469/469 [==============================] - 90s 192ms/step - d_loss: 0.6763 - g_loss: 0.7019\n",
      "Epoch 2260/2500\n",
      "469/469 [==============================] - 90s 192ms/step - d_loss: 0.6729 - g_loss: 0.6721\n",
      "Epoch 2261/2500\n",
      "469/469 [==============================] - 90s 193ms/step - d_loss: 0.6711 - g_loss: 0.6950\n",
      "Epoch 2262/2500\n",
      "469/469 [==============================] - 92s 195ms/step - d_loss: 0.6799 - g_loss: 0.6846\n",
      "Epoch 2263/2500\n",
      "469/469 [==============================] - ETA: 0s - d_loss: 0.6753 - g_loss: 0.7037WARNING:tensorflow:Compiled the loaded model, but the compiled metrics have yet to be built. `model.compile_metrics` will be empty until you train or evaluate the model.\n"
     ]
    },
    {
     "name": "stderr",
     "output_type": "stream",
     "text": [
      "WARNING:tensorflow:Compiled the loaded model, but the compiled metrics have yet to be built. `model.compile_metrics` will be empty until you train or evaluate the model.\n",
      "WARNING:absl:Found untraced functions such as _jit_compiled_convolution_op, _jit_compiled_convolution_op, _jit_compiled_convolution_op, _jit_compiled_convolution_op, _jit_compiled_convolution_op while saving (showing 5 of 5). These functions will not be directly callable after loading.\n"
     ]
    },
    {
     "name": "stdout",
     "output_type": "stream",
     "text": [
      "INFO:tensorflow:Assets written to: generator.tf\\assets\n"
     ]
    },
    {
     "name": "stderr",
     "output_type": "stream",
     "text": [
      "INFO:tensorflow:Assets written to: generator.tf\\assets\n"
     ]
    },
    {
     "name": "stdout",
     "output_type": "stream",
     "text": [
      "WARNING:tensorflow:Compiled the loaded model, but the compiled metrics have yet to be built. `model.compile_metrics` will be empty until you train or evaluate the model.\n"
     ]
    },
    {
     "name": "stderr",
     "output_type": "stream",
     "text": [
      "WARNING:tensorflow:Compiled the loaded model, but the compiled metrics have yet to be built. `model.compile_metrics` will be empty until you train or evaluate the model.\n",
      "WARNING:absl:Found untraced functions such as _jit_compiled_convolution_op, _jit_compiled_convolution_op, _jit_compiled_convolution_op, _jit_compiled_convolution_op while saving (showing 4 of 4). These functions will not be directly callable after loading.\n"
     ]
    },
    {
     "name": "stdout",
     "output_type": "stream",
     "text": [
      "INFO:tensorflow:Assets written to: discriminator.tf\\assets\n"
     ]
    },
    {
     "name": "stderr",
     "output_type": "stream",
     "text": [
      "INFO:tensorflow:Assets written to: discriminator.tf\\assets\n"
     ]
    },
    {
     "name": "stdout",
     "output_type": "stream",
     "text": [
      "469/469 [==============================] - 92s 196ms/step - d_loss: 0.6753 - g_loss: 0.7038\n",
      "Epoch 2264/2500\n",
      "469/469 [==============================] - 90s 192ms/step - d_loss: 0.6819 - g_loss: 0.6943\n",
      "Epoch 2265/2500\n",
      "469/469 [==============================] - 90s 192ms/step - d_loss: 0.6851 - g_loss: 0.6852\n",
      "Epoch 2266/2500\n",
      "469/469 [==============================] - 90s 192ms/step - d_loss: 0.6804 - g_loss: 0.6877\n",
      "Epoch 2267/2500\n",
      "469/469 [==============================] - 90s 192ms/step - d_loss: 0.6768 - g_loss: 0.6559\n",
      "Epoch 2268/2500\n",
      "469/469 [==============================] - 90s 192ms/step - d_loss: 0.6750 - g_loss: 0.6729\n",
      "Epoch 2269/2500\n",
      "469/469 [==============================] - 90s 192ms/step - d_loss: 0.6828 - g_loss: 0.6692\n",
      "Epoch 2270/2500\n",
      "469/469 [==============================] - 90s 192ms/step - d_loss: 0.6790 - g_loss: 0.6631\n",
      "Epoch 2271/2500\n",
      "469/469 [==============================] - 90s 192ms/step - d_loss: 0.6818 - g_loss: 0.6887\n",
      "Epoch 2272/2500\n",
      "469/469 [==============================] - 90s 192ms/step - d_loss: 0.6762 - g_loss: 0.7188\n",
      "Epoch 2273/2500\n",
      "469/469 [==============================] - 90s 192ms/step - d_loss: 0.6766 - g_loss: 0.7073\n",
      "Epoch 2274/2500\n",
      "469/469 [==============================] - 90s 192ms/step - d_loss: 0.6716 - g_loss: 0.6940\n",
      "Epoch 2275/2500\n",
      "469/469 [==============================] - 90s 192ms/step - d_loss: 0.6723 - g_loss: 0.6965\n",
      "Epoch 2276/2500\n",
      "469/469 [==============================] - 90s 192ms/step - d_loss: 0.6710 - g_loss: 0.7137\n",
      "Epoch 2277/2500\n",
      "469/469 [==============================] - 90s 192ms/step - d_loss: 0.6807 - g_loss: 0.6846\n",
      "Epoch 2278/2500\n",
      "469/469 [==============================] - 90s 192ms/step - d_loss: 0.6714 - g_loss: 0.6931\n",
      "Epoch 2279/2500\n",
      "469/469 [==============================] - 90s 192ms/step - d_loss: 0.6792 - g_loss: 0.6836\n",
      "Epoch 2280/2500\n",
      "469/469 [==============================] - 90s 192ms/step - d_loss: 0.6792 - g_loss: 0.6633\n",
      "Epoch 2281/2500\n",
      "469/469 [==============================] - 90s 192ms/step - d_loss: 0.6788 - g_loss: 0.6761\n",
      "Epoch 2282/2500\n",
      "469/469 [==============================] - 90s 192ms/step - d_loss: 0.6774 - g_loss: 0.6660\n",
      "Epoch 2283/2500\n",
      "469/469 [==============================] - 90s 192ms/step - d_loss: 0.6818 - g_loss: 0.6639\n",
      "Epoch 2284/2500\n",
      "469/469 [==============================] - 90s 192ms/step - d_loss: 0.6815 - g_loss: 0.6906\n",
      "Epoch 2285/2500\n",
      "469/469 [==============================] - 90s 192ms/step - d_loss: 0.6803 - g_loss: 0.7011\n",
      "Epoch 2286/2500\n",
      "469/469 [==============================] - 90s 192ms/step - d_loss: 0.6797 - g_loss: 0.6827\n",
      "Epoch 2287/2500\n",
      "469/469 [==============================] - 90s 192ms/step - d_loss: 0.6766 - g_loss: 0.7182\n",
      "Epoch 2288/2500\n",
      "469/469 [==============================] - 90s 192ms/step - d_loss: 0.6783 - g_loss: 0.6996\n",
      "Epoch 2289/2500\n",
      "469/469 [==============================] - 90s 192ms/step - d_loss: 0.6743 - g_loss: 0.7190\n",
      "Epoch 2290/2500\n",
      "469/469 [==============================] - 90s 192ms/step - d_loss: 0.6743 - g_loss: 0.6981\n",
      "Epoch 2291/2500\n",
      "469/469 [==============================] - 90s 192ms/step - d_loss: 0.6696 - g_loss: 0.7070\n",
      "Epoch 2292/2500\n",
      "469/469 [==============================] - 90s 192ms/step - d_loss: 0.6808 - g_loss: 0.6877\n",
      "Epoch 2293/2500\n",
      "469/469 [==============================] - 90s 192ms/step - d_loss: 0.6820 - g_loss: 0.6988\n",
      "Epoch 2294/2500\n",
      "469/469 [==============================] - ETA: 0s - d_loss: 0.6856 - g_loss: 0.6627WARNING:tensorflow:Compiled the loaded model, but the compiled metrics have yet to be built. `model.compile_metrics` will be empty until you train or evaluate the model.\n"
     ]
    },
    {
     "name": "stderr",
     "output_type": "stream",
     "text": [
      "WARNING:tensorflow:Compiled the loaded model, but the compiled metrics have yet to be built. `model.compile_metrics` will be empty until you train or evaluate the model.\n",
      "WARNING:absl:Found untraced functions such as _jit_compiled_convolution_op, _jit_compiled_convolution_op, _jit_compiled_convolution_op, _jit_compiled_convolution_op, _jit_compiled_convolution_op while saving (showing 5 of 5). These functions will not be directly callable after loading.\n"
     ]
    },
    {
     "name": "stdout",
     "output_type": "stream",
     "text": [
      "INFO:tensorflow:Assets written to: generator.tf\\assets\n"
     ]
    },
    {
     "name": "stderr",
     "output_type": "stream",
     "text": [
      "INFO:tensorflow:Assets written to: generator.tf\\assets\n"
     ]
    },
    {
     "name": "stdout",
     "output_type": "stream",
     "text": [
      "WARNING:tensorflow:Compiled the loaded model, but the compiled metrics have yet to be built. `model.compile_metrics` will be empty until you train or evaluate the model.\n"
     ]
    },
    {
     "name": "stderr",
     "output_type": "stream",
     "text": [
      "WARNING:tensorflow:Compiled the loaded model, but the compiled metrics have yet to be built. `model.compile_metrics` will be empty until you train or evaluate the model.\n",
      "WARNING:absl:Found untraced functions such as _jit_compiled_convolution_op, _jit_compiled_convolution_op, _jit_compiled_convolution_op, _jit_compiled_convolution_op while saving (showing 4 of 4). These functions will not be directly callable after loading.\n"
     ]
    },
    {
     "name": "stdout",
     "output_type": "stream",
     "text": [
      "INFO:tensorflow:Assets written to: discriminator.tf\\assets\n"
     ]
    },
    {
     "name": "stderr",
     "output_type": "stream",
     "text": [
      "INFO:tensorflow:Assets written to: discriminator.tf\\assets\n"
     ]
    },
    {
     "name": "stdout",
     "output_type": "stream",
     "text": [
      "469/469 [==============================] - 92s 197ms/step - d_loss: 0.6856 - g_loss: 0.6627\n",
      "Epoch 2295/2500\n",
      "469/469 [==============================] - 90s 192ms/step - d_loss: 0.6814 - g_loss: 0.7023\n",
      "Epoch 2296/2500\n",
      "469/469 [==============================] - 90s 192ms/step - d_loss: 0.6831 - g_loss: 0.7009\n",
      "Epoch 2297/2500\n",
      "469/469 [==============================] - 90s 192ms/step - d_loss: 0.6826 - g_loss: 0.7066\n",
      "Epoch 2298/2500\n",
      "469/469 [==============================] - 90s 192ms/step - d_loss: 0.6837 - g_loss: 0.6936\n",
      "Epoch 2299/2500\n",
      "469/469 [==============================] - 90s 192ms/step - d_loss: 0.6810 - g_loss: 0.6836\n",
      "Epoch 2300/2500\n",
      "469/469 [==============================] - 90s 192ms/step - d_loss: 0.6837 - g_loss: 0.6844\n",
      "Epoch 2301/2500\n",
      "469/469 [==============================] - 90s 192ms/step - d_loss: 0.6827 - g_loss: 0.6975\n",
      "Epoch 2302/2500\n",
      "469/469 [==============================] - 90s 192ms/step - d_loss: 0.6655 - g_loss: 0.7154\n",
      "Epoch 2303/2500\n",
      "469/469 [==============================] - 90s 192ms/step - d_loss: 0.6743 - g_loss: 0.6962\n",
      "Epoch 2304/2500\n",
      "469/469 [==============================] - 90s 192ms/step - d_loss: 0.6812 - g_loss: 0.6971\n",
      "Epoch 2305/2500\n",
      "469/469 [==============================] - 90s 193ms/step - d_loss: 0.6759 - g_loss: 0.6878\n",
      "Epoch 2306/2500\n",
      "469/469 [==============================] - 90s 192ms/step - d_loss: 0.6791 - g_loss: 0.6851\n",
      "Epoch 2307/2500\n",
      "469/469 [==============================] - 90s 192ms/step - d_loss: 0.5345 - g_loss: 1.1186\n",
      "Epoch 2308/2500\n",
      "469/469 [==============================] - 90s 192ms/step - d_loss: 0.6341 - g_loss: 0.8323\n",
      "Epoch 2309/2500\n",
      "469/469 [==============================] - 90s 192ms/step - d_loss: 0.6568 - g_loss: 0.7681\n",
      "Epoch 2310/2500\n",
      "469/469 [==============================] - 90s 192ms/step - d_loss: 0.6659 - g_loss: 0.7465\n",
      "Epoch 2311/2500\n",
      "469/469 [==============================] - 90s 192ms/step - d_loss: 0.6591 - g_loss: 0.7136\n",
      "Epoch 2312/2500\n",
      "469/469 [==============================] - 90s 192ms/step - d_loss: 0.6730 - g_loss: 0.6854\n",
      "Epoch 2313/2500\n",
      "469/469 [==============================] - 90s 192ms/step - d_loss: 0.6803 - g_loss: 0.6804\n",
      "Epoch 2314/2500\n",
      "469/469 [==============================] - 90s 192ms/step - d_loss: 0.6819 - g_loss: 0.6685\n",
      "Epoch 2315/2500\n",
      "469/469 [==============================] - 90s 192ms/step - d_loss: 0.6821 - g_loss: 0.6681\n",
      "Epoch 2316/2500\n",
      "469/469 [==============================] - 90s 192ms/step - d_loss: 0.6790 - g_loss: 0.7016\n",
      "Epoch 2317/2500\n",
      "469/469 [==============================] - 90s 192ms/step - d_loss: 0.6849 - g_loss: 0.6884\n",
      "Epoch 2318/2500\n",
      "469/469 [==============================] - 90s 192ms/step - d_loss: 0.6742 - g_loss: 0.7018\n",
      "Epoch 2319/2500\n",
      "469/469 [==============================] - 90s 192ms/step - d_loss: 0.6771 - g_loss: 0.6955\n",
      "Epoch 2320/2500\n",
      "469/469 [==============================] - 90s 192ms/step - d_loss: 0.6715 - g_loss: 0.6796\n",
      "Epoch 2321/2500\n",
      "469/469 [==============================] - 90s 192ms/step - d_loss: 0.6729 - g_loss: 0.6858\n",
      "Epoch 2322/2500\n",
      "469/469 [==============================] - 90s 192ms/step - d_loss: 0.6742 - g_loss: 0.6968\n",
      "Epoch 2323/2500\n",
      "469/469 [==============================] - 90s 192ms/step - d_loss: 0.6707 - g_loss: 0.7043\n",
      "Epoch 2324/2500\n",
      "469/469 [==============================] - 90s 192ms/step - d_loss: 0.6764 - g_loss: 0.7074\n",
      "Epoch 2325/2500\n",
      "469/469 [==============================] - ETA: 0s - d_loss: 0.6685 - g_loss: 0.7301WARNING:tensorflow:Compiled the loaded model, but the compiled metrics have yet to be built. `model.compile_metrics` will be empty until you train or evaluate the model.\n"
     ]
    },
    {
     "name": "stderr",
     "output_type": "stream",
     "text": [
      "WARNING:tensorflow:Compiled the loaded model, but the compiled metrics have yet to be built. `model.compile_metrics` will be empty until you train or evaluate the model.\n",
      "WARNING:absl:Found untraced functions such as _jit_compiled_convolution_op, _jit_compiled_convolution_op, _jit_compiled_convolution_op, _jit_compiled_convolution_op, _jit_compiled_convolution_op while saving (showing 5 of 5). These functions will not be directly callable after loading.\n"
     ]
    },
    {
     "name": "stdout",
     "output_type": "stream",
     "text": [
      "INFO:tensorflow:Assets written to: generator.tf\\assets\n"
     ]
    },
    {
     "name": "stderr",
     "output_type": "stream",
     "text": [
      "INFO:tensorflow:Assets written to: generator.tf\\assets\n"
     ]
    },
    {
     "name": "stdout",
     "output_type": "stream",
     "text": [
      "WARNING:tensorflow:Compiled the loaded model, but the compiled metrics have yet to be built. `model.compile_metrics` will be empty until you train or evaluate the model.\n"
     ]
    },
    {
     "name": "stderr",
     "output_type": "stream",
     "text": [
      "WARNING:tensorflow:Compiled the loaded model, but the compiled metrics have yet to be built. `model.compile_metrics` will be empty until you train or evaluate the model.\n",
      "WARNING:absl:Found untraced functions such as _jit_compiled_convolution_op, _jit_compiled_convolution_op, _jit_compiled_convolution_op, _jit_compiled_convolution_op while saving (showing 4 of 4). These functions will not be directly callable after loading.\n"
     ]
    },
    {
     "name": "stdout",
     "output_type": "stream",
     "text": [
      "INFO:tensorflow:Assets written to: discriminator.tf\\assets\n"
     ]
    },
    {
     "name": "stderr",
     "output_type": "stream",
     "text": [
      "INFO:tensorflow:Assets written to: discriminator.tf\\assets\n"
     ]
    },
    {
     "name": "stdout",
     "output_type": "stream",
     "text": [
      "469/469 [==============================] - 92s 197ms/step - d_loss: 0.6685 - g_loss: 0.7302\n",
      "Epoch 2326/2500\n",
      "469/469 [==============================] - 90s 192ms/step - d_loss: 0.6624 - g_loss: 0.7339\n",
      "Epoch 2327/2500\n",
      "469/469 [==============================] - 90s 192ms/step - d_loss: 0.6754 - g_loss: 0.6933\n",
      "Epoch 2328/2500\n",
      "469/469 [==============================] - 90s 192ms/step - d_loss: 0.6777 - g_loss: 0.6830\n",
      "Epoch 2329/2500\n",
      "469/469 [==============================] - 90s 192ms/step - d_loss: 0.6713 - g_loss: 0.7104\n",
      "Epoch 2330/2500\n",
      "469/469 [==============================] - 90s 192ms/step - d_loss: 0.6696 - g_loss: 0.7226\n",
      "Epoch 2331/2500\n",
      "469/469 [==============================] - 90s 192ms/step - d_loss: 0.6799 - g_loss: 0.6786\n",
      "Epoch 2332/2500\n",
      "469/469 [==============================] - 90s 192ms/step - d_loss: 0.6752 - g_loss: 0.6969\n",
      "Epoch 2333/2500\n",
      "469/469 [==============================] - 90s 192ms/step - d_loss: 0.6762 - g_loss: 0.6904\n",
      "Epoch 2334/2500\n",
      "469/469 [==============================] - 90s 192ms/step - d_loss: 0.6804 - g_loss: 0.7084\n",
      "Epoch 2335/2500\n",
      "469/469 [==============================] - 90s 192ms/step - d_loss: 0.6760 - g_loss: 0.6547\n",
      "Epoch 2336/2500\n",
      "469/469 [==============================] - 90s 192ms/step - d_loss: 0.6718 - g_loss: 0.6973\n",
      "Epoch 2337/2500\n",
      "469/469 [==============================] - 90s 192ms/step - d_loss: 0.6794 - g_loss: 0.6868\n",
      "Epoch 2338/2500\n",
      "469/469 [==============================] - 90s 192ms/step - d_loss: 0.6776 - g_loss: 0.6714\n",
      "Epoch 2339/2500\n",
      "469/469 [==============================] - 90s 192ms/step - d_loss: 0.6795 - g_loss: 0.6606\n",
      "Epoch 2340/2500\n",
      "469/469 [==============================] - 90s 192ms/step - d_loss: 0.6812 - g_loss: 0.6754\n",
      "Epoch 2341/2500\n",
      "469/469 [==============================] - 90s 192ms/step - d_loss: 0.6746 - g_loss: 0.6972\n",
      "Epoch 2342/2500\n",
      "469/469 [==============================] - 90s 192ms/step - d_loss: 0.6787 - g_loss: 0.6940\n",
      "Epoch 2343/2500\n",
      "469/469 [==============================] - 90s 192ms/step - d_loss: 0.6776 - g_loss: 0.6749\n",
      "Epoch 2344/2500\n",
      "469/469 [==============================] - 90s 192ms/step - d_loss: 0.6845 - g_loss: 0.6747\n",
      "Epoch 2345/2500\n",
      "469/469 [==============================] - 90s 192ms/step - d_loss: 0.6784 - g_loss: 0.6849\n",
      "Epoch 2346/2500\n",
      "469/469 [==============================] - 90s 192ms/step - d_loss: 0.6803 - g_loss: 0.7060\n",
      "Epoch 2347/2500\n",
      "469/469 [==============================] - 90s 192ms/step - d_loss: 0.6836 - g_loss: 0.7056\n",
      "Epoch 2348/2500\n",
      "469/469 [==============================] - 90s 192ms/step - d_loss: 0.6733 - g_loss: 0.7184\n",
      "Epoch 2349/2500\n",
      "469/469 [==============================] - 90s 192ms/step - d_loss: 0.6794 - g_loss: 0.6849\n",
      "Epoch 2350/2500\n",
      "469/469 [==============================] - 90s 192ms/step - d_loss: 0.6688 - g_loss: 0.6967\n",
      "Epoch 2351/2500\n",
      "469/469 [==============================] - 90s 192ms/step - d_loss: 0.6790 - g_loss: 0.6927\n",
      "Epoch 2352/2500\n",
      "469/469 [==============================] - 90s 192ms/step - d_loss: 0.6806 - g_loss: 0.6669\n",
      "Epoch 2353/2500\n",
      "469/469 [==============================] - 90s 192ms/step - d_loss: 0.6766 - g_loss: 0.6765\n",
      "Epoch 2354/2500\n",
      "469/469 [==============================] - 90s 192ms/step - d_loss: 0.6770 - g_loss: 0.6917\n",
      "Epoch 2355/2500\n",
      "469/469 [==============================] - 90s 192ms/step - d_loss: 0.6797 - g_loss: 0.6792\n",
      "Epoch 2356/2500\n",
      "469/469 [==============================] - ETA: 0s - d_loss: 0.6773 - g_loss: 0.6863WARNING:tensorflow:Compiled the loaded model, but the compiled metrics have yet to be built. `model.compile_metrics` will be empty until you train or evaluate the model.\n"
     ]
    },
    {
     "name": "stderr",
     "output_type": "stream",
     "text": [
      "WARNING:tensorflow:Compiled the loaded model, but the compiled metrics have yet to be built. `model.compile_metrics` will be empty until you train or evaluate the model.\n",
      "WARNING:absl:Found untraced functions such as _jit_compiled_convolution_op, _jit_compiled_convolution_op, _jit_compiled_convolution_op, _jit_compiled_convolution_op, _jit_compiled_convolution_op while saving (showing 5 of 5). These functions will not be directly callable after loading.\n"
     ]
    },
    {
     "name": "stdout",
     "output_type": "stream",
     "text": [
      "INFO:tensorflow:Assets written to: generator.tf\\assets\n"
     ]
    },
    {
     "name": "stderr",
     "output_type": "stream",
     "text": [
      "INFO:tensorflow:Assets written to: generator.tf\\assets\n"
     ]
    },
    {
     "name": "stdout",
     "output_type": "stream",
     "text": [
      "WARNING:tensorflow:Compiled the loaded model, but the compiled metrics have yet to be built. `model.compile_metrics` will be empty until you train or evaluate the model.\n"
     ]
    },
    {
     "name": "stderr",
     "output_type": "stream",
     "text": [
      "WARNING:tensorflow:Compiled the loaded model, but the compiled metrics have yet to be built. `model.compile_metrics` will be empty until you train or evaluate the model.\n",
      "WARNING:absl:Found untraced functions such as _jit_compiled_convolution_op, _jit_compiled_convolution_op, _jit_compiled_convolution_op, _jit_compiled_convolution_op while saving (showing 4 of 4). These functions will not be directly callable after loading.\n"
     ]
    },
    {
     "name": "stdout",
     "output_type": "stream",
     "text": [
      "INFO:tensorflow:Assets written to: discriminator.tf\\assets\n"
     ]
    },
    {
     "name": "stderr",
     "output_type": "stream",
     "text": [
      "INFO:tensorflow:Assets written to: discriminator.tf\\assets\n"
     ]
    },
    {
     "name": "stdout",
     "output_type": "stream",
     "text": [
      "469/469 [==============================] - 92s 196ms/step - d_loss: 0.6773 - g_loss: 0.6864\n",
      "Epoch 2357/2500\n",
      "469/469 [==============================] - 90s 192ms/step - d_loss: 0.6838 - g_loss: 0.6765\n",
      "Epoch 2358/2500\n",
      "469/469 [==============================] - 90s 192ms/step - d_loss: 0.6742 - g_loss: 0.6873\n",
      "Epoch 2359/2500\n",
      "469/469 [==============================] - 90s 192ms/step - d_loss: 0.6766 - g_loss: 0.6704\n",
      "Epoch 2360/2500\n",
      "469/469 [==============================] - 90s 192ms/step - d_loss: 0.6825 - g_loss: 0.6695\n",
      "Epoch 2361/2500\n",
      "469/469 [==============================] - 90s 192ms/step - d_loss: 0.6762 - g_loss: 0.6995\n",
      "Epoch 2362/2500\n",
      "469/469 [==============================] - 90s 192ms/step - d_loss: 0.6773 - g_loss: 0.6992\n",
      "Epoch 2363/2500\n",
      "469/469 [==============================] - 90s 192ms/step - d_loss: 0.6743 - g_loss: 0.6816\n",
      "Epoch 2364/2500\n",
      "469/469 [==============================] - 90s 192ms/step - d_loss: 0.6693 - g_loss: 0.6883\n",
      "Epoch 2365/2500\n",
      "469/469 [==============================] - 90s 192ms/step - d_loss: 0.6751 - g_loss: 0.6688\n",
      "Epoch 2366/2500\n",
      "469/469 [==============================] - 90s 192ms/step - d_loss: 0.6733 - g_loss: 0.6556\n",
      "Epoch 2367/2500\n",
      "469/469 [==============================] - 90s 192ms/step - d_loss: 0.6688 - g_loss: 0.6938\n",
      "Epoch 2368/2500\n",
      "469/469 [==============================] - 90s 192ms/step - d_loss: 0.6749 - g_loss: 0.6851\n",
      "Epoch 2369/2500\n",
      "469/469 [==============================] - 90s 192ms/step - d_loss: 0.6811 - g_loss: 0.6761\n",
      "Epoch 2370/2500\n",
      "469/469 [==============================] - 90s 192ms/step - d_loss: 0.6805 - g_loss: 0.6813\n",
      "Epoch 2371/2500\n",
      "469/469 [==============================] - 90s 192ms/step - d_loss: 0.6678 - g_loss: 0.7038\n",
      "Epoch 2372/2500\n",
      "469/469 [==============================] - 90s 192ms/step - d_loss: 0.6788 - g_loss: 0.6812\n",
      "Epoch 2373/2500\n",
      "469/469 [==============================] - 90s 192ms/step - d_loss: 0.6750 - g_loss: 0.6756\n",
      "Epoch 2374/2500\n",
      "469/469 [==============================] - 90s 192ms/step - d_loss: 0.6752 - g_loss: 0.6632\n",
      "Epoch 2375/2500\n",
      "469/469 [==============================] - 90s 192ms/step - d_loss: 0.6797 - g_loss: 0.6590\n",
      "Epoch 2376/2500\n",
      "469/469 [==============================] - 90s 192ms/step - d_loss: 0.6766 - g_loss: 0.7059\n",
      "Epoch 2377/2500\n",
      "469/469 [==============================] - 90s 192ms/step - d_loss: 0.6801 - g_loss: 0.6724\n",
      "Epoch 2378/2500\n",
      "469/469 [==============================] - 90s 192ms/step - d_loss: 0.6754 - g_loss: 0.6734\n",
      "Epoch 2379/2500\n",
      "469/469 [==============================] - 90s 192ms/step - d_loss: 0.6824 - g_loss: 0.6624\n",
      "Epoch 2380/2500\n",
      "469/469 [==============================] - 90s 192ms/step - d_loss: 0.6807 - g_loss: 0.6854\n",
      "Epoch 2381/2500\n",
      "469/469 [==============================] - 90s 192ms/step - d_loss: 0.6717 - g_loss: 0.7118\n",
      "Epoch 2382/2500\n",
      "469/469 [==============================] - 90s 192ms/step - d_loss: 0.6751 - g_loss: 0.6823\n",
      "Epoch 2383/2500\n",
      "469/469 [==============================] - 90s 192ms/step - d_loss: 0.6856 - g_loss: 0.6727\n",
      "Epoch 2384/2500\n",
      "469/469 [==============================] - 90s 192ms/step - d_loss: 0.6827 - g_loss: 0.6981\n",
      "Epoch 2385/2500\n",
      "469/469 [==============================] - 90s 192ms/step - d_loss: 0.6790 - g_loss: 0.6866\n",
      "Epoch 2386/2500\n",
      "469/469 [==============================] - 90s 192ms/step - d_loss: 0.6828 - g_loss: 0.6816\n",
      "Epoch 2387/2500\n",
      "469/469 [==============================] - ETA: 0s - d_loss: 0.6779 - g_loss: 0.7042WARNING:tensorflow:Compiled the loaded model, but the compiled metrics have yet to be built. `model.compile_metrics` will be empty until you train or evaluate the model.\n"
     ]
    },
    {
     "name": "stderr",
     "output_type": "stream",
     "text": [
      "WARNING:tensorflow:Compiled the loaded model, but the compiled metrics have yet to be built. `model.compile_metrics` will be empty until you train or evaluate the model.\n",
      "WARNING:absl:Found untraced functions such as _jit_compiled_convolution_op, _jit_compiled_convolution_op, _jit_compiled_convolution_op, _jit_compiled_convolution_op, _jit_compiled_convolution_op while saving (showing 5 of 5). These functions will not be directly callable after loading.\n"
     ]
    },
    {
     "name": "stdout",
     "output_type": "stream",
     "text": [
      "INFO:tensorflow:Assets written to: generator.tf\\assets\n"
     ]
    },
    {
     "name": "stderr",
     "output_type": "stream",
     "text": [
      "INFO:tensorflow:Assets written to: generator.tf\\assets\n"
     ]
    },
    {
     "name": "stdout",
     "output_type": "stream",
     "text": [
      "WARNING:tensorflow:Compiled the loaded model, but the compiled metrics have yet to be built. `model.compile_metrics` will be empty until you train or evaluate the model.\n"
     ]
    },
    {
     "name": "stderr",
     "output_type": "stream",
     "text": [
      "WARNING:tensorflow:Compiled the loaded model, but the compiled metrics have yet to be built. `model.compile_metrics` will be empty until you train or evaluate the model.\n",
      "WARNING:absl:Found untraced functions such as _jit_compiled_convolution_op, _jit_compiled_convolution_op, _jit_compiled_convolution_op, _jit_compiled_convolution_op while saving (showing 4 of 4). These functions will not be directly callable after loading.\n"
     ]
    },
    {
     "name": "stdout",
     "output_type": "stream",
     "text": [
      "INFO:tensorflow:Assets written to: discriminator.tf\\assets\n"
     ]
    },
    {
     "name": "stderr",
     "output_type": "stream",
     "text": [
      "INFO:tensorflow:Assets written to: discriminator.tf\\assets\n"
     ]
    },
    {
     "name": "stdout",
     "output_type": "stream",
     "text": [
      "469/469 [==============================] - 92s 197ms/step - d_loss: 0.6778 - g_loss: 0.7043\n",
      "Epoch 2388/2500\n",
      "469/469 [==============================] - 90s 192ms/step - d_loss: 0.6771 - g_loss: 0.7004\n",
      "Epoch 2389/2500\n",
      "469/469 [==============================] - 90s 192ms/step - d_loss: 0.6803 - g_loss: 0.6785\n",
      "Epoch 2390/2500\n",
      "469/469 [==============================] - 90s 192ms/step - d_loss: 0.6751 - g_loss: 0.6974\n",
      "Epoch 2391/2500\n",
      "469/469 [==============================] - 90s 192ms/step - d_loss: 0.6773 - g_loss: 0.6921\n",
      "Epoch 2392/2500\n",
      "469/469 [==============================] - 90s 192ms/step - d_loss: 0.6845 - g_loss: 0.6784\n",
      "Epoch 2393/2500\n",
      "469/469 [==============================] - 90s 192ms/step - d_loss: 0.6785 - g_loss: 0.7179\n",
      "Epoch 2394/2500\n",
      "469/469 [==============================] - 90s 192ms/step - d_loss: 0.6734 - g_loss: 0.7247\n",
      "Epoch 2395/2500\n",
      "469/469 [==============================] - 90s 192ms/step - d_loss: 0.6737 - g_loss: 0.6961\n",
      "Epoch 2396/2500\n",
      "469/469 [==============================] - 90s 192ms/step - d_loss: 0.6713 - g_loss: 0.6976\n",
      "Epoch 2397/2500\n",
      "469/469 [==============================] - 90s 192ms/step - d_loss: 0.6814 - g_loss: 0.6739\n",
      "Epoch 2398/2500\n",
      "469/469 [==============================] - 90s 192ms/step - d_loss: 0.6803 - g_loss: 0.6751\n",
      "Epoch 2399/2500\n",
      "469/469 [==============================] - 90s 192ms/step - d_loss: 0.6740 - g_loss: 0.7095\n",
      "Epoch 2400/2500\n",
      "469/469 [==============================] - 90s 192ms/step - d_loss: 0.6776 - g_loss: 0.6974\n",
      "Epoch 2401/2500\n",
      "469/469 [==============================] - 90s 192ms/step - d_loss: 0.6734 - g_loss: 0.6918\n",
      "Epoch 2402/2500\n",
      "469/469 [==============================] - 90s 192ms/step - d_loss: 0.6749 - g_loss: 0.6871\n",
      "Epoch 2403/2500\n",
      "469/469 [==============================] - 90s 192ms/step - d_loss: 0.6862 - g_loss: 0.6752\n",
      "Epoch 2404/2500\n",
      "469/469 [==============================] - 90s 192ms/step - d_loss: 0.6777 - g_loss: 0.6854\n",
      "Epoch 2405/2500\n",
      "469/469 [==============================] - 90s 192ms/step - d_loss: 0.6716 - g_loss: 0.6805\n",
      "Epoch 2406/2500\n",
      "469/469 [==============================] - 90s 192ms/step - d_loss: 0.6743 - g_loss: 0.6601\n",
      "Epoch 2407/2500\n",
      "469/469 [==============================] - 90s 192ms/step - d_loss: 0.6783 - g_loss: 0.6938\n",
      "Epoch 2408/2500\n",
      "469/469 [==============================] - 90s 192ms/step - d_loss: 0.6837 - g_loss: 0.6951\n",
      "Epoch 2409/2500\n",
      "469/469 [==============================] - 90s 192ms/step - d_loss: 0.6797 - g_loss: 0.6937\n",
      "Epoch 2410/2500\n",
      "469/469 [==============================] - 90s 192ms/step - d_loss: 0.6786 - g_loss: 0.6869\n",
      "Epoch 2411/2500\n",
      "469/469 [==============================] - 90s 192ms/step - d_loss: 0.6807 - g_loss: 0.6843\n",
      "Epoch 2412/2500\n",
      "469/469 [==============================] - 90s 192ms/step - d_loss: 0.6757 - g_loss: 0.7033\n",
      "Epoch 2413/2500\n",
      "469/469 [==============================] - 90s 192ms/step - d_loss: 0.6777 - g_loss: 0.6857\n",
      "Epoch 2414/2500\n",
      "469/469 [==============================] - 90s 192ms/step - d_loss: 0.6744 - g_loss: 0.6962\n",
      "Epoch 2415/2500\n",
      "469/469 [==============================] - 90s 192ms/step - d_loss: 0.6769 - g_loss: 0.6712\n",
      "Epoch 2416/2500\n",
      "469/469 [==============================] - 90s 192ms/step - d_loss: 0.6787 - g_loss: 0.6624\n",
      "Epoch 2417/2500\n",
      "469/469 [==============================] - 90s 192ms/step - d_loss: 0.6691 - g_loss: 0.7021\n",
      "Epoch 2418/2500\n",
      "469/469 [==============================] - ETA: 0s - d_loss: 0.6799 - g_loss: 0.6752WARNING:tensorflow:Compiled the loaded model, but the compiled metrics have yet to be built. `model.compile_metrics` will be empty until you train or evaluate the model.\n"
     ]
    },
    {
     "name": "stderr",
     "output_type": "stream",
     "text": [
      "WARNING:tensorflow:Compiled the loaded model, but the compiled metrics have yet to be built. `model.compile_metrics` will be empty until you train or evaluate the model.\n",
      "WARNING:absl:Found untraced functions such as _jit_compiled_convolution_op, _jit_compiled_convolution_op, _jit_compiled_convolution_op, _jit_compiled_convolution_op, _jit_compiled_convolution_op while saving (showing 5 of 5). These functions will not be directly callable after loading.\n"
     ]
    },
    {
     "name": "stdout",
     "output_type": "stream",
     "text": [
      "INFO:tensorflow:Assets written to: generator.tf\\assets\n"
     ]
    },
    {
     "name": "stderr",
     "output_type": "stream",
     "text": [
      "INFO:tensorflow:Assets written to: generator.tf\\assets\n"
     ]
    },
    {
     "name": "stdout",
     "output_type": "stream",
     "text": [
      "WARNING:tensorflow:Compiled the loaded model, but the compiled metrics have yet to be built. `model.compile_metrics` will be empty until you train or evaluate the model.\n"
     ]
    },
    {
     "name": "stderr",
     "output_type": "stream",
     "text": [
      "WARNING:tensorflow:Compiled the loaded model, but the compiled metrics have yet to be built. `model.compile_metrics` will be empty until you train or evaluate the model.\n",
      "WARNING:absl:Found untraced functions such as _jit_compiled_convolution_op, _jit_compiled_convolution_op, _jit_compiled_convolution_op, _jit_compiled_convolution_op while saving (showing 4 of 4). These functions will not be directly callable after loading.\n"
     ]
    },
    {
     "name": "stdout",
     "output_type": "stream",
     "text": [
      "INFO:tensorflow:Assets written to: discriminator.tf\\assets\n"
     ]
    },
    {
     "name": "stderr",
     "output_type": "stream",
     "text": [
      "INFO:tensorflow:Assets written to: discriminator.tf\\assets\n"
     ]
    },
    {
     "name": "stdout",
     "output_type": "stream",
     "text": [
      "469/469 [==============================] - 92s 196ms/step - d_loss: 0.6798 - g_loss: 0.6753\n",
      "Epoch 2419/2500\n",
      "469/469 [==============================] - 90s 192ms/step - d_loss: 0.6724 - g_loss: 0.6783\n",
      "Epoch 2420/2500\n",
      "469/469 [==============================] - 90s 192ms/step - d_loss: 0.6718 - g_loss: 0.6880\n",
      "Epoch 2421/2500\n",
      "469/469 [==============================] - 90s 192ms/step - d_loss: 0.6700 - g_loss: 0.7007\n",
      "Epoch 2422/2500\n",
      "469/469 [==============================] - 90s 192ms/step - d_loss: 0.6734 - g_loss: 0.7012\n",
      "Epoch 2423/2500\n",
      "469/469 [==============================] - 90s 192ms/step - d_loss: 0.6720 - g_loss: 0.6936\n",
      "Epoch 2424/2500\n",
      "469/469 [==============================] - 90s 192ms/step - d_loss: 0.6689 - g_loss: 0.7020\n",
      "Epoch 2425/2500\n",
      "469/469 [==============================] - 90s 192ms/step - d_loss: 0.6726 - g_loss: 0.7077\n",
      "Epoch 2426/2500\n",
      "469/469 [==============================] - 90s 192ms/step - d_loss: 0.6785 - g_loss: 0.6779\n",
      "Epoch 2427/2500\n",
      "469/469 [==============================] - 90s 192ms/step - d_loss: 0.6708 - g_loss: 0.6930\n",
      "Epoch 2428/2500\n",
      "469/469 [==============================] - 90s 192ms/step - d_loss: 0.6661 - g_loss: 0.7144\n",
      "Epoch 2429/2500\n",
      "469/469 [==============================] - 90s 192ms/step - d_loss: 0.6772 - g_loss: 0.6975\n",
      "Epoch 2430/2500\n",
      "469/469 [==============================] - 90s 192ms/step - d_loss: 0.6825 - g_loss: 0.6821\n",
      "Epoch 2431/2500\n",
      "469/469 [==============================] - 90s 192ms/step - d_loss: 0.6744 - g_loss: 0.6667\n",
      "Epoch 2432/2500\n",
      "469/469 [==============================] - 90s 192ms/step - d_loss: 0.6710 - g_loss: 0.6884\n",
      "Epoch 2433/2500\n",
      "469/469 [==============================] - 90s 192ms/step - d_loss: 0.6701 - g_loss: 0.6993\n",
      "Epoch 2434/2500\n",
      "469/469 [==============================] - 90s 192ms/step - d_loss: 0.6768 - g_loss: 0.6994\n",
      "Epoch 2435/2500\n",
      "469/469 [==============================] - 90s 192ms/step - d_loss: 0.6799 - g_loss: 0.6868\n",
      "Epoch 2436/2500\n",
      "469/469 [==============================] - 90s 192ms/step - d_loss: 0.6760 - g_loss: 0.7007\n",
      "Epoch 2437/2500\n",
      "469/469 [==============================] - 90s 192ms/step - d_loss: 0.6745 - g_loss: 0.6872\n",
      "Epoch 2438/2500\n",
      "469/469 [==============================] - 90s 192ms/step - d_loss: 0.6745 - g_loss: 0.6907\n",
      "Epoch 2439/2500\n",
      "469/469 [==============================] - 90s 192ms/step - d_loss: 0.6759 - g_loss: 0.6883\n",
      "Epoch 2440/2500\n",
      "469/469 [==============================] - 90s 192ms/step - d_loss: 0.6794 - g_loss: 0.6759\n",
      "Epoch 2441/2500\n",
      "469/469 [==============================] - 90s 192ms/step - d_loss: 0.6789 - g_loss: 0.7114\n",
      "Epoch 2442/2500\n",
      "469/469 [==============================] - 90s 192ms/step - d_loss: 0.6760 - g_loss: 0.6951\n",
      "Epoch 2443/2500\n",
      "469/469 [==============================] - 90s 192ms/step - d_loss: 0.6768 - g_loss: 0.6977\n",
      "Epoch 2444/2500\n",
      "469/469 [==============================] - 90s 192ms/step - d_loss: 0.5634 - g_loss: 1.1687\n",
      "Epoch 2445/2500\n",
      "469/469 [==============================] - 90s 192ms/step - d_loss: 0.6622 - g_loss: 0.7212\n",
      "Epoch 2446/2500\n",
      "469/469 [==============================] - 90s 192ms/step - d_loss: 0.6616 - g_loss: 0.7444\n",
      "Epoch 2447/2500\n",
      "469/469 [==============================] - 90s 192ms/step - d_loss: 0.6724 - g_loss: 0.7051\n",
      "Epoch 2448/2500\n",
      "469/469 [==============================] - 90s 192ms/step - d_loss: 0.6686 - g_loss: 0.7202\n",
      "Epoch 2449/2500\n",
      "469/469 [==============================] - ETA: 0s - d_loss: 0.6747 - g_loss: 0.6922WARNING:tensorflow:Compiled the loaded model, but the compiled metrics have yet to be built. `model.compile_metrics` will be empty until you train or evaluate the model.\n"
     ]
    },
    {
     "name": "stderr",
     "output_type": "stream",
     "text": [
      "WARNING:tensorflow:Compiled the loaded model, but the compiled metrics have yet to be built. `model.compile_metrics` will be empty until you train or evaluate the model.\n",
      "WARNING:absl:Found untraced functions such as _jit_compiled_convolution_op, _jit_compiled_convolution_op, _jit_compiled_convolution_op, _jit_compiled_convolution_op, _jit_compiled_convolution_op while saving (showing 5 of 5). These functions will not be directly callable after loading.\n"
     ]
    },
    {
     "name": "stdout",
     "output_type": "stream",
     "text": [
      "INFO:tensorflow:Assets written to: generator.tf\\assets\n"
     ]
    },
    {
     "name": "stderr",
     "output_type": "stream",
     "text": [
      "INFO:tensorflow:Assets written to: generator.tf\\assets\n"
     ]
    },
    {
     "name": "stdout",
     "output_type": "stream",
     "text": [
      "WARNING:tensorflow:Compiled the loaded model, but the compiled metrics have yet to be built. `model.compile_metrics` will be empty until you train or evaluate the model.\n"
     ]
    },
    {
     "name": "stderr",
     "output_type": "stream",
     "text": [
      "WARNING:tensorflow:Compiled the loaded model, but the compiled metrics have yet to be built. `model.compile_metrics` will be empty until you train or evaluate the model.\n",
      "WARNING:absl:Found untraced functions such as _jit_compiled_convolution_op, _jit_compiled_convolution_op, _jit_compiled_convolution_op, _jit_compiled_convolution_op while saving (showing 4 of 4). These functions will not be directly callable after loading.\n"
     ]
    },
    {
     "name": "stdout",
     "output_type": "stream",
     "text": [
      "INFO:tensorflow:Assets written to: discriminator.tf\\assets\n"
     ]
    },
    {
     "name": "stderr",
     "output_type": "stream",
     "text": [
      "INFO:tensorflow:Assets written to: discriminator.tf\\assets\n"
     ]
    },
    {
     "name": "stdout",
     "output_type": "stream",
     "text": [
      "469/469 [==============================] - 92s 197ms/step - d_loss: 0.6747 - g_loss: 0.6922\n",
      "Epoch 2450/2500\n",
      "469/469 [==============================] - 90s 192ms/step - d_loss: 0.6707 - g_loss: 0.7008\n",
      "Epoch 2451/2500\n",
      "469/469 [==============================] - 90s 192ms/step - d_loss: 0.6688 - g_loss: 0.7174\n",
      "Epoch 2452/2500\n",
      "469/469 [==============================] - 90s 192ms/step - d_loss: 0.6727 - g_loss: 0.7110\n",
      "Epoch 2453/2500\n",
      "469/469 [==============================] - 90s 192ms/step - d_loss: 0.6712 - g_loss: 0.7296\n",
      "Epoch 2454/2500\n",
      "469/469 [==============================] - 90s 192ms/step - d_loss: 0.6755 - g_loss: 0.7222\n",
      "Epoch 2455/2500\n",
      "469/469 [==============================] - 90s 192ms/step - d_loss: 0.6729 - g_loss: 0.7104\n",
      "Epoch 2456/2500\n",
      "469/469 [==============================] - 90s 192ms/step - d_loss: 0.6760 - g_loss: 0.6930\n",
      "Epoch 2457/2500\n",
      "469/469 [==============================] - 90s 192ms/step - d_loss: 0.6698 - g_loss: 0.7087\n",
      "Epoch 2458/2500\n",
      "469/469 [==============================] - 90s 192ms/step - d_loss: 0.6748 - g_loss: 0.6941\n",
      "Epoch 2459/2500\n",
      "469/469 [==============================] - 90s 192ms/step - d_loss: 0.6713 - g_loss: 0.6882\n",
      "Epoch 2460/2500\n",
      "469/469 [==============================] - 90s 192ms/step - d_loss: 0.6713 - g_loss: 0.6997\n",
      "Epoch 2461/2500\n",
      "469/469 [==============================] - 90s 192ms/step - d_loss: 0.6779 - g_loss: 0.7109\n",
      "Epoch 2462/2500\n",
      "469/469 [==============================] - 90s 192ms/step - d_loss: 0.6772 - g_loss: 0.6979\n",
      "Epoch 2463/2500\n",
      "469/469 [==============================] - 90s 192ms/step - d_loss: 0.6753 - g_loss: 0.7178\n",
      "Epoch 2464/2500\n",
      "469/469 [==============================] - 90s 192ms/step - d_loss: 0.6779 - g_loss: 0.6840\n",
      "Epoch 2465/2500\n",
      "469/469 [==============================] - 90s 192ms/step - d_loss: 0.6813 - g_loss: 0.6931\n",
      "Epoch 2466/2500\n",
      "469/469 [==============================] - 90s 192ms/step - d_loss: 0.6735 - g_loss: 0.7029\n",
      "Epoch 2467/2500\n",
      "469/469 [==============================] - 90s 192ms/step - d_loss: 0.6784 - g_loss: 0.6606\n",
      "Epoch 2468/2500\n",
      "469/469 [==============================] - 90s 192ms/step - d_loss: 0.6731 - g_loss: 0.7157\n",
      "Epoch 2469/2500\n",
      "469/469 [==============================] - 90s 192ms/step - d_loss: 0.6767 - g_loss: 0.6838\n",
      "Epoch 2470/2500\n",
      "469/469 [==============================] - 90s 192ms/step - d_loss: 0.6780 - g_loss: 0.6840\n",
      "Epoch 2471/2500\n",
      "469/469 [==============================] - 90s 192ms/step - d_loss: 0.6709 - g_loss: 0.6865\n",
      "Epoch 2472/2500\n",
      "469/469 [==============================] - 90s 192ms/step - d_loss: 0.6771 - g_loss: 0.6887\n",
      "Epoch 2473/2500\n",
      "469/469 [==============================] - 90s 192ms/step - d_loss: 0.6706 - g_loss: 0.6972\n",
      "Epoch 2474/2500\n",
      "469/469 [==============================] - 90s 192ms/step - d_loss: 0.6733 - g_loss: 0.7083\n",
      "Epoch 2475/2500\n",
      "469/469 [==============================] - 90s 192ms/step - d_loss: 0.6823 - g_loss: 0.6997\n",
      "Epoch 2476/2500\n",
      "469/469 [==============================] - 90s 192ms/step - d_loss: 0.6813 - g_loss: 0.7008\n",
      "Epoch 2477/2500\n",
      "469/469 [==============================] - 90s 192ms/step - d_loss: 0.6791 - g_loss: 0.6965\n",
      "Epoch 2478/2500\n",
      "469/469 [==============================] - 90s 192ms/step - d_loss: 0.6801 - g_loss: 0.7077\n",
      "Epoch 2479/2500\n",
      "469/469 [==============================] - 90s 192ms/step - d_loss: 0.6782 - g_loss: 0.7059\n",
      "Epoch 2480/2500\n",
      "469/469 [==============================] - ETA: 0s - d_loss: 0.6790 - g_loss: 0.7100WARNING:tensorflow:Compiled the loaded model, but the compiled metrics have yet to be built. `model.compile_metrics` will be empty until you train or evaluate the model.\n"
     ]
    },
    {
     "name": "stderr",
     "output_type": "stream",
     "text": [
      "WARNING:tensorflow:Compiled the loaded model, but the compiled metrics have yet to be built. `model.compile_metrics` will be empty until you train or evaluate the model.\n",
      "WARNING:absl:Found untraced functions such as _jit_compiled_convolution_op, _jit_compiled_convolution_op, _jit_compiled_convolution_op, _jit_compiled_convolution_op, _jit_compiled_convolution_op while saving (showing 5 of 5). These functions will not be directly callable after loading.\n"
     ]
    },
    {
     "name": "stdout",
     "output_type": "stream",
     "text": [
      "INFO:tensorflow:Assets written to: generator.tf\\assets\n"
     ]
    },
    {
     "name": "stderr",
     "output_type": "stream",
     "text": [
      "INFO:tensorflow:Assets written to: generator.tf\\assets\n"
     ]
    },
    {
     "name": "stdout",
     "output_type": "stream",
     "text": [
      "WARNING:tensorflow:Compiled the loaded model, but the compiled metrics have yet to be built. `model.compile_metrics` will be empty until you train or evaluate the model.\n"
     ]
    },
    {
     "name": "stderr",
     "output_type": "stream",
     "text": [
      "WARNING:tensorflow:Compiled the loaded model, but the compiled metrics have yet to be built. `model.compile_metrics` will be empty until you train or evaluate the model.\n",
      "WARNING:absl:Found untraced functions such as _jit_compiled_convolution_op, _jit_compiled_convolution_op, _jit_compiled_convolution_op, _jit_compiled_convolution_op while saving (showing 4 of 4). These functions will not be directly callable after loading.\n"
     ]
    },
    {
     "name": "stdout",
     "output_type": "stream",
     "text": [
      "INFO:tensorflow:Assets written to: discriminator.tf\\assets\n"
     ]
    },
    {
     "name": "stderr",
     "output_type": "stream",
     "text": [
      "INFO:tensorflow:Assets written to: discriminator.tf\\assets\n"
     ]
    },
    {
     "name": "stdout",
     "output_type": "stream",
     "text": [
      "469/469 [==============================] - 92s 196ms/step - d_loss: 0.6790 - g_loss: 0.7100\n",
      "Epoch 2481/2500\n",
      "469/469 [==============================] - 90s 192ms/step - d_loss: 0.6787 - g_loss: 0.6943\n",
      "Epoch 2482/2500\n",
      "469/469 [==============================] - 90s 192ms/step - d_loss: 0.6769 - g_loss: 0.7019\n",
      "Epoch 2483/2500\n",
      "469/469 [==============================] - 90s 192ms/step - d_loss: 0.6765 - g_loss: 0.6890\n",
      "Epoch 2484/2500\n",
      "469/469 [==============================] - 90s 192ms/step - d_loss: 0.6793 - g_loss: 0.6916\n",
      "Epoch 2485/2500\n",
      "469/469 [==============================] - 90s 192ms/step - d_loss: 0.6748 - g_loss: 0.7097\n",
      "Epoch 2486/2500\n",
      "469/469 [==============================] - 90s 192ms/step - d_loss: 0.6710 - g_loss: 0.7319\n",
      "Epoch 2487/2500\n",
      "469/469 [==============================] - 90s 192ms/step - d_loss: 0.6760 - g_loss: 0.6804\n",
      "Epoch 2488/2500\n",
      "469/469 [==============================] - 90s 192ms/step - d_loss: 0.6798 - g_loss: 0.6818\n",
      "Epoch 2489/2500\n",
      "469/469 [==============================] - 90s 192ms/step - d_loss: 0.6675 - g_loss: 0.6907\n",
      "Epoch 2490/2500\n",
      "469/469 [==============================] - 90s 192ms/step - d_loss: 0.6765 - g_loss: 0.6654\n",
      "Epoch 2491/2500\n",
      "469/469 [==============================] - 90s 192ms/step - d_loss: 0.6779 - g_loss: 0.6999\n",
      "Epoch 2492/2500\n",
      "469/469 [==============================] - 90s 192ms/step - d_loss: 0.6797 - g_loss: 0.6853\n",
      "Epoch 2493/2500\n",
      "469/469 [==============================] - 90s 192ms/step - d_loss: 0.6804 - g_loss: 0.6904\n",
      "Epoch 2494/2500\n",
      "469/469 [==============================] - 90s 192ms/step - d_loss: 0.6767 - g_loss: 0.7014\n",
      "Epoch 2495/2500\n",
      "469/469 [==============================] - 90s 192ms/step - d_loss: 0.6673 - g_loss: 0.7097\n",
      "Epoch 2496/2500\n",
      "469/469 [==============================] - 90s 192ms/step - d_loss: 0.6795 - g_loss: 0.6992\n",
      "Epoch 2497/2500\n",
      "469/469 [==============================] - 90s 192ms/step - d_loss: 0.6821 - g_loss: 0.6739\n",
      "Epoch 2498/2500\n",
      "469/469 [==============================] - 90s 192ms/step - d_loss: 0.6783 - g_loss: 0.6875\n",
      "Epoch 2499/2500\n",
      "469/469 [==============================] - 90s 192ms/step - d_loss: 0.6782 - g_loss: 0.7213\n",
      "Epoch 2500/2500\n",
      "469/469 [==============================] - 90s 192ms/step - d_loss: 0.6731 - g_loss: 0.6992\n"
     ]
    }
   ],
   "source": [
    "\n",
    "hist = fashgan.fit(ds, epochs=2500, callbacks=[ModelMonitor()])"
   ]
  },
  {
   "cell_type": "markdown",
   "id": "39c665a1-a4cc-41ac-a08a-2e14ba64e88d",
   "metadata": {
    "id": "39c665a1-a4cc-41ac-a08a-2e14ba64e88d"
   },
   "source": [
    "### 4.4 Review Performance "
   ]
  },
  {
   "cell_type": "code",
   "execution_count": 36,
   "id": "54381e8c-93ee-4022-9df6-24c4356720fe",
   "metadata": {},
   "outputs": [
    {
     "data": {
      "image/png": "[encoded data removed]",
      "text/plain": [
       "<Figure size 640x480 with 1 Axes>"
      ]
     },
     "metadata": {},
     "output_type": "display_data"
    }
   ],
   "source": [
    "plt.suptitle('Loss')\n",
    "plt.plot(hist.history['d_loss'], label='d_loss')\n",
    "plt.plot(hist.history['g_loss'], label='g_loss')\n",
    "plt.legend()\n",
    "plt.show()"
   ]
  },
  {
   "cell_type": "markdown",
   "id": "d319a982-7ae5-4754-adcf-b490f17a79d6",
   "metadata": {
    "id": "d319a982-7ae5-4754-adcf-b490f17a79d6"
   },
   "source": [
    "# 5. Test Out the Generator"
   ]
  },
  {
   "cell_type": "markdown",
   "id": "206ba81f-978a-4c31-9c3d-6ebe5a5bfc29",
   "metadata": {
    "id": "206ba81f-978a-4c31-9c3d-6ebe5a5bfc29"
   },
   "source": [
    "### 5.1 Generate Images"
   ]
  },
  {
   "cell_type": "code",
   "execution_count": 37,
   "id": "14cde11f-cb26-4ebf-ad04-2c64a54f871e",
   "metadata": {},
   "outputs": [
    {
     "name": "stdout",
     "output_type": "stream",
     "text": [
      "1/1 [==============================] - 0s 57ms/step\n"
     ]
    }
   ],
   "source": [
    "imgs = generator.predict(tf.random.normal((16, 128, 1)))"
   ]
  },
  {
   "cell_type": "code",
   "execution_count": 38,
   "id": "f745982f-c4d7-451f-91a7-f7c4341cb7b7",
   "metadata": {},
   "outputs": [
    {
     "data": {
      "image/png": "[encoded data removed]",
      "text/plain": [
       "<Figure size 1000x1000 with 16 Axes>"
      ]
     },
     "metadata": {},
     "output_type": "display_data"
    }
   ],
   "source": [
    "fig, ax = plt.subplots(ncols=4, nrows=4, figsize=(10,10))\n",
    "for r in range(4): \n",
    "    for c in range(4): \n",
    "        ax[r][c].imshow(imgs[(r+1)*(c+1)-1])"
   ]
  },
  {
   "cell_type": "markdown",
   "id": "5137cffa-784d-4076-beef-0a067b86d3aa",
   "metadata": {
    "id": "5137cffa-784d-4076-beef-0a067b86d3aa"
   },
   "source": [
    "### 5.2 Save the Model"
   ]
  },
  {
   "cell_type": "code",
   "execution_count": 39,
   "id": "a7011d68-ef71-4377-91e2-e26a02fab382",
   "metadata": {},
   "outputs": [
    {
     "name": "stdout",
     "output_type": "stream",
     "text": [
      "WARNING:tensorflow:Compiled the loaded model, but the compiled metrics have yet to be built. `model.compile_metrics` will be empty until you train or evaluate the model.\n"
     ]
    },
    {
     "name": "stderr",
     "output_type": "stream",
     "text": [
      "WARNING:tensorflow:Compiled the loaded model, but the compiled metrics have yet to be built. `model.compile_metrics` will be empty until you train or evaluate the model.\n",
      "WARNING:absl:Found untraced functions such as _jit_compiled_convolution_op, _jit_compiled_convolution_op, _jit_compiled_convolution_op, _jit_compiled_convolution_op, _jit_compiled_convolution_op while saving (showing 5 of 5). These functions will not be directly callable after loading.\n"
     ]
    },
    {
     "name": "stdout",
     "output_type": "stream",
     "text": [
      "INFO:tensorflow:Assets written to: generator.tf\\assets\n"
     ]
    },
    {
     "name": "stderr",
     "output_type": "stream",
     "text": [
      "INFO:tensorflow:Assets written to: generator.tf\\assets\n"
     ]
    },
    {
     "name": "stdout",
     "output_type": "stream",
     "text": [
      "WARNING:tensorflow:Compiled the loaded model, but the compiled metrics have yet to be built. `model.compile_metrics` will be empty until you train or evaluate the model.\n"
     ]
    },
    {
     "name": "stderr",
     "output_type": "stream",
     "text": [
      "WARNING:tensorflow:Compiled the loaded model, but the compiled metrics have yet to be built. `model.compile_metrics` will be empty until you train or evaluate the model.\n",
      "WARNING:absl:Found untraced functions such as _jit_compiled_convolution_op, _jit_compiled_convolution_op, _jit_compiled_convolution_op, _jit_compiled_convolution_op while saving (showing 4 of 4). These functions will not be directly callable after loading.\n"
     ]
    },
    {
     "name": "stdout",
     "output_type": "stream",
     "text": [
      "INFO:tensorflow:Assets written to: discriminator.tf\\assets\n"
     ]
    },
    {
     "name": "stderr",
     "output_type": "stream",
     "text": [
      "INFO:tensorflow:Assets written to: discriminator.tf\\assets\n"
     ]
    }
   ],
   "source": [
    "generator.save('generator.tf')\n",
    "discriminator.save('discriminator.tf')"
   ]
  },
  {
   "cell_type": "markdown",
   "id": "9eb50c8a",
   "metadata": {},
   "source": [
    "### 5.3 loading the saved model"
   ]
  },
  {
   "cell_type": "code",
   "execution_count": 40,
   "id": "c46f3d6a-8aa5-40d2-a5ac-67a0606a82f0",
   "metadata": {},
   "outputs": [
    {
     "data": {
      "text/plain": [
       "<tensorflow.python.checkpoint.checkpoint.CheckpointLoadStatus at 0x202ba664370>"
      ]
     },
     "execution_count": 40,
     "metadata": {},
     "output_type": "execute_result"
    }
   ],
   "source": [
    "generator.load_weights(\"generator.tf\")\n",
    "discriminator.load_weights(\"discriminator.tf\")"
   ]
  },
  {
   "cell_type": "code",
   "execution_count": null,
   "id": "d14c2bd3-a344-4ac1-b2ee-6c90420368e6",
   "metadata": {},
   "outputs": [],
   "source": []
  },
  {
   "cell_type": "code",
   "execution_count": null,
   "id": "bc5d4df4",
   "metadata": {},
   "outputs": [],
   "source": []
  }
 ],
 "metadata": {
  "accelerator": "GPU",
  "colab": {
   "background_execution": "on",
   "collapsed_sections": [
    "206ba81f-978a-4c31-9c3d-6ebe5a5bfc29"
   ],
   "name": "FashionGAN.ipynb",
   "provenance": []
  },
  "kernelspec": {
   "display_name": "base",
   "language": "python",
   "name": "python3"
  },
  "language_info": {
   "codemirror_mode": {
    "name": "ipython",
    "version": 3
   },
   "file_extension": ".py",
   "mimetype": "text/x-python",
   "name": "python",
   "nbconvert_exporter": "python",
   "pygments_lexer": "ipython3",
   "version": "3.10.13"
  }
 },
 "nbformat": 4,
 "nbformat_minor": 5
}
